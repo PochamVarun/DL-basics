{
 "cells": [
  {
   "cell_type": "raw",
   "metadata": {},
   "source": [
    "Machine learning use case: \n",
    "\n",
    "Scrape the reviews of the Amazon product \"Boya-Omnidirectional-Lavalier-Condenser-Microphone\" available at the given link below.\n",
    "1. prepare the product review dataset\n",
    "2. do some EDA, preprocessing on the data\n",
    "3. apply suitable ML model, there by the trained model on the available data can classify the product review in future. \n",
    "\n",
    "Link: \n",
    "\n",
    "https://www.amazon.in/Boya-Omnidirectional-Lavalier-Condenser-Microphone/dp/B076B8G5D8/ref=sr_1_40?crid=2268JKG4WW4XN&dchild=1&keywords=electronics+products&qid=1595825420&sprefix=electronics%2Caps%2C305&sr=crid=2268JKG4WW4XN&dchild=1&keywords=electronics+products&qid=1595825420&sprefix=electronics%2Caps%2C305&sr=tps://www.amazon.in\"8-40#customerReviews"
   ]
  },
  {
   "cell_type": "code",
   "execution_count": 1,
   "metadata": {},
   "outputs": [],
   "source": [
    "import requests\n",
    "from bs4 import BeautifulSoup"
   ]
  },
  {
   "cell_type": "code",
   "execution_count": 2,
   "metadata": {},
   "outputs": [
    {
     "name": "stdout",
     "output_type": "stream",
     "text": [
      "Enter Product URL : https://www.amazon.in/Boya-Omnidirectional-Lavalier-Condenser-Microphone/dp/B076B8G5D8/ref=sr_1_40?crid=2268JKG4WW4XN&dchild=1&keywords=electronics+products&qid=1595825420&sprefix=electronics%2Caps%2C305&sr=crid=2268JKG4WW4XN&dchild=1&keywords=electronics+products&qid=1595825420&sprefix=electronics%2Caps%2C305&sr=tps://www.amazon.in\"8-40#customerReviews\n"
     ]
    }
   ],
   "source": [
    "url=input(\"Enter Product URL : \")\n"
   ]
  },
  {
   "cell_type": "code",
   "execution_count": 3,
   "metadata": {},
   "outputs": [],
   "source": [
    "header={'User-Agent':'Mozilla/5.0 (Windows NT 10.0; Win64; x64; rv:78.0) Gecko/20100101 Firefox/78.0'}"
   ]
  },
  {
   "cell_type": "code",
   "execution_count": 4,
   "metadata": {},
   "outputs": [],
   "source": [
    "cookie={} # insert request cookies within{}\n",
    "def getAmazonSearch(search_query):\n",
    "    url=\"https://www.amazon.in/s?k=\"+search_query\n",
    "    print(url)\n",
    "    page=requests.get(url,cookies=cookie,headers=header)\n",
    "    if page.status_code==200:\n",
    "        return page\n",
    "    else:\n",
    "        return \"Error\""
   ]
  },
  {
   "cell_type": "code",
   "execution_count": 5,
   "metadata": {},
   "outputs": [],
   "source": [
    "def Searchasin(asin):\n",
    "    url=\"https://www.amazon.in/dp/\"+asin\n",
    "    print(url)\n",
    "    page=requests.get(url,cookies=cookie,headers=header)\n",
    "    if page.status_code==200:\n",
    "        return page\n",
    "    else:\n",
    "        return \"Error\""
   ]
  },
  {
   "cell_type": "code",
   "execution_count": 6,
   "metadata": {},
   "outputs": [],
   "source": [
    "def Searchreviews(review_link):\n",
    "    url=\"https://www.amazon.in\"+review_link\n",
    "    print(url)\n",
    "    page=requests.get(url,cookies=cookie,headers=header)\n",
    "    if page.status_code==200:\n",
    "        return page\n",
    "    else:\n",
    "        return \"Error\""
   ]
  },
  {
   "cell_type": "code",
   "execution_count": 7,
   "metadata": {},
   "outputs": [],
   "source": [
    "asin_id =  url.split(\"/dp/\")[1]\n",
    "asin_id =  asin_id.split(\"/\")[0]"
   ]
  },
  {
   "cell_type": "code",
   "execution_count": 8,
   "metadata": {},
   "outputs": [
    {
     "data": {
      "text/plain": [
       "'B076B8G5D8'"
      ]
     },
     "execution_count": 8,
     "metadata": {},
     "output_type": "execute_result"
    }
   ],
   "source": [
    "asin_id"
   ]
  },
  {
   "cell_type": "code",
   "execution_count": 9,
   "metadata": {},
   "outputs": [
    {
     "name": "stdout",
     "output_type": "stream",
     "text": [
      "https://www.amazon.in/dp/B076B8G5D8\n"
     ]
    }
   ],
   "source": [
    "link=[]\n",
    "response=Searchasin(asin_id)\n",
    "soup=BeautifulSoup(response.content)\n",
    "for i in soup.findAll(\"a\",{'data-hook':\"see-all-reviews-link-foot\"}):\n",
    "    link.append(i['href'])"
   ]
  },
  {
   "cell_type": "code",
   "execution_count": 10,
   "metadata": {},
   "outputs": [
    {
     "name": "stdout",
     "output_type": "stream",
     "text": [
      "https://www.amazon.in/Boya-Omnidirectional-Lavalier-Condenser-Microphone/product-reviews/B076B8G5D8/ref=cm_cr_dp_d_show_all_btm?ie=UTF8&reviewerType=all_reviews&pageNumber=0\n",
      "https://www.amazon.in/Boya-Omnidirectional-Lavalier-Condenser-Microphone/product-reviews/B076B8G5D8/ref=cm_cr_dp_d_show_all_btm?ie=UTF8&reviewerType=all_reviews&pageNumber=1\n",
      "https://www.amazon.in/Boya-Omnidirectional-Lavalier-Condenser-Microphone/product-reviews/B076B8G5D8/ref=cm_cr_dp_d_show_all_btm?ie=UTF8&reviewerType=all_reviews&pageNumber=2\n",
      "https://www.amazon.in/Boya-Omnidirectional-Lavalier-Condenser-Microphone/product-reviews/B076B8G5D8/ref=cm_cr_dp_d_show_all_btm?ie=UTF8&reviewerType=all_reviews&pageNumber=3\n",
      "https://www.amazon.in/Boya-Omnidirectional-Lavalier-Condenser-Microphone/product-reviews/B076B8G5D8/ref=cm_cr_dp_d_show_all_btm?ie=UTF8&reviewerType=all_reviews&pageNumber=4\n",
      "https://www.amazon.in/Boya-Omnidirectional-Lavalier-Condenser-Microphone/product-reviews/B076B8G5D8/ref=cm_cr_dp_d_show_all_btm?ie=UTF8&reviewerType=all_reviews&pageNumber=5\n",
      "https://www.amazon.in/Boya-Omnidirectional-Lavalier-Condenser-Microphone/product-reviews/B076B8G5D8/ref=cm_cr_dp_d_show_all_btm?ie=UTF8&reviewerType=all_reviews&pageNumber=6\n",
      "https://www.amazon.in/Boya-Omnidirectional-Lavalier-Condenser-Microphone/product-reviews/B076B8G5D8/ref=cm_cr_dp_d_show_all_btm?ie=UTF8&reviewerType=all_reviews&pageNumber=7\n",
      "https://www.amazon.in/Boya-Omnidirectional-Lavalier-Condenser-Microphone/product-reviews/B076B8G5D8/ref=cm_cr_dp_d_show_all_btm?ie=UTF8&reviewerType=all_reviews&pageNumber=8\n",
      "https://www.amazon.in/Boya-Omnidirectional-Lavalier-Condenser-Microphone/product-reviews/B076B8G5D8/ref=cm_cr_dp_d_show_all_btm?ie=UTF8&reviewerType=all_reviews&pageNumber=9\n",
      "https://www.amazon.in/Boya-Omnidirectional-Lavalier-Condenser-Microphone/product-reviews/B076B8G5D8/ref=cm_cr_dp_d_show_all_btm?ie=UTF8&reviewerType=all_reviews&pageNumber=10\n",
      "https://www.amazon.in/Boya-Omnidirectional-Lavalier-Condenser-Microphone/product-reviews/B076B8G5D8/ref=cm_cr_dp_d_show_all_btm?ie=UTF8&reviewerType=all_reviews&pageNumber=11\n",
      "https://www.amazon.in/Boya-Omnidirectional-Lavalier-Condenser-Microphone/product-reviews/B076B8G5D8/ref=cm_cr_dp_d_show_all_btm?ie=UTF8&reviewerType=all_reviews&pageNumber=12\n",
      "https://www.amazon.in/Boya-Omnidirectional-Lavalier-Condenser-Microphone/product-reviews/B076B8G5D8/ref=cm_cr_dp_d_show_all_btm?ie=UTF8&reviewerType=all_reviews&pageNumber=13\n",
      "https://www.amazon.in/Boya-Omnidirectional-Lavalier-Condenser-Microphone/product-reviews/B076B8G5D8/ref=cm_cr_dp_d_show_all_btm?ie=UTF8&reviewerType=all_reviews&pageNumber=14\n",
      "https://www.amazon.in/Boya-Omnidirectional-Lavalier-Condenser-Microphone/product-reviews/B076B8G5D8/ref=cm_cr_dp_d_show_all_btm?ie=UTF8&reviewerType=all_reviews&pageNumber=15\n",
      "https://www.amazon.in/Boya-Omnidirectional-Lavalier-Condenser-Microphone/product-reviews/B076B8G5D8/ref=cm_cr_dp_d_show_all_btm?ie=UTF8&reviewerType=all_reviews&pageNumber=16\n",
      "https://www.amazon.in/Boya-Omnidirectional-Lavalier-Condenser-Microphone/product-reviews/B076B8G5D8/ref=cm_cr_dp_d_show_all_btm?ie=UTF8&reviewerType=all_reviews&pageNumber=17\n",
      "https://www.amazon.in/Boya-Omnidirectional-Lavalier-Condenser-Microphone/product-reviews/B076B8G5D8/ref=cm_cr_dp_d_show_all_btm?ie=UTF8&reviewerType=all_reviews&pageNumber=18\n",
      "https://www.amazon.in/Boya-Omnidirectional-Lavalier-Condenser-Microphone/product-reviews/B076B8G5D8/ref=cm_cr_dp_d_show_all_btm?ie=UTF8&reviewerType=all_reviews&pageNumber=19\n",
      "https://www.amazon.in/Boya-Omnidirectional-Lavalier-Condenser-Microphone/product-reviews/B076B8G5D8/ref=cm_cr_dp_d_show_all_btm?ie=UTF8&reviewerType=all_reviews&pageNumber=20\n",
      "https://www.amazon.in/Boya-Omnidirectional-Lavalier-Condenser-Microphone/product-reviews/B076B8G5D8/ref=cm_cr_dp_d_show_all_btm?ie=UTF8&reviewerType=all_reviews&pageNumber=21\n",
      "https://www.amazon.in/Boya-Omnidirectional-Lavalier-Condenser-Microphone/product-reviews/B076B8G5D8/ref=cm_cr_dp_d_show_all_btm?ie=UTF8&reviewerType=all_reviews&pageNumber=22\n",
      "https://www.amazon.in/Boya-Omnidirectional-Lavalier-Condenser-Microphone/product-reviews/B076B8G5D8/ref=cm_cr_dp_d_show_all_btm?ie=UTF8&reviewerType=all_reviews&pageNumber=23\n",
      "https://www.amazon.in/Boya-Omnidirectional-Lavalier-Condenser-Microphone/product-reviews/B076B8G5D8/ref=cm_cr_dp_d_show_all_btm?ie=UTF8&reviewerType=all_reviews&pageNumber=24\n",
      "https://www.amazon.in/Boya-Omnidirectional-Lavalier-Condenser-Microphone/product-reviews/B076B8G5D8/ref=cm_cr_dp_d_show_all_btm?ie=UTF8&reviewerType=all_reviews&pageNumber=25\n",
      "https://www.amazon.in/Boya-Omnidirectional-Lavalier-Condenser-Microphone/product-reviews/B076B8G5D8/ref=cm_cr_dp_d_show_all_btm?ie=UTF8&reviewerType=all_reviews&pageNumber=26\n",
      "https://www.amazon.in/Boya-Omnidirectional-Lavalier-Condenser-Microphone/product-reviews/B076B8G5D8/ref=cm_cr_dp_d_show_all_btm?ie=UTF8&reviewerType=all_reviews&pageNumber=27\n",
      "https://www.amazon.in/Boya-Omnidirectional-Lavalier-Condenser-Microphone/product-reviews/B076B8G5D8/ref=cm_cr_dp_d_show_all_btm?ie=UTF8&reviewerType=all_reviews&pageNumber=28\n",
      "https://www.amazon.in/Boya-Omnidirectional-Lavalier-Condenser-Microphone/product-reviews/B076B8G5D8/ref=cm_cr_dp_d_show_all_btm?ie=UTF8&reviewerType=all_reviews&pageNumber=29\n",
      "https://www.amazon.in/Boya-Omnidirectional-Lavalier-Condenser-Microphone/product-reviews/B076B8G5D8/ref=cm_cr_dp_d_show_all_btm?ie=UTF8&reviewerType=all_reviews&pageNumber=30\n",
      "https://www.amazon.in/Boya-Omnidirectional-Lavalier-Condenser-Microphone/product-reviews/B076B8G5D8/ref=cm_cr_dp_d_show_all_btm?ie=UTF8&reviewerType=all_reviews&pageNumber=31\n",
      "https://www.amazon.in/Boya-Omnidirectional-Lavalier-Condenser-Microphone/product-reviews/B076B8G5D8/ref=cm_cr_dp_d_show_all_btm?ie=UTF8&reviewerType=all_reviews&pageNumber=32\n",
      "https://www.amazon.in/Boya-Omnidirectional-Lavalier-Condenser-Microphone/product-reviews/B076B8G5D8/ref=cm_cr_dp_d_show_all_btm?ie=UTF8&reviewerType=all_reviews&pageNumber=33\n",
      "https://www.amazon.in/Boya-Omnidirectional-Lavalier-Condenser-Microphone/product-reviews/B076B8G5D8/ref=cm_cr_dp_d_show_all_btm?ie=UTF8&reviewerType=all_reviews&pageNumber=34\n",
      "https://www.amazon.in/Boya-Omnidirectional-Lavalier-Condenser-Microphone/product-reviews/B076B8G5D8/ref=cm_cr_dp_d_show_all_btm?ie=UTF8&reviewerType=all_reviews&pageNumber=35\n",
      "https://www.amazon.in/Boya-Omnidirectional-Lavalier-Condenser-Microphone/product-reviews/B076B8G5D8/ref=cm_cr_dp_d_show_all_btm?ie=UTF8&reviewerType=all_reviews&pageNumber=36\n",
      "https://www.amazon.in/Boya-Omnidirectional-Lavalier-Condenser-Microphone/product-reviews/B076B8G5D8/ref=cm_cr_dp_d_show_all_btm?ie=UTF8&reviewerType=all_reviews&pageNumber=37\n",
      "https://www.amazon.in/Boya-Omnidirectional-Lavalier-Condenser-Microphone/product-reviews/B076B8G5D8/ref=cm_cr_dp_d_show_all_btm?ie=UTF8&reviewerType=all_reviews&pageNumber=38\n",
      "https://www.amazon.in/Boya-Omnidirectional-Lavalier-Condenser-Microphone/product-reviews/B076B8G5D8/ref=cm_cr_dp_d_show_all_btm?ie=UTF8&reviewerType=all_reviews&pageNumber=39\n",
      "https://www.amazon.in/Boya-Omnidirectional-Lavalier-Condenser-Microphone/product-reviews/B076B8G5D8/ref=cm_cr_dp_d_show_all_btm?ie=UTF8&reviewerType=all_reviews&pageNumber=40\n",
      "https://www.amazon.in/Boya-Omnidirectional-Lavalier-Condenser-Microphone/product-reviews/B076B8G5D8/ref=cm_cr_dp_d_show_all_btm?ie=UTF8&reviewerType=all_reviews&pageNumber=41\n",
      "https://www.amazon.in/Boya-Omnidirectional-Lavalier-Condenser-Microphone/product-reviews/B076B8G5D8/ref=cm_cr_dp_d_show_all_btm?ie=UTF8&reviewerType=all_reviews&pageNumber=42\n",
      "https://www.amazon.in/Boya-Omnidirectional-Lavalier-Condenser-Microphone/product-reviews/B076B8G5D8/ref=cm_cr_dp_d_show_all_btm?ie=UTF8&reviewerType=all_reviews&pageNumber=43\n",
      "https://www.amazon.in/Boya-Omnidirectional-Lavalier-Condenser-Microphone/product-reviews/B076B8G5D8/ref=cm_cr_dp_d_show_all_btm?ie=UTF8&reviewerType=all_reviews&pageNumber=44\n",
      "https://www.amazon.in/Boya-Omnidirectional-Lavalier-Condenser-Microphone/product-reviews/B076B8G5D8/ref=cm_cr_dp_d_show_all_btm?ie=UTF8&reviewerType=all_reviews&pageNumber=45\n",
      "https://www.amazon.in/Boya-Omnidirectional-Lavalier-Condenser-Microphone/product-reviews/B076B8G5D8/ref=cm_cr_dp_d_show_all_btm?ie=UTF8&reviewerType=all_reviews&pageNumber=46\n"
     ]
    },
    {
     "name": "stdout",
     "output_type": "stream",
     "text": [
      "https://www.amazon.in/Boya-Omnidirectional-Lavalier-Condenser-Microphone/product-reviews/B076B8G5D8/ref=cm_cr_dp_d_show_all_btm?ie=UTF8&reviewerType=all_reviews&pageNumber=47\n",
      "https://www.amazon.in/Boya-Omnidirectional-Lavalier-Condenser-Microphone/product-reviews/B076B8G5D8/ref=cm_cr_dp_d_show_all_btm?ie=UTF8&reviewerType=all_reviews&pageNumber=48\n",
      "https://www.amazon.in/Boya-Omnidirectional-Lavalier-Condenser-Microphone/product-reviews/B076B8G5D8/ref=cm_cr_dp_d_show_all_btm?ie=UTF8&reviewerType=all_reviews&pageNumber=49\n"
     ]
    }
   ],
   "source": [
    "reviews=[]\n",
    "for j in range(1):\n",
    "    for k in range(50):\n",
    "        response=Searchreviews(link[j]+'&pageNumber='+str(k))\n",
    "        soup=BeautifulSoup(response.content)\n",
    "        for i in soup.findAll(\"span\",{'data-hook':\"review-body\"}):\n",
    "            reviews.append(i.text)"
   ]
  },
  {
   "cell_type": "code",
   "execution_count": 11,
   "metadata": {},
   "outputs": [
    {
     "data": {
      "text/plain": [
       "500"
      ]
     },
     "execution_count": 11,
     "metadata": {},
     "output_type": "execute_result"
    }
   ],
   "source": [
    "len(reviews)"
   ]
  },
  {
   "cell_type": "code",
   "execution_count": 12,
   "metadata": {
    "scrolled": true
   },
   "outputs": [
    {
     "name": "stdout",
     "output_type": "stream",
     "text": [
      "https://www.amazon.in/Boya-Omnidirectional-Lavalier-Condenser-Microphone/product-reviews/B076B8G5D8/ref=cm_cr_dp_d_show_all_btm?ie=UTF8&reviewerType=all_reviews&pageNumber=0\n",
      "https://www.amazon.in/Boya-Omnidirectional-Lavalier-Condenser-Microphone/product-reviews/B076B8G5D8/ref=cm_cr_dp_d_show_all_btm?ie=UTF8&reviewerType=all_reviews&pageNumber=1\n",
      "https://www.amazon.in/Boya-Omnidirectional-Lavalier-Condenser-Microphone/product-reviews/B076B8G5D8/ref=cm_cr_dp_d_show_all_btm?ie=UTF8&reviewerType=all_reviews&pageNumber=2\n",
      "https://www.amazon.in/Boya-Omnidirectional-Lavalier-Condenser-Microphone/product-reviews/B076B8G5D8/ref=cm_cr_dp_d_show_all_btm?ie=UTF8&reviewerType=all_reviews&pageNumber=3\n",
      "https://www.amazon.in/Boya-Omnidirectional-Lavalier-Condenser-Microphone/product-reviews/B076B8G5D8/ref=cm_cr_dp_d_show_all_btm?ie=UTF8&reviewerType=all_reviews&pageNumber=4\n",
      "https://www.amazon.in/Boya-Omnidirectional-Lavalier-Condenser-Microphone/product-reviews/B076B8G5D8/ref=cm_cr_dp_d_show_all_btm?ie=UTF8&reviewerType=all_reviews&pageNumber=5\n",
      "https://www.amazon.in/Boya-Omnidirectional-Lavalier-Condenser-Microphone/product-reviews/B076B8G5D8/ref=cm_cr_dp_d_show_all_btm?ie=UTF8&reviewerType=all_reviews&pageNumber=6\n",
      "https://www.amazon.in/Boya-Omnidirectional-Lavalier-Condenser-Microphone/product-reviews/B076B8G5D8/ref=cm_cr_dp_d_show_all_btm?ie=UTF8&reviewerType=all_reviews&pageNumber=7\n",
      "https://www.amazon.in/Boya-Omnidirectional-Lavalier-Condenser-Microphone/product-reviews/B076B8G5D8/ref=cm_cr_dp_d_show_all_btm?ie=UTF8&reviewerType=all_reviews&pageNumber=8\n",
      "https://www.amazon.in/Boya-Omnidirectional-Lavalier-Condenser-Microphone/product-reviews/B076B8G5D8/ref=cm_cr_dp_d_show_all_btm?ie=UTF8&reviewerType=all_reviews&pageNumber=9\n",
      "https://www.amazon.in/Boya-Omnidirectional-Lavalier-Condenser-Microphone/product-reviews/B076B8G5D8/ref=cm_cr_dp_d_show_all_btm?ie=UTF8&reviewerType=all_reviews&pageNumber=10\n",
      "https://www.amazon.in/Boya-Omnidirectional-Lavalier-Condenser-Microphone/product-reviews/B076B8G5D8/ref=cm_cr_dp_d_show_all_btm?ie=UTF8&reviewerType=all_reviews&pageNumber=11\n",
      "https://www.amazon.in/Boya-Omnidirectional-Lavalier-Condenser-Microphone/product-reviews/B076B8G5D8/ref=cm_cr_dp_d_show_all_btm?ie=UTF8&reviewerType=all_reviews&pageNumber=12\n",
      "https://www.amazon.in/Boya-Omnidirectional-Lavalier-Condenser-Microphone/product-reviews/B076B8G5D8/ref=cm_cr_dp_d_show_all_btm?ie=UTF8&reviewerType=all_reviews&pageNumber=13\n",
      "https://www.amazon.in/Boya-Omnidirectional-Lavalier-Condenser-Microphone/product-reviews/B076B8G5D8/ref=cm_cr_dp_d_show_all_btm?ie=UTF8&reviewerType=all_reviews&pageNumber=14\n",
      "https://www.amazon.in/Boya-Omnidirectional-Lavalier-Condenser-Microphone/product-reviews/B076B8G5D8/ref=cm_cr_dp_d_show_all_btm?ie=UTF8&reviewerType=all_reviews&pageNumber=15\n",
      "https://www.amazon.in/Boya-Omnidirectional-Lavalier-Condenser-Microphone/product-reviews/B076B8G5D8/ref=cm_cr_dp_d_show_all_btm?ie=UTF8&reviewerType=all_reviews&pageNumber=16\n",
      "https://www.amazon.in/Boya-Omnidirectional-Lavalier-Condenser-Microphone/product-reviews/B076B8G5D8/ref=cm_cr_dp_d_show_all_btm?ie=UTF8&reviewerType=all_reviews&pageNumber=17\n",
      "https://www.amazon.in/Boya-Omnidirectional-Lavalier-Condenser-Microphone/product-reviews/B076B8G5D8/ref=cm_cr_dp_d_show_all_btm?ie=UTF8&reviewerType=all_reviews&pageNumber=18\n",
      "https://www.amazon.in/Boya-Omnidirectional-Lavalier-Condenser-Microphone/product-reviews/B076B8G5D8/ref=cm_cr_dp_d_show_all_btm?ie=UTF8&reviewerType=all_reviews&pageNumber=19\n",
      "https://www.amazon.in/Boya-Omnidirectional-Lavalier-Condenser-Microphone/product-reviews/B076B8G5D8/ref=cm_cr_dp_d_show_all_btm?ie=UTF8&reviewerType=all_reviews&pageNumber=20\n",
      "https://www.amazon.in/Boya-Omnidirectional-Lavalier-Condenser-Microphone/product-reviews/B076B8G5D8/ref=cm_cr_dp_d_show_all_btm?ie=UTF8&reviewerType=all_reviews&pageNumber=21\n",
      "https://www.amazon.in/Boya-Omnidirectional-Lavalier-Condenser-Microphone/product-reviews/B076B8G5D8/ref=cm_cr_dp_d_show_all_btm?ie=UTF8&reviewerType=all_reviews&pageNumber=22\n",
      "https://www.amazon.in/Boya-Omnidirectional-Lavalier-Condenser-Microphone/product-reviews/B076B8G5D8/ref=cm_cr_dp_d_show_all_btm?ie=UTF8&reviewerType=all_reviews&pageNumber=23\n",
      "https://www.amazon.in/Boya-Omnidirectional-Lavalier-Condenser-Microphone/product-reviews/B076B8G5D8/ref=cm_cr_dp_d_show_all_btm?ie=UTF8&reviewerType=all_reviews&pageNumber=24\n",
      "https://www.amazon.in/Boya-Omnidirectional-Lavalier-Condenser-Microphone/product-reviews/B076B8G5D8/ref=cm_cr_dp_d_show_all_btm?ie=UTF8&reviewerType=all_reviews&pageNumber=25\n",
      "https://www.amazon.in/Boya-Omnidirectional-Lavalier-Condenser-Microphone/product-reviews/B076B8G5D8/ref=cm_cr_dp_d_show_all_btm?ie=UTF8&reviewerType=all_reviews&pageNumber=26\n",
      "https://www.amazon.in/Boya-Omnidirectional-Lavalier-Condenser-Microphone/product-reviews/B076B8G5D8/ref=cm_cr_dp_d_show_all_btm?ie=UTF8&reviewerType=all_reviews&pageNumber=27\n",
      "https://www.amazon.in/Boya-Omnidirectional-Lavalier-Condenser-Microphone/product-reviews/B076B8G5D8/ref=cm_cr_dp_d_show_all_btm?ie=UTF8&reviewerType=all_reviews&pageNumber=28\n",
      "https://www.amazon.in/Boya-Omnidirectional-Lavalier-Condenser-Microphone/product-reviews/B076B8G5D8/ref=cm_cr_dp_d_show_all_btm?ie=UTF8&reviewerType=all_reviews&pageNumber=29\n",
      "https://www.amazon.in/Boya-Omnidirectional-Lavalier-Condenser-Microphone/product-reviews/B076B8G5D8/ref=cm_cr_dp_d_show_all_btm?ie=UTF8&reviewerType=all_reviews&pageNumber=30\n",
      "https://www.amazon.in/Boya-Omnidirectional-Lavalier-Condenser-Microphone/product-reviews/B076B8G5D8/ref=cm_cr_dp_d_show_all_btm?ie=UTF8&reviewerType=all_reviews&pageNumber=31\n",
      "https://www.amazon.in/Boya-Omnidirectional-Lavalier-Condenser-Microphone/product-reviews/B076B8G5D8/ref=cm_cr_dp_d_show_all_btm?ie=UTF8&reviewerType=all_reviews&pageNumber=32\n",
      "https://www.amazon.in/Boya-Omnidirectional-Lavalier-Condenser-Microphone/product-reviews/B076B8G5D8/ref=cm_cr_dp_d_show_all_btm?ie=UTF8&reviewerType=all_reviews&pageNumber=33\n",
      "https://www.amazon.in/Boya-Omnidirectional-Lavalier-Condenser-Microphone/product-reviews/B076B8G5D8/ref=cm_cr_dp_d_show_all_btm?ie=UTF8&reviewerType=all_reviews&pageNumber=34\n",
      "https://www.amazon.in/Boya-Omnidirectional-Lavalier-Condenser-Microphone/product-reviews/B076B8G5D8/ref=cm_cr_dp_d_show_all_btm?ie=UTF8&reviewerType=all_reviews&pageNumber=35\n",
      "https://www.amazon.in/Boya-Omnidirectional-Lavalier-Condenser-Microphone/product-reviews/B076B8G5D8/ref=cm_cr_dp_d_show_all_btm?ie=UTF8&reviewerType=all_reviews&pageNumber=36\n",
      "https://www.amazon.in/Boya-Omnidirectional-Lavalier-Condenser-Microphone/product-reviews/B076B8G5D8/ref=cm_cr_dp_d_show_all_btm?ie=UTF8&reviewerType=all_reviews&pageNumber=37\n",
      "https://www.amazon.in/Boya-Omnidirectional-Lavalier-Condenser-Microphone/product-reviews/B076B8G5D8/ref=cm_cr_dp_d_show_all_btm?ie=UTF8&reviewerType=all_reviews&pageNumber=38\n",
      "https://www.amazon.in/Boya-Omnidirectional-Lavalier-Condenser-Microphone/product-reviews/B076B8G5D8/ref=cm_cr_dp_d_show_all_btm?ie=UTF8&reviewerType=all_reviews&pageNumber=39\n",
      "https://www.amazon.in/Boya-Omnidirectional-Lavalier-Condenser-Microphone/product-reviews/B076B8G5D8/ref=cm_cr_dp_d_show_all_btm?ie=UTF8&reviewerType=all_reviews&pageNumber=40\n",
      "https://www.amazon.in/Boya-Omnidirectional-Lavalier-Condenser-Microphone/product-reviews/B076B8G5D8/ref=cm_cr_dp_d_show_all_btm?ie=UTF8&reviewerType=all_reviews&pageNumber=41\n",
      "https://www.amazon.in/Boya-Omnidirectional-Lavalier-Condenser-Microphone/product-reviews/B076B8G5D8/ref=cm_cr_dp_d_show_all_btm?ie=UTF8&reviewerType=all_reviews&pageNumber=42\n",
      "https://www.amazon.in/Boya-Omnidirectional-Lavalier-Condenser-Microphone/product-reviews/B076B8G5D8/ref=cm_cr_dp_d_show_all_btm?ie=UTF8&reviewerType=all_reviews&pageNumber=43\n",
      "https://www.amazon.in/Boya-Omnidirectional-Lavalier-Condenser-Microphone/product-reviews/B076B8G5D8/ref=cm_cr_dp_d_show_all_btm?ie=UTF8&reviewerType=all_reviews&pageNumber=44\n",
      "https://www.amazon.in/Boya-Omnidirectional-Lavalier-Condenser-Microphone/product-reviews/B076B8G5D8/ref=cm_cr_dp_d_show_all_btm?ie=UTF8&reviewerType=all_reviews&pageNumber=45\n",
      "https://www.amazon.in/Boya-Omnidirectional-Lavalier-Condenser-Microphone/product-reviews/B076B8G5D8/ref=cm_cr_dp_d_show_all_btm?ie=UTF8&reviewerType=all_reviews&pageNumber=46\n"
     ]
    },
    {
     "name": "stdout",
     "output_type": "stream",
     "text": [
      "https://www.amazon.in/Boya-Omnidirectional-Lavalier-Condenser-Microphone/product-reviews/B076B8G5D8/ref=cm_cr_dp_d_show_all_btm?ie=UTF8&reviewerType=all_reviews&pageNumber=47\n",
      "https://www.amazon.in/Boya-Omnidirectional-Lavalier-Condenser-Microphone/product-reviews/B076B8G5D8/ref=cm_cr_dp_d_show_all_btm?ie=UTF8&reviewerType=all_reviews&pageNumber=48\n",
      "https://www.amazon.in/Boya-Omnidirectional-Lavalier-Condenser-Microphone/product-reviews/B076B8G5D8/ref=cm_cr_dp_d_show_all_btm?ie=UTF8&reviewerType=all_reviews&pageNumber=49\n"
     ]
    }
   ],
   "source": [
    "rating=[]\n",
    "for j in range(1):\n",
    "    for k in range(50):\n",
    "        response=Searchreviews(link[j]+'&pageNumber='+str(k))\n",
    "        soup=BeautifulSoup(response.content)\n",
    "        for i in soup.findAll(\"i\",{'data-hook':\"review-star-rating\"}):\n",
    "            rating.append(i.text)"
   ]
  },
  {
   "cell_type": "code",
   "execution_count": 13,
   "metadata": {},
   "outputs": [
    {
     "data": {
      "text/plain": [
       "500"
      ]
     },
     "execution_count": 13,
     "metadata": {},
     "output_type": "execute_result"
    }
   ],
   "source": [
    "len(rating)"
   ]
  },
  {
   "cell_type": "code",
   "execution_count": 14,
   "metadata": {},
   "outputs": [],
   "source": [
    "import pandas as pd"
   ]
  },
  {
   "cell_type": "code",
   "execution_count": 15,
   "metadata": {},
   "outputs": [],
   "source": [
    "df=pd.DataFrame()"
   ]
  },
  {
   "cell_type": "code",
   "execution_count": 16,
   "metadata": {},
   "outputs": [],
   "source": [
    "df['rating']=rating"
   ]
  },
  {
   "cell_type": "code",
   "execution_count": 17,
   "metadata": {},
   "outputs": [],
   "source": [
    "df['reviews']=reviews"
   ]
  },
  {
   "cell_type": "code",
   "execution_count": 18,
   "metadata": {},
   "outputs": [
    {
     "data": {
      "text/html": [
       "<div>\n",
       "<style scoped>\n",
       "    .dataframe tbody tr th:only-of-type {\n",
       "        vertical-align: middle;\n",
       "    }\n",
       "\n",
       "    .dataframe tbody tr th {\n",
       "        vertical-align: top;\n",
       "    }\n",
       "\n",
       "    .dataframe thead th {\n",
       "        text-align: right;\n",
       "    }\n",
       "</style>\n",
       "<table border=\"1\" class=\"dataframe\">\n",
       "  <thead>\n",
       "    <tr style=\"text-align: right;\">\n",
       "      <th></th>\n",
       "      <th>rating</th>\n",
       "      <th>reviews</th>\n",
       "    </tr>\n",
       "  </thead>\n",
       "  <tbody>\n",
       "    <tr>\n",
       "      <th>0</th>\n",
       "      <td>5.0 out of 5 stars</td>\n",
       "      <td>\\n\\n  I would say this is the best available M...</td>\n",
       "    </tr>\n",
       "    <tr>\n",
       "      <th>1</th>\n",
       "      <td>5.0 out of 5 stars</td>\n",
       "      <td>\\n\\n  Hi,So, after using this mic for about a ...</td>\n",
       "    </tr>\n",
       "    <tr>\n",
       "      <th>2</th>\n",
       "      <td>1.0 out of 5 stars</td>\n",
       "      <td>\\n\\n  WHEN RECORDING ON PHONE OR LApTOP THE qu...</td>\n",
       "    </tr>\n",
       "    <tr>\n",
       "      <th>3</th>\n",
       "      <td>1.0 out of 5 stars</td>\n",
       "      <td>\\n\\n  It stoped working Within 2 months . Whil...</td>\n",
       "    </tr>\n",
       "    <tr>\n",
       "      <th>4</th>\n",
       "      <td>5.0 out of 5 stars</td>\n",
       "      <td>\\n\\n  I will give my honest review on Boya M1....</td>\n",
       "    </tr>\n",
       "  </tbody>\n",
       "</table>\n",
       "</div>"
      ],
      "text/plain": [
       "               rating                                            reviews\n",
       "0  5.0 out of 5 stars  \\n\\n  I would say this is the best available M...\n",
       "1  5.0 out of 5 stars  \\n\\n  Hi,So, after using this mic for about a ...\n",
       "2  1.0 out of 5 stars  \\n\\n  WHEN RECORDING ON PHONE OR LApTOP THE qu...\n",
       "3  1.0 out of 5 stars  \\n\\n  It stoped working Within 2 months . Whil...\n",
       "4  5.0 out of 5 stars  \\n\\n  I will give my honest review on Boya M1...."
      ]
     },
     "execution_count": 18,
     "metadata": {},
     "output_type": "execute_result"
    }
   ],
   "source": [
    "df.head()"
   ]
  },
  {
   "cell_type": "code",
   "execution_count": 21,
   "metadata": {},
   "outputs": [],
   "source": [
    "df.to_excel('amazon_rating.xlsx',index=False)"
   ]
  },
  {
   "cell_type": "code",
   "execution_count": 22,
   "metadata": {},
   "outputs": [],
   "source": [
    "import pandas as pd\n",
    "rev={'reviews':reviews}\n",
    "review_data=pd.DataFrame.from_dict(rev)\n",
    "review_data.to_csv('Scraping_reviews_total.csv',index=False)"
   ]
  },
  {
   "cell_type": "code",
   "execution_count": null,
   "metadata": {},
   "outputs": [],
   "source": [
    "              ################# HAPPY LEARNING ######################"
   ]
  }
 ],
 "metadata": {
  "kernelspec": {
   "display_name": "Python 3 (ipykernel)",
   "language": "python",
   "name": "python3"
  },
  "language_info": {
   "codemirror_mode": {
    "name": "ipython",
    "version": 3
   },
   "file_extension": ".py",
   "mimetype": "text/x-python",
   "name": "python",
   "nbconvert_exporter": "python",
   "pygments_lexer": "ipython3",
   "version": "3.9.13"
  }
 },
 "nbformat": 4,
 "nbformat_minor": 4
}
