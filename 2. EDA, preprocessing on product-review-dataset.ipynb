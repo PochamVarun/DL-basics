{
 "cells": [
  {
   "cell_type": "markdown",
   "metadata": {},
   "source": [
    "#  <font> <font color=\"red\">EDA <font>"
   ]
  },
  {
   "cell_type": "code",
   "execution_count": 1,
   "metadata": {},
   "outputs": [],
   "source": [
    "import numpy as np\n",
    "import pandas as pd"
   ]
  },
  {
   "cell_type": "code",
   "execution_count": 2,
   "metadata": {},
   "outputs": [],
   "source": [
    "import re\n",
    "import requests"
   ]
  },
  {
   "cell_type": "code",
   "execution_count": 3,
   "metadata": {},
   "outputs": [],
   "source": [
    "import matplotlib.pyplot as plt\n",
    "%matplotlib inline"
   ]
  },
  {
   "cell_type": "code",
   "execution_count": 4,
   "metadata": {},
   "outputs": [
    {
     "name": "stderr",
     "output_type": "stream",
     "text": [
      "[nltk_data] Downloading package stopwords to\n",
      "[nltk_data]     /Users/dhanasreedevi/nltk_data...\n",
      "[nltk_data]   Package stopwords is already up-to-date!\n"
     ]
    }
   ],
   "source": [
    "import nltk\n",
    "nltk.download('stopwords')\n",
    "\n",
    "import warnings\n",
    "warnings.filterwarnings('ignore')"
   ]
  },
  {
   "cell_type": "code",
   "execution_count": 5,
   "metadata": {},
   "outputs": [
    {
     "ename": "ModuleNotFoundError",
     "evalue": "No module named 'plotly'",
     "output_type": "error",
     "traceback": [
      "\u001b[0;31m---------------------------------------------------------------------------\u001b[0m",
      "\u001b[0;31mModuleNotFoundError\u001b[0m                       Traceback (most recent call last)",
      "\u001b[0;32m<ipython-input-5-4a1029846745>\u001b[0m in \u001b[0;36m<module>\u001b[0;34m\u001b[0m\n\u001b[0;32m----> 1\u001b[0;31m \u001b[0;32mimport\u001b[0m \u001b[0mplotly\u001b[0m \u001b[0;32mas\u001b[0m \u001b[0mpy\u001b[0m\u001b[0;34m\u001b[0m\u001b[0;34m\u001b[0m\u001b[0m\n\u001b[0m\u001b[1;32m      2\u001b[0m \u001b[0;32mimport\u001b[0m \u001b[0mcufflinks\u001b[0m \u001b[0;32mas\u001b[0m \u001b[0mcf\u001b[0m\u001b[0;34m\u001b[0m\u001b[0;34m\u001b[0m\u001b[0m\n\u001b[1;32m      3\u001b[0m \u001b[0;32mfrom\u001b[0m \u001b[0mplotly\u001b[0m\u001b[0;34m.\u001b[0m\u001b[0moffline\u001b[0m \u001b[0;32mimport\u001b[0m \u001b[0miplot\u001b[0m\u001b[0;34m\u001b[0m\u001b[0;34m\u001b[0m\u001b[0m\n",
      "\u001b[0;31mModuleNotFoundError\u001b[0m: No module named 'plotly'"
     ]
    }
   ],
   "source": [
    "import plotly as py\n",
    "import cufflinks as cf\n",
    "from plotly.offline import iplot"
   ]
  },
  {
   "cell_type": "code",
   "execution_count": 6,
   "metadata": {},
   "outputs": [
    {
     "data": {
      "text/html": [
       "        <script type=\"text/javascript\">\n",
       "        window.PlotlyConfig = {MathJaxConfig: 'local'};\n",
       "        if (window.MathJax) {MathJax.Hub.Config({SVG: {font: \"STIX-Web\"}});}\n",
       "        if (typeof require !== 'undefined') {\n",
       "        require.undef(\"plotly\");\n",
       "        requirejs.config({\n",
       "            paths: {\n",
       "                'plotly': ['https://cdn.plot.ly/plotly-latest.min']\n",
       "            }\n",
       "        });\n",
       "        require(['plotly'], function(Plotly) {\n",
       "            window._Plotly = Plotly;\n",
       "        });\n",
       "        }\n",
       "        </script>\n",
       "        "
      ]
     },
     "metadata": {},
     "output_type": "display_data"
    },
    {
     "data": {
      "text/html": [
       "        <script type=\"text/javascript\">\n",
       "        window.PlotlyConfig = {MathJaxConfig: 'local'};\n",
       "        if (window.MathJax) {MathJax.Hub.Config({SVG: {font: \"STIX-Web\"}});}\n",
       "        if (typeof require !== 'undefined') {\n",
       "        require.undef(\"plotly\");\n",
       "        requirejs.config({\n",
       "            paths: {\n",
       "                'plotly': ['https://cdn.plot.ly/plotly-latest.min']\n",
       "            }\n",
       "        });\n",
       "        require(['plotly'], function(Plotly) {\n",
       "            window._Plotly = Plotly;\n",
       "        });\n",
       "        }\n",
       "        </script>\n",
       "        "
      ]
     },
     "metadata": {},
     "output_type": "display_data"
    }
   ],
   "source": [
    "py.offline.init_notebook_mode(connected=True)\n",
    "cf.go_offline()"
   ]
  },
  {
   "cell_type": "code",
   "execution_count": 7,
   "metadata": {},
   "outputs": [],
   "source": [
    "#from edm import report\n",
    "import collections \n",
    "from collections import Counter\n",
    "\n",
    "#NLTK\n",
    "import nltk\n",
    "from nltk.corpus import stopwords\n",
    "import string\n",
    "from nltk import pos_tag\n",
    "from nltk.corpus import stopwords\n",
    "from nltk.tokenize import TweetTokenizer\n",
    "from nltk.util import ngrams\n",
    "\n",
    "# spaCy based imports\n",
    "import spacy\n",
    "from spacy.lang.en.stop_words import STOP_WORDS\n",
    "from spacy.lang.en import English\n",
    "eng_stopwords = STOP_WORDS\n",
    "\n",
    "\n",
    "#Etc\n",
    "import matplotlib.pyplot as plt \n",
    "import seaborn as sns\n",
    "import time\n",
    "import operator \n",
    "\n",
    "#pd.set_option('max_colwidth',400)"
   ]
  },
  {
   "cell_type": "code",
   "execution_count": 8,
   "metadata": {},
   "outputs": [
    {
     "data": {
      "text/plain": [
       "'/Users/dhanasreedevi/Desktop/EXcelr_Complete_Amazon_review_Project/2. EDA'"
      ]
     },
     "execution_count": 8,
     "metadata": {},
     "output_type": "execute_result"
    }
   ],
   "source": [
    "import os\n",
    "os.getcwd()"
   ]
  },
  {
   "cell_type": "code",
   "execution_count": 9,
   "metadata": {},
   "outputs": [],
   "source": [
    "os.chdir('/Users/dhanasreedevi/Desktop/EXcelr_Complete_Amazon_review_Project/2. EDA')"
   ]
  },
  {
   "cell_type": "code",
   "execution_count": 10,
   "metadata": {},
   "outputs": [
    {
     "data": {
      "text/html": [
       "<div>\n",
       "<style scoped>\n",
       "    .dataframe tbody tr th:only-of-type {\n",
       "        vertical-align: middle;\n",
       "    }\n",
       "\n",
       "    .dataframe tbody tr th {\n",
       "        vertical-align: top;\n",
       "    }\n",
       "\n",
       "    .dataframe thead th {\n",
       "        text-align: right;\n",
       "    }\n",
       "</style>\n",
       "<table border=\"1\" class=\"dataframe\">\n",
       "  <thead>\n",
       "    <tr style=\"text-align: right;\">\n",
       "      <th></th>\n",
       "      <th>reviews</th>\n",
       "    </tr>\n",
       "  </thead>\n",
       "  <tbody>\n",
       "    <tr>\n",
       "      <th>0</th>\n",
       "      <td>\\n\\n  I would say this is the best available Mic in this price range. This m...</td>\n",
       "    </tr>\n",
       "    <tr>\n",
       "      <th>1</th>\n",
       "      <td>\\n\\n  Hi,So, after using this mic for about a month I am writing this review...</td>\n",
       "    </tr>\n",
       "    <tr>\n",
       "      <th>2</th>\n",
       "      <td>\\n\\n  WHEN RECORDING ON PHONE OR LApTOP THE quality was the same as you get ...</td>\n",
       "    </tr>\n",
       "    <tr>\n",
       "      <th>3</th>\n",
       "      <td>\\n\\n  It stoped working Within 2 months . While recording in starting it rec...</td>\n",
       "    </tr>\n",
       "    <tr>\n",
       "      <th>4</th>\n",
       "      <td>\\n\\n  I will give my honest review on Boya M1. Read this full and i may help...</td>\n",
       "    </tr>\n",
       "  </tbody>\n",
       "</table>\n",
       "</div>"
      ],
      "text/plain": [
       "                                                                           reviews\n",
       "0  \\n\\n  I would say this is the best available Mic in this price range. This m...\n",
       "1  \\n\\n  Hi,So, after using this mic for about a month I am writing this review...\n",
       "2  \\n\\n  WHEN RECORDING ON PHONE OR LApTOP THE quality was the same as you get ...\n",
       "3  \\n\\n  It stoped working Within 2 months . While recording in starting it rec...\n",
       "4  \\n\\n  I will give my honest review on Boya M1. Read this full and i may help..."
      ]
     },
     "execution_count": 10,
     "metadata": {},
     "output_type": "execute_result"
    }
   ],
   "source": [
    "# extracted rating from pages, and truncated actual rating  as rate_pt\n",
    "df=pd.read_excel('reviews.xlsx')\n",
    "\n",
    "# setting how much review to display\n",
    "pd.set_option('max_colwidth',80)\n",
    "df.head()\n"
   ]
  },
  {
   "cell_type": "markdown",
   "metadata": {},
   "source": [
    "###  <font> <font color=\"green\"> Exploratoratory Data Analysis <font>"
   ]
  },
  {
   "cell_type": "code",
   "execution_count": 11,
   "metadata": {},
   "outputs": [
    {
     "data": {
      "text/plain": [
       "(1000, 1)"
      ]
     },
     "execution_count": 11,
     "metadata": {},
     "output_type": "execute_result"
    }
   ],
   "source": [
    "# records and features\n",
    "df.shape"
   ]
  },
  {
   "cell_type": "code",
   "execution_count": 12,
   "metadata": {},
   "outputs": [
    {
     "data": {
      "text/plain": [
       "Index(['reviews'], dtype='object')"
      ]
     },
     "execution_count": 12,
     "metadata": {},
     "output_type": "execute_result"
    }
   ],
   "source": [
    "#feature names\n",
    "df.columns"
   ]
  },
  {
   "cell_type": "code",
   "execution_count": 13,
   "metadata": {},
   "outputs": [
    {
     "data": {
      "text/html": [
       "<div>\n",
       "<style scoped>\n",
       "    .dataframe tbody tr th:only-of-type {\n",
       "        vertical-align: middle;\n",
       "    }\n",
       "\n",
       "    .dataframe tbody tr th {\n",
       "        vertical-align: top;\n",
       "    }\n",
       "\n",
       "    .dataframe thead th {\n",
       "        text-align: right;\n",
       "    }\n",
       "</style>\n",
       "<table border=\"1\" class=\"dataframe\">\n",
       "  <thead>\n",
       "    <tr style=\"text-align: right;\">\n",
       "      <th></th>\n",
       "      <th>count</th>\n",
       "      <th>unique</th>\n",
       "      <th>top</th>\n",
       "      <th>freq</th>\n",
       "    </tr>\n",
       "  </thead>\n",
       "  <tbody>\n",
       "    <tr>\n",
       "      <th>reviews</th>\n",
       "      <td>1000</td>\n",
       "      <td>990</td>\n",
       "      <td>\\n\\n  I cannot record my voice properly, Noise cancellation is very bad even...</td>\n",
       "      <td>2</td>\n",
       "    </tr>\n",
       "  </tbody>\n",
       "</table>\n",
       "</div>"
      ],
      "text/plain": [
       "        count unique  \\\n",
       "reviews  1000    990   \n",
       "\n",
       "                                                                                     top  \\\n",
       "reviews  \\n\\n  I cannot record my voice properly, Noise cancellation is very bad even...   \n",
       "\n",
       "        freq  \n",
       "reviews    2  "
      ]
     },
     "execution_count": 13,
     "metadata": {},
     "output_type": "execute_result"
    }
   ],
   "source": [
    "# some statistical insights \n",
    "df.describe(include='all').T"
   ]
  },
  {
   "cell_type": "code",
   "execution_count": 14,
   "metadata": {},
   "outputs": [],
   "source": [
    "# defining an empty data frame to amke a copy of data\n",
    "df1=pd.DataFrame()  \n",
    "df1=df.copy()"
   ]
  },
  {
   "cell_type": "code",
   "execution_count": 15,
   "metadata": {},
   "outputs": [
    {
     "data": {
      "text/html": [
       "<div>\n",
       "<style scoped>\n",
       "    .dataframe tbody tr th:only-of-type {\n",
       "        vertical-align: middle;\n",
       "    }\n",
       "\n",
       "    .dataframe tbody tr th {\n",
       "        vertical-align: top;\n",
       "    }\n",
       "\n",
       "    .dataframe thead th {\n",
       "        text-align: right;\n",
       "    }\n",
       "</style>\n",
       "<table border=\"1\" class=\"dataframe\">\n",
       "  <thead>\n",
       "    <tr style=\"text-align: right;\">\n",
       "      <th></th>\n",
       "      <th>reviews</th>\n",
       "    </tr>\n",
       "  </thead>\n",
       "  <tbody>\n",
       "    <tr>\n",
       "      <th>0</th>\n",
       "      <td>\\n\\n  I would say this is the best available Mic in this price range. This m...</td>\n",
       "    </tr>\n",
       "    <tr>\n",
       "      <th>1</th>\n",
       "      <td>\\n\\n  Hi,So, after using this mic for about a month I am writing this review...</td>\n",
       "    </tr>\n",
       "  </tbody>\n",
       "</table>\n",
       "</div>"
      ],
      "text/plain": [
       "                                                                           reviews\n",
       "0  \\n\\n  I would say this is the best available Mic in this price range. This m...\n",
       "1  \\n\\n  Hi,So, after using this mic for about a month I am writing this review..."
      ]
     },
     "execution_count": 15,
     "metadata": {},
     "output_type": "execute_result"
    }
   ],
   "source": [
    "df1.head(2)"
   ]
  },
  {
   "cell_type": "markdown",
   "metadata": {},
   "source": [
    "### <font> <font color=\"orange\"> Feature Engineering"
   ]
  },
  {
   "cell_type": "code",
   "execution_count": 16,
   "metadata": {},
   "outputs": [],
   "source": [
    "from textblob import TextBlob"
   ]
  },
  {
   "cell_type": "code",
   "execution_count": 17,
   "metadata": {},
   "outputs": [],
   "source": [
    "df['review_len']=df['reviews'].apply(lambda x: len(x))\n",
    "df['word_count']=df['reviews'].apply(lambda x: len(x.split()))"
   ]
  },
  {
   "cell_type": "code",
   "execution_count": 18,
   "metadata": {},
   "outputs": [],
   "source": [
    "def get_avg_word_len(x):\n",
    "    words=x.split()\n",
    "    word_len=0\n",
    "    for word in words:\n",
    "        word_len=word_len+len(word)\n",
    "    return word_len/len(words)\n",
    "df['avg_word_len']=df['reviews'].apply(lambda x:get_avg_word_len(x))"
   ]
  },
  {
   "cell_type": "code",
   "execution_count": 19,
   "metadata": {},
   "outputs": [
    {
     "data": {
      "text/html": [
       "<div>\n",
       "<style scoped>\n",
       "    .dataframe tbody tr th:only-of-type {\n",
       "        vertical-align: middle;\n",
       "    }\n",
       "\n",
       "    .dataframe tbody tr th {\n",
       "        vertical-align: top;\n",
       "    }\n",
       "\n",
       "    .dataframe thead th {\n",
       "        text-align: right;\n",
       "    }\n",
       "</style>\n",
       "<table border=\"1\" class=\"dataframe\">\n",
       "  <thead>\n",
       "    <tr style=\"text-align: right;\">\n",
       "      <th></th>\n",
       "      <th>reviews</th>\n",
       "      <th>review_len</th>\n",
       "      <th>word_count</th>\n",
       "      <th>avg_word_len</th>\n",
       "    </tr>\n",
       "  </thead>\n",
       "  <tbody>\n",
       "    <tr>\n",
       "      <th>0</th>\n",
       "      <td>\\n\\n  I would say this is the best available Mic in this price range. This m...</td>\n",
       "      <td>400</td>\n",
       "      <td>73</td>\n",
       "      <td>4.410959</td>\n",
       "    </tr>\n",
       "    <tr>\n",
       "      <th>1</th>\n",
       "      <td>\\n\\n  Hi,So, after using this mic for about a month I am writing this review...</td>\n",
       "      <td>1500</td>\n",
       "      <td>253</td>\n",
       "      <td>4.909091</td>\n",
       "    </tr>\n",
       "    <tr>\n",
       "      <th>2</th>\n",
       "      <td>\\n\\n  WHEN RECORDING ON PHONE OR LApTOP THE quality was the same as you get ...</td>\n",
       "      <td>403</td>\n",
       "      <td>73</td>\n",
       "      <td>4.452055</td>\n",
       "    </tr>\n",
       "    <tr>\n",
       "      <th>3</th>\n",
       "      <td>\\n\\n  It stoped working Within 2 months . While recording in starting it rec...</td>\n",
       "      <td>237</td>\n",
       "      <td>42</td>\n",
       "      <td>4.523810</td>\n",
       "    </tr>\n",
       "    <tr>\n",
       "      <th>4</th>\n",
       "      <td>\\n\\n  I will give my honest review on Boya M1. Read this full and i may help...</td>\n",
       "      <td>1847</td>\n",
       "      <td>364</td>\n",
       "      <td>4.057692</td>\n",
       "    </tr>\n",
       "  </tbody>\n",
       "</table>\n",
       "</div>"
      ],
      "text/plain": [
       "                                                                           reviews  \\\n",
       "0  \\n\\n  I would say this is the best available Mic in this price range. This m...   \n",
       "1  \\n\\n  Hi,So, after using this mic for about a month I am writing this review...   \n",
       "2  \\n\\n  WHEN RECORDING ON PHONE OR LApTOP THE quality was the same as you get ...   \n",
       "3  \\n\\n  It stoped working Within 2 months . While recording in starting it rec...   \n",
       "4  \\n\\n  I will give my honest review on Boya M1. Read this full and i may help...   \n",
       "\n",
       "   review_len  word_count  avg_word_len  \n",
       "0         400          73      4.410959  \n",
       "1        1500         253      4.909091  \n",
       "2         403          73      4.452055  \n",
       "3         237          42      4.523810  \n",
       "4        1847         364      4.057692  "
      ]
     },
     "execution_count": 19,
     "metadata": {},
     "output_type": "execute_result"
    }
   ],
   "source": [
    "df.head(5)"
   ]
  },
  {
   "cell_type": "markdown",
   "metadata": {},
   "source": [
    "### Distribution of Review text length and word length"
   ]
  },
  {
   "cell_type": "code",
   "execution_count": 20,
   "metadata": {},
   "outputs": [
    {
     "data": {
      "application/vnd.plotly.v1+json": {
       "config": {
        "linkText": "Export to plot.ly",
        "plotlyServerURL": "https://plot.ly",
        "showLink": true
       },
       "data": [
        {
         "histfunc": "count",
         "histnorm": "",
         "marker": {
          "color": "rgba(255, 153, 51, 1.0)",
          "line": {
           "color": "#4D5663",
           "width": 1.3
          }
         },
         "name": "review_len",
         "opacity": 0.8,
         "orientation": "v",
         "type": "histogram",
         "x": [
          400,
          1500,
          403,
          237,
          1847,
          4898,
          228,
          2402,
          754,
          690,
          400,
          1500,
          403,
          237,
          1847,
          4898,
          228,
          2402,
          754,
          690,
          147,
          1345,
          593,
          121,
          364,
          212,
          1094,
          39,
          535,
          696,
          964,
          1155,
          480,
          728,
          539,
          272,
          390,
          975,
          617,
          1159,
          1240,
          662,
          936,
          415,
          591,
          838,
          672,
          672,
          680,
          614,
          269,
          498,
          794,
          921,
          447,
          281,
          636,
          302,
          1097,
          641,
          432,
          523,
          682,
          684,
          837,
          834,
          396,
          354,
          681,
          847,
          546,
          326,
          1061,
          729,
          665,
          387,
          457,
          489,
          507,
          440,
          382,
          442,
          508,
          473,
          263,
          395,
          444,
          420,
          628,
          570,
          596,
          245,
          337,
          497,
          737,
          598,
          620,
          549,
          413,
          450,
          324,
          432,
          856,
          279,
          406,
          353,
          405,
          324,
          365,
          686,
          416,
          366,
          319,
          377,
          702,
          208,
          449,
          655,
          1514,
          606,
          430,
          373,
          474,
          1294,
          451,
          314,
          256,
          475,
          295,
          327,
          754,
          373,
          439,
          1060,
          364,
          285,
          316,
          324,
          946,
          314,
          799,
          451,
          756,
          420,
          316,
          295,
          837,
          440,
          369,
          1078,
          379,
          536,
          506,
          191,
          338,
          882,
          297,
          333,
          1326,
          280,
          580,
          585,
          326,
          337,
          474,
          653,
          1299,
          375,
          922,
          661,
          571,
          736,
          555,
          402,
          281,
          414,
          353,
          424,
          240,
          381,
          962,
          365,
          378,
          464,
          410,
          671,
          611,
          536,
          361,
          517,
          517,
          195,
          250,
          405,
          690,
          346,
          497,
          718,
          234,
          261,
          370,
          306,
          346,
          364,
          566,
          255,
          257,
          288,
          663,
          458,
          466,
          282,
          539,
          290,
          272,
          459,
          564,
          247,
          84,
          164,
          384,
          104,
          616,
          459,
          311,
          309,
          377,
          476,
          514,
          309,
          297,
          299,
          343,
          517,
          581,
          580,
          543,
          297,
          542,
          460,
          245,
          243,
          304,
          359,
          545,
          491,
          255,
          468,
          448,
          223,
          277,
          445,
          264,
          382,
          245,
          519,
          318,
          270,
          198,
          520,
          516,
          316,
          322,
          513,
          357,
          504,
          348,
          283,
          226,
          425,
          367,
          229,
          254,
          340,
          400,
          382,
          471,
          215,
          468,
          336,
          505,
          302,
          463,
          274,
          339,
          460,
          423,
          239,
          312,
          233,
          220,
          539,
          303,
          340,
          328,
          235,
          234,
          433,
          235,
          406,
          362,
          297,
          344,
          377,
          127,
          387,
          332,
          230,
          153,
          345,
          155,
          291,
          368,
          317,
          220,
          412,
          341,
          206,
          339,
          453,
          515,
          217,
          256,
          197,
          197,
          189,
          297,
          293,
          391,
          249,
          444,
          230,
          253,
          428,
          439,
          244,
          308,
          161,
          327,
          276,
          226,
          458,
          311,
          377,
          433,
          123,
          453,
          411,
          514,
          221,
          265,
          201,
          297,
          357,
          443,
          260,
          189,
          444,
          416,
          324,
          416,
          224,
          235,
          189,
          251,
          403,
          218,
          431,
          180,
          181,
          323,
          511,
          357,
          423,
          210,
          235,
          306,
          390,
          407,
          186,
          327,
          327,
          385,
          236,
          395,
          413,
          310,
          411,
          216,
          334,
          363,
          234,
          246,
          415,
          265,
          394,
          339,
          284,
          293,
          249,
          423,
          445,
          179,
          350,
          109,
          162,
          75,
          150,
          407,
          174,
          389,
          228,
          348,
          192,
          241,
          377,
          186,
          399,
          272,
          288,
          165,
          173,
          279,
          93,
          184,
          182,
          149,
          371,
          299,
          406,
          167,
          238,
          364,
          161,
          356,
          302,
          193,
          303,
          269,
          376,
          231,
          148,
          373,
          180,
          198,
          291,
          432,
          266,
          222,
          382,
          304,
          364,
          342,
          284,
          195,
          319,
          241,
          355,
          193,
          378,
          360,
          252,
          403,
          391,
          409,
          241,
          186,
          177,
          154,
          197,
          290,
          353,
          235,
          336,
          161,
          163,
          247,
          365,
          308,
          270,
          239,
          222,
          333,
          282,
          181,
          167,
          155,
          250,
          252,
          174,
          168,
          213,
          345,
          184,
          332,
          302,
          343,
          373,
          79,
          288,
          159,
          340,
          380,
          163,
          285,
          323,
          343,
          159,
          341,
          327,
          174,
          363,
          186,
          282,
          160,
          281,
          193,
          252,
          282,
          321,
          280,
          248,
          203,
          290,
          219,
          345,
          303,
          316,
          248,
          161,
          159,
          329,
          207,
          182,
          238,
          354,
          181,
          184,
          342,
          135,
          281,
          322,
          117,
          131,
          343,
          254,
          324,
          173,
          310,
          69,
          267,
          323,
          273,
          163,
          172,
          217,
          320,
          311,
          168,
          229,
          282,
          119,
          293,
          182,
          313,
          128,
          293,
          192,
          145,
          36,
          186,
          226,
          124,
          220,
          50,
          167,
          171,
          282,
          251,
          159,
          264,
          415,
          263,
          229,
          233,
          338,
          301,
          387,
          178,
          354,
          259,
          128,
          191,
          273,
          319,
          360,
          247,
          190,
          291,
          303,
          171,
          240,
          172,
          321,
          188,
          191,
          259,
          142,
          258,
          195,
          369,
          216,
          176,
          115,
          297,
          188,
          293,
          96,
          192,
          241,
          191,
          275,
          230,
          184,
          374,
          248,
          132,
          123,
          308,
          162,
          203,
          216,
          212,
          165,
          118,
          152,
          257,
          239,
          280,
          112,
          140,
          127,
          334,
          29,
          193,
          158,
          356,
          162,
          300,
          145,
          256,
          281,
          251,
          141,
          384,
          198,
          124,
          111,
          193,
          286,
          201,
          256,
          129,
          376,
          280,
          25,
          289,
          144,
          164,
          98,
          201,
          189,
          271,
          106,
          201,
          270,
          280,
          196,
          210,
          177,
          201,
          200,
          117,
          120,
          298,
          263,
          185,
          272,
          102,
          192,
          276,
          117,
          106,
          233,
          266,
          103,
          233,
          294,
          127,
          311,
          177,
          85,
          132,
          252,
          142,
          241,
          151,
          226,
          110,
          129,
          167,
          273,
          261,
          123,
          257,
          206,
          126,
          268,
          184,
          148,
          151,
          256,
          160,
          146,
          190,
          272,
          206,
          130,
          197,
          145,
          196,
          188,
          162,
          217,
          226,
          137,
          267,
          191,
          264,
          47,
          162,
          172,
          140,
          189,
          252,
          241,
          186,
          211,
          251,
          83,
          229,
          119,
          282,
          234,
          228,
          192,
          175,
          258,
          111,
          169,
          191,
          105,
          186,
          162,
          171,
          94,
          268,
          250,
          184,
          155,
          244,
          288,
          168,
          109,
          246,
          231,
          92,
          258,
          160,
          160,
          325,
          241,
          256,
          256,
          180,
          113,
          297,
          111,
          225,
          87,
          220,
          217,
          171,
          269,
          124,
          18,
          231,
          258,
          156,
          145,
          158,
          177,
          150,
          107,
          240,
          162,
          149,
          251,
          256,
          133,
          121,
          204,
          237,
          161,
          136,
          79,
          226,
          210,
          115,
          246,
          126,
          78,
          111,
          114,
          93,
          120,
          55,
          143,
          233,
          122,
          79,
          107,
          78,
          120,
          57,
          124,
          124,
          198,
          137,
          133,
          255,
          142,
          162,
          145,
          132,
          196,
          133,
          174,
          211,
          184,
          184,
          154,
          234,
          177,
          196,
          97,
          132,
          157,
          241,
          210,
          191,
          252,
          173,
          191,
          179,
          251,
          125,
          82,
          250,
          231,
          98,
          178,
          161,
          258,
          122,
          151,
          92,
          122,
          241,
          258,
          115,
          81,
          78,
          71,
          88,
          295,
          105,
          215,
          193,
          137,
          172,
          162,
          235,
          222,
          113,
          171,
          124,
          212,
          162,
          214,
          245,
          271,
          213,
          136,
          142,
          135,
          224,
          233,
          209,
          115,
          222,
          131,
          235,
          243,
          219,
          67,
          175,
          192,
          186,
          221,
          13,
          212,
          82,
          159,
          219,
          81,
          94,
          184,
          87,
          274,
          203,
          205,
          95,
          276,
          170,
          240,
          82,
          204,
          185,
          156,
          228,
          143,
          46,
          167,
          81,
          126,
          259,
          115,
          227,
          133,
          121,
          238,
          140,
          56,
          206,
          216,
          159,
          231,
          237,
          272,
          129,
          65,
          87,
          131,
          98,
          123,
          169,
          62,
          134,
          186,
          108,
          235,
          120,
          183,
          160,
          176,
          239,
          82,
          212,
          223,
          192,
          114,
          60,
          90,
          245,
          200,
          114,
          187,
          64,
          231,
          60,
          65,
          208,
          174,
          197,
          59,
          277,
          143,
          231,
          52
         ]
        }
       ],
       "layout": {
        "barmode": "overlay",
        "legend": {
         "bgcolor": "#F5F6F9",
         "font": {
          "color": "#4D5663"
         }
        },
        "paper_bgcolor": "#F5F6F9",
        "plot_bgcolor": "#F5F6F9",
        "template": {
         "data": {
          "bar": [
           {
            "error_x": {
             "color": "#2a3f5f"
            },
            "error_y": {
             "color": "#2a3f5f"
            },
            "marker": {
             "line": {
              "color": "#E5ECF6",
              "width": 0.5
             }
            },
            "type": "bar"
           }
          ],
          "barpolar": [
           {
            "marker": {
             "line": {
              "color": "#E5ECF6",
              "width": 0.5
             }
            },
            "type": "barpolar"
           }
          ],
          "carpet": [
           {
            "aaxis": {
             "endlinecolor": "#2a3f5f",
             "gridcolor": "white",
             "linecolor": "white",
             "minorgridcolor": "white",
             "startlinecolor": "#2a3f5f"
            },
            "baxis": {
             "endlinecolor": "#2a3f5f",
             "gridcolor": "white",
             "linecolor": "white",
             "minorgridcolor": "white",
             "startlinecolor": "#2a3f5f"
            },
            "type": "carpet"
           }
          ],
          "choropleth": [
           {
            "colorbar": {
             "outlinewidth": 0,
             "ticks": ""
            },
            "type": "choropleth"
           }
          ],
          "contour": [
           {
            "colorbar": {
             "outlinewidth": 0,
             "ticks": ""
            },
            "colorscale": [
             [
              0,
              "#0d0887"
             ],
             [
              0.1111111111111111,
              "#46039f"
             ],
             [
              0.2222222222222222,
              "#7201a8"
             ],
             [
              0.3333333333333333,
              "#9c179e"
             ],
             [
              0.4444444444444444,
              "#bd3786"
             ],
             [
              0.5555555555555556,
              "#d8576b"
             ],
             [
              0.6666666666666666,
              "#ed7953"
             ],
             [
              0.7777777777777778,
              "#fb9f3a"
             ],
             [
              0.8888888888888888,
              "#fdca26"
             ],
             [
              1,
              "#f0f921"
             ]
            ],
            "type": "contour"
           }
          ],
          "contourcarpet": [
           {
            "colorbar": {
             "outlinewidth": 0,
             "ticks": ""
            },
            "type": "contourcarpet"
           }
          ],
          "heatmap": [
           {
            "colorbar": {
             "outlinewidth": 0,
             "ticks": ""
            },
            "colorscale": [
             [
              0,
              "#0d0887"
             ],
             [
              0.1111111111111111,
              "#46039f"
             ],
             [
              0.2222222222222222,
              "#7201a8"
             ],
             [
              0.3333333333333333,
              "#9c179e"
             ],
             [
              0.4444444444444444,
              "#bd3786"
             ],
             [
              0.5555555555555556,
              "#d8576b"
             ],
             [
              0.6666666666666666,
              "#ed7953"
             ],
             [
              0.7777777777777778,
              "#fb9f3a"
             ],
             [
              0.8888888888888888,
              "#fdca26"
             ],
             [
              1,
              "#f0f921"
             ]
            ],
            "type": "heatmap"
           }
          ],
          "heatmapgl": [
           {
            "colorbar": {
             "outlinewidth": 0,
             "ticks": ""
            },
            "colorscale": [
             [
              0,
              "#0d0887"
             ],
             [
              0.1111111111111111,
              "#46039f"
             ],
             [
              0.2222222222222222,
              "#7201a8"
             ],
             [
              0.3333333333333333,
              "#9c179e"
             ],
             [
              0.4444444444444444,
              "#bd3786"
             ],
             [
              0.5555555555555556,
              "#d8576b"
             ],
             [
              0.6666666666666666,
              "#ed7953"
             ],
             [
              0.7777777777777778,
              "#fb9f3a"
             ],
             [
              0.8888888888888888,
              "#fdca26"
             ],
             [
              1,
              "#f0f921"
             ]
            ],
            "type": "heatmapgl"
           }
          ],
          "histogram": [
           {
            "marker": {
             "colorbar": {
              "outlinewidth": 0,
              "ticks": ""
             }
            },
            "type": "histogram"
           }
          ],
          "histogram2d": [
           {
            "colorbar": {
             "outlinewidth": 0,
             "ticks": ""
            },
            "colorscale": [
             [
              0,
              "#0d0887"
             ],
             [
              0.1111111111111111,
              "#46039f"
             ],
             [
              0.2222222222222222,
              "#7201a8"
             ],
             [
              0.3333333333333333,
              "#9c179e"
             ],
             [
              0.4444444444444444,
              "#bd3786"
             ],
             [
              0.5555555555555556,
              "#d8576b"
             ],
             [
              0.6666666666666666,
              "#ed7953"
             ],
             [
              0.7777777777777778,
              "#fb9f3a"
             ],
             [
              0.8888888888888888,
              "#fdca26"
             ],
             [
              1,
              "#f0f921"
             ]
            ],
            "type": "histogram2d"
           }
          ],
          "histogram2dcontour": [
           {
            "colorbar": {
             "outlinewidth": 0,
             "ticks": ""
            },
            "colorscale": [
             [
              0,
              "#0d0887"
             ],
             [
              0.1111111111111111,
              "#46039f"
             ],
             [
              0.2222222222222222,
              "#7201a8"
             ],
             [
              0.3333333333333333,
              "#9c179e"
             ],
             [
              0.4444444444444444,
              "#bd3786"
             ],
             [
              0.5555555555555556,
              "#d8576b"
             ],
             [
              0.6666666666666666,
              "#ed7953"
             ],
             [
              0.7777777777777778,
              "#fb9f3a"
             ],
             [
              0.8888888888888888,
              "#fdca26"
             ],
             [
              1,
              "#f0f921"
             ]
            ],
            "type": "histogram2dcontour"
           }
          ],
          "mesh3d": [
           {
            "colorbar": {
             "outlinewidth": 0,
             "ticks": ""
            },
            "type": "mesh3d"
           }
          ],
          "parcoords": [
           {
            "line": {
             "colorbar": {
              "outlinewidth": 0,
              "ticks": ""
             }
            },
            "type": "parcoords"
           }
          ],
          "pie": [
           {
            "automargin": true,
            "type": "pie"
           }
          ],
          "scatter": [
           {
            "marker": {
             "colorbar": {
              "outlinewidth": 0,
              "ticks": ""
             }
            },
            "type": "scatter"
           }
          ],
          "scatter3d": [
           {
            "line": {
             "colorbar": {
              "outlinewidth": 0,
              "ticks": ""
             }
            },
            "marker": {
             "colorbar": {
              "outlinewidth": 0,
              "ticks": ""
             }
            },
            "type": "scatter3d"
           }
          ],
          "scattercarpet": [
           {
            "marker": {
             "colorbar": {
              "outlinewidth": 0,
              "ticks": ""
             }
            },
            "type": "scattercarpet"
           }
          ],
          "scattergeo": [
           {
            "marker": {
             "colorbar": {
              "outlinewidth": 0,
              "ticks": ""
             }
            },
            "type": "scattergeo"
           }
          ],
          "scattergl": [
           {
            "marker": {
             "colorbar": {
              "outlinewidth": 0,
              "ticks": ""
             }
            },
            "type": "scattergl"
           }
          ],
          "scattermapbox": [
           {
            "marker": {
             "colorbar": {
              "outlinewidth": 0,
              "ticks": ""
             }
            },
            "type": "scattermapbox"
           }
          ],
          "scatterpolar": [
           {
            "marker": {
             "colorbar": {
              "outlinewidth": 0,
              "ticks": ""
             }
            },
            "type": "scatterpolar"
           }
          ],
          "scatterpolargl": [
           {
            "marker": {
             "colorbar": {
              "outlinewidth": 0,
              "ticks": ""
             }
            },
            "type": "scatterpolargl"
           }
          ],
          "scatterternary": [
           {
            "marker": {
             "colorbar": {
              "outlinewidth": 0,
              "ticks": ""
             }
            },
            "type": "scatterternary"
           }
          ],
          "surface": [
           {
            "colorbar": {
             "outlinewidth": 0,
             "ticks": ""
            },
            "colorscale": [
             [
              0,
              "#0d0887"
             ],
             [
              0.1111111111111111,
              "#46039f"
             ],
             [
              0.2222222222222222,
              "#7201a8"
             ],
             [
              0.3333333333333333,
              "#9c179e"
             ],
             [
              0.4444444444444444,
              "#bd3786"
             ],
             [
              0.5555555555555556,
              "#d8576b"
             ],
             [
              0.6666666666666666,
              "#ed7953"
             ],
             [
              0.7777777777777778,
              "#fb9f3a"
             ],
             [
              0.8888888888888888,
              "#fdca26"
             ],
             [
              1,
              "#f0f921"
             ]
            ],
            "type": "surface"
           }
          ],
          "table": [
           {
            "cells": {
             "fill": {
              "color": "#EBF0F8"
             },
             "line": {
              "color": "white"
             }
            },
            "header": {
             "fill": {
              "color": "#C8D4E3"
             },
             "line": {
              "color": "white"
             }
            },
            "type": "table"
           }
          ]
         },
         "layout": {
          "annotationdefaults": {
           "arrowcolor": "#2a3f5f",
           "arrowhead": 0,
           "arrowwidth": 1
          },
          "coloraxis": {
           "colorbar": {
            "outlinewidth": 0,
            "ticks": ""
           }
          },
          "colorscale": {
           "diverging": [
            [
             0,
             "#8e0152"
            ],
            [
             0.1,
             "#c51b7d"
            ],
            [
             0.2,
             "#de77ae"
            ],
            [
             0.3,
             "#f1b6da"
            ],
            [
             0.4,
             "#fde0ef"
            ],
            [
             0.5,
             "#f7f7f7"
            ],
            [
             0.6,
             "#e6f5d0"
            ],
            [
             0.7,
             "#b8e186"
            ],
            [
             0.8,
             "#7fbc41"
            ],
            [
             0.9,
             "#4d9221"
            ],
            [
             1,
             "#276419"
            ]
           ],
           "sequential": [
            [
             0,
             "#0d0887"
            ],
            [
             0.1111111111111111,
             "#46039f"
            ],
            [
             0.2222222222222222,
             "#7201a8"
            ],
            [
             0.3333333333333333,
             "#9c179e"
            ],
            [
             0.4444444444444444,
             "#bd3786"
            ],
            [
             0.5555555555555556,
             "#d8576b"
            ],
            [
             0.6666666666666666,
             "#ed7953"
            ],
            [
             0.7777777777777778,
             "#fb9f3a"
            ],
            [
             0.8888888888888888,
             "#fdca26"
            ],
            [
             1,
             "#f0f921"
            ]
           ],
           "sequentialminus": [
            [
             0,
             "#0d0887"
            ],
            [
             0.1111111111111111,
             "#46039f"
            ],
            [
             0.2222222222222222,
             "#7201a8"
            ],
            [
             0.3333333333333333,
             "#9c179e"
            ],
            [
             0.4444444444444444,
             "#bd3786"
            ],
            [
             0.5555555555555556,
             "#d8576b"
            ],
            [
             0.6666666666666666,
             "#ed7953"
            ],
            [
             0.7777777777777778,
             "#fb9f3a"
            ],
            [
             0.8888888888888888,
             "#fdca26"
            ],
            [
             1,
             "#f0f921"
            ]
           ]
          },
          "colorway": [
           "#636efa",
           "#EF553B",
           "#00cc96",
           "#ab63fa",
           "#FFA15A",
           "#19d3f3",
           "#FF6692",
           "#B6E880",
           "#FF97FF",
           "#FECB52"
          ],
          "font": {
           "color": "#2a3f5f"
          },
          "geo": {
           "bgcolor": "white",
           "lakecolor": "white",
           "landcolor": "#E5ECF6",
           "showlakes": true,
           "showland": true,
           "subunitcolor": "white"
          },
          "hoverlabel": {
           "align": "left"
          },
          "hovermode": "closest",
          "mapbox": {
           "style": "light"
          },
          "paper_bgcolor": "white",
          "plot_bgcolor": "#E5ECF6",
          "polar": {
           "angularaxis": {
            "gridcolor": "white",
            "linecolor": "white",
            "ticks": ""
           },
           "bgcolor": "#E5ECF6",
           "radialaxis": {
            "gridcolor": "white",
            "linecolor": "white",
            "ticks": ""
           }
          },
          "scene": {
           "xaxis": {
            "backgroundcolor": "#E5ECF6",
            "gridcolor": "white",
            "gridwidth": 2,
            "linecolor": "white",
            "showbackground": true,
            "ticks": "",
            "zerolinecolor": "white"
           },
           "yaxis": {
            "backgroundcolor": "#E5ECF6",
            "gridcolor": "white",
            "gridwidth": 2,
            "linecolor": "white",
            "showbackground": true,
            "ticks": "",
            "zerolinecolor": "white"
           },
           "zaxis": {
            "backgroundcolor": "#E5ECF6",
            "gridcolor": "white",
            "gridwidth": 2,
            "linecolor": "white",
            "showbackground": true,
            "ticks": "",
            "zerolinecolor": "white"
           }
          },
          "shapedefaults": {
           "line": {
            "color": "#2a3f5f"
           }
          },
          "ternary": {
           "aaxis": {
            "gridcolor": "white",
            "linecolor": "white",
            "ticks": ""
           },
           "baxis": {
            "gridcolor": "white",
            "linecolor": "white",
            "ticks": ""
           },
           "bgcolor": "#E5ECF6",
           "caxis": {
            "gridcolor": "white",
            "linecolor": "white",
            "ticks": ""
           }
          },
          "title": {
           "x": 0.05
          },
          "xaxis": {
           "automargin": true,
           "gridcolor": "white",
           "linecolor": "white",
           "ticks": "",
           "title": {
            "standoff": 15
           },
           "zerolinecolor": "white",
           "zerolinewidth": 2
          },
          "yaxis": {
           "automargin": true,
           "gridcolor": "white",
           "linecolor": "white",
           "ticks": "",
           "title": {
            "standoff": 15
           },
           "zerolinecolor": "white",
           "zerolinewidth": 2
          }
         }
        },
        "title": {
         "font": {
          "color": "#4D5663"
         },
         "text": "Review length distribution"
        },
        "xaxis": {
         "gridcolor": "#E1E5ED",
         "showgrid": true,
         "tickfont": {
          "color": "#4D5663"
         },
         "title": {
          "font": {
           "color": "#4D5663"
          },
          "text": "Review_length"
         },
         "zerolinecolor": "#E1E5ED"
        },
        "yaxis": {
         "gridcolor": "#E1E5ED",
         "showgrid": true,
         "tickfont": {
          "color": "#4D5663"
         },
         "title": {
          "font": {
           "color": "#4D5663"
          },
          "text": "Count"
         },
         "zerolinecolor": "#E1E5ED"
        }
       }
      },
      "text/html": [
       "<div>\n",
       "        \n",
       "        \n",
       "            <div id=\"e47d135d-ef6b-4338-a0fb-780042636e84\" class=\"plotly-graph-div\" style=\"height:525px; width:100%;\"></div>\n",
       "            <script type=\"text/javascript\">\n",
       "                require([\"plotly\"], function(Plotly) {\n",
       "                    window.PLOTLYENV=window.PLOTLYENV || {};\n",
       "                    window.PLOTLYENV.BASE_URL='https://plot.ly';\n",
       "                    \n",
       "                if (document.getElementById(\"e47d135d-ef6b-4338-a0fb-780042636e84\")) {\n",
       "                    Plotly.newPlot(\n",
       "                        'e47d135d-ef6b-4338-a0fb-780042636e84',\n",
       "                        [{\"histfunc\": \"count\", \"histnorm\": \"\", \"marker\": {\"color\": \"rgba(255, 153, 51, 1.0)\", \"line\": {\"color\": \"#4D5663\", \"width\": 1.3}}, \"name\": \"review_len\", \"opacity\": 0.8, \"orientation\": \"v\", \"type\": \"histogram\", \"x\": [400, 1500, 403, 237, 1847, 4898, 228, 2402, 754, 690, 400, 1500, 403, 237, 1847, 4898, 228, 2402, 754, 690, 147, 1345, 593, 121, 364, 212, 1094, 39, 535, 696, 964, 1155, 480, 728, 539, 272, 390, 975, 617, 1159, 1240, 662, 936, 415, 591, 838, 672, 672, 680, 614, 269, 498, 794, 921, 447, 281, 636, 302, 1097, 641, 432, 523, 682, 684, 837, 834, 396, 354, 681, 847, 546, 326, 1061, 729, 665, 387, 457, 489, 507, 440, 382, 442, 508, 473, 263, 395, 444, 420, 628, 570, 596, 245, 337, 497, 737, 598, 620, 549, 413, 450, 324, 432, 856, 279, 406, 353, 405, 324, 365, 686, 416, 366, 319, 377, 702, 208, 449, 655, 1514, 606, 430, 373, 474, 1294, 451, 314, 256, 475, 295, 327, 754, 373, 439, 1060, 364, 285, 316, 324, 946, 314, 799, 451, 756, 420, 316, 295, 837, 440, 369, 1078, 379, 536, 506, 191, 338, 882, 297, 333, 1326, 280, 580, 585, 326, 337, 474, 653, 1299, 375, 922, 661, 571, 736, 555, 402, 281, 414, 353, 424, 240, 381, 962, 365, 378, 464, 410, 671, 611, 536, 361, 517, 517, 195, 250, 405, 690, 346, 497, 718, 234, 261, 370, 306, 346, 364, 566, 255, 257, 288, 663, 458, 466, 282, 539, 290, 272, 459, 564, 247, 84, 164, 384, 104, 616, 459, 311, 309, 377, 476, 514, 309, 297, 299, 343, 517, 581, 580, 543, 297, 542, 460, 245, 243, 304, 359, 545, 491, 255, 468, 448, 223, 277, 445, 264, 382, 245, 519, 318, 270, 198, 520, 516, 316, 322, 513, 357, 504, 348, 283, 226, 425, 367, 229, 254, 340, 400, 382, 471, 215, 468, 336, 505, 302, 463, 274, 339, 460, 423, 239, 312, 233, 220, 539, 303, 340, 328, 235, 234, 433, 235, 406, 362, 297, 344, 377, 127, 387, 332, 230, 153, 345, 155, 291, 368, 317, 220, 412, 341, 206, 339, 453, 515, 217, 256, 197, 197, 189, 297, 293, 391, 249, 444, 230, 253, 428, 439, 244, 308, 161, 327, 276, 226, 458, 311, 377, 433, 123, 453, 411, 514, 221, 265, 201, 297, 357, 443, 260, 189, 444, 416, 324, 416, 224, 235, 189, 251, 403, 218, 431, 180, 181, 323, 511, 357, 423, 210, 235, 306, 390, 407, 186, 327, 327, 385, 236, 395, 413, 310, 411, 216, 334, 363, 234, 246, 415, 265, 394, 339, 284, 293, 249, 423, 445, 179, 350, 109, 162, 75, 150, 407, 174, 389, 228, 348, 192, 241, 377, 186, 399, 272, 288, 165, 173, 279, 93, 184, 182, 149, 371, 299, 406, 167, 238, 364, 161, 356, 302, 193, 303, 269, 376, 231, 148, 373, 180, 198, 291, 432, 266, 222, 382, 304, 364, 342, 284, 195, 319, 241, 355, 193, 378, 360, 252, 403, 391, 409, 241, 186, 177, 154, 197, 290, 353, 235, 336, 161, 163, 247, 365, 308, 270, 239, 222, 333, 282, 181, 167, 155, 250, 252, 174, 168, 213, 345, 184, 332, 302, 343, 373, 79, 288, 159, 340, 380, 163, 285, 323, 343, 159, 341, 327, 174, 363, 186, 282, 160, 281, 193, 252, 282, 321, 280, 248, 203, 290, 219, 345, 303, 316, 248, 161, 159, 329, 207, 182, 238, 354, 181, 184, 342, 135, 281, 322, 117, 131, 343, 254, 324, 173, 310, 69, 267, 323, 273, 163, 172, 217, 320, 311, 168, 229, 282, 119, 293, 182, 313, 128, 293, 192, 145, 36, 186, 226, 124, 220, 50, 167, 171, 282, 251, 159, 264, 415, 263, 229, 233, 338, 301, 387, 178, 354, 259, 128, 191, 273, 319, 360, 247, 190, 291, 303, 171, 240, 172, 321, 188, 191, 259, 142, 258, 195, 369, 216, 176, 115, 297, 188, 293, 96, 192, 241, 191, 275, 230, 184, 374, 248, 132, 123, 308, 162, 203, 216, 212, 165, 118, 152, 257, 239, 280, 112, 140, 127, 334, 29, 193, 158, 356, 162, 300, 145, 256, 281, 251, 141, 384, 198, 124, 111, 193, 286, 201, 256, 129, 376, 280, 25, 289, 144, 164, 98, 201, 189, 271, 106, 201, 270, 280, 196, 210, 177, 201, 200, 117, 120, 298, 263, 185, 272, 102, 192, 276, 117, 106, 233, 266, 103, 233, 294, 127, 311, 177, 85, 132, 252, 142, 241, 151, 226, 110, 129, 167, 273, 261, 123, 257, 206, 126, 268, 184, 148, 151, 256, 160, 146, 190, 272, 206, 130, 197, 145, 196, 188, 162, 217, 226, 137, 267, 191, 264, 47, 162, 172, 140, 189, 252, 241, 186, 211, 251, 83, 229, 119, 282, 234, 228, 192, 175, 258, 111, 169, 191, 105, 186, 162, 171, 94, 268, 250, 184, 155, 244, 288, 168, 109, 246, 231, 92, 258, 160, 160, 325, 241, 256, 256, 180, 113, 297, 111, 225, 87, 220, 217, 171, 269, 124, 18, 231, 258, 156, 145, 158, 177, 150, 107, 240, 162, 149, 251, 256, 133, 121, 204, 237, 161, 136, 79, 226, 210, 115, 246, 126, 78, 111, 114, 93, 120, 55, 143, 233, 122, 79, 107, 78, 120, 57, 124, 124, 198, 137, 133, 255, 142, 162, 145, 132, 196, 133, 174, 211, 184, 184, 154, 234, 177, 196, 97, 132, 157, 241, 210, 191, 252, 173, 191, 179, 251, 125, 82, 250, 231, 98, 178, 161, 258, 122, 151, 92, 122, 241, 258, 115, 81, 78, 71, 88, 295, 105, 215, 193, 137, 172, 162, 235, 222, 113, 171, 124, 212, 162, 214, 245, 271, 213, 136, 142, 135, 224, 233, 209, 115, 222, 131, 235, 243, 219, 67, 175, 192, 186, 221, 13, 212, 82, 159, 219, 81, 94, 184, 87, 274, 203, 205, 95, 276, 170, 240, 82, 204, 185, 156, 228, 143, 46, 167, 81, 126, 259, 115, 227, 133, 121, 238, 140, 56, 206, 216, 159, 231, 237, 272, 129, 65, 87, 131, 98, 123, 169, 62, 134, 186, 108, 235, 120, 183, 160, 176, 239, 82, 212, 223, 192, 114, 60, 90, 245, 200, 114, 187, 64, 231, 60, 65, 208, 174, 197, 59, 277, 143, 231, 52]}],\n",
       "                        {\"barmode\": \"overlay\", \"legend\": {\"bgcolor\": \"#F5F6F9\", \"font\": {\"color\": \"#4D5663\"}}, \"paper_bgcolor\": \"#F5F6F9\", \"plot_bgcolor\": \"#F5F6F9\", \"template\": {\"data\": {\"bar\": [{\"error_x\": {\"color\": \"#2a3f5f\"}, \"error_y\": {\"color\": \"#2a3f5f\"}, \"marker\": {\"line\": {\"color\": \"#E5ECF6\", \"width\": 0.5}}, \"type\": \"bar\"}], \"barpolar\": [{\"marker\": {\"line\": {\"color\": \"#E5ECF6\", \"width\": 0.5}}, \"type\": \"barpolar\"}], \"carpet\": [{\"aaxis\": {\"endlinecolor\": \"#2a3f5f\", \"gridcolor\": \"white\", \"linecolor\": \"white\", \"minorgridcolor\": \"white\", \"startlinecolor\": \"#2a3f5f\"}, \"baxis\": {\"endlinecolor\": \"#2a3f5f\", \"gridcolor\": \"white\", \"linecolor\": \"white\", \"minorgridcolor\": \"white\", \"startlinecolor\": \"#2a3f5f\"}, \"type\": \"carpet\"}], \"choropleth\": [{\"colorbar\": {\"outlinewidth\": 0, \"ticks\": \"\"}, \"type\": \"choropleth\"}], \"contour\": [{\"colorbar\": {\"outlinewidth\": 0, \"ticks\": \"\"}, \"colorscale\": [[0.0, \"#0d0887\"], [0.1111111111111111, \"#46039f\"], [0.2222222222222222, \"#7201a8\"], [0.3333333333333333, \"#9c179e\"], [0.4444444444444444, \"#bd3786\"], [0.5555555555555556, \"#d8576b\"], [0.6666666666666666, \"#ed7953\"], [0.7777777777777778, \"#fb9f3a\"], [0.8888888888888888, \"#fdca26\"], [1.0, \"#f0f921\"]], \"type\": \"contour\"}], \"contourcarpet\": [{\"colorbar\": {\"outlinewidth\": 0, \"ticks\": \"\"}, \"type\": \"contourcarpet\"}], \"heatmap\": [{\"colorbar\": {\"outlinewidth\": 0, \"ticks\": \"\"}, \"colorscale\": [[0.0, \"#0d0887\"], [0.1111111111111111, \"#46039f\"], [0.2222222222222222, \"#7201a8\"], [0.3333333333333333, \"#9c179e\"], [0.4444444444444444, \"#bd3786\"], [0.5555555555555556, \"#d8576b\"], [0.6666666666666666, \"#ed7953\"], [0.7777777777777778, \"#fb9f3a\"], [0.8888888888888888, \"#fdca26\"], [1.0, \"#f0f921\"]], \"type\": \"heatmap\"}], \"heatmapgl\": [{\"colorbar\": {\"outlinewidth\": 0, \"ticks\": \"\"}, \"colorscale\": [[0.0, \"#0d0887\"], [0.1111111111111111, \"#46039f\"], [0.2222222222222222, \"#7201a8\"], [0.3333333333333333, \"#9c179e\"], [0.4444444444444444, \"#bd3786\"], [0.5555555555555556, \"#d8576b\"], [0.6666666666666666, \"#ed7953\"], [0.7777777777777778, \"#fb9f3a\"], [0.8888888888888888, \"#fdca26\"], [1.0, \"#f0f921\"]], \"type\": \"heatmapgl\"}], \"histogram\": [{\"marker\": {\"colorbar\": {\"outlinewidth\": 0, \"ticks\": \"\"}}, \"type\": \"histogram\"}], \"histogram2d\": [{\"colorbar\": {\"outlinewidth\": 0, \"ticks\": \"\"}, \"colorscale\": [[0.0, \"#0d0887\"], [0.1111111111111111, \"#46039f\"], [0.2222222222222222, \"#7201a8\"], [0.3333333333333333, \"#9c179e\"], [0.4444444444444444, \"#bd3786\"], [0.5555555555555556, \"#d8576b\"], [0.6666666666666666, \"#ed7953\"], [0.7777777777777778, \"#fb9f3a\"], [0.8888888888888888, \"#fdca26\"], [1.0, \"#f0f921\"]], \"type\": \"histogram2d\"}], \"histogram2dcontour\": [{\"colorbar\": {\"outlinewidth\": 0, \"ticks\": \"\"}, \"colorscale\": [[0.0, \"#0d0887\"], [0.1111111111111111, \"#46039f\"], [0.2222222222222222, \"#7201a8\"], [0.3333333333333333, \"#9c179e\"], [0.4444444444444444, \"#bd3786\"], [0.5555555555555556, \"#d8576b\"], [0.6666666666666666, \"#ed7953\"], [0.7777777777777778, \"#fb9f3a\"], [0.8888888888888888, \"#fdca26\"], [1.0, \"#f0f921\"]], \"type\": \"histogram2dcontour\"}], \"mesh3d\": [{\"colorbar\": {\"outlinewidth\": 0, \"ticks\": \"\"}, \"type\": \"mesh3d\"}], \"parcoords\": [{\"line\": {\"colorbar\": {\"outlinewidth\": 0, \"ticks\": \"\"}}, \"type\": \"parcoords\"}], \"pie\": [{\"automargin\": true, \"type\": \"pie\"}], \"scatter\": [{\"marker\": {\"colorbar\": {\"outlinewidth\": 0, \"ticks\": \"\"}}, \"type\": \"scatter\"}], \"scatter3d\": [{\"line\": {\"colorbar\": {\"outlinewidth\": 0, \"ticks\": \"\"}}, \"marker\": {\"colorbar\": {\"outlinewidth\": 0, \"ticks\": \"\"}}, \"type\": \"scatter3d\"}], \"scattercarpet\": [{\"marker\": {\"colorbar\": {\"outlinewidth\": 0, \"ticks\": \"\"}}, \"type\": \"scattercarpet\"}], \"scattergeo\": [{\"marker\": {\"colorbar\": {\"outlinewidth\": 0, \"ticks\": \"\"}}, \"type\": \"scattergeo\"}], \"scattergl\": [{\"marker\": {\"colorbar\": {\"outlinewidth\": 0, \"ticks\": \"\"}}, \"type\": \"scattergl\"}], \"scattermapbox\": [{\"marker\": {\"colorbar\": {\"outlinewidth\": 0, \"ticks\": \"\"}}, \"type\": \"scattermapbox\"}], \"scatterpolar\": [{\"marker\": {\"colorbar\": {\"outlinewidth\": 0, \"ticks\": \"\"}}, \"type\": \"scatterpolar\"}], \"scatterpolargl\": [{\"marker\": {\"colorbar\": {\"outlinewidth\": 0, \"ticks\": \"\"}}, \"type\": \"scatterpolargl\"}], \"scatterternary\": [{\"marker\": {\"colorbar\": {\"outlinewidth\": 0, \"ticks\": \"\"}}, \"type\": \"scatterternary\"}], \"surface\": [{\"colorbar\": {\"outlinewidth\": 0, \"ticks\": \"\"}, \"colorscale\": [[0.0, \"#0d0887\"], [0.1111111111111111, \"#46039f\"], [0.2222222222222222, \"#7201a8\"], [0.3333333333333333, \"#9c179e\"], [0.4444444444444444, \"#bd3786\"], [0.5555555555555556, \"#d8576b\"], [0.6666666666666666, \"#ed7953\"], [0.7777777777777778, \"#fb9f3a\"], [0.8888888888888888, \"#fdca26\"], [1.0, \"#f0f921\"]], \"type\": \"surface\"}], \"table\": [{\"cells\": {\"fill\": {\"color\": \"#EBF0F8\"}, \"line\": {\"color\": \"white\"}}, \"header\": {\"fill\": {\"color\": \"#C8D4E3\"}, \"line\": {\"color\": \"white\"}}, \"type\": \"table\"}]}, \"layout\": {\"annotationdefaults\": {\"arrowcolor\": \"#2a3f5f\", \"arrowhead\": 0, \"arrowwidth\": 1}, \"coloraxis\": {\"colorbar\": {\"outlinewidth\": 0, \"ticks\": \"\"}}, \"colorscale\": {\"diverging\": [[0, \"#8e0152\"], [0.1, \"#c51b7d\"], [0.2, \"#de77ae\"], [0.3, \"#f1b6da\"], [0.4, \"#fde0ef\"], [0.5, \"#f7f7f7\"], [0.6, \"#e6f5d0\"], [0.7, \"#b8e186\"], [0.8, \"#7fbc41\"], [0.9, \"#4d9221\"], [1, \"#276419\"]], \"sequential\": [[0.0, \"#0d0887\"], [0.1111111111111111, \"#46039f\"], [0.2222222222222222, \"#7201a8\"], [0.3333333333333333, \"#9c179e\"], [0.4444444444444444, \"#bd3786\"], [0.5555555555555556, \"#d8576b\"], [0.6666666666666666, \"#ed7953\"], [0.7777777777777778, \"#fb9f3a\"], [0.8888888888888888, \"#fdca26\"], [1.0, \"#f0f921\"]], \"sequentialminus\": [[0.0, \"#0d0887\"], [0.1111111111111111, \"#46039f\"], [0.2222222222222222, \"#7201a8\"], [0.3333333333333333, \"#9c179e\"], [0.4444444444444444, \"#bd3786\"], [0.5555555555555556, \"#d8576b\"], [0.6666666666666666, \"#ed7953\"], [0.7777777777777778, \"#fb9f3a\"], [0.8888888888888888, \"#fdca26\"], [1.0, \"#f0f921\"]]}, \"colorway\": [\"#636efa\", \"#EF553B\", \"#00cc96\", \"#ab63fa\", \"#FFA15A\", \"#19d3f3\", \"#FF6692\", \"#B6E880\", \"#FF97FF\", \"#FECB52\"], \"font\": {\"color\": \"#2a3f5f\"}, \"geo\": {\"bgcolor\": \"white\", \"lakecolor\": \"white\", \"landcolor\": \"#E5ECF6\", \"showlakes\": true, \"showland\": true, \"subunitcolor\": \"white\"}, \"hoverlabel\": {\"align\": \"left\"}, \"hovermode\": \"closest\", \"mapbox\": {\"style\": \"light\"}, \"paper_bgcolor\": \"white\", \"plot_bgcolor\": \"#E5ECF6\", \"polar\": {\"angularaxis\": {\"gridcolor\": \"white\", \"linecolor\": \"white\", \"ticks\": \"\"}, \"bgcolor\": \"#E5ECF6\", \"radialaxis\": {\"gridcolor\": \"white\", \"linecolor\": \"white\", \"ticks\": \"\"}}, \"scene\": {\"xaxis\": {\"backgroundcolor\": \"#E5ECF6\", \"gridcolor\": \"white\", \"gridwidth\": 2, \"linecolor\": \"white\", \"showbackground\": true, \"ticks\": \"\", \"zerolinecolor\": \"white\"}, \"yaxis\": {\"backgroundcolor\": \"#E5ECF6\", \"gridcolor\": \"white\", \"gridwidth\": 2, \"linecolor\": \"white\", \"showbackground\": true, \"ticks\": \"\", \"zerolinecolor\": \"white\"}, \"zaxis\": {\"backgroundcolor\": \"#E5ECF6\", \"gridcolor\": \"white\", \"gridwidth\": 2, \"linecolor\": \"white\", \"showbackground\": true, \"ticks\": \"\", \"zerolinecolor\": \"white\"}}, \"shapedefaults\": {\"line\": {\"color\": \"#2a3f5f\"}}, \"ternary\": {\"aaxis\": {\"gridcolor\": \"white\", \"linecolor\": \"white\", \"ticks\": \"\"}, \"baxis\": {\"gridcolor\": \"white\", \"linecolor\": \"white\", \"ticks\": \"\"}, \"bgcolor\": \"#E5ECF6\", \"caxis\": {\"gridcolor\": \"white\", \"linecolor\": \"white\", \"ticks\": \"\"}}, \"title\": {\"x\": 0.05}, \"xaxis\": {\"automargin\": true, \"gridcolor\": \"white\", \"linecolor\": \"white\", \"ticks\": \"\", \"title\": {\"standoff\": 15}, \"zerolinecolor\": \"white\", \"zerolinewidth\": 2}, \"yaxis\": {\"automargin\": true, \"gridcolor\": \"white\", \"linecolor\": \"white\", \"ticks\": \"\", \"title\": {\"standoff\": 15}, \"zerolinecolor\": \"white\", \"zerolinewidth\": 2}}}, \"title\": {\"font\": {\"color\": \"#4D5663\"}, \"text\": \"Review length distribution\"}, \"xaxis\": {\"gridcolor\": \"#E1E5ED\", \"showgrid\": true, \"tickfont\": {\"color\": \"#4D5663\"}, \"title\": {\"font\": {\"color\": \"#4D5663\"}, \"text\": \"Review_length\"}, \"zerolinecolor\": \"#E1E5ED\"}, \"yaxis\": {\"gridcolor\": \"#E1E5ED\", \"showgrid\": true, \"tickfont\": {\"color\": \"#4D5663\"}, \"title\": {\"font\": {\"color\": \"#4D5663\"}, \"text\": \"Count\"}, \"zerolinecolor\": \"#E1E5ED\"}},\n",
       "                        {\"showLink\": true, \"linkText\": \"Export to plot.ly\", \"plotlyServerURL\": \"https://plot.ly\", \"responsive\": true}\n",
       "                    ).then(function(){\n",
       "                            \n",
       "var gd = document.getElementById('e47d135d-ef6b-4338-a0fb-780042636e84');\n",
       "var x = new MutationObserver(function (mutations, observer) {{\n",
       "        var display = window.getComputedStyle(gd).display;\n",
       "        if (!display || display === 'none') {{\n",
       "            console.log([gd, 'removed!']);\n",
       "            Plotly.purge(gd);\n",
       "            observer.disconnect();\n",
       "        }}\n",
       "}});\n",
       "\n",
       "// Listen for the removal of the full notebook cells\n",
       "var notebookContainer = gd.closest('#notebook-container');\n",
       "if (notebookContainer) {{\n",
       "    x.observe(notebookContainer, {childList: true});\n",
       "}}\n",
       "\n",
       "// Listen for the clearing of the current output cell\n",
       "var outputEl = gd.closest('.output');\n",
       "if (outputEl) {{\n",
       "    x.observe(outputEl, {childList: true});\n",
       "}}\n",
       "\n",
       "                        })\n",
       "                };\n",
       "                });\n",
       "            </script>\n",
       "        </div>"
      ]
     },
     "metadata": {},
     "output_type": "display_data"
    }
   ],
   "source": [
    "df['review_len'].iplot(kind='hist',xTitle=\"Review_length\",yTitle=\"Count\",title=\"Review length distribution\") "
   ]
  },
  {
   "cell_type": "markdown",
   "metadata": {},
   "source": [
    "### <font> <font color=\"magenta\" > Insight <font>\n",
    "    \n",
    "    observed that the most of the reviews have character length 0-250 "
   ]
  },
  {
   "cell_type": "code",
   "execution_count": 21,
   "metadata": {
    "scrolled": false
   },
   "outputs": [
    {
     "data": {
      "application/vnd.plotly.v1+json": {
       "config": {
        "linkText": "Export to plot.ly",
        "plotlyServerURL": "https://plot.ly",
        "showLink": true
       },
       "data": [
        {
         "histfunc": "count",
         "histnorm": "",
         "marker": {
          "color": "rgba(255, 153, 51, 1.0)",
          "line": {
           "color": "#4D5663",
           "width": 1.3
          }
         },
         "name": "word_count",
         "opacity": 0.8,
         "orientation": "v",
         "type": "histogram",
         "x": [
          73,
          253,
          73,
          42,
          364,
          863,
          41,
          456,
          134,
          125,
          73,
          253,
          73,
          42,
          364,
          863,
          41,
          456,
          134,
          125,
          27,
          230,
          107,
          21,
          65,
          38,
          215,
          4,
          102,
          108,
          167,
          203,
          88,
          133,
          100,
          43,
          69,
          173,
          108,
          210,
          235,
          117,
          180,
          65,
          105,
          129,
          120,
          125,
          120,
          116,
          39,
          93,
          135,
          161,
          85,
          52,
          108,
          59,
          192,
          110,
          74,
          89,
          113,
          117,
          155,
          166,
          71,
          62,
          121,
          147,
          109,
          58,
          189,
          137,
          126,
          68,
          90,
          81,
          89,
          76,
          63,
          79,
          97,
          94,
          44,
          72,
          81,
          70,
          111,
          104,
          103,
          44,
          57,
          92,
          119,
          100,
          106,
          104,
          72,
          86,
          59,
          74,
          151,
          50,
          72,
          62,
          83,
          59,
          66,
          124,
          72,
          63,
          60,
          69,
          130,
          32,
          83,
          116,
          230,
          116,
          71,
          66,
          87,
          244,
          77,
          56,
          50,
          86,
          51,
          55,
          139,
          70,
          73,
          181,
          61,
          46,
          52,
          61,
          171,
          57,
          149,
          79,
          137,
          88,
          59,
          58,
          129,
          71,
          72,
          194,
          66,
          96,
          95,
          32,
          59,
          169,
          52,
          60,
          250,
          43,
          100,
          105,
          56,
          68,
          82,
          121,
          240,
          52,
          168,
          127,
          104,
          137,
          99,
          71,
          44,
          76,
          65,
          67,
          39,
          65,
          183,
          74,
          60,
          82,
          74,
          122,
          103,
          89,
          59,
          101,
          85,
          30,
          47,
          69,
          118,
          66,
          86,
          131,
          38,
          48,
          64,
          53,
          61,
          62,
          101,
          47,
          53,
          56,
          123,
          95,
          90,
          57,
          95,
          44,
          52,
          76,
          96,
          50,
          13,
          30,
          71,
          17,
          117,
          86,
          55,
          52,
          71,
          90,
          87,
          56,
          48,
          54,
          65,
          98,
          113,
          108,
          86,
          55,
          89,
          82,
          48,
          41,
          57,
          69,
          100,
          86,
          44,
          85,
          85,
          42,
          50,
          89,
          42,
          69,
          40,
          100,
          57,
          44,
          36,
          86,
          92,
          57,
          50,
          83,
          59,
          94,
          66,
          49,
          38,
          78,
          60,
          38,
          48,
          58,
          63,
          73,
          86,
          42,
          82,
          60,
          91,
          52,
          87,
          47,
          64,
          84,
          70,
          38,
          51,
          37,
          37,
          103,
          50,
          64,
          58,
          40,
          39,
          76,
          36,
          74,
          69,
          53,
          64,
          72,
          21,
          66,
          62,
          38,
          24,
          63,
          25,
          51,
          67,
          58,
          43,
          77,
          53,
          33,
          73,
          80,
          88,
          39,
          42,
          30,
          34,
          28,
          47,
          56,
          56,
          44,
          85,
          39,
          44,
          76,
          62,
          37,
          50,
          23,
          57,
          53,
          41,
          80,
          55,
          67,
          82,
          22,
          85,
          82,
          100,
          40,
          43,
          36,
          53,
          65,
          86,
          47,
          34,
          87,
          73,
          63,
          65,
          39,
          40,
          33,
          47,
          76,
          36,
          82,
          29,
          32,
          59,
          94,
          61,
          79,
          40,
          39,
          56,
          63,
          74,
          33,
          55,
          63,
          63,
          42,
          63,
          71,
          51,
          67,
          38,
          58,
          61,
          43,
          41,
          75,
          45,
          70,
          60,
          54,
          51,
          45,
          69,
          69,
          30,
          53,
          20,
          25,
          11,
          23,
          72,
          35,
          72,
          41,
          68,
          33,
          42,
          71,
          28,
          67,
          53,
          42,
          25,
          25,
          54,
          16,
          34,
          28,
          28,
          64,
          49,
          75,
          27,
          46,
          68,
          25,
          63,
          58,
          31,
          53,
          49,
          68,
          42,
          29,
          72,
          33,
          39,
          48,
          75,
          51,
          41,
          69,
          45,
          67,
          58,
          53,
          36,
          57,
          42,
          58,
          31,
          62,
          64,
          44,
          66,
          72,
          80,
          42,
          34,
          28,
          27,
          31,
          54,
          61,
          40,
          54,
          28,
          29,
          40,
          64,
          59,
          51,
          39,
          38,
          58,
          51,
          33,
          30,
          24,
          45,
          47,
          31,
          27,
          37,
          71,
          33,
          57,
          54,
          68,
          65,
          12,
          44,
          32,
          62,
          59,
          24,
          40,
          60,
          59,
          28,
          63,
          58,
          32,
          65,
          36,
          49,
          24,
          49,
          32,
          47,
          54,
          58,
          52,
          45,
          36,
          56,
          36,
          58,
          58,
          58,
          49,
          28,
          31,
          60,
          38,
          30,
          41,
          60,
          33,
          35,
          66,
          25,
          49,
          51,
          22,
          22,
          60,
          48,
          67,
          29,
          60,
          12,
          48,
          53,
          45,
          26,
          32,
          38,
          55,
          54,
          34,
          43,
          47,
          15,
          50,
          30,
          59,
          23,
          47,
          36,
          25,
          4,
          35,
          41,
          18,
          40,
          4,
          29,
          33,
          49,
          39,
          24,
          47,
          79,
          44,
          40,
          45,
          55,
          54,
          67,
          31,
          63,
          49,
          24,
          33,
          45,
          59,
          74,
          40,
          31,
          60,
          52,
          30,
          44,
          28,
          64,
          35,
          36,
          48,
          25,
          46,
          31,
          72,
          36,
          30,
          22,
          53,
          30,
          55,
          16,
          35,
          41,
          31,
          48,
          40,
          32,
          66,
          47,
          23,
          15,
          57,
          30,
          38,
          37,
          32,
          29,
          23,
          24,
          50,
          43,
          50,
          18,
          19,
          25,
          63,
          5,
          31,
          29,
          66,
          32,
          51,
          26,
          40,
          49,
          37,
          21,
          66,
          35,
          21,
          15,
          34,
          49,
          35,
          39,
          20,
          65,
          48,
          3,
          53,
          24,
          30,
          15,
          34,
          35,
          48,
          19,
          32,
          46,
          49,
          32,
          40,
          29,
          32,
          35,
          24,
          22,
          56,
          45,
          30,
          53,
          15,
          35,
          43,
          15,
          16,
          43,
          45,
          18,
          41,
          59,
          22,
          53,
          28,
          12,
          22,
          50,
          26,
          45,
          26,
          36,
          18,
          22,
          33,
          47,
          46,
          20,
          50,
          36,
          24,
          55,
          33,
          27,
          28,
          51,
          26,
          21,
          36,
          48,
          34,
          24,
          32,
          24,
          36,
          36,
          26,
          34,
          39,
          19,
          46,
          30,
          50,
          6,
          28,
          33,
          18,
          37,
          39,
          38,
          31,
          41,
          41,
          10,
          34,
          21,
          54,
          41,
          38,
          31,
          27,
          48,
          20,
          32,
          31,
          22,
          33,
          28,
          32,
          21,
          55,
          46,
          26,
          28,
          42,
          49,
          29,
          19,
          37,
          44,
          16,
          38,
          27,
          27,
          63,
          37,
          46,
          41,
          25,
          14,
          57,
          20,
          31,
          14,
          38,
          40,
          27,
          53,
          23,
          2,
          42,
          43,
          27,
          15,
          24,
          32,
          24,
          17,
          47,
          25,
          26,
          46,
          45,
          23,
          17,
          38,
          48,
          28,
          27,
          13,
          41,
          34,
          16,
          37,
          29,
          10,
          20,
          17,
          11,
          21,
          8,
          23,
          38,
          17,
          11,
          17,
          11,
          22,
          10,
          21,
          24,
          34,
          24,
          26,
          50,
          27,
          16,
          19,
          24,
          33,
          19,
          33,
          36,
          31,
          31,
          27,
          36,
          28,
          23,
          18,
          16,
          22,
          45,
          42,
          35,
          41,
          29,
          28,
          25,
          39,
          19,
          13,
          48,
          35,
          15,
          34,
          27,
          48,
          20,
          29,
          13,
          21,
          41,
          49,
          21,
          11,
          12,
          11,
          16,
          43,
          16,
          37,
          35,
          23,
          36,
          30,
          43,
          37,
          16,
          25,
          19,
          29,
          27,
          36,
          46,
          47,
          39,
          24,
          21,
          24,
          38,
          41,
          34,
          18,
          40,
          20,
          45,
          43,
          36,
          12,
          29,
          28,
          33,
          34,
          1,
          41,
          11,
          33,
          37,
          12,
          15,
          30,
          10,
          51,
          42,
          36,
          14,
          50,
          30,
          41,
          15,
          36,
          30,
          30,
          40,
          27,
          7,
          29,
          12,
          17,
          50,
          14,
          44,
          20,
          20,
          44,
          24,
          8,
          31,
          38,
          32,
          39,
          51,
          48,
          24,
          10,
          15,
          21,
          18,
          19,
          29,
          11,
          24,
          28,
          14,
          39,
          20,
          35,
          26,
          31,
          44,
          14,
          40,
          35,
          34,
          19,
          10,
          18,
          44,
          34,
          18,
          33,
          9,
          38,
          11,
          11,
          32,
          29,
          28,
          10,
          49,
          26,
          40,
          8
         ]
        }
       ],
       "layout": {
        "barmode": "overlay",
        "legend": {
         "bgcolor": "#F5F6F9",
         "font": {
          "color": "#4D5663"
         }
        },
        "paper_bgcolor": "#F5F6F9",
        "plot_bgcolor": "#F5F6F9",
        "template": {
         "data": {
          "bar": [
           {
            "error_x": {
             "color": "#2a3f5f"
            },
            "error_y": {
             "color": "#2a3f5f"
            },
            "marker": {
             "line": {
              "color": "#E5ECF6",
              "width": 0.5
             }
            },
            "type": "bar"
           }
          ],
          "barpolar": [
           {
            "marker": {
             "line": {
              "color": "#E5ECF6",
              "width": 0.5
             }
            },
            "type": "barpolar"
           }
          ],
          "carpet": [
           {
            "aaxis": {
             "endlinecolor": "#2a3f5f",
             "gridcolor": "white",
             "linecolor": "white",
             "minorgridcolor": "white",
             "startlinecolor": "#2a3f5f"
            },
            "baxis": {
             "endlinecolor": "#2a3f5f",
             "gridcolor": "white",
             "linecolor": "white",
             "minorgridcolor": "white",
             "startlinecolor": "#2a3f5f"
            },
            "type": "carpet"
           }
          ],
          "choropleth": [
           {
            "colorbar": {
             "outlinewidth": 0,
             "ticks": ""
            },
            "type": "choropleth"
           }
          ],
          "contour": [
           {
            "colorbar": {
             "outlinewidth": 0,
             "ticks": ""
            },
            "colorscale": [
             [
              0,
              "#0d0887"
             ],
             [
              0.1111111111111111,
              "#46039f"
             ],
             [
              0.2222222222222222,
              "#7201a8"
             ],
             [
              0.3333333333333333,
              "#9c179e"
             ],
             [
              0.4444444444444444,
              "#bd3786"
             ],
             [
              0.5555555555555556,
              "#d8576b"
             ],
             [
              0.6666666666666666,
              "#ed7953"
             ],
             [
              0.7777777777777778,
              "#fb9f3a"
             ],
             [
              0.8888888888888888,
              "#fdca26"
             ],
             [
              1,
              "#f0f921"
             ]
            ],
            "type": "contour"
           }
          ],
          "contourcarpet": [
           {
            "colorbar": {
             "outlinewidth": 0,
             "ticks": ""
            },
            "type": "contourcarpet"
           }
          ],
          "heatmap": [
           {
            "colorbar": {
             "outlinewidth": 0,
             "ticks": ""
            },
            "colorscale": [
             [
              0,
              "#0d0887"
             ],
             [
              0.1111111111111111,
              "#46039f"
             ],
             [
              0.2222222222222222,
              "#7201a8"
             ],
             [
              0.3333333333333333,
              "#9c179e"
             ],
             [
              0.4444444444444444,
              "#bd3786"
             ],
             [
              0.5555555555555556,
              "#d8576b"
             ],
             [
              0.6666666666666666,
              "#ed7953"
             ],
             [
              0.7777777777777778,
              "#fb9f3a"
             ],
             [
              0.8888888888888888,
              "#fdca26"
             ],
             [
              1,
              "#f0f921"
             ]
            ],
            "type": "heatmap"
           }
          ],
          "heatmapgl": [
           {
            "colorbar": {
             "outlinewidth": 0,
             "ticks": ""
            },
            "colorscale": [
             [
              0,
              "#0d0887"
             ],
             [
              0.1111111111111111,
              "#46039f"
             ],
             [
              0.2222222222222222,
              "#7201a8"
             ],
             [
              0.3333333333333333,
              "#9c179e"
             ],
             [
              0.4444444444444444,
              "#bd3786"
             ],
             [
              0.5555555555555556,
              "#d8576b"
             ],
             [
              0.6666666666666666,
              "#ed7953"
             ],
             [
              0.7777777777777778,
              "#fb9f3a"
             ],
             [
              0.8888888888888888,
              "#fdca26"
             ],
             [
              1,
              "#f0f921"
             ]
            ],
            "type": "heatmapgl"
           }
          ],
          "histogram": [
           {
            "marker": {
             "colorbar": {
              "outlinewidth": 0,
              "ticks": ""
             }
            },
            "type": "histogram"
           }
          ],
          "histogram2d": [
           {
            "colorbar": {
             "outlinewidth": 0,
             "ticks": ""
            },
            "colorscale": [
             [
              0,
              "#0d0887"
             ],
             [
              0.1111111111111111,
              "#46039f"
             ],
             [
              0.2222222222222222,
              "#7201a8"
             ],
             [
              0.3333333333333333,
              "#9c179e"
             ],
             [
              0.4444444444444444,
              "#bd3786"
             ],
             [
              0.5555555555555556,
              "#d8576b"
             ],
             [
              0.6666666666666666,
              "#ed7953"
             ],
             [
              0.7777777777777778,
              "#fb9f3a"
             ],
             [
              0.8888888888888888,
              "#fdca26"
             ],
             [
              1,
              "#f0f921"
             ]
            ],
            "type": "histogram2d"
           }
          ],
          "histogram2dcontour": [
           {
            "colorbar": {
             "outlinewidth": 0,
             "ticks": ""
            },
            "colorscale": [
             [
              0,
              "#0d0887"
             ],
             [
              0.1111111111111111,
              "#46039f"
             ],
             [
              0.2222222222222222,
              "#7201a8"
             ],
             [
              0.3333333333333333,
              "#9c179e"
             ],
             [
              0.4444444444444444,
              "#bd3786"
             ],
             [
              0.5555555555555556,
              "#d8576b"
             ],
             [
              0.6666666666666666,
              "#ed7953"
             ],
             [
              0.7777777777777778,
              "#fb9f3a"
             ],
             [
              0.8888888888888888,
              "#fdca26"
             ],
             [
              1,
              "#f0f921"
             ]
            ],
            "type": "histogram2dcontour"
           }
          ],
          "mesh3d": [
           {
            "colorbar": {
             "outlinewidth": 0,
             "ticks": ""
            },
            "type": "mesh3d"
           }
          ],
          "parcoords": [
           {
            "line": {
             "colorbar": {
              "outlinewidth": 0,
              "ticks": ""
             }
            },
            "type": "parcoords"
           }
          ],
          "pie": [
           {
            "automargin": true,
            "type": "pie"
           }
          ],
          "scatter": [
           {
            "marker": {
             "colorbar": {
              "outlinewidth": 0,
              "ticks": ""
             }
            },
            "type": "scatter"
           }
          ],
          "scatter3d": [
           {
            "line": {
             "colorbar": {
              "outlinewidth": 0,
              "ticks": ""
             }
            },
            "marker": {
             "colorbar": {
              "outlinewidth": 0,
              "ticks": ""
             }
            },
            "type": "scatter3d"
           }
          ],
          "scattercarpet": [
           {
            "marker": {
             "colorbar": {
              "outlinewidth": 0,
              "ticks": ""
             }
            },
            "type": "scattercarpet"
           }
          ],
          "scattergeo": [
           {
            "marker": {
             "colorbar": {
              "outlinewidth": 0,
              "ticks": ""
             }
            },
            "type": "scattergeo"
           }
          ],
          "scattergl": [
           {
            "marker": {
             "colorbar": {
              "outlinewidth": 0,
              "ticks": ""
             }
            },
            "type": "scattergl"
           }
          ],
          "scattermapbox": [
           {
            "marker": {
             "colorbar": {
              "outlinewidth": 0,
              "ticks": ""
             }
            },
            "type": "scattermapbox"
           }
          ],
          "scatterpolar": [
           {
            "marker": {
             "colorbar": {
              "outlinewidth": 0,
              "ticks": ""
             }
            },
            "type": "scatterpolar"
           }
          ],
          "scatterpolargl": [
           {
            "marker": {
             "colorbar": {
              "outlinewidth": 0,
              "ticks": ""
             }
            },
            "type": "scatterpolargl"
           }
          ],
          "scatterternary": [
           {
            "marker": {
             "colorbar": {
              "outlinewidth": 0,
              "ticks": ""
             }
            },
            "type": "scatterternary"
           }
          ],
          "surface": [
           {
            "colorbar": {
             "outlinewidth": 0,
             "ticks": ""
            },
            "colorscale": [
             [
              0,
              "#0d0887"
             ],
             [
              0.1111111111111111,
              "#46039f"
             ],
             [
              0.2222222222222222,
              "#7201a8"
             ],
             [
              0.3333333333333333,
              "#9c179e"
             ],
             [
              0.4444444444444444,
              "#bd3786"
             ],
             [
              0.5555555555555556,
              "#d8576b"
             ],
             [
              0.6666666666666666,
              "#ed7953"
             ],
             [
              0.7777777777777778,
              "#fb9f3a"
             ],
             [
              0.8888888888888888,
              "#fdca26"
             ],
             [
              1,
              "#f0f921"
             ]
            ],
            "type": "surface"
           }
          ],
          "table": [
           {
            "cells": {
             "fill": {
              "color": "#EBF0F8"
             },
             "line": {
              "color": "white"
             }
            },
            "header": {
             "fill": {
              "color": "#C8D4E3"
             },
             "line": {
              "color": "white"
             }
            },
            "type": "table"
           }
          ]
         },
         "layout": {
          "annotationdefaults": {
           "arrowcolor": "#2a3f5f",
           "arrowhead": 0,
           "arrowwidth": 1
          },
          "coloraxis": {
           "colorbar": {
            "outlinewidth": 0,
            "ticks": ""
           }
          },
          "colorscale": {
           "diverging": [
            [
             0,
             "#8e0152"
            ],
            [
             0.1,
             "#c51b7d"
            ],
            [
             0.2,
             "#de77ae"
            ],
            [
             0.3,
             "#f1b6da"
            ],
            [
             0.4,
             "#fde0ef"
            ],
            [
             0.5,
             "#f7f7f7"
            ],
            [
             0.6,
             "#e6f5d0"
            ],
            [
             0.7,
             "#b8e186"
            ],
            [
             0.8,
             "#7fbc41"
            ],
            [
             0.9,
             "#4d9221"
            ],
            [
             1,
             "#276419"
            ]
           ],
           "sequential": [
            [
             0,
             "#0d0887"
            ],
            [
             0.1111111111111111,
             "#46039f"
            ],
            [
             0.2222222222222222,
             "#7201a8"
            ],
            [
             0.3333333333333333,
             "#9c179e"
            ],
            [
             0.4444444444444444,
             "#bd3786"
            ],
            [
             0.5555555555555556,
             "#d8576b"
            ],
            [
             0.6666666666666666,
             "#ed7953"
            ],
            [
             0.7777777777777778,
             "#fb9f3a"
            ],
            [
             0.8888888888888888,
             "#fdca26"
            ],
            [
             1,
             "#f0f921"
            ]
           ],
           "sequentialminus": [
            [
             0,
             "#0d0887"
            ],
            [
             0.1111111111111111,
             "#46039f"
            ],
            [
             0.2222222222222222,
             "#7201a8"
            ],
            [
             0.3333333333333333,
             "#9c179e"
            ],
            [
             0.4444444444444444,
             "#bd3786"
            ],
            [
             0.5555555555555556,
             "#d8576b"
            ],
            [
             0.6666666666666666,
             "#ed7953"
            ],
            [
             0.7777777777777778,
             "#fb9f3a"
            ],
            [
             0.8888888888888888,
             "#fdca26"
            ],
            [
             1,
             "#f0f921"
            ]
           ]
          },
          "colorway": [
           "#636efa",
           "#EF553B",
           "#00cc96",
           "#ab63fa",
           "#FFA15A",
           "#19d3f3",
           "#FF6692",
           "#B6E880",
           "#FF97FF",
           "#FECB52"
          ],
          "font": {
           "color": "#2a3f5f"
          },
          "geo": {
           "bgcolor": "white",
           "lakecolor": "white",
           "landcolor": "#E5ECF6",
           "showlakes": true,
           "showland": true,
           "subunitcolor": "white"
          },
          "hoverlabel": {
           "align": "left"
          },
          "hovermode": "closest",
          "mapbox": {
           "style": "light"
          },
          "paper_bgcolor": "white",
          "plot_bgcolor": "#E5ECF6",
          "polar": {
           "angularaxis": {
            "gridcolor": "white",
            "linecolor": "white",
            "ticks": ""
           },
           "bgcolor": "#E5ECF6",
           "radialaxis": {
            "gridcolor": "white",
            "linecolor": "white",
            "ticks": ""
           }
          },
          "scene": {
           "xaxis": {
            "backgroundcolor": "#E5ECF6",
            "gridcolor": "white",
            "gridwidth": 2,
            "linecolor": "white",
            "showbackground": true,
            "ticks": "",
            "zerolinecolor": "white"
           },
           "yaxis": {
            "backgroundcolor": "#E5ECF6",
            "gridcolor": "white",
            "gridwidth": 2,
            "linecolor": "white",
            "showbackground": true,
            "ticks": "",
            "zerolinecolor": "white"
           },
           "zaxis": {
            "backgroundcolor": "#E5ECF6",
            "gridcolor": "white",
            "gridwidth": 2,
            "linecolor": "white",
            "showbackground": true,
            "ticks": "",
            "zerolinecolor": "white"
           }
          },
          "shapedefaults": {
           "line": {
            "color": "#2a3f5f"
           }
          },
          "ternary": {
           "aaxis": {
            "gridcolor": "white",
            "linecolor": "white",
            "ticks": ""
           },
           "baxis": {
            "gridcolor": "white",
            "linecolor": "white",
            "ticks": ""
           },
           "bgcolor": "#E5ECF6",
           "caxis": {
            "gridcolor": "white",
            "linecolor": "white",
            "ticks": ""
           }
          },
          "title": {
           "x": 0.05
          },
          "xaxis": {
           "automargin": true,
           "gridcolor": "white",
           "linecolor": "white",
           "ticks": "",
           "title": {
            "standoff": 15
           },
           "zerolinecolor": "white",
           "zerolinewidth": 2
          },
          "yaxis": {
           "automargin": true,
           "gridcolor": "white",
           "linecolor": "white",
           "ticks": "",
           "title": {
            "standoff": 15
           },
           "zerolinecolor": "white",
           "zerolinewidth": 2
          }
         }
        },
        "title": {
         "font": {
          "color": "#4D5663"
         },
         "text": "Word_count distribution"
        },
        "xaxis": {
         "gridcolor": "#E1E5ED",
         "showgrid": true,
         "tickfont": {
          "color": "#4D5663"
         },
         "title": {
          "font": {
           "color": "#4D5663"
          },
          "text": "word_count"
         },
         "zerolinecolor": "#E1E5ED"
        },
        "yaxis": {
         "gridcolor": "#E1E5ED",
         "showgrid": true,
         "tickfont": {
          "color": "#4D5663"
         },
         "title": {
          "font": {
           "color": "#4D5663"
          },
          "text": "Count"
         },
         "zerolinecolor": "#E1E5ED"
        }
       }
      },
      "text/html": [
       "<div>\n",
       "        \n",
       "        \n",
       "            <div id=\"fa9d62fd-9fa6-47c1-abc4-52cce4671233\" class=\"plotly-graph-div\" style=\"height:525px; width:100%;\"></div>\n",
       "            <script type=\"text/javascript\">\n",
       "                require([\"plotly\"], function(Plotly) {\n",
       "                    window.PLOTLYENV=window.PLOTLYENV || {};\n",
       "                    window.PLOTLYENV.BASE_URL='https://plot.ly';\n",
       "                    \n",
       "                if (document.getElementById(\"fa9d62fd-9fa6-47c1-abc4-52cce4671233\")) {\n",
       "                    Plotly.newPlot(\n",
       "                        'fa9d62fd-9fa6-47c1-abc4-52cce4671233',\n",
       "                        [{\"histfunc\": \"count\", \"histnorm\": \"\", \"marker\": {\"color\": \"rgba(255, 153, 51, 1.0)\", \"line\": {\"color\": \"#4D5663\", \"width\": 1.3}}, \"name\": \"word_count\", \"opacity\": 0.8, \"orientation\": \"v\", \"type\": \"histogram\", \"x\": [73, 253, 73, 42, 364, 863, 41, 456, 134, 125, 73, 253, 73, 42, 364, 863, 41, 456, 134, 125, 27, 230, 107, 21, 65, 38, 215, 4, 102, 108, 167, 203, 88, 133, 100, 43, 69, 173, 108, 210, 235, 117, 180, 65, 105, 129, 120, 125, 120, 116, 39, 93, 135, 161, 85, 52, 108, 59, 192, 110, 74, 89, 113, 117, 155, 166, 71, 62, 121, 147, 109, 58, 189, 137, 126, 68, 90, 81, 89, 76, 63, 79, 97, 94, 44, 72, 81, 70, 111, 104, 103, 44, 57, 92, 119, 100, 106, 104, 72, 86, 59, 74, 151, 50, 72, 62, 83, 59, 66, 124, 72, 63, 60, 69, 130, 32, 83, 116, 230, 116, 71, 66, 87, 244, 77, 56, 50, 86, 51, 55, 139, 70, 73, 181, 61, 46, 52, 61, 171, 57, 149, 79, 137, 88, 59, 58, 129, 71, 72, 194, 66, 96, 95, 32, 59, 169, 52, 60, 250, 43, 100, 105, 56, 68, 82, 121, 240, 52, 168, 127, 104, 137, 99, 71, 44, 76, 65, 67, 39, 65, 183, 74, 60, 82, 74, 122, 103, 89, 59, 101, 85, 30, 47, 69, 118, 66, 86, 131, 38, 48, 64, 53, 61, 62, 101, 47, 53, 56, 123, 95, 90, 57, 95, 44, 52, 76, 96, 50, 13, 30, 71, 17, 117, 86, 55, 52, 71, 90, 87, 56, 48, 54, 65, 98, 113, 108, 86, 55, 89, 82, 48, 41, 57, 69, 100, 86, 44, 85, 85, 42, 50, 89, 42, 69, 40, 100, 57, 44, 36, 86, 92, 57, 50, 83, 59, 94, 66, 49, 38, 78, 60, 38, 48, 58, 63, 73, 86, 42, 82, 60, 91, 52, 87, 47, 64, 84, 70, 38, 51, 37, 37, 103, 50, 64, 58, 40, 39, 76, 36, 74, 69, 53, 64, 72, 21, 66, 62, 38, 24, 63, 25, 51, 67, 58, 43, 77, 53, 33, 73, 80, 88, 39, 42, 30, 34, 28, 47, 56, 56, 44, 85, 39, 44, 76, 62, 37, 50, 23, 57, 53, 41, 80, 55, 67, 82, 22, 85, 82, 100, 40, 43, 36, 53, 65, 86, 47, 34, 87, 73, 63, 65, 39, 40, 33, 47, 76, 36, 82, 29, 32, 59, 94, 61, 79, 40, 39, 56, 63, 74, 33, 55, 63, 63, 42, 63, 71, 51, 67, 38, 58, 61, 43, 41, 75, 45, 70, 60, 54, 51, 45, 69, 69, 30, 53, 20, 25, 11, 23, 72, 35, 72, 41, 68, 33, 42, 71, 28, 67, 53, 42, 25, 25, 54, 16, 34, 28, 28, 64, 49, 75, 27, 46, 68, 25, 63, 58, 31, 53, 49, 68, 42, 29, 72, 33, 39, 48, 75, 51, 41, 69, 45, 67, 58, 53, 36, 57, 42, 58, 31, 62, 64, 44, 66, 72, 80, 42, 34, 28, 27, 31, 54, 61, 40, 54, 28, 29, 40, 64, 59, 51, 39, 38, 58, 51, 33, 30, 24, 45, 47, 31, 27, 37, 71, 33, 57, 54, 68, 65, 12, 44, 32, 62, 59, 24, 40, 60, 59, 28, 63, 58, 32, 65, 36, 49, 24, 49, 32, 47, 54, 58, 52, 45, 36, 56, 36, 58, 58, 58, 49, 28, 31, 60, 38, 30, 41, 60, 33, 35, 66, 25, 49, 51, 22, 22, 60, 48, 67, 29, 60, 12, 48, 53, 45, 26, 32, 38, 55, 54, 34, 43, 47, 15, 50, 30, 59, 23, 47, 36, 25, 4, 35, 41, 18, 40, 4, 29, 33, 49, 39, 24, 47, 79, 44, 40, 45, 55, 54, 67, 31, 63, 49, 24, 33, 45, 59, 74, 40, 31, 60, 52, 30, 44, 28, 64, 35, 36, 48, 25, 46, 31, 72, 36, 30, 22, 53, 30, 55, 16, 35, 41, 31, 48, 40, 32, 66, 47, 23, 15, 57, 30, 38, 37, 32, 29, 23, 24, 50, 43, 50, 18, 19, 25, 63, 5, 31, 29, 66, 32, 51, 26, 40, 49, 37, 21, 66, 35, 21, 15, 34, 49, 35, 39, 20, 65, 48, 3, 53, 24, 30, 15, 34, 35, 48, 19, 32, 46, 49, 32, 40, 29, 32, 35, 24, 22, 56, 45, 30, 53, 15, 35, 43, 15, 16, 43, 45, 18, 41, 59, 22, 53, 28, 12, 22, 50, 26, 45, 26, 36, 18, 22, 33, 47, 46, 20, 50, 36, 24, 55, 33, 27, 28, 51, 26, 21, 36, 48, 34, 24, 32, 24, 36, 36, 26, 34, 39, 19, 46, 30, 50, 6, 28, 33, 18, 37, 39, 38, 31, 41, 41, 10, 34, 21, 54, 41, 38, 31, 27, 48, 20, 32, 31, 22, 33, 28, 32, 21, 55, 46, 26, 28, 42, 49, 29, 19, 37, 44, 16, 38, 27, 27, 63, 37, 46, 41, 25, 14, 57, 20, 31, 14, 38, 40, 27, 53, 23, 2, 42, 43, 27, 15, 24, 32, 24, 17, 47, 25, 26, 46, 45, 23, 17, 38, 48, 28, 27, 13, 41, 34, 16, 37, 29, 10, 20, 17, 11, 21, 8, 23, 38, 17, 11, 17, 11, 22, 10, 21, 24, 34, 24, 26, 50, 27, 16, 19, 24, 33, 19, 33, 36, 31, 31, 27, 36, 28, 23, 18, 16, 22, 45, 42, 35, 41, 29, 28, 25, 39, 19, 13, 48, 35, 15, 34, 27, 48, 20, 29, 13, 21, 41, 49, 21, 11, 12, 11, 16, 43, 16, 37, 35, 23, 36, 30, 43, 37, 16, 25, 19, 29, 27, 36, 46, 47, 39, 24, 21, 24, 38, 41, 34, 18, 40, 20, 45, 43, 36, 12, 29, 28, 33, 34, 1, 41, 11, 33, 37, 12, 15, 30, 10, 51, 42, 36, 14, 50, 30, 41, 15, 36, 30, 30, 40, 27, 7, 29, 12, 17, 50, 14, 44, 20, 20, 44, 24, 8, 31, 38, 32, 39, 51, 48, 24, 10, 15, 21, 18, 19, 29, 11, 24, 28, 14, 39, 20, 35, 26, 31, 44, 14, 40, 35, 34, 19, 10, 18, 44, 34, 18, 33, 9, 38, 11, 11, 32, 29, 28, 10, 49, 26, 40, 8]}],\n",
       "                        {\"barmode\": \"overlay\", \"legend\": {\"bgcolor\": \"#F5F6F9\", \"font\": {\"color\": \"#4D5663\"}}, \"paper_bgcolor\": \"#F5F6F9\", \"plot_bgcolor\": \"#F5F6F9\", \"template\": {\"data\": {\"bar\": [{\"error_x\": {\"color\": \"#2a3f5f\"}, \"error_y\": {\"color\": \"#2a3f5f\"}, \"marker\": {\"line\": {\"color\": \"#E5ECF6\", \"width\": 0.5}}, \"type\": \"bar\"}], \"barpolar\": [{\"marker\": {\"line\": {\"color\": \"#E5ECF6\", \"width\": 0.5}}, \"type\": \"barpolar\"}], \"carpet\": [{\"aaxis\": {\"endlinecolor\": \"#2a3f5f\", \"gridcolor\": \"white\", \"linecolor\": \"white\", \"minorgridcolor\": \"white\", \"startlinecolor\": \"#2a3f5f\"}, \"baxis\": {\"endlinecolor\": \"#2a3f5f\", \"gridcolor\": \"white\", \"linecolor\": \"white\", \"minorgridcolor\": \"white\", \"startlinecolor\": \"#2a3f5f\"}, \"type\": \"carpet\"}], \"choropleth\": [{\"colorbar\": {\"outlinewidth\": 0, \"ticks\": \"\"}, \"type\": \"choropleth\"}], \"contour\": [{\"colorbar\": {\"outlinewidth\": 0, \"ticks\": \"\"}, \"colorscale\": [[0.0, \"#0d0887\"], [0.1111111111111111, \"#46039f\"], [0.2222222222222222, \"#7201a8\"], [0.3333333333333333, \"#9c179e\"], [0.4444444444444444, \"#bd3786\"], [0.5555555555555556, \"#d8576b\"], [0.6666666666666666, \"#ed7953\"], [0.7777777777777778, \"#fb9f3a\"], [0.8888888888888888, \"#fdca26\"], [1.0, \"#f0f921\"]], \"type\": \"contour\"}], \"contourcarpet\": [{\"colorbar\": {\"outlinewidth\": 0, \"ticks\": \"\"}, \"type\": \"contourcarpet\"}], \"heatmap\": [{\"colorbar\": {\"outlinewidth\": 0, \"ticks\": \"\"}, \"colorscale\": [[0.0, \"#0d0887\"], [0.1111111111111111, \"#46039f\"], [0.2222222222222222, \"#7201a8\"], [0.3333333333333333, \"#9c179e\"], [0.4444444444444444, \"#bd3786\"], [0.5555555555555556, \"#d8576b\"], [0.6666666666666666, \"#ed7953\"], [0.7777777777777778, \"#fb9f3a\"], [0.8888888888888888, \"#fdca26\"], [1.0, \"#f0f921\"]], \"type\": \"heatmap\"}], \"heatmapgl\": [{\"colorbar\": {\"outlinewidth\": 0, \"ticks\": \"\"}, \"colorscale\": [[0.0, \"#0d0887\"], [0.1111111111111111, \"#46039f\"], [0.2222222222222222, \"#7201a8\"], [0.3333333333333333, \"#9c179e\"], [0.4444444444444444, \"#bd3786\"], [0.5555555555555556, \"#d8576b\"], [0.6666666666666666, \"#ed7953\"], [0.7777777777777778, \"#fb9f3a\"], [0.8888888888888888, \"#fdca26\"], [1.0, \"#f0f921\"]], \"type\": \"heatmapgl\"}], \"histogram\": [{\"marker\": {\"colorbar\": {\"outlinewidth\": 0, \"ticks\": \"\"}}, \"type\": \"histogram\"}], \"histogram2d\": [{\"colorbar\": {\"outlinewidth\": 0, \"ticks\": \"\"}, \"colorscale\": [[0.0, \"#0d0887\"], [0.1111111111111111, \"#46039f\"], [0.2222222222222222, \"#7201a8\"], [0.3333333333333333, \"#9c179e\"], [0.4444444444444444, \"#bd3786\"], [0.5555555555555556, \"#d8576b\"], [0.6666666666666666, \"#ed7953\"], [0.7777777777777778, \"#fb9f3a\"], [0.8888888888888888, \"#fdca26\"], [1.0, \"#f0f921\"]], \"type\": \"histogram2d\"}], \"histogram2dcontour\": [{\"colorbar\": {\"outlinewidth\": 0, \"ticks\": \"\"}, \"colorscale\": [[0.0, \"#0d0887\"], [0.1111111111111111, \"#46039f\"], [0.2222222222222222, \"#7201a8\"], [0.3333333333333333, \"#9c179e\"], [0.4444444444444444, \"#bd3786\"], [0.5555555555555556, \"#d8576b\"], [0.6666666666666666, \"#ed7953\"], [0.7777777777777778, \"#fb9f3a\"], [0.8888888888888888, \"#fdca26\"], [1.0, \"#f0f921\"]], \"type\": \"histogram2dcontour\"}], \"mesh3d\": [{\"colorbar\": {\"outlinewidth\": 0, \"ticks\": \"\"}, \"type\": \"mesh3d\"}], \"parcoords\": [{\"line\": {\"colorbar\": {\"outlinewidth\": 0, \"ticks\": \"\"}}, \"type\": \"parcoords\"}], \"pie\": [{\"automargin\": true, \"type\": \"pie\"}], \"scatter\": [{\"marker\": {\"colorbar\": {\"outlinewidth\": 0, \"ticks\": \"\"}}, \"type\": \"scatter\"}], \"scatter3d\": [{\"line\": {\"colorbar\": {\"outlinewidth\": 0, \"ticks\": \"\"}}, \"marker\": {\"colorbar\": {\"outlinewidth\": 0, \"ticks\": \"\"}}, \"type\": \"scatter3d\"}], \"scattercarpet\": [{\"marker\": {\"colorbar\": {\"outlinewidth\": 0, \"ticks\": \"\"}}, \"type\": \"scattercarpet\"}], \"scattergeo\": [{\"marker\": {\"colorbar\": {\"outlinewidth\": 0, \"ticks\": \"\"}}, \"type\": \"scattergeo\"}], \"scattergl\": [{\"marker\": {\"colorbar\": {\"outlinewidth\": 0, \"ticks\": \"\"}}, \"type\": \"scattergl\"}], \"scattermapbox\": [{\"marker\": {\"colorbar\": {\"outlinewidth\": 0, \"ticks\": \"\"}}, \"type\": \"scattermapbox\"}], \"scatterpolar\": [{\"marker\": {\"colorbar\": {\"outlinewidth\": 0, \"ticks\": \"\"}}, \"type\": \"scatterpolar\"}], \"scatterpolargl\": [{\"marker\": {\"colorbar\": {\"outlinewidth\": 0, \"ticks\": \"\"}}, \"type\": \"scatterpolargl\"}], \"scatterternary\": [{\"marker\": {\"colorbar\": {\"outlinewidth\": 0, \"ticks\": \"\"}}, \"type\": \"scatterternary\"}], \"surface\": [{\"colorbar\": {\"outlinewidth\": 0, \"ticks\": \"\"}, \"colorscale\": [[0.0, \"#0d0887\"], [0.1111111111111111, \"#46039f\"], [0.2222222222222222, \"#7201a8\"], [0.3333333333333333, \"#9c179e\"], [0.4444444444444444, \"#bd3786\"], [0.5555555555555556, \"#d8576b\"], [0.6666666666666666, \"#ed7953\"], [0.7777777777777778, \"#fb9f3a\"], [0.8888888888888888, \"#fdca26\"], [1.0, \"#f0f921\"]], \"type\": \"surface\"}], \"table\": [{\"cells\": {\"fill\": {\"color\": \"#EBF0F8\"}, \"line\": {\"color\": \"white\"}}, \"header\": {\"fill\": {\"color\": \"#C8D4E3\"}, \"line\": {\"color\": \"white\"}}, \"type\": \"table\"}]}, \"layout\": {\"annotationdefaults\": {\"arrowcolor\": \"#2a3f5f\", \"arrowhead\": 0, \"arrowwidth\": 1}, \"coloraxis\": {\"colorbar\": {\"outlinewidth\": 0, \"ticks\": \"\"}}, \"colorscale\": {\"diverging\": [[0, \"#8e0152\"], [0.1, \"#c51b7d\"], [0.2, \"#de77ae\"], [0.3, \"#f1b6da\"], [0.4, \"#fde0ef\"], [0.5, \"#f7f7f7\"], [0.6, \"#e6f5d0\"], [0.7, \"#b8e186\"], [0.8, \"#7fbc41\"], [0.9, \"#4d9221\"], [1, \"#276419\"]], \"sequential\": [[0.0, \"#0d0887\"], [0.1111111111111111, \"#46039f\"], [0.2222222222222222, \"#7201a8\"], [0.3333333333333333, \"#9c179e\"], [0.4444444444444444, \"#bd3786\"], [0.5555555555555556, \"#d8576b\"], [0.6666666666666666, \"#ed7953\"], [0.7777777777777778, \"#fb9f3a\"], [0.8888888888888888, \"#fdca26\"], [1.0, \"#f0f921\"]], \"sequentialminus\": [[0.0, \"#0d0887\"], [0.1111111111111111, \"#46039f\"], [0.2222222222222222, \"#7201a8\"], [0.3333333333333333, \"#9c179e\"], [0.4444444444444444, \"#bd3786\"], [0.5555555555555556, \"#d8576b\"], [0.6666666666666666, \"#ed7953\"], [0.7777777777777778, \"#fb9f3a\"], [0.8888888888888888, \"#fdca26\"], [1.0, \"#f0f921\"]]}, \"colorway\": [\"#636efa\", \"#EF553B\", \"#00cc96\", \"#ab63fa\", \"#FFA15A\", \"#19d3f3\", \"#FF6692\", \"#B6E880\", \"#FF97FF\", \"#FECB52\"], \"font\": {\"color\": \"#2a3f5f\"}, \"geo\": {\"bgcolor\": \"white\", \"lakecolor\": \"white\", \"landcolor\": \"#E5ECF6\", \"showlakes\": true, \"showland\": true, \"subunitcolor\": \"white\"}, \"hoverlabel\": {\"align\": \"left\"}, \"hovermode\": \"closest\", \"mapbox\": {\"style\": \"light\"}, \"paper_bgcolor\": \"white\", \"plot_bgcolor\": \"#E5ECF6\", \"polar\": {\"angularaxis\": {\"gridcolor\": \"white\", \"linecolor\": \"white\", \"ticks\": \"\"}, \"bgcolor\": \"#E5ECF6\", \"radialaxis\": {\"gridcolor\": \"white\", \"linecolor\": \"white\", \"ticks\": \"\"}}, \"scene\": {\"xaxis\": {\"backgroundcolor\": \"#E5ECF6\", \"gridcolor\": \"white\", \"gridwidth\": 2, \"linecolor\": \"white\", \"showbackground\": true, \"ticks\": \"\", \"zerolinecolor\": \"white\"}, \"yaxis\": {\"backgroundcolor\": \"#E5ECF6\", \"gridcolor\": \"white\", \"gridwidth\": 2, \"linecolor\": \"white\", \"showbackground\": true, \"ticks\": \"\", \"zerolinecolor\": \"white\"}, \"zaxis\": {\"backgroundcolor\": \"#E5ECF6\", \"gridcolor\": \"white\", \"gridwidth\": 2, \"linecolor\": \"white\", \"showbackground\": true, \"ticks\": \"\", \"zerolinecolor\": \"white\"}}, \"shapedefaults\": {\"line\": {\"color\": \"#2a3f5f\"}}, \"ternary\": {\"aaxis\": {\"gridcolor\": \"white\", \"linecolor\": \"white\", \"ticks\": \"\"}, \"baxis\": {\"gridcolor\": \"white\", \"linecolor\": \"white\", \"ticks\": \"\"}, \"bgcolor\": \"#E5ECF6\", \"caxis\": {\"gridcolor\": \"white\", \"linecolor\": \"white\", \"ticks\": \"\"}}, \"title\": {\"x\": 0.05}, \"xaxis\": {\"automargin\": true, \"gridcolor\": \"white\", \"linecolor\": \"white\", \"ticks\": \"\", \"title\": {\"standoff\": 15}, \"zerolinecolor\": \"white\", \"zerolinewidth\": 2}, \"yaxis\": {\"automargin\": true, \"gridcolor\": \"white\", \"linecolor\": \"white\", \"ticks\": \"\", \"title\": {\"standoff\": 15}, \"zerolinecolor\": \"white\", \"zerolinewidth\": 2}}}, \"title\": {\"font\": {\"color\": \"#4D5663\"}, \"text\": \"Word_count distribution\"}, \"xaxis\": {\"gridcolor\": \"#E1E5ED\", \"showgrid\": true, \"tickfont\": {\"color\": \"#4D5663\"}, \"title\": {\"font\": {\"color\": \"#4D5663\"}, \"text\": \"word_count\"}, \"zerolinecolor\": \"#E1E5ED\"}, \"yaxis\": {\"gridcolor\": \"#E1E5ED\", \"showgrid\": true, \"tickfont\": {\"color\": \"#4D5663\"}, \"title\": {\"font\": {\"color\": \"#4D5663\"}, \"text\": \"Count\"}, \"zerolinecolor\": \"#E1E5ED\"}},\n",
       "                        {\"showLink\": true, \"linkText\": \"Export to plot.ly\", \"plotlyServerURL\": \"https://plot.ly\", \"responsive\": true}\n",
       "                    ).then(function(){\n",
       "                            \n",
       "var gd = document.getElementById('fa9d62fd-9fa6-47c1-abc4-52cce4671233');\n",
       "var x = new MutationObserver(function (mutations, observer) {{\n",
       "        var display = window.getComputedStyle(gd).display;\n",
       "        if (!display || display === 'none') {{\n",
       "            console.log([gd, 'removed!']);\n",
       "            Plotly.purge(gd);\n",
       "            observer.disconnect();\n",
       "        }}\n",
       "}});\n",
       "\n",
       "// Listen for the removal of the full notebook cells\n",
       "var notebookContainer = gd.closest('#notebook-container');\n",
       "if (notebookContainer) {{\n",
       "    x.observe(notebookContainer, {childList: true});\n",
       "}}\n",
       "\n",
       "// Listen for the clearing of the current output cell\n",
       "var outputEl = gd.closest('.output');\n",
       "if (outputEl) {{\n",
       "    x.observe(outputEl, {childList: true});\n",
       "}}\n",
       "\n",
       "                        })\n",
       "                };\n",
       "                });\n",
       "            </script>\n",
       "        </div>"
      ]
     },
     "metadata": {},
     "output_type": "display_data"
    }
   ],
   "source": [
    "df['word_count'].iplot(kind='hist',xTitle=\"word_count\",yTitle=\"Count\",title=\"Word_count distribution\") "
   ]
  },
  {
   "cell_type": "markdown",
   "metadata": {},
   "source": [
    "### <font> <font color=\"magenta\" > Insight <font>\n",
    "    \n",
    "    observed that the most of the reviews have 1-50 words\n",
    "    \n",
    "    only few reviews are of length from 100 to 800 words (Long reviews)"
   ]
  },
  {
   "cell_type": "code",
   "execution_count": 22,
   "metadata": {},
   "outputs": [
    {
     "data": {
      "application/vnd.plotly.v1+json": {
       "config": {
        "linkText": "Export to plot.ly",
        "plotlyServerURL": "https://plot.ly",
        "showLink": true
       },
       "data": [
        {
         "histfunc": "count",
         "histnorm": "",
         "marker": {
          "color": "rgba(255, 153, 51, 1.0)",
          "line": {
           "color": "#4D5663",
           "width": 1.3
          }
         },
         "name": "avg_word_len",
         "opacity": 0.8,
         "orientation": "v",
         "type": "histogram",
         "x": [
          4.410958904109589,
          4.909090909090909,
          4.4520547945205475,
          4.523809523809524,
          4.0576923076923075,
          4.669756662804171,
          4.439024390243903,
          4.256578947368421,
          4.58955223880597,
          4.48,
          4.410958904109589,
          4.909090909090909,
          4.4520547945205475,
          4.523809523809524,
          4.0576923076923075,
          4.669756662804171,
          4.439024390243903,
          4.256578947368421,
          4.58955223880597,
          4.48,
          4.2592592592592595,
          4.8,
          4.4766355140186915,
          4.523809523809524,
          4.523076923076923,
          4.447368421052632,
          4.065116279069767,
          7.5,
          4.186274509803922,
          5.398148148148148,
          4.736526946107785,
          4.665024630541872,
          4.3977272727272725,
          4.413533834586466,
          4.34,
          5.209302325581396,
          4.492753623188406,
          4.606936416184971,
          4.666666666666667,
          4.40952380952381,
          4.23404255319149,
          4.615384615384615,
          4.1722222222222225,
          5.3076923076923075,
          4.580952380952381,
          5.457364341085271,
          4.55,
          4.336,
          4.625,
          4.25,
          5.769230769230769,
          4.301075268817204,
          4.8,
          4.6894409937888195,
          4.2,
          4.3076923076923075,
          4.842592592592593,
          4.033898305084746,
          4.666666666666667,
          4.781818181818182,
          4.77027027027027,
          4.820224719101123,
          4.991150442477876,
          4.803418803418803,
          4.367741935483871,
          3.9939759036144578,
          4.47887323943662,
          4.612903225806452,
          4.586776859504132,
          4.727891156462585,
          3.9541284403669725,
          4.5344827586206895,
          4.587301587301587,
          4.2846715328467155,
          4.238095238095238,
          4.617647058823529,
          4.022222222222222,
          4.9753086419753085,
          4.640449438202247,
          4.723684210526316,
          4.984126984126984,
          4.531645569620253,
          4.185567010309279,
          3.978723404255319,
          4.863636363636363,
          4.416666666666667,
          4.419753086419753,
          4.928571428571429,
          4.612612612612613,
          4.4326923076923075,
          4.728155339805825,
          4.454545454545454,
          4.824561403508772,
          4.3478260869565215,
          5.151260504201681,
          4.93,
          4.80188679245283,
          4.230769230769231,
          4.666666666666667,
          4.174418604651163,
          4.406779661016949,
          4.756756756756757,
          4.635761589403973,
          4.48,
          4.569444444444445,
          4.612903225806452,
          3.819277108433735,
          4.389830508474576,
          4.454545454545454,
          4.491935483870968,
          4.708333333333333,
          4.73015873015873,
          4.233333333333333,
          4.391304347826087,
          4.3538461538461535,
          5.34375,
          4.349397590361446,
          4.603448275862069,
          5.560869565217391,
          4.181034482758621,
          4.985915492957746,
          4.575757575757576,
          4.379310344827586,
          4.282786885245901,
          4.792207792207792,
          4.517857142857143,
          4.02,
          4.465116279069767,
          4.686274509803922,
          4.8545454545454545,
          4.388489208633094,
          4.257142857142857,
          4.945205479452055,
          4.823204419889502,
          4.868852459016393,
          5.086956521739131,
          4.980769230769231,
          4.229508196721311,
          4.502923976608187,
          4.421052631578948,
          4.328859060402684,
          4.6455696202531644,
          4.474452554744525,
          3.715909090909091,
          4.271186440677966,
          4,
          5.449612403100775,
          5.126760563380282,
          4.055555555555555,
          4.530927835051546,
          4.666666666666667,
          4.53125,
          4.157894736842105,
          4.8125,
          4.6440677966101696,
          4.183431952662722,
          4.615384615384615,
          4.466666666666667,
          4.28,
          5.372093023255814,
          4.75,
          4.523809523809524,
          4.732142857142857,
          3.8823529411764706,
          4.7073170731707314,
          4.338842975206612,
          4.391666666666667,
          6.096153846153846,
          4.410714285714286,
          4.15748031496063,
          4.4423076923076925,
          4.306569343065694,
          4.555555555555555,
          4.577464788732394,
          5.2727272727272725,
          4.381578947368421,
          4.3538461538461535,
          5.253731343283582,
          5.0256410256410255,
          4.7846153846153845,
          4.229508196721311,
          3.864864864864865,
          5.216666666666667,
          4.597560975609756,
          4.472972972972973,
          4.459016393442623,
          4.844660194174757,
          4.966292134831461,
          5.033898305084746,
          4.069306930693069,
          5,
          5.333333333333333,
          4.212765957446808,
          4.797101449275362,
          4.805084745762712,
          4.166666666666667,
          4.72093023255814,
          4.442748091603053,
          5.026315789473684,
          4.333333333333333,
          4.703125,
          4.679245283018868,
          4.590163934426229,
          4.790322580645161,
          4.554455445544554,
          4.319148936170213,
          3.7547169811320753,
          4.053571428571429,
          4.349593495934959,
          3.768421052631579,
          4.122222222222222,
          3.8596491228070176,
          4.621052631578947,
          5.4772727272727275,
          4.134615384615385,
          4.973684210526316,
          4.822916666666667,
          3.84,
          5.076923076923077,
          4.3,
          4.323943661971831,
          4.823529411764706,
          4.222222222222222,
          4.27906976744186,
          4.5636363636363635,
          4.846153846153846,
          4.23943661971831,
          4.233333333333333,
          4.850574712643678,
          4.410714285714286,
          5.083333333333333,
          4.444444444444445,
          4.2,
          4.224489795918367,
          4.097345132743363,
          4.324074074074074,
          5.255813953488372,
          4.290909090909091,
          5.033707865168539,
          4.548780487804878,
          3.9375,
          4.804878048780488,
          4.245614035087719,
          4.130434782608695,
          4.4,
          4.651162790697675,
          4.681818181818182,
          4.447058823529412,
          4.211764705882353,
          4.190476190476191,
          4.42,
          3.943820224719101,
          5.166666666666667,
          4.463768115942029,
          5,
          4.14,
          4.491228070175438,
          5.0227272727272725,
          4.333333333333333,
          4.988372093023256,
          4.554347826086956,
          4.456140350877193,
          5.22,
          5.096385542168675,
          4.966101694915254,
          4.308510638297872,
          4.196969696969697,
          4.673469387755102,
          4.7894736842105265,
          4.384615384615385,
          5.033333333333333,
          4.894736842105263,
          4.1875,
          4.775862068965517,
          5.26984126984127,
          4.164383561643835,
          4.4186046511627906,
          4,
          4.621951219512195,
          4.516666666666667,
          4.4945054945054945,
          4.711538461538462,
          4.252873563218391,
          4.723404255319149,
          4.21875,
          4.416666666666667,
          4.871428571428571,
          5.157894736842105,
          5.019607843137255,
          5.162162162162162,
          4.8108108108108105,
          4.184466019417476,
          4.96,
          4.234375,
          4.551724137931035,
          4.75,
          4.846153846153846,
          4.631578947368421,
          5.388888888888889,
          4.418918918918919,
          4.173913043478261,
          4.509433962264151,
          4.296875,
          4.166666666666667,
          4.809523809523809,
          4.787878787878788,
          4.258064516129032,
          4.921052631578948,
          5.166666666666667,
          4.396825396825397,
          5,
          4.607843137254902,
          4.417910447761194,
          4.379310344827586,
          3.9767441860465116,
          4.285714285714286,
          5.320754716981132,
          5.0606060606060606,
          3.5753424657534247,
          4.6,
          4.795454545454546,
          4.435897435897436,
          4.976190476190476,
          5.4,
          4.647058823529412,
          5.571428571428571,
          5.212765957446808,
          4.142857142857143,
          5.892857142857143,
          4.545454545454546,
          4.1647058823529415,
          4.769230769230769,
          4.636363636363637,
          4.552631578947368,
          6,
          5.45945945945946,
          5.06,
          5.782608695652174,
          4.649122807017544,
          4.113207547169812,
          4.390243902439025,
          4.5875,
          4.5636363636363635,
          4.552238805970149,
          4.219512195121951,
          4.363636363636363,
          4.270588235294118,
          3.951219512195122,
          4.09,
          4.4,
          5.046511627906977,
          4.444444444444445,
          4.509433962264151,
          4.415384615384616,
          4.093023255813954,
          4.425531914893617,
          4.411764705882353,
          4.045977011494253,
          4.63013698630137,
          4.063492063492063,
          5.3076923076923075,
          4.615384615384615,
          4.75,
          4.575757575757576,
          4.23404255319149,
          4.2368421052631575,
          4.916666666666667,
          4.195121951219512,
          5,
          4.5,
          4.389830508474576,
          4.382978723404255,
          4.770491803278689,
          4.291139240506329,
          4.125,
          4.897435897435898,
          4.375,
          5.0476190476190474,
          4.418918918918919,
          4.484848484848484,
          4.8545454545454545,
          4.111111111111111,
          5.031746031746032,
          4.5,
          5.190476190476191,
          4.746478873239437,
          4.980392156862745,
          5.059701492537314,
          4.552631578947368,
          4.672413793103448,
          4.868852459016393,
          4.325581395348837,
          4.878048780487805,
          4.466666666666667,
          4.777777777777778,
          4.557142857142857,
          4.566666666666666,
          4.12962962962963,
          4.647058823529412,
          4.4222222222222225,
          5.057971014492754,
          5.3768115942028984,
          4.766666666666667,
          5.490566037735849,
          4.2,
          5.28,
          5.363636363636363,
          5.260869565217392,
          4.583333333333333,
          3.8285714285714287,
          4.333333333333333,
          4.439024390243903,
          4.044117647058823,
          4.666666666666667,
          4.619047619047619,
          4.23943661971831,
          5.464285714285714,
          4.880597014925373,
          4.037735849056604,
          5.738095238095238,
          5.4,
          5.72,
          4.055555555555555,
          4.5,
          4.264705882352941,
          5.321428571428571,
          4.142857142857143,
          4.71875,
          4.979591836734694,
          4.346666666666667,
          5,
          4.065217391304348,
          4.25,
          5.24,
          4.555555555555555,
          4.120689655172414,
          5.064516129032258,
          4.622641509433962,
          4.387755102040816,
          4.455882352941177,
          4.380952380952381,
          3.9310344827586206,
          4.027777777777778,
          4.303030303030303,
          3.948717948717949,
          4.958333333333333,
          4.693333333333333,
          4.117647058823529,
          4.2926829268292686,
          4.449275362318841,
          5.644444444444445,
          4.358208955223881,
          4.810344827586207,
          4.264150943396227,
          4.277777777777778,
          4.508771929824562,
          4.619047619047619,
          5.017241379310345,
          5.064516129032258,
          5.016129032258065,
          4.546875,
          4.613636363636363,
          5.03030303030303,
          4.277777777777778,
          4.05,
          4.619047619047619,
          4.323529411764706,
          5.142857142857143,
          4.518518518518518,
          5.193548387096774,
          4.277777777777778,
          4.704918032786885,
          4.725,
          5.12962962962963,
          4.571428571428571,
          4.448275862068965,
          5.05,
          4.609375,
          4.135593220338983,
          4.1568627450980395,
          5,
          4.7105263157894735,
          4.655172413793103,
          4.431372549019608,
          4.333333333333333,
          4.4,
          5.25,
          4.4222222222222225,
          4.25531914893617,
          4.451612903225806,
          4.962962962962963,
          4.621621621621622,
          3.788732394366197,
          4.424242424242424,
          4.7368421052631575,
          4.5,
          3.9705882352941178,
          4.661538461538462,
          5.166666666666667,
          5.431818181818182,
          3.8125,
          4.403225806451613,
          5.3559322033898304,
          5.541666666666667,
          6,
          4.3,
          4.728813559322034,
          4.5,
          4.333333333333333,
          4.551724137931035,
          4.21875,
          4.507692307692308,
          4.027777777777778,
          4.653061224489796,
          5.458333333333333,
          4.63265306122449,
          4.875,
          4.25531914893617,
          4.12962962962963,
          4.431034482758621,
          4.288461538461538,
          4.377777777777778,
          4.5,
          4.089285714285714,
          4.944444444444445,
          4.862068965517241,
          4.137931034482759,
          4.344827586206897,
          3.9591836734693877,
          4.571428571428571,
          3.870967741935484,
          4.4,
          4.315789473684211,
          4.9,
          4.682926829268292,
          4.816666666666666,
          4.333333333333333,
          4.114285714285714,
          4.090909090909091,
          4.2,
          4.63265306122449,
          5.215686274509804,
          4.090909090909091,
          4.7272727272727275,
          4.633333333333334,
          4.1875,
          3.7611940298507465,
          4.793103448275862,
          4.083333333333333,
          4.333333333333333,
          4.458333333333333,
          5,
          4.955555555555556,
          5.076923076923077,
          4.21875,
          4.578947368421052,
          4.7272727272727275,
          4.648148148148148,
          3.7941176470588234,
          4.209302325581396,
          4.829787234042553,
          6.6,
          4.76,
          4.9,
          4.220338983050848,
          4.3478260869565215,
          5.1063829787234045,
          4.194444444444445,
          4.6,
          6.75,
          4.171428571428572,
          4.390243902439025,
          5.611111111111111,
          4.375,
          10.25,
          4.586206896551724,
          4.03030303030303,
          4.612244897959184,
          5.3076923076923075,
          5.416666666666667,
          4.51063829787234,
          4.189873417721519,
          4.863636363636363,
          4.6,
          4.066666666666666,
          5.054545454545455,
          4.462962962962963,
          4.701492537313433,
          4.580645161290323,
          4.5396825396825395,
          4.183673469387755,
          4.125,
          4.636363636363637,
          4.955555555555556,
          4.322033898305085,
          3.77027027027027,
          5.05,
          4.967741935483871,
          3.7666666666666666,
          4.730769230769231,
          4.533333333333333,
          4.340909090909091,
          4.964285714285714,
          3.9375,
          4.228571428571429,
          4.166666666666667,
          4.291666666666667,
          4.48,
          4.478260869565218,
          5.129032258064516,
          4.055555555555555,
          4.777777777777778,
          4.7,
          4,
          4.509433962264151,
          5.066666666666666,
          4.236363636363636,
          4.6875,
          4.3428571428571425,
          4.7560975609756095,
          5,
          4.5,
          4.625,
          4.59375,
          4.590909090909091,
          4.170212765957447,
          4.521739130434782,
          6.866666666666666,
          4.315789473684211,
          4.233333333333333,
          4.2105263157894735,
          4.702702702702703,
          5.46875,
          4.517241379310345,
          3.9130434782608696,
          5.125,
          4.04,
          4.441860465116279,
          4.5,
          4.944444444444445,
          6.105263157894737,
          3.88,
          4.222222222222222,
          3.8,
          5.064516129032258,
          4.275862068965517,
          4.2272727272727275,
          3.90625,
          4.784313725490196,
          4.384615384615385,
          5.125,
          4.571428571428571,
          5.648648648648648,
          5.476190476190476,
          4.742424242424242,
          4.514285714285714,
          4.666666666666667,
          6.066666666666666,
          4.529411764705882,
          4.73469387755102,
          4.6,
          5.410256410256411,
          5.2,
          4.707692307692308,
          4.708333333333333,
          5.666666666666667,
          4.3584905660377355,
          4.791666666666667,
          4.3,
          5.2,
          4.764705882352941,
          4.085714285714285,
          4.541666666666667,
          4.315789473684211,
          5.125,
          4.760869565217392,
          4.612244897959184,
          4.96875,
          3.975,
          4.931034482758621,
          5.125,
          4.571428571428571,
          3.6666666666666665,
          4.2272727272727275,
          4.232142857142857,
          4.733333333333333,
          5,
          4.037735849056604,
          5.466666666666667,
          4.3428571428571425,
          5.3023255813953485,
          6.4,
          5.3125,
          4.3023255813953485,
          4.8,
          4.444444444444445,
          4.560975609756097,
          3.8983050847457625,
          4.545454545454546,
          4.773584905660377,
          5.142857142857143,
          5.666666666666667,
          4.7272727272727275,
          3.94,
          4.269230769230769,
          4.2444444444444445,
          4.615384615384615,
          5.111111111111111,
          4.833333333333333,
          4.636363636363637,
          3.909090909090909,
          4.702127659574468,
          4.565217391304348,
          4.9,
          4.04,
          4.583333333333333,
          4,
          3.7636363636363637,
          4.424242424242424,
          4.296296296296297,
          4.178571428571429,
          3.9215686274509802,
          4.961538461538462,
          5.714285714285714,
          4.138888888888889,
          4.5625,
          4.911764705882353,
          4.208333333333333,
          4.96875,
          4.583333333333333,
          4.305555555555555,
          4.083333333333333,
          5.038461538461538,
          5.235294117647059,
          4.666666666666667,
          5.947368421052632,
          4.673913043478261,
          5.2,
          4.14,
          6,
          4.571428571428571,
          4.0606060606060606,
          6.5,
          3.972972972972973,
          5.333333333333333,
          5.2105263157894735,
          4.838709677419355,
          4.024390243902439,
          4.926829268292683,
          6.8,
          5.588235294117647,
          4.428571428571429,
          4.111111111111111,
          4.585365853658536,
          4.868421052631579,
          5.032258064516129,
          5.296296296296297,
          4.270833333333333,
          4.3,
          4.125,
          5,
          3.4545454545454546,
          4.484848484848484,
          4.607142857142857,
          4.15625,
          3.238095238095238,
          3.7818181818181817,
          4.326086956521739,
          5.653846153846154,
          4.357142857142857,
          4.690476190476191,
          4.775510204081633,
          4.620689655172414,
          4.473684210526316,
          5.513513513513513,
          4.136363636363637,
          4.4375,
          5.657894736842105,
          4.666666666666667,
          4.7407407407407405,
          4.079365079365079,
          5.378378378378378,
          4.456521739130435,
          5.121951219512195,
          6,
          6.714285714285714,
          4.12280701754386,
          4.3,
          6.096774193548387,
          4.857142857142857,
          4.657894736842105,
          4.3,
          5.148148148148148,
          3.8679245283018866,
          4.130434782608695,
          5.5,
          4.380952380952381,
          4.883720930232558,
          4.592592592592593,
          8.333333333333334,
          5.333333333333333,
          4.375,
          5.041666666666667,
          4.882352941176471,
          3.978723404255319,
          5.28,
          4.5,
          4.3478260869565215,
          4.5777777777777775,
          4.565217391304348,
          5.823529411764706,
          4.2368421052631575,
          3.8333333333333335,
          4.571428571428571,
          3.8518518518518516,
          4.6923076923076925,
          4.390243902439025,
          5.029411764705882,
          5.875,
          5.513513513513513,
          3.1724137931034484,
          6.3,
          4.3,
          5.411764705882353,
          6.909090909090909,
          4.476190476190476,
          5.25,
          5,
          5,
          5.882352941176471,
          5.7272727272727275,
          5,
          5.636363636363637,
          4.2272727272727275,
          4.2,
          4.666666666666667,
          3.9583333333333335,
          4.676470588235294,
          4.5,
          3.923076923076923,
          4,
          4.074074074074074,
          8.8125,
          6.368421052631579,
          4.291666666666667,
          4.787878787878788,
          5.7368421052631575,
          4.121212121212121,
          4.722222222222222,
          4.774193548387097,
          4.774193548387097,
          4.518518518518518,
          5.361111111111111,
          5.142857142857143,
          7.304347826086956,
          4.111111111111111,
          6.9375,
          5.909090909090909,
          4.2444444444444445,
          3.880952380952381,
          4.285714285714286,
          5.024390243902439,
          4.793103448275862,
          5.642857142857143,
          5.96,
          5.3076923076923075,
          5.315789473684211,
          4.923076923076923,
          4.104166666666667,
          5.457142857142857,
          5.2,
          4.0588235294117645,
          4.777777777777778,
          4.270833333333333,
          4.85,
          4.0344827586206895,
          5.6923076923076925,
          4.571428571428571,
          4.7560975609756095,
          4,
          4.238095238095238,
          5.909090909090909,
          5.083333333333333,
          5,
          4.1875,
          5.6976744186046515,
          5.25,
          4.675675675675675,
          4.371428571428571,
          4.739130434782608,
          3.638888888888889,
          4.233333333333333,
          4.348837209302325,
          4.864864864864865,
          5.75,
          5.64,
          5.157894736842105,
          6.137931034482759,
          4.814814814814815,
          4.805555555555555,
          4.217391304347826,
          4.659574468085107,
          4.333333333333333,
          4.458333333333333,
          5.523809523809524,
          4.416666666666667,
          4.7631578947368425,
          4.560975609756097,
          5,
          5.111111111111111,
          4.425,
          5,
          4.111111111111111,
          4.534883720930233,
          4.944444444444445,
          4.166666666666667,
          4.862068965517241,
          5.678571428571429,
          4.484848484848484,
          5.352941176470588,
          7,
          4.024390243902439,
          6,
          3.6666666666666665,
          4.783783783783784,
          5.333333333333333,
          4.933333333333334,
          4.966666666666667,
          7.2,
          4.2745098039215685,
          3.7142857142857144,
          4.555555555555555,
          5.428571428571429,
          4.42,
          4.5,
          4.7317073170731705,
          4.133333333333334,
          4.527777777777778,
          5,
          4.033333333333333,
          4.575,
          4.111111111111111,
          4.857142857142857,
          4.586206896551724,
          5.166666666666667,
          6.117647058823529,
          4.08,
          6.642857142857143,
          4.045454545454546,
          5.4,
          4.8,
          4.295454545454546,
          4.541666666666667,
          5.375,
          5.483870967741935,
          4.552631578947368,
          3.8125,
          4.794871794871795,
          3.5294117647058822,
          4.5625,
          4.166666666666667,
          5,
          4.466666666666667,
          5,
          4.166666666666667,
          5.2105263157894735,
          4.655172413793103,
          4.181818181818182,
          4.333333333333333,
          5.464285714285714,
          6.285714285714286,
          4.897435897435898,
          4.75,
          4.085714285714285,
          4.923076923076923,
          4.483870967741935,
          4.318181818181818,
          4.5,
          4.175,
          5.228571428571429,
          4.5,
          4.7368421052631575,
          4.5,
          3.7222222222222223,
          4.454545454545454,
          4.735294117647059,
          5.055555555555555,
          4.515151515151516,
          5.555555555555555,
          4.947368421052632,
          4,
          4.454545454545454,
          5.3125,
          4.827586206896552,
          5.857142857142857,
          4.4,
          4.551020408163265,
          4.3076923076923075,
          4.65,
          4.875
         ]
        }
       ],
       "layout": {
        "barmode": "overlay",
        "legend": {
         "bgcolor": "#F5F6F9",
         "font": {
          "color": "#4D5663"
         }
        },
        "paper_bgcolor": "#F5F6F9",
        "plot_bgcolor": "#F5F6F9",
        "template": {
         "data": {
          "bar": [
           {
            "error_x": {
             "color": "#2a3f5f"
            },
            "error_y": {
             "color": "#2a3f5f"
            },
            "marker": {
             "line": {
              "color": "#E5ECF6",
              "width": 0.5
             }
            },
            "type": "bar"
           }
          ],
          "barpolar": [
           {
            "marker": {
             "line": {
              "color": "#E5ECF6",
              "width": 0.5
             }
            },
            "type": "barpolar"
           }
          ],
          "carpet": [
           {
            "aaxis": {
             "endlinecolor": "#2a3f5f",
             "gridcolor": "white",
             "linecolor": "white",
             "minorgridcolor": "white",
             "startlinecolor": "#2a3f5f"
            },
            "baxis": {
             "endlinecolor": "#2a3f5f",
             "gridcolor": "white",
             "linecolor": "white",
             "minorgridcolor": "white",
             "startlinecolor": "#2a3f5f"
            },
            "type": "carpet"
           }
          ],
          "choropleth": [
           {
            "colorbar": {
             "outlinewidth": 0,
             "ticks": ""
            },
            "type": "choropleth"
           }
          ],
          "contour": [
           {
            "colorbar": {
             "outlinewidth": 0,
             "ticks": ""
            },
            "colorscale": [
             [
              0,
              "#0d0887"
             ],
             [
              0.1111111111111111,
              "#46039f"
             ],
             [
              0.2222222222222222,
              "#7201a8"
             ],
             [
              0.3333333333333333,
              "#9c179e"
             ],
             [
              0.4444444444444444,
              "#bd3786"
             ],
             [
              0.5555555555555556,
              "#d8576b"
             ],
             [
              0.6666666666666666,
              "#ed7953"
             ],
             [
              0.7777777777777778,
              "#fb9f3a"
             ],
             [
              0.8888888888888888,
              "#fdca26"
             ],
             [
              1,
              "#f0f921"
             ]
            ],
            "type": "contour"
           }
          ],
          "contourcarpet": [
           {
            "colorbar": {
             "outlinewidth": 0,
             "ticks": ""
            },
            "type": "contourcarpet"
           }
          ],
          "heatmap": [
           {
            "colorbar": {
             "outlinewidth": 0,
             "ticks": ""
            },
            "colorscale": [
             [
              0,
              "#0d0887"
             ],
             [
              0.1111111111111111,
              "#46039f"
             ],
             [
              0.2222222222222222,
              "#7201a8"
             ],
             [
              0.3333333333333333,
              "#9c179e"
             ],
             [
              0.4444444444444444,
              "#bd3786"
             ],
             [
              0.5555555555555556,
              "#d8576b"
             ],
             [
              0.6666666666666666,
              "#ed7953"
             ],
             [
              0.7777777777777778,
              "#fb9f3a"
             ],
             [
              0.8888888888888888,
              "#fdca26"
             ],
             [
              1,
              "#f0f921"
             ]
            ],
            "type": "heatmap"
           }
          ],
          "heatmapgl": [
           {
            "colorbar": {
             "outlinewidth": 0,
             "ticks": ""
            },
            "colorscale": [
             [
              0,
              "#0d0887"
             ],
             [
              0.1111111111111111,
              "#46039f"
             ],
             [
              0.2222222222222222,
              "#7201a8"
             ],
             [
              0.3333333333333333,
              "#9c179e"
             ],
             [
              0.4444444444444444,
              "#bd3786"
             ],
             [
              0.5555555555555556,
              "#d8576b"
             ],
             [
              0.6666666666666666,
              "#ed7953"
             ],
             [
              0.7777777777777778,
              "#fb9f3a"
             ],
             [
              0.8888888888888888,
              "#fdca26"
             ],
             [
              1,
              "#f0f921"
             ]
            ],
            "type": "heatmapgl"
           }
          ],
          "histogram": [
           {
            "marker": {
             "colorbar": {
              "outlinewidth": 0,
              "ticks": ""
             }
            },
            "type": "histogram"
           }
          ],
          "histogram2d": [
           {
            "colorbar": {
             "outlinewidth": 0,
             "ticks": ""
            },
            "colorscale": [
             [
              0,
              "#0d0887"
             ],
             [
              0.1111111111111111,
              "#46039f"
             ],
             [
              0.2222222222222222,
              "#7201a8"
             ],
             [
              0.3333333333333333,
              "#9c179e"
             ],
             [
              0.4444444444444444,
              "#bd3786"
             ],
             [
              0.5555555555555556,
              "#d8576b"
             ],
             [
              0.6666666666666666,
              "#ed7953"
             ],
             [
              0.7777777777777778,
              "#fb9f3a"
             ],
             [
              0.8888888888888888,
              "#fdca26"
             ],
             [
              1,
              "#f0f921"
             ]
            ],
            "type": "histogram2d"
           }
          ],
          "histogram2dcontour": [
           {
            "colorbar": {
             "outlinewidth": 0,
             "ticks": ""
            },
            "colorscale": [
             [
              0,
              "#0d0887"
             ],
             [
              0.1111111111111111,
              "#46039f"
             ],
             [
              0.2222222222222222,
              "#7201a8"
             ],
             [
              0.3333333333333333,
              "#9c179e"
             ],
             [
              0.4444444444444444,
              "#bd3786"
             ],
             [
              0.5555555555555556,
              "#d8576b"
             ],
             [
              0.6666666666666666,
              "#ed7953"
             ],
             [
              0.7777777777777778,
              "#fb9f3a"
             ],
             [
              0.8888888888888888,
              "#fdca26"
             ],
             [
              1,
              "#f0f921"
             ]
            ],
            "type": "histogram2dcontour"
           }
          ],
          "mesh3d": [
           {
            "colorbar": {
             "outlinewidth": 0,
             "ticks": ""
            },
            "type": "mesh3d"
           }
          ],
          "parcoords": [
           {
            "line": {
             "colorbar": {
              "outlinewidth": 0,
              "ticks": ""
             }
            },
            "type": "parcoords"
           }
          ],
          "pie": [
           {
            "automargin": true,
            "type": "pie"
           }
          ],
          "scatter": [
           {
            "marker": {
             "colorbar": {
              "outlinewidth": 0,
              "ticks": ""
             }
            },
            "type": "scatter"
           }
          ],
          "scatter3d": [
           {
            "line": {
             "colorbar": {
              "outlinewidth": 0,
              "ticks": ""
             }
            },
            "marker": {
             "colorbar": {
              "outlinewidth": 0,
              "ticks": ""
             }
            },
            "type": "scatter3d"
           }
          ],
          "scattercarpet": [
           {
            "marker": {
             "colorbar": {
              "outlinewidth": 0,
              "ticks": ""
             }
            },
            "type": "scattercarpet"
           }
          ],
          "scattergeo": [
           {
            "marker": {
             "colorbar": {
              "outlinewidth": 0,
              "ticks": ""
             }
            },
            "type": "scattergeo"
           }
          ],
          "scattergl": [
           {
            "marker": {
             "colorbar": {
              "outlinewidth": 0,
              "ticks": ""
             }
            },
            "type": "scattergl"
           }
          ],
          "scattermapbox": [
           {
            "marker": {
             "colorbar": {
              "outlinewidth": 0,
              "ticks": ""
             }
            },
            "type": "scattermapbox"
           }
          ],
          "scatterpolar": [
           {
            "marker": {
             "colorbar": {
              "outlinewidth": 0,
              "ticks": ""
             }
            },
            "type": "scatterpolar"
           }
          ],
          "scatterpolargl": [
           {
            "marker": {
             "colorbar": {
              "outlinewidth": 0,
              "ticks": ""
             }
            },
            "type": "scatterpolargl"
           }
          ],
          "scatterternary": [
           {
            "marker": {
             "colorbar": {
              "outlinewidth": 0,
              "ticks": ""
             }
            },
            "type": "scatterternary"
           }
          ],
          "surface": [
           {
            "colorbar": {
             "outlinewidth": 0,
             "ticks": ""
            },
            "colorscale": [
             [
              0,
              "#0d0887"
             ],
             [
              0.1111111111111111,
              "#46039f"
             ],
             [
              0.2222222222222222,
              "#7201a8"
             ],
             [
              0.3333333333333333,
              "#9c179e"
             ],
             [
              0.4444444444444444,
              "#bd3786"
             ],
             [
              0.5555555555555556,
              "#d8576b"
             ],
             [
              0.6666666666666666,
              "#ed7953"
             ],
             [
              0.7777777777777778,
              "#fb9f3a"
             ],
             [
              0.8888888888888888,
              "#fdca26"
             ],
             [
              1,
              "#f0f921"
             ]
            ],
            "type": "surface"
           }
          ],
          "table": [
           {
            "cells": {
             "fill": {
              "color": "#EBF0F8"
             },
             "line": {
              "color": "white"
             }
            },
            "header": {
             "fill": {
              "color": "#C8D4E3"
             },
             "line": {
              "color": "white"
             }
            },
            "type": "table"
           }
          ]
         },
         "layout": {
          "annotationdefaults": {
           "arrowcolor": "#2a3f5f",
           "arrowhead": 0,
           "arrowwidth": 1
          },
          "coloraxis": {
           "colorbar": {
            "outlinewidth": 0,
            "ticks": ""
           }
          },
          "colorscale": {
           "diverging": [
            [
             0,
             "#8e0152"
            ],
            [
             0.1,
             "#c51b7d"
            ],
            [
             0.2,
             "#de77ae"
            ],
            [
             0.3,
             "#f1b6da"
            ],
            [
             0.4,
             "#fde0ef"
            ],
            [
             0.5,
             "#f7f7f7"
            ],
            [
             0.6,
             "#e6f5d0"
            ],
            [
             0.7,
             "#b8e186"
            ],
            [
             0.8,
             "#7fbc41"
            ],
            [
             0.9,
             "#4d9221"
            ],
            [
             1,
             "#276419"
            ]
           ],
           "sequential": [
            [
             0,
             "#0d0887"
            ],
            [
             0.1111111111111111,
             "#46039f"
            ],
            [
             0.2222222222222222,
             "#7201a8"
            ],
            [
             0.3333333333333333,
             "#9c179e"
            ],
            [
             0.4444444444444444,
             "#bd3786"
            ],
            [
             0.5555555555555556,
             "#d8576b"
            ],
            [
             0.6666666666666666,
             "#ed7953"
            ],
            [
             0.7777777777777778,
             "#fb9f3a"
            ],
            [
             0.8888888888888888,
             "#fdca26"
            ],
            [
             1,
             "#f0f921"
            ]
           ],
           "sequentialminus": [
            [
             0,
             "#0d0887"
            ],
            [
             0.1111111111111111,
             "#46039f"
            ],
            [
             0.2222222222222222,
             "#7201a8"
            ],
            [
             0.3333333333333333,
             "#9c179e"
            ],
            [
             0.4444444444444444,
             "#bd3786"
            ],
            [
             0.5555555555555556,
             "#d8576b"
            ],
            [
             0.6666666666666666,
             "#ed7953"
            ],
            [
             0.7777777777777778,
             "#fb9f3a"
            ],
            [
             0.8888888888888888,
             "#fdca26"
            ],
            [
             1,
             "#f0f921"
            ]
           ]
          },
          "colorway": [
           "#636efa",
           "#EF553B",
           "#00cc96",
           "#ab63fa",
           "#FFA15A",
           "#19d3f3",
           "#FF6692",
           "#B6E880",
           "#FF97FF",
           "#FECB52"
          ],
          "font": {
           "color": "#2a3f5f"
          },
          "geo": {
           "bgcolor": "white",
           "lakecolor": "white",
           "landcolor": "#E5ECF6",
           "showlakes": true,
           "showland": true,
           "subunitcolor": "white"
          },
          "hoverlabel": {
           "align": "left"
          },
          "hovermode": "closest",
          "mapbox": {
           "style": "light"
          },
          "paper_bgcolor": "white",
          "plot_bgcolor": "#E5ECF6",
          "polar": {
           "angularaxis": {
            "gridcolor": "white",
            "linecolor": "white",
            "ticks": ""
           },
           "bgcolor": "#E5ECF6",
           "radialaxis": {
            "gridcolor": "white",
            "linecolor": "white",
            "ticks": ""
           }
          },
          "scene": {
           "xaxis": {
            "backgroundcolor": "#E5ECF6",
            "gridcolor": "white",
            "gridwidth": 2,
            "linecolor": "white",
            "showbackground": true,
            "ticks": "",
            "zerolinecolor": "white"
           },
           "yaxis": {
            "backgroundcolor": "#E5ECF6",
            "gridcolor": "white",
            "gridwidth": 2,
            "linecolor": "white",
            "showbackground": true,
            "ticks": "",
            "zerolinecolor": "white"
           },
           "zaxis": {
            "backgroundcolor": "#E5ECF6",
            "gridcolor": "white",
            "gridwidth": 2,
            "linecolor": "white",
            "showbackground": true,
            "ticks": "",
            "zerolinecolor": "white"
           }
          },
          "shapedefaults": {
           "line": {
            "color": "#2a3f5f"
           }
          },
          "ternary": {
           "aaxis": {
            "gridcolor": "white",
            "linecolor": "white",
            "ticks": ""
           },
           "baxis": {
            "gridcolor": "white",
            "linecolor": "white",
            "ticks": ""
           },
           "bgcolor": "#E5ECF6",
           "caxis": {
            "gridcolor": "white",
            "linecolor": "white",
            "ticks": ""
           }
          },
          "title": {
           "x": 0.05
          },
          "xaxis": {
           "automargin": true,
           "gridcolor": "white",
           "linecolor": "white",
           "ticks": "",
           "title": {
            "standoff": 15
           },
           "zerolinecolor": "white",
           "zerolinewidth": 2
          },
          "yaxis": {
           "automargin": true,
           "gridcolor": "white",
           "linecolor": "white",
           "ticks": "",
           "title": {
            "standoff": 15
           },
           "zerolinecolor": "white",
           "zerolinewidth": 2
          }
         }
        },
        "title": {
         "font": {
          "color": "#4D5663"
         },
         "text": "Avg_word length distribution"
        },
        "xaxis": {
         "gridcolor": "#E1E5ED",
         "showgrid": true,
         "tickfont": {
          "color": "#4D5663"
         },
         "title": {
          "font": {
           "color": "#4D5663"
          },
          "text": "Avg_word_length"
         },
         "zerolinecolor": "#E1E5ED"
        },
        "yaxis": {
         "gridcolor": "#E1E5ED",
         "showgrid": true,
         "tickfont": {
          "color": "#4D5663"
         },
         "title": {
          "font": {
           "color": "#4D5663"
          },
          "text": "Count"
         },
         "zerolinecolor": "#E1E5ED"
        }
       }
      },
      "text/html": [
       "<div>\n",
       "        \n",
       "        \n",
       "            <div id=\"d86e2fc7-3e50-45c9-a8a8-563c5e7c4fa3\" class=\"plotly-graph-div\" style=\"height:525px; width:100%;\"></div>\n",
       "            <script type=\"text/javascript\">\n",
       "                require([\"plotly\"], function(Plotly) {\n",
       "                    window.PLOTLYENV=window.PLOTLYENV || {};\n",
       "                    window.PLOTLYENV.BASE_URL='https://plot.ly';\n",
       "                    \n",
       "                if (document.getElementById(\"d86e2fc7-3e50-45c9-a8a8-563c5e7c4fa3\")) {\n",
       "                    Plotly.newPlot(\n",
       "                        'd86e2fc7-3e50-45c9-a8a8-563c5e7c4fa3',\n",
       "                        [{\"histfunc\": \"count\", \"histnorm\": \"\", \"marker\": {\"color\": \"rgba(255, 153, 51, 1.0)\", \"line\": {\"color\": \"#4D5663\", \"width\": 1.3}}, \"name\": \"avg_word_len\", \"opacity\": 0.8, \"orientation\": \"v\", \"type\": \"histogram\", \"x\": [4.410958904109589, 4.909090909090909, 4.4520547945205475, 4.523809523809524, 4.0576923076923075, 4.669756662804171, 4.439024390243903, 4.256578947368421, 4.58955223880597, 4.48, 4.410958904109589, 4.909090909090909, 4.4520547945205475, 4.523809523809524, 4.0576923076923075, 4.669756662804171, 4.439024390243903, 4.256578947368421, 4.58955223880597, 4.48, 4.2592592592592595, 4.8, 4.4766355140186915, 4.523809523809524, 4.523076923076923, 4.447368421052632, 4.065116279069767, 7.5, 4.186274509803922, 5.398148148148148, 4.736526946107785, 4.665024630541872, 4.3977272727272725, 4.413533834586466, 4.34, 5.209302325581396, 4.492753623188406, 4.606936416184971, 4.666666666666667, 4.40952380952381, 4.23404255319149, 4.615384615384615, 4.1722222222222225, 5.3076923076923075, 4.580952380952381, 5.457364341085271, 4.55, 4.336, 4.625, 4.25, 5.769230769230769, 4.301075268817204, 4.8, 4.6894409937888195, 4.2, 4.3076923076923075, 4.842592592592593, 4.033898305084746, 4.666666666666667, 4.781818181818182, 4.77027027027027, 4.820224719101123, 4.991150442477876, 4.803418803418803, 4.367741935483871, 3.9939759036144578, 4.47887323943662, 4.612903225806452, 4.586776859504132, 4.727891156462585, 3.9541284403669725, 4.5344827586206895, 4.587301587301587, 4.2846715328467155, 4.238095238095238, 4.617647058823529, 4.022222222222222, 4.9753086419753085, 4.640449438202247, 4.723684210526316, 4.984126984126984, 4.531645569620253, 4.185567010309279, 3.978723404255319, 4.863636363636363, 4.416666666666667, 4.419753086419753, 4.928571428571429, 4.612612612612613, 4.4326923076923075, 4.728155339805825, 4.454545454545454, 4.824561403508772, 4.3478260869565215, 5.151260504201681, 4.93, 4.80188679245283, 4.230769230769231, 4.666666666666667, 4.174418604651163, 4.406779661016949, 4.756756756756757, 4.635761589403973, 4.48, 4.569444444444445, 4.612903225806452, 3.819277108433735, 4.389830508474576, 4.454545454545454, 4.491935483870968, 4.708333333333333, 4.73015873015873, 4.233333333333333, 4.391304347826087, 4.3538461538461535, 5.34375, 4.349397590361446, 4.603448275862069, 5.560869565217391, 4.181034482758621, 4.985915492957746, 4.575757575757576, 4.379310344827586, 4.282786885245901, 4.792207792207792, 4.517857142857143, 4.02, 4.465116279069767, 4.686274509803922, 4.8545454545454545, 4.388489208633094, 4.257142857142857, 4.945205479452055, 4.823204419889502, 4.868852459016393, 5.086956521739131, 4.980769230769231, 4.229508196721311, 4.502923976608187, 4.421052631578948, 4.328859060402684, 4.6455696202531644, 4.474452554744525, 3.715909090909091, 4.271186440677966, 4.0, 5.449612403100775, 5.126760563380282, 4.055555555555555, 4.530927835051546, 4.666666666666667, 4.53125, 4.157894736842105, 4.8125, 4.6440677966101696, 4.183431952662722, 4.615384615384615, 4.466666666666667, 4.28, 5.372093023255814, 4.75, 4.523809523809524, 4.732142857142857, 3.8823529411764706, 4.7073170731707314, 4.338842975206612, 4.391666666666667, 6.096153846153846, 4.410714285714286, 4.15748031496063, 4.4423076923076925, 4.306569343065694, 4.555555555555555, 4.577464788732394, 5.2727272727272725, 4.381578947368421, 4.3538461538461535, 5.253731343283582, 5.0256410256410255, 4.7846153846153845, 4.229508196721311, 3.864864864864865, 5.216666666666667, 4.597560975609756, 4.472972972972973, 4.459016393442623, 4.844660194174757, 4.966292134831461, 5.033898305084746, 4.069306930693069, 5.0, 5.333333333333333, 4.212765957446808, 4.797101449275362, 4.805084745762712, 4.166666666666667, 4.72093023255814, 4.442748091603053, 5.026315789473684, 4.333333333333333, 4.703125, 4.679245283018868, 4.590163934426229, 4.790322580645161, 4.554455445544554, 4.319148936170213, 3.7547169811320753, 4.053571428571429, 4.349593495934959, 3.768421052631579, 4.122222222222222, 3.8596491228070176, 4.621052631578947, 5.4772727272727275, 4.134615384615385, 4.973684210526316, 4.822916666666667, 3.84, 5.076923076923077, 4.3, 4.323943661971831, 4.823529411764706, 4.222222222222222, 4.27906976744186, 4.5636363636363635, 4.846153846153846, 4.23943661971831, 4.233333333333333, 4.850574712643678, 4.410714285714286, 5.083333333333333, 4.444444444444445, 4.2, 4.224489795918367, 4.097345132743363, 4.324074074074074, 5.255813953488372, 4.290909090909091, 5.033707865168539, 4.548780487804878, 3.9375, 4.804878048780488, 4.245614035087719, 4.130434782608695, 4.4, 4.651162790697675, 4.681818181818182, 4.447058823529412, 4.211764705882353, 4.190476190476191, 4.42, 3.943820224719101, 5.166666666666667, 4.463768115942029, 5.0, 4.14, 4.491228070175438, 5.0227272727272725, 4.333333333333333, 4.988372093023256, 4.554347826086956, 4.456140350877193, 5.22, 5.096385542168675, 4.966101694915254, 4.308510638297872, 4.196969696969697, 4.673469387755102, 4.7894736842105265, 4.384615384615385, 5.033333333333333, 4.894736842105263, 4.1875, 4.775862068965517, 5.26984126984127, 4.164383561643835, 4.4186046511627906, 4.0, 4.621951219512195, 4.516666666666667, 4.4945054945054945, 4.711538461538462, 4.252873563218391, 4.723404255319149, 4.21875, 4.416666666666667, 4.871428571428571, 5.157894736842105, 5.019607843137255, 5.162162162162162, 4.8108108108108105, 4.184466019417476, 4.96, 4.234375, 4.551724137931035, 4.75, 4.846153846153846, 4.631578947368421, 5.388888888888889, 4.418918918918919, 4.173913043478261, 4.509433962264151, 4.296875, 4.166666666666667, 4.809523809523809, 4.787878787878788, 4.258064516129032, 4.921052631578948, 5.166666666666667, 4.396825396825397, 5.0, 4.607843137254902, 4.417910447761194, 4.379310344827586, 3.9767441860465116, 4.285714285714286, 5.320754716981132, 5.0606060606060606, 3.5753424657534247, 4.6, 4.795454545454546, 4.435897435897436, 4.976190476190476, 5.4, 4.647058823529412, 5.571428571428571, 5.212765957446808, 4.142857142857143, 5.892857142857143, 4.545454545454546, 4.1647058823529415, 4.769230769230769, 4.636363636363637, 4.552631578947368, 6.0, 5.45945945945946, 5.06, 5.782608695652174, 4.649122807017544, 4.113207547169812, 4.390243902439025, 4.5875, 4.5636363636363635, 4.552238805970149, 4.219512195121951, 4.363636363636363, 4.270588235294118, 3.951219512195122, 4.09, 4.4, 5.046511627906977, 4.444444444444445, 4.509433962264151, 4.415384615384616, 4.093023255813954, 4.425531914893617, 4.411764705882353, 4.045977011494253, 4.63013698630137, 4.063492063492063, 5.3076923076923075, 4.615384615384615, 4.75, 4.575757575757576, 4.23404255319149, 4.2368421052631575, 4.916666666666667, 4.195121951219512, 5.0, 4.5, 4.389830508474576, 4.382978723404255, 4.770491803278689, 4.291139240506329, 4.125, 4.897435897435898, 4.375, 5.0476190476190474, 4.418918918918919, 4.484848484848484, 4.8545454545454545, 4.111111111111111, 5.031746031746032, 4.5, 5.190476190476191, 4.746478873239437, 4.980392156862745, 5.059701492537314, 4.552631578947368, 4.672413793103448, 4.868852459016393, 4.325581395348837, 4.878048780487805, 4.466666666666667, 4.777777777777778, 4.557142857142857, 4.566666666666666, 4.12962962962963, 4.647058823529412, 4.4222222222222225, 5.057971014492754, 5.3768115942028984, 4.766666666666667, 5.490566037735849, 4.2, 5.28, 5.363636363636363, 5.260869565217392, 4.583333333333333, 3.8285714285714287, 4.333333333333333, 4.439024390243903, 4.044117647058823, 4.666666666666667, 4.619047619047619, 4.23943661971831, 5.464285714285714, 4.880597014925373, 4.037735849056604, 5.738095238095238, 5.4, 5.72, 4.055555555555555, 4.5, 4.264705882352941, 5.321428571428571, 4.142857142857143, 4.71875, 4.979591836734694, 4.346666666666667, 5.0, 4.065217391304348, 4.25, 5.24, 4.555555555555555, 4.120689655172414, 5.064516129032258, 4.622641509433962, 4.387755102040816, 4.455882352941177, 4.380952380952381, 3.9310344827586206, 4.027777777777778, 4.303030303030303, 3.948717948717949, 4.958333333333333, 4.693333333333333, 4.117647058823529, 4.2926829268292686, 4.449275362318841, 5.644444444444445, 4.358208955223881, 4.810344827586207, 4.264150943396227, 4.277777777777778, 4.508771929824562, 4.619047619047619, 5.017241379310345, 5.064516129032258, 5.016129032258065, 4.546875, 4.613636363636363, 5.03030303030303, 4.277777777777778, 4.05, 4.619047619047619, 4.323529411764706, 5.142857142857143, 4.518518518518518, 5.193548387096774, 4.277777777777778, 4.704918032786885, 4.725, 5.12962962962963, 4.571428571428571, 4.448275862068965, 5.05, 4.609375, 4.135593220338983, 4.1568627450980395, 5.0, 4.7105263157894735, 4.655172413793103, 4.431372549019608, 4.333333333333333, 4.4, 5.25, 4.4222222222222225, 4.25531914893617, 4.451612903225806, 4.962962962962963, 4.621621621621622, 3.788732394366197, 4.424242424242424, 4.7368421052631575, 4.5, 3.9705882352941178, 4.661538461538462, 5.166666666666667, 5.431818181818182, 3.8125, 4.403225806451613, 5.3559322033898304, 5.541666666666667, 6.0, 4.3, 4.728813559322034, 4.5, 4.333333333333333, 4.551724137931035, 4.21875, 4.507692307692308, 4.027777777777778, 4.653061224489796, 5.458333333333333, 4.63265306122449, 4.875, 4.25531914893617, 4.12962962962963, 4.431034482758621, 4.288461538461538, 4.377777777777778, 4.5, 4.089285714285714, 4.944444444444445, 4.862068965517241, 4.137931034482759, 4.344827586206897, 3.9591836734693877, 4.571428571428571, 3.870967741935484, 4.4, 4.315789473684211, 4.9, 4.682926829268292, 4.816666666666666, 4.333333333333333, 4.114285714285714, 4.090909090909091, 4.2, 4.63265306122449, 5.215686274509804, 4.090909090909091, 4.7272727272727275, 4.633333333333334, 4.1875, 3.7611940298507465, 4.793103448275862, 4.083333333333333, 4.333333333333333, 4.458333333333333, 5.0, 4.955555555555556, 5.076923076923077, 4.21875, 4.578947368421052, 4.7272727272727275, 4.648148148148148, 3.7941176470588234, 4.209302325581396, 4.829787234042553, 6.6, 4.76, 4.9, 4.220338983050848, 4.3478260869565215, 5.1063829787234045, 4.194444444444445, 4.6, 6.75, 4.171428571428572, 4.390243902439025, 5.611111111111111, 4.375, 10.25, 4.586206896551724, 4.03030303030303, 4.612244897959184, 5.3076923076923075, 5.416666666666667, 4.51063829787234, 4.189873417721519, 4.863636363636363, 4.6, 4.066666666666666, 5.054545454545455, 4.462962962962963, 4.701492537313433, 4.580645161290323, 4.5396825396825395, 4.183673469387755, 4.125, 4.636363636363637, 4.955555555555556, 4.322033898305085, 3.77027027027027, 5.05, 4.967741935483871, 3.7666666666666666, 4.730769230769231, 4.533333333333333, 4.340909090909091, 4.964285714285714, 3.9375, 4.228571428571429, 4.166666666666667, 4.291666666666667, 4.48, 4.478260869565218, 5.129032258064516, 4.055555555555555, 4.777777777777778, 4.7, 4.0, 4.509433962264151, 5.066666666666666, 4.236363636363636, 4.6875, 4.3428571428571425, 4.7560975609756095, 5.0, 4.5, 4.625, 4.59375, 4.590909090909091, 4.170212765957447, 4.521739130434782, 6.866666666666666, 4.315789473684211, 4.233333333333333, 4.2105263157894735, 4.702702702702703, 5.46875, 4.517241379310345, 3.9130434782608696, 5.125, 4.04, 4.441860465116279, 4.5, 4.944444444444445, 6.105263157894737, 3.88, 4.222222222222222, 3.8, 5.064516129032258, 4.275862068965517, 4.2272727272727275, 3.90625, 4.784313725490196, 4.384615384615385, 5.125, 4.571428571428571, 5.648648648648648, 5.476190476190476, 4.742424242424242, 4.514285714285714, 4.666666666666667, 6.066666666666666, 4.529411764705882, 4.73469387755102, 4.6, 5.410256410256411, 5.2, 4.707692307692308, 4.708333333333333, 5.666666666666667, 4.3584905660377355, 4.791666666666667, 4.3, 5.2, 4.764705882352941, 4.085714285714285, 4.541666666666667, 4.315789473684211, 5.125, 4.760869565217392, 4.612244897959184, 4.96875, 3.975, 4.931034482758621, 5.125, 4.571428571428571, 3.6666666666666665, 4.2272727272727275, 4.232142857142857, 4.733333333333333, 5.0, 4.037735849056604, 5.466666666666667, 4.3428571428571425, 5.3023255813953485, 6.4, 5.3125, 4.3023255813953485, 4.8, 4.444444444444445, 4.560975609756097, 3.8983050847457625, 4.545454545454546, 4.773584905660377, 5.142857142857143, 5.666666666666667, 4.7272727272727275, 3.94, 4.269230769230769, 4.2444444444444445, 4.615384615384615, 5.111111111111111, 4.833333333333333, 4.636363636363637, 3.909090909090909, 4.702127659574468, 4.565217391304348, 4.9, 4.04, 4.583333333333333, 4.0, 3.7636363636363637, 4.424242424242424, 4.296296296296297, 4.178571428571429, 3.9215686274509802, 4.961538461538462, 5.714285714285714, 4.138888888888889, 4.5625, 4.911764705882353, 4.208333333333333, 4.96875, 4.583333333333333, 4.305555555555555, 4.083333333333333, 5.038461538461538, 5.235294117647059, 4.666666666666667, 5.947368421052632, 4.673913043478261, 5.2, 4.14, 6.0, 4.571428571428571, 4.0606060606060606, 6.5, 3.972972972972973, 5.333333333333333, 5.2105263157894735, 4.838709677419355, 4.024390243902439, 4.926829268292683, 6.8, 5.588235294117647, 4.428571428571429, 4.111111111111111, 4.585365853658536, 4.868421052631579, 5.032258064516129, 5.296296296296297, 4.270833333333333, 4.3, 4.125, 5.0, 3.4545454545454546, 4.484848484848484, 4.607142857142857, 4.15625, 3.238095238095238, 3.7818181818181817, 4.326086956521739, 5.653846153846154, 4.357142857142857, 4.690476190476191, 4.775510204081633, 4.620689655172414, 4.473684210526316, 5.513513513513513, 4.136363636363637, 4.4375, 5.657894736842105, 4.666666666666667, 4.7407407407407405, 4.079365079365079, 5.378378378378378, 4.456521739130435, 5.121951219512195, 6.0, 6.714285714285714, 4.12280701754386, 4.3, 6.096774193548387, 4.857142857142857, 4.657894736842105, 4.3, 5.148148148148148, 3.8679245283018866, 4.130434782608695, 5.5, 4.380952380952381, 4.883720930232558, 4.592592592592593, 8.333333333333334, 5.333333333333333, 4.375, 5.041666666666667, 4.882352941176471, 3.978723404255319, 5.28, 4.5, 4.3478260869565215, 4.5777777777777775, 4.565217391304348, 5.823529411764706, 4.2368421052631575, 3.8333333333333335, 4.571428571428571, 3.8518518518518516, 4.6923076923076925, 4.390243902439025, 5.029411764705882, 5.875, 5.513513513513513, 3.1724137931034484, 6.3, 4.3, 5.411764705882353, 6.909090909090909, 4.476190476190476, 5.25, 5.0, 5.0, 5.882352941176471, 5.7272727272727275, 5.0, 5.636363636363637, 4.2272727272727275, 4.2, 4.666666666666667, 3.9583333333333335, 4.676470588235294, 4.5, 3.923076923076923, 4.0, 4.074074074074074, 8.8125, 6.368421052631579, 4.291666666666667, 4.787878787878788, 5.7368421052631575, 4.121212121212121, 4.722222222222222, 4.774193548387097, 4.774193548387097, 4.518518518518518, 5.361111111111111, 5.142857142857143, 7.304347826086956, 4.111111111111111, 6.9375, 5.909090909090909, 4.2444444444444445, 3.880952380952381, 4.285714285714286, 5.024390243902439, 4.793103448275862, 5.642857142857143, 5.96, 5.3076923076923075, 5.315789473684211, 4.923076923076923, 4.104166666666667, 5.457142857142857, 5.2, 4.0588235294117645, 4.777777777777778, 4.270833333333333, 4.85, 4.0344827586206895, 5.6923076923076925, 4.571428571428571, 4.7560975609756095, 4.0, 4.238095238095238, 5.909090909090909, 5.083333333333333, 5.0, 4.1875, 5.6976744186046515, 5.25, 4.675675675675675, 4.371428571428571, 4.739130434782608, 3.638888888888889, 4.233333333333333, 4.348837209302325, 4.864864864864865, 5.75, 5.64, 5.157894736842105, 6.137931034482759, 4.814814814814815, 4.805555555555555, 4.217391304347826, 4.659574468085107, 4.333333333333333, 4.458333333333333, 5.523809523809524, 4.416666666666667, 4.7631578947368425, 4.560975609756097, 5.0, 5.111111111111111, 4.425, 5.0, 4.111111111111111, 4.534883720930233, 4.944444444444445, 4.166666666666667, 4.862068965517241, 5.678571428571429, 4.484848484848484, 5.352941176470588, 7.0, 4.024390243902439, 6.0, 3.6666666666666665, 4.783783783783784, 5.333333333333333, 4.933333333333334, 4.966666666666667, 7.2, 4.2745098039215685, 3.7142857142857144, 4.555555555555555, 5.428571428571429, 4.42, 4.5, 4.7317073170731705, 4.133333333333334, 4.527777777777778, 5.0, 4.033333333333333, 4.575, 4.111111111111111, 4.857142857142857, 4.586206896551724, 5.166666666666667, 6.117647058823529, 4.08, 6.642857142857143, 4.045454545454546, 5.4, 4.8, 4.295454545454546, 4.541666666666667, 5.375, 5.483870967741935, 4.552631578947368, 3.8125, 4.794871794871795, 3.5294117647058822, 4.5625, 4.166666666666667, 5.0, 4.466666666666667, 5.0, 4.166666666666667, 5.2105263157894735, 4.655172413793103, 4.181818181818182, 4.333333333333333, 5.464285714285714, 6.285714285714286, 4.897435897435898, 4.75, 4.085714285714285, 4.923076923076923, 4.483870967741935, 4.318181818181818, 4.5, 4.175, 5.228571428571429, 4.5, 4.7368421052631575, 4.5, 3.7222222222222223, 4.454545454545454, 4.735294117647059, 5.055555555555555, 4.515151515151516, 5.555555555555555, 4.947368421052632, 4.0, 4.454545454545454, 5.3125, 4.827586206896552, 5.857142857142857, 4.4, 4.551020408163265, 4.3076923076923075, 4.65, 4.875]}],\n",
       "                        {\"barmode\": \"overlay\", \"legend\": {\"bgcolor\": \"#F5F6F9\", \"font\": {\"color\": \"#4D5663\"}}, \"paper_bgcolor\": \"#F5F6F9\", \"plot_bgcolor\": \"#F5F6F9\", \"template\": {\"data\": {\"bar\": [{\"error_x\": {\"color\": \"#2a3f5f\"}, \"error_y\": {\"color\": \"#2a3f5f\"}, \"marker\": {\"line\": {\"color\": \"#E5ECF6\", \"width\": 0.5}}, \"type\": \"bar\"}], \"barpolar\": [{\"marker\": {\"line\": {\"color\": \"#E5ECF6\", \"width\": 0.5}}, \"type\": \"barpolar\"}], \"carpet\": [{\"aaxis\": {\"endlinecolor\": \"#2a3f5f\", \"gridcolor\": \"white\", \"linecolor\": \"white\", \"minorgridcolor\": \"white\", \"startlinecolor\": \"#2a3f5f\"}, \"baxis\": {\"endlinecolor\": \"#2a3f5f\", \"gridcolor\": \"white\", \"linecolor\": \"white\", \"minorgridcolor\": \"white\", \"startlinecolor\": \"#2a3f5f\"}, \"type\": \"carpet\"}], \"choropleth\": [{\"colorbar\": {\"outlinewidth\": 0, \"ticks\": \"\"}, \"type\": \"choropleth\"}], \"contour\": [{\"colorbar\": {\"outlinewidth\": 0, \"ticks\": \"\"}, \"colorscale\": [[0.0, \"#0d0887\"], [0.1111111111111111, \"#46039f\"], [0.2222222222222222, \"#7201a8\"], [0.3333333333333333, \"#9c179e\"], [0.4444444444444444, \"#bd3786\"], [0.5555555555555556, \"#d8576b\"], [0.6666666666666666, \"#ed7953\"], [0.7777777777777778, \"#fb9f3a\"], [0.8888888888888888, \"#fdca26\"], [1.0, \"#f0f921\"]], \"type\": \"contour\"}], \"contourcarpet\": [{\"colorbar\": {\"outlinewidth\": 0, \"ticks\": \"\"}, \"type\": \"contourcarpet\"}], \"heatmap\": [{\"colorbar\": {\"outlinewidth\": 0, \"ticks\": \"\"}, \"colorscale\": [[0.0, \"#0d0887\"], [0.1111111111111111, \"#46039f\"], [0.2222222222222222, \"#7201a8\"], [0.3333333333333333, \"#9c179e\"], [0.4444444444444444, \"#bd3786\"], [0.5555555555555556, \"#d8576b\"], [0.6666666666666666, \"#ed7953\"], [0.7777777777777778, \"#fb9f3a\"], [0.8888888888888888, \"#fdca26\"], [1.0, \"#f0f921\"]], \"type\": \"heatmap\"}], \"heatmapgl\": [{\"colorbar\": {\"outlinewidth\": 0, \"ticks\": \"\"}, \"colorscale\": [[0.0, \"#0d0887\"], [0.1111111111111111, \"#46039f\"], [0.2222222222222222, \"#7201a8\"], [0.3333333333333333, \"#9c179e\"], [0.4444444444444444, \"#bd3786\"], [0.5555555555555556, \"#d8576b\"], [0.6666666666666666, \"#ed7953\"], [0.7777777777777778, \"#fb9f3a\"], [0.8888888888888888, \"#fdca26\"], [1.0, \"#f0f921\"]], \"type\": \"heatmapgl\"}], \"histogram\": [{\"marker\": {\"colorbar\": {\"outlinewidth\": 0, \"ticks\": \"\"}}, \"type\": \"histogram\"}], \"histogram2d\": [{\"colorbar\": {\"outlinewidth\": 0, \"ticks\": \"\"}, \"colorscale\": [[0.0, \"#0d0887\"], [0.1111111111111111, \"#46039f\"], [0.2222222222222222, \"#7201a8\"], [0.3333333333333333, \"#9c179e\"], [0.4444444444444444, \"#bd3786\"], [0.5555555555555556, \"#d8576b\"], [0.6666666666666666, \"#ed7953\"], [0.7777777777777778, \"#fb9f3a\"], [0.8888888888888888, \"#fdca26\"], [1.0, \"#f0f921\"]], \"type\": \"histogram2d\"}], \"histogram2dcontour\": [{\"colorbar\": {\"outlinewidth\": 0, \"ticks\": \"\"}, \"colorscale\": [[0.0, \"#0d0887\"], [0.1111111111111111, \"#46039f\"], [0.2222222222222222, \"#7201a8\"], [0.3333333333333333, \"#9c179e\"], [0.4444444444444444, \"#bd3786\"], [0.5555555555555556, \"#d8576b\"], [0.6666666666666666, \"#ed7953\"], [0.7777777777777778, \"#fb9f3a\"], [0.8888888888888888, \"#fdca26\"], [1.0, \"#f0f921\"]], \"type\": \"histogram2dcontour\"}], \"mesh3d\": [{\"colorbar\": {\"outlinewidth\": 0, \"ticks\": \"\"}, \"type\": \"mesh3d\"}], \"parcoords\": [{\"line\": {\"colorbar\": {\"outlinewidth\": 0, \"ticks\": \"\"}}, \"type\": \"parcoords\"}], \"pie\": [{\"automargin\": true, \"type\": \"pie\"}], \"scatter\": [{\"marker\": {\"colorbar\": {\"outlinewidth\": 0, \"ticks\": \"\"}}, \"type\": \"scatter\"}], \"scatter3d\": [{\"line\": {\"colorbar\": {\"outlinewidth\": 0, \"ticks\": \"\"}}, \"marker\": {\"colorbar\": {\"outlinewidth\": 0, \"ticks\": \"\"}}, \"type\": \"scatter3d\"}], \"scattercarpet\": [{\"marker\": {\"colorbar\": {\"outlinewidth\": 0, \"ticks\": \"\"}}, \"type\": \"scattercarpet\"}], \"scattergeo\": [{\"marker\": {\"colorbar\": {\"outlinewidth\": 0, \"ticks\": \"\"}}, \"type\": \"scattergeo\"}], \"scattergl\": [{\"marker\": {\"colorbar\": {\"outlinewidth\": 0, \"ticks\": \"\"}}, \"type\": \"scattergl\"}], \"scattermapbox\": [{\"marker\": {\"colorbar\": {\"outlinewidth\": 0, \"ticks\": \"\"}}, \"type\": \"scattermapbox\"}], \"scatterpolar\": [{\"marker\": {\"colorbar\": {\"outlinewidth\": 0, \"ticks\": \"\"}}, \"type\": \"scatterpolar\"}], \"scatterpolargl\": [{\"marker\": {\"colorbar\": {\"outlinewidth\": 0, \"ticks\": \"\"}}, \"type\": \"scatterpolargl\"}], \"scatterternary\": [{\"marker\": {\"colorbar\": {\"outlinewidth\": 0, \"ticks\": \"\"}}, \"type\": \"scatterternary\"}], \"surface\": [{\"colorbar\": {\"outlinewidth\": 0, \"ticks\": \"\"}, \"colorscale\": [[0.0, \"#0d0887\"], [0.1111111111111111, \"#46039f\"], [0.2222222222222222, \"#7201a8\"], [0.3333333333333333, \"#9c179e\"], [0.4444444444444444, \"#bd3786\"], [0.5555555555555556, \"#d8576b\"], [0.6666666666666666, \"#ed7953\"], [0.7777777777777778, \"#fb9f3a\"], [0.8888888888888888, \"#fdca26\"], [1.0, \"#f0f921\"]], \"type\": \"surface\"}], \"table\": [{\"cells\": {\"fill\": {\"color\": \"#EBF0F8\"}, \"line\": {\"color\": \"white\"}}, \"header\": {\"fill\": {\"color\": \"#C8D4E3\"}, \"line\": {\"color\": \"white\"}}, \"type\": \"table\"}]}, \"layout\": {\"annotationdefaults\": {\"arrowcolor\": \"#2a3f5f\", \"arrowhead\": 0, \"arrowwidth\": 1}, \"coloraxis\": {\"colorbar\": {\"outlinewidth\": 0, \"ticks\": \"\"}}, \"colorscale\": {\"diverging\": [[0, \"#8e0152\"], [0.1, \"#c51b7d\"], [0.2, \"#de77ae\"], [0.3, \"#f1b6da\"], [0.4, \"#fde0ef\"], [0.5, \"#f7f7f7\"], [0.6, \"#e6f5d0\"], [0.7, \"#b8e186\"], [0.8, \"#7fbc41\"], [0.9, \"#4d9221\"], [1, \"#276419\"]], \"sequential\": [[0.0, \"#0d0887\"], [0.1111111111111111, \"#46039f\"], [0.2222222222222222, \"#7201a8\"], [0.3333333333333333, \"#9c179e\"], [0.4444444444444444, \"#bd3786\"], [0.5555555555555556, \"#d8576b\"], [0.6666666666666666, \"#ed7953\"], [0.7777777777777778, \"#fb9f3a\"], [0.8888888888888888, \"#fdca26\"], [1.0, \"#f0f921\"]], \"sequentialminus\": [[0.0, \"#0d0887\"], [0.1111111111111111, \"#46039f\"], [0.2222222222222222, \"#7201a8\"], [0.3333333333333333, \"#9c179e\"], [0.4444444444444444, \"#bd3786\"], [0.5555555555555556, \"#d8576b\"], [0.6666666666666666, \"#ed7953\"], [0.7777777777777778, \"#fb9f3a\"], [0.8888888888888888, \"#fdca26\"], [1.0, \"#f0f921\"]]}, \"colorway\": [\"#636efa\", \"#EF553B\", \"#00cc96\", \"#ab63fa\", \"#FFA15A\", \"#19d3f3\", \"#FF6692\", \"#B6E880\", \"#FF97FF\", \"#FECB52\"], \"font\": {\"color\": \"#2a3f5f\"}, \"geo\": {\"bgcolor\": \"white\", \"lakecolor\": \"white\", \"landcolor\": \"#E5ECF6\", \"showlakes\": true, \"showland\": true, \"subunitcolor\": \"white\"}, \"hoverlabel\": {\"align\": \"left\"}, \"hovermode\": \"closest\", \"mapbox\": {\"style\": \"light\"}, \"paper_bgcolor\": \"white\", \"plot_bgcolor\": \"#E5ECF6\", \"polar\": {\"angularaxis\": {\"gridcolor\": \"white\", \"linecolor\": \"white\", \"ticks\": \"\"}, \"bgcolor\": \"#E5ECF6\", \"radialaxis\": {\"gridcolor\": \"white\", \"linecolor\": \"white\", \"ticks\": \"\"}}, \"scene\": {\"xaxis\": {\"backgroundcolor\": \"#E5ECF6\", \"gridcolor\": \"white\", \"gridwidth\": 2, \"linecolor\": \"white\", \"showbackground\": true, \"ticks\": \"\", \"zerolinecolor\": \"white\"}, \"yaxis\": {\"backgroundcolor\": \"#E5ECF6\", \"gridcolor\": \"white\", \"gridwidth\": 2, \"linecolor\": \"white\", \"showbackground\": true, \"ticks\": \"\", \"zerolinecolor\": \"white\"}, \"zaxis\": {\"backgroundcolor\": \"#E5ECF6\", \"gridcolor\": \"white\", \"gridwidth\": 2, \"linecolor\": \"white\", \"showbackground\": true, \"ticks\": \"\", \"zerolinecolor\": \"white\"}}, \"shapedefaults\": {\"line\": {\"color\": \"#2a3f5f\"}}, \"ternary\": {\"aaxis\": {\"gridcolor\": \"white\", \"linecolor\": \"white\", \"ticks\": \"\"}, \"baxis\": {\"gridcolor\": \"white\", \"linecolor\": \"white\", \"ticks\": \"\"}, \"bgcolor\": \"#E5ECF6\", \"caxis\": {\"gridcolor\": \"white\", \"linecolor\": \"white\", \"ticks\": \"\"}}, \"title\": {\"x\": 0.05}, \"xaxis\": {\"automargin\": true, \"gridcolor\": \"white\", \"linecolor\": \"white\", \"ticks\": \"\", \"title\": {\"standoff\": 15}, \"zerolinecolor\": \"white\", \"zerolinewidth\": 2}, \"yaxis\": {\"automargin\": true, \"gridcolor\": \"white\", \"linecolor\": \"white\", \"ticks\": \"\", \"title\": {\"standoff\": 15}, \"zerolinecolor\": \"white\", \"zerolinewidth\": 2}}}, \"title\": {\"font\": {\"color\": \"#4D5663\"}, \"text\": \"Avg_word length distribution\"}, \"xaxis\": {\"gridcolor\": \"#E1E5ED\", \"showgrid\": true, \"tickfont\": {\"color\": \"#4D5663\"}, \"title\": {\"font\": {\"color\": \"#4D5663\"}, \"text\": \"Avg_word_length\"}, \"zerolinecolor\": \"#E1E5ED\"}, \"yaxis\": {\"gridcolor\": \"#E1E5ED\", \"showgrid\": true, \"tickfont\": {\"color\": \"#4D5663\"}, \"title\": {\"font\": {\"color\": \"#4D5663\"}, \"text\": \"Count\"}, \"zerolinecolor\": \"#E1E5ED\"}},\n",
       "                        {\"showLink\": true, \"linkText\": \"Export to plot.ly\", \"plotlyServerURL\": \"https://plot.ly\", \"responsive\": true}\n",
       "                    ).then(function(){\n",
       "                            \n",
       "var gd = document.getElementById('d86e2fc7-3e50-45c9-a8a8-563c5e7c4fa3');\n",
       "var x = new MutationObserver(function (mutations, observer) {{\n",
       "        var display = window.getComputedStyle(gd).display;\n",
       "        if (!display || display === 'none') {{\n",
       "            console.log([gd, 'removed!']);\n",
       "            Plotly.purge(gd);\n",
       "            observer.disconnect();\n",
       "        }}\n",
       "}});\n",
       "\n",
       "// Listen for the removal of the full notebook cells\n",
       "var notebookContainer = gd.closest('#notebook-container');\n",
       "if (notebookContainer) {{\n",
       "    x.observe(notebookContainer, {childList: true});\n",
       "}}\n",
       "\n",
       "// Listen for the clearing of the current output cell\n",
       "var outputEl = gd.closest('.output');\n",
       "if (outputEl) {{\n",
       "    x.observe(outputEl, {childList: true});\n",
       "}}\n",
       "\n",
       "                        })\n",
       "                };\n",
       "                });\n",
       "            </script>\n",
       "        </div>"
      ]
     },
     "metadata": {},
     "output_type": "display_data"
    }
   ],
   "source": [
    "df['avg_word_len'].iplot(kind='hist',xTitle=\"Avg_word_length\",yTitle=\"Count\",title=\"Avg_word length distribution\") "
   ]
  },
  {
   "cell_type": "markdown",
   "metadata": {},
   "source": [
    "### <font> <font color=\"magenta\" > Insight <font>\n",
    "    \n",
    "    observed that the most of the reviews are words of length 4 or 6 "
   ]
  },
  {
   "cell_type": "code",
   "execution_count": 23,
   "metadata": {
    "scrolled": true
   },
   "outputs": [
    {
     "name": "stdout",
     "output_type": "stream",
     "text": [
      "1\n",
      "['\\n\\n  Average\\n\\n']\n"
     ]
    }
   ],
   "source": [
    "# write a function to print reviews of length 1\n",
    "single_word_list=[]\n",
    "for x in df['reviews']:\n",
    "    p= len(x.split())\n",
    "    if(p==1):\n",
    "        single_word_list.append(x)     \n",
    "single_word_len=len(single_word_list)\n",
    "print(single_word_len)\n",
    "print(single_word_list)"
   ]
  },
  {
   "cell_type": "code",
   "execution_count": 24,
   "metadata": {},
   "outputs": [
    {
     "name": "stdout",
     "output_type": "stream",
     "text": [
      "1\n",
      "['\\n\\n  Fake product\\n\\n']\n"
     ]
    }
   ],
   "source": [
    "# write a function to print reviews of length 2\n",
    "two_word_list=[]\n",
    "for x in df['reviews']:\n",
    "    p= len(x.split())\n",
    "    if(p==2):\n",
    "        two_word_list.append(x)\n",
    "two_word_len=len(two_word_list)\n",
    "print(two_word_len)\n",
    "print(two_word_list)\n",
    "\n",
    "## observed one and two words are mostly ajjectives with postive or negative sentimensts,\n",
    "## so we didnt remove them\n"
   ]
  },
  {
   "cell_type": "code",
   "execution_count": 25,
   "metadata": {},
   "outputs": [],
   "source": [
    "# definng a function to count the re occurences\n",
    "def count_regexp_occ(regexp=\"\", text=None):\n",
    "\n",
    "    return len(re.findall(regexp, text))"
   ]
  },
  {
   "cell_type": "code",
   "execution_count": 26,
   "metadata": {},
   "outputs": [],
   "source": [
    "# writing a function\n",
    "def numerical_features(df):\n",
    "    df['char_count'] = df['reviews'].apply(len)\n",
    "    df['num_words'] = df['reviews'].apply(lambda comment: len(comment.split()))\n",
    "    df['capitals'] = df['reviews'].apply(lambda comment: sum(1 for c in comment if c.isupper()))\n",
    "    #df['caps_vs_length'] = df.apply(lambda row: float(row['capitals'])/float(row['char_count']),\n",
    "    #axis=1)\n",
    "    df['#!_marks'] = df['reviews'].apply(lambda comment: comment.count(\"!\"))\n",
    "    df['#?_marks'] = df['reviews'].apply(lambda comment: comment.count(\"?\"))\n",
    "    df['num_punctuation'] = df['reviews'].apply(lambda x: \n",
    "                            len([c for c in str(x) if c in string.punctuation]))\n",
    "    df['num_stopwords'] = df['reviews'].apply(lambda x: \n",
    "                            len([w for w in str(x).lower().split() if w in eng_stopwords]))\n",
    "    df['num_symbols'] = df['reviews'].apply(lambda comment: sum(comment.count(w) for w in \"*&$%\"))\n",
    "    df['mean_word_len'] = df['reviews'].apply(lambda x: np.mean([len(w) for w in str(x).split()]))\n",
    "    df['num_unique_words'] = df['reviews'].apply(lambda comment: len(set(w for w in comment.split())))\n",
    "    #df['words_vs_unique'] = df['num_unique_words'] / df['num_words']\n",
    "    df['num_smilies'] = df['reviews'].apply(lambda comment:sum(comment.count(w) \n",
    "                                                for w in (':-)',':)',';-)',';)')))\n",
    "# Count number of \\n\n",
    "    df['ant_slash_n'] = df['reviews'].apply(lambda x: count_regexp_occ(r\"\\n\", x))\n",
    "\n",
    "# Check for time stamp\n",
    "    df['has_timestamp'] = df['reviews'].apply(lambda x: count_regexp_occ(r\"\\d{2}|:\\d{2}\", x))\n",
    "\n",
    "# Check for http links\n",
    "    df['has_http'] = df['reviews'].apply(lambda x: count_regexp_occ(r\"http[s]{0,1}://\\S+\", x))\n",
    "    return\n"
   ]
  },
  {
   "cell_type": "code",
   "execution_count": 27,
   "metadata": {},
   "outputs": [],
   "source": [
    "numerical_features(df)"
   ]
  },
  {
   "cell_type": "code",
   "execution_count": 28,
   "metadata": {},
   "outputs": [
    {
     "data": {
      "text/html": [
       "<div>\n",
       "<style scoped>\n",
       "    .dataframe tbody tr th:only-of-type {\n",
       "        vertical-align: middle;\n",
       "    }\n",
       "\n",
       "    .dataframe tbody tr th {\n",
       "        vertical-align: top;\n",
       "    }\n",
       "\n",
       "    .dataframe thead th {\n",
       "        text-align: right;\n",
       "    }\n",
       "</style>\n",
       "<table border=\"1\" class=\"dataframe\">\n",
       "  <thead>\n",
       "    <tr style=\"text-align: right;\">\n",
       "      <th></th>\n",
       "      <th>0</th>\n",
       "      <th>1</th>\n",
       "      <th>2</th>\n",
       "    </tr>\n",
       "  </thead>\n",
       "  <tbody>\n",
       "    <tr>\n",
       "      <th>reviews</th>\n",
       "      <td>\\n\\n  I would say this is the best available Mic in this price range. This m...</td>\n",
       "      <td>\\n\\n  Hi,So, after using this mic for about a month I am writing this review...</td>\n",
       "      <td>\\n\\n  WHEN RECORDING ON PHONE OR LApTOP THE quality was the same as you get ...</td>\n",
       "    </tr>\n",
       "    <tr>\n",
       "      <th>review_len</th>\n",
       "      <td>400</td>\n",
       "      <td>1500</td>\n",
       "      <td>403</td>\n",
       "    </tr>\n",
       "    <tr>\n",
       "      <th>word_count</th>\n",
       "      <td>73</td>\n",
       "      <td>253</td>\n",
       "      <td>73</td>\n",
       "    </tr>\n",
       "    <tr>\n",
       "      <th>avg_word_len</th>\n",
       "      <td>4.410959</td>\n",
       "      <td>4.909091</td>\n",
       "      <td>4.452055</td>\n",
       "    </tr>\n",
       "    <tr>\n",
       "      <th>char_count</th>\n",
       "      <td>400</td>\n",
       "      <td>1500</td>\n",
       "      <td>403</td>\n",
       "    </tr>\n",
       "    <tr>\n",
       "      <th>num_words</th>\n",
       "      <td>73</td>\n",
       "      <td>253</td>\n",
       "      <td>73</td>\n",
       "    </tr>\n",
       "    <tr>\n",
       "      <th>capitals</th>\n",
       "      <td>28</td>\n",
       "      <td>85</td>\n",
       "      <td>38</td>\n",
       "    </tr>\n",
       "    <tr>\n",
       "      <th>#!_marks</th>\n",
       "      <td>0</td>\n",
       "      <td>0</td>\n",
       "      <td>0</td>\n",
       "    </tr>\n",
       "    <tr>\n",
       "      <th>#?_marks</th>\n",
       "      <td>0</td>\n",
       "      <td>2</td>\n",
       "      <td>0</td>\n",
       "    </tr>\n",
       "    <tr>\n",
       "      <th>num_punctuation</th>\n",
       "      <td>15</td>\n",
       "      <td>61</td>\n",
       "      <td>8</td>\n",
       "    </tr>\n",
       "    <tr>\n",
       "      <th>num_stopwords</th>\n",
       "      <td>36</td>\n",
       "      <td>119</td>\n",
       "      <td>42</td>\n",
       "    </tr>\n",
       "    <tr>\n",
       "      <th>num_symbols</th>\n",
       "      <td>0</td>\n",
       "      <td>0</td>\n",
       "      <td>0</td>\n",
       "    </tr>\n",
       "    <tr>\n",
       "      <th>mean_word_len</th>\n",
       "      <td>4.410959</td>\n",
       "      <td>4.909091</td>\n",
       "      <td>4.452055</td>\n",
       "    </tr>\n",
       "    <tr>\n",
       "      <th>num_unique_words</th>\n",
       "      <td>64</td>\n",
       "      <td>169</td>\n",
       "      <td>60</td>\n",
       "    </tr>\n",
       "    <tr>\n",
       "      <th>num_smilies</th>\n",
       "      <td>0</td>\n",
       "      <td>0</td>\n",
       "      <td>0</td>\n",
       "    </tr>\n",
       "    <tr>\n",
       "      <th>ant_slash_n</th>\n",
       "      <td>4</td>\n",
       "      <td>4</td>\n",
       "      <td>4</td>\n",
       "    </tr>\n",
       "    <tr>\n",
       "      <th>has_timestamp</th>\n",
       "      <td>0</td>\n",
       "      <td>1</td>\n",
       "      <td>0</td>\n",
       "    </tr>\n",
       "    <tr>\n",
       "      <th>has_http</th>\n",
       "      <td>0</td>\n",
       "      <td>0</td>\n",
       "      <td>0</td>\n",
       "    </tr>\n",
       "  </tbody>\n",
       "</table>\n",
       "</div>"
      ],
      "text/plain": [
       "                                                                                                0  \\\n",
       "reviews           \\n\\n  I would say this is the best available Mic in this price range. This m...   \n",
       "review_len                                                                                    400   \n",
       "word_count                                                                                     73   \n",
       "avg_word_len                                                                             4.410959   \n",
       "char_count                                                                                    400   \n",
       "num_words                                                                                      73   \n",
       "capitals                                                                                       28   \n",
       "#!_marks                                                                                        0   \n",
       "#?_marks                                                                                        0   \n",
       "num_punctuation                                                                                15   \n",
       "num_stopwords                                                                                  36   \n",
       "num_symbols                                                                                     0   \n",
       "mean_word_len                                                                            4.410959   \n",
       "num_unique_words                                                                               64   \n",
       "num_smilies                                                                                     0   \n",
       "ant_slash_n                                                                                     4   \n",
       "has_timestamp                                                                                   0   \n",
       "has_http                                                                                        0   \n",
       "\n",
       "                                                                                                1  \\\n",
       "reviews           \\n\\n  Hi,So, after using this mic for about a month I am writing this review...   \n",
       "review_len                                                                                   1500   \n",
       "word_count                                                                                    253   \n",
       "avg_word_len                                                                             4.909091   \n",
       "char_count                                                                                   1500   \n",
       "num_words                                                                                     253   \n",
       "capitals                                                                                       85   \n",
       "#!_marks                                                                                        0   \n",
       "#?_marks                                                                                        2   \n",
       "num_punctuation                                                                                61   \n",
       "num_stopwords                                                                                 119   \n",
       "num_symbols                                                                                     0   \n",
       "mean_word_len                                                                            4.909091   \n",
       "num_unique_words                                                                              169   \n",
       "num_smilies                                                                                     0   \n",
       "ant_slash_n                                                                                     4   \n",
       "has_timestamp                                                                                   1   \n",
       "has_http                                                                                        0   \n",
       "\n",
       "                                                                                                2  \n",
       "reviews           \\n\\n  WHEN RECORDING ON PHONE OR LApTOP THE quality was the same as you get ...  \n",
       "review_len                                                                                    403  \n",
       "word_count                                                                                     73  \n",
       "avg_word_len                                                                             4.452055  \n",
       "char_count                                                                                    403  \n",
       "num_words                                                                                      73  \n",
       "capitals                                                                                       38  \n",
       "#!_marks                                                                                        0  \n",
       "#?_marks                                                                                        0  \n",
       "num_punctuation                                                                                 8  \n",
       "num_stopwords                                                                                  42  \n",
       "num_symbols                                                                                     0  \n",
       "mean_word_len                                                                            4.452055  \n",
       "num_unique_words                                                                               60  \n",
       "num_smilies                                                                                     0  \n",
       "ant_slash_n                                                                                     4  \n",
       "has_timestamp                                                                                   0  \n",
       "has_http                                                                                        0  "
      ]
     },
     "execution_count": 28,
     "metadata": {},
     "output_type": "execute_result"
    }
   ],
   "source": [
    "# dataframe attached with numerical features\n",
    "df.head(3).T"
   ]
  },
  {
   "cell_type": "markdown",
   "metadata": {},
   "source": [
    "##### <font> <font color=\"orange\"> Part of Speech analysis <font>"
   ]
  },
  {
   "cell_type": "code",
   "execution_count": 29,
   "metadata": {},
   "outputs": [],
   "source": [
    "## POS tag Analysis\n",
    "def tag_part_of_speech(text):\n",
    "    text_splited = text.split(' ')\n",
    "    text_splited = [''.join(c for c in s if c not in string.punctuation) for s in text_splited]\n",
    "    text_splited = [s for s in text_splited if s]\n",
    "    pos_list = pos_tag(text_splited)\n",
    "    noun_count = len([w for w in pos_list if w[1] in ('NN','NNP','NNPS','NNS')])\n",
    "    adjective_count = len([w for w in pos_list if w[1] in ('JJ','JJR','JJS')])\n",
    "    verb_count = len([w for w in pos_list if w[1] in ('VB','VBD','VBG','VBN','VBP','VBZ')])\n",
    "    adverb_count = len([w for w in pos_list if w[1] in ('RB','RBR','RBS')])\n",
    "    \n",
    "    return[noun_count, adjective_count, verb_count,adverb_count]"
   ]
  },
  {
   "cell_type": "code",
   "execution_count": 30,
   "metadata": {},
   "outputs": [
    {
     "name": "stderr",
     "output_type": "stream",
     "text": [
      "[nltk_data] Downloading package averaged_perceptron_tagger to\n",
      "[nltk_data]     /Users/dhanasreedevi/nltk_data...\n",
      "[nltk_data]   Package averaged_perceptron_tagger is already up-to-\n",
      "[nltk_data]       date!\n"
     ]
    }
   ],
   "source": [
    "nltk.download('averaged_perceptron_tagger')\n",
    "for df in ([df]):\n",
    "    df['nouns'], df['adjectives'], df['verbs'],df['adverbs'] = zip(*df['reviews'].apply(lambda comment: tag_part_of_speech(comment)))\n",
    "    df['nouns_vs_length'] = df['nouns'] / df['char_count']\n",
    "    df['adjectives_vs_length'] = df['adjectives'] / df['char_count']\n",
    "    df['verbs_vs_length'] = df['verbs'] /df['char_count']\n",
    "    df['nouns_vs_words'] = df['nouns'] / df['num_words']\n",
    "    df['adjectives_vs_words'] = df['adjectives'] / df['num_words']\n",
    "    df['verbs_vs_words'] = df['verbs'] / df['num_words']\n",
    "    "
   ]
  },
  {
   "cell_type": "code",
   "execution_count": 31,
   "metadata": {},
   "outputs": [
    {
     "data": {
      "text/html": [
       "<div>\n",
       "<style scoped>\n",
       "    .dataframe tbody tr th:only-of-type {\n",
       "        vertical-align: middle;\n",
       "    }\n",
       "\n",
       "    .dataframe tbody tr th {\n",
       "        vertical-align: top;\n",
       "    }\n",
       "\n",
       "    .dataframe thead th {\n",
       "        text-align: right;\n",
       "    }\n",
       "</style>\n",
       "<table border=\"1\" class=\"dataframe\">\n",
       "  <thead>\n",
       "    <tr style=\"text-align: right;\">\n",
       "      <th></th>\n",
       "      <th>0</th>\n",
       "      <th>1</th>\n",
       "      <th>2</th>\n",
       "    </tr>\n",
       "  </thead>\n",
       "  <tbody>\n",
       "    <tr>\n",
       "      <th>reviews</th>\n",
       "      <td>\\n\\n  I would say this is the best available Mic in this price range. This m...</td>\n",
       "      <td>\\n\\n  Hi,So, after using this mic for about a month I am writing this review...</td>\n",
       "      <td>\\n\\n  WHEN RECORDING ON PHONE OR LApTOP THE quality was the same as you get ...</td>\n",
       "    </tr>\n",
       "    <tr>\n",
       "      <th>review_len</th>\n",
       "      <td>400</td>\n",
       "      <td>1500</td>\n",
       "      <td>403</td>\n",
       "    </tr>\n",
       "    <tr>\n",
       "      <th>word_count</th>\n",
       "      <td>73</td>\n",
       "      <td>253</td>\n",
       "      <td>73</td>\n",
       "    </tr>\n",
       "    <tr>\n",
       "      <th>avg_word_len</th>\n",
       "      <td>4.410959</td>\n",
       "      <td>4.909091</td>\n",
       "      <td>4.452055</td>\n",
       "    </tr>\n",
       "    <tr>\n",
       "      <th>char_count</th>\n",
       "      <td>400</td>\n",
       "      <td>1500</td>\n",
       "      <td>403</td>\n",
       "    </tr>\n",
       "    <tr>\n",
       "      <th>num_words</th>\n",
       "      <td>73</td>\n",
       "      <td>253</td>\n",
       "      <td>73</td>\n",
       "    </tr>\n",
       "    <tr>\n",
       "      <th>capitals</th>\n",
       "      <td>28</td>\n",
       "      <td>85</td>\n",
       "      <td>38</td>\n",
       "    </tr>\n",
       "    <tr>\n",
       "      <th>#!_marks</th>\n",
       "      <td>0</td>\n",
       "      <td>0</td>\n",
       "      <td>0</td>\n",
       "    </tr>\n",
       "    <tr>\n",
       "      <th>#?_marks</th>\n",
       "      <td>0</td>\n",
       "      <td>2</td>\n",
       "      <td>0</td>\n",
       "    </tr>\n",
       "    <tr>\n",
       "      <th>num_punctuation</th>\n",
       "      <td>15</td>\n",
       "      <td>61</td>\n",
       "      <td>8</td>\n",
       "    </tr>\n",
       "    <tr>\n",
       "      <th>num_stopwords</th>\n",
       "      <td>36</td>\n",
       "      <td>119</td>\n",
       "      <td>42</td>\n",
       "    </tr>\n",
       "    <tr>\n",
       "      <th>num_symbols</th>\n",
       "      <td>0</td>\n",
       "      <td>0</td>\n",
       "      <td>0</td>\n",
       "    </tr>\n",
       "    <tr>\n",
       "      <th>mean_word_len</th>\n",
       "      <td>4.410959</td>\n",
       "      <td>4.909091</td>\n",
       "      <td>4.452055</td>\n",
       "    </tr>\n",
       "    <tr>\n",
       "      <th>num_unique_words</th>\n",
       "      <td>64</td>\n",
       "      <td>169</td>\n",
       "      <td>60</td>\n",
       "    </tr>\n",
       "    <tr>\n",
       "      <th>num_smilies</th>\n",
       "      <td>0</td>\n",
       "      <td>0</td>\n",
       "      <td>0</td>\n",
       "    </tr>\n",
       "    <tr>\n",
       "      <th>ant_slash_n</th>\n",
       "      <td>4</td>\n",
       "      <td>4</td>\n",
       "      <td>4</td>\n",
       "    </tr>\n",
       "    <tr>\n",
       "      <th>has_timestamp</th>\n",
       "      <td>0</td>\n",
       "      <td>1</td>\n",
       "      <td>0</td>\n",
       "    </tr>\n",
       "    <tr>\n",
       "      <th>has_http</th>\n",
       "      <td>0</td>\n",
       "      <td>0</td>\n",
       "      <td>0</td>\n",
       "    </tr>\n",
       "    <tr>\n",
       "      <th>nouns</th>\n",
       "      <td>23</td>\n",
       "      <td>62</td>\n",
       "      <td>31</td>\n",
       "    </tr>\n",
       "    <tr>\n",
       "      <th>adjectives</th>\n",
       "      <td>3</td>\n",
       "      <td>25</td>\n",
       "      <td>6</td>\n",
       "    </tr>\n",
       "    <tr>\n",
       "      <th>verbs</th>\n",
       "      <td>11</td>\n",
       "      <td>52</td>\n",
       "      <td>9</td>\n",
       "    </tr>\n",
       "    <tr>\n",
       "      <th>adverbs</th>\n",
       "      <td>3</td>\n",
       "      <td>16</td>\n",
       "      <td>1</td>\n",
       "    </tr>\n",
       "    <tr>\n",
       "      <th>nouns_vs_length</th>\n",
       "      <td>0.0575</td>\n",
       "      <td>0.041333</td>\n",
       "      <td>0.076923</td>\n",
       "    </tr>\n",
       "    <tr>\n",
       "      <th>adjectives_vs_length</th>\n",
       "      <td>0.0075</td>\n",
       "      <td>0.016667</td>\n",
       "      <td>0.014888</td>\n",
       "    </tr>\n",
       "    <tr>\n",
       "      <th>verbs_vs_length</th>\n",
       "      <td>0.0275</td>\n",
       "      <td>0.034667</td>\n",
       "      <td>0.022333</td>\n",
       "    </tr>\n",
       "    <tr>\n",
       "      <th>nouns_vs_words</th>\n",
       "      <td>0.315068</td>\n",
       "      <td>0.245059</td>\n",
       "      <td>0.424658</td>\n",
       "    </tr>\n",
       "    <tr>\n",
       "      <th>adjectives_vs_words</th>\n",
       "      <td>0.041096</td>\n",
       "      <td>0.098814</td>\n",
       "      <td>0.082192</td>\n",
       "    </tr>\n",
       "    <tr>\n",
       "      <th>verbs_vs_words</th>\n",
       "      <td>0.150685</td>\n",
       "      <td>0.205534</td>\n",
       "      <td>0.123288</td>\n",
       "    </tr>\n",
       "  </tbody>\n",
       "</table>\n",
       "</div>"
      ],
      "text/plain": [
       "                                                                                                    0  \\\n",
       "reviews               \\n\\n  I would say this is the best available Mic in this price range. This m...   \n",
       "review_len                                                                                        400   \n",
       "word_count                                                                                         73   \n",
       "avg_word_len                                                                                 4.410959   \n",
       "char_count                                                                                        400   \n",
       "num_words                                                                                          73   \n",
       "capitals                                                                                           28   \n",
       "#!_marks                                                                                            0   \n",
       "#?_marks                                                                                            0   \n",
       "num_punctuation                                                                                    15   \n",
       "num_stopwords                                                                                      36   \n",
       "num_symbols                                                                                         0   \n",
       "mean_word_len                                                                                4.410959   \n",
       "num_unique_words                                                                                   64   \n",
       "num_smilies                                                                                         0   \n",
       "ant_slash_n                                                                                         4   \n",
       "has_timestamp                                                                                       0   \n",
       "has_http                                                                                            0   \n",
       "nouns                                                                                              23   \n",
       "adjectives                                                                                          3   \n",
       "verbs                                                                                              11   \n",
       "adverbs                                                                                             3   \n",
       "nouns_vs_length                                                                                0.0575   \n",
       "adjectives_vs_length                                                                           0.0075   \n",
       "verbs_vs_length                                                                                0.0275   \n",
       "nouns_vs_words                                                                               0.315068   \n",
       "adjectives_vs_words                                                                          0.041096   \n",
       "verbs_vs_words                                                                               0.150685   \n",
       "\n",
       "                                                                                                    1  \\\n",
       "reviews               \\n\\n  Hi,So, after using this mic for about a month I am writing this review...   \n",
       "review_len                                                                                       1500   \n",
       "word_count                                                                                        253   \n",
       "avg_word_len                                                                                 4.909091   \n",
       "char_count                                                                                       1500   \n",
       "num_words                                                                                         253   \n",
       "capitals                                                                                           85   \n",
       "#!_marks                                                                                            0   \n",
       "#?_marks                                                                                            2   \n",
       "num_punctuation                                                                                    61   \n",
       "num_stopwords                                                                                     119   \n",
       "num_symbols                                                                                         0   \n",
       "mean_word_len                                                                                4.909091   \n",
       "num_unique_words                                                                                  169   \n",
       "num_smilies                                                                                         0   \n",
       "ant_slash_n                                                                                         4   \n",
       "has_timestamp                                                                                       1   \n",
       "has_http                                                                                            0   \n",
       "nouns                                                                                              62   \n",
       "adjectives                                                                                         25   \n",
       "verbs                                                                                              52   \n",
       "adverbs                                                                                            16   \n",
       "nouns_vs_length                                                                              0.041333   \n",
       "adjectives_vs_length                                                                         0.016667   \n",
       "verbs_vs_length                                                                              0.034667   \n",
       "nouns_vs_words                                                                               0.245059   \n",
       "adjectives_vs_words                                                                          0.098814   \n",
       "verbs_vs_words                                                                               0.205534   \n",
       "\n",
       "                                                                                                    2  \n",
       "reviews               \\n\\n  WHEN RECORDING ON PHONE OR LApTOP THE quality was the same as you get ...  \n",
       "review_len                                                                                        403  \n",
       "word_count                                                                                         73  \n",
       "avg_word_len                                                                                 4.452055  \n",
       "char_count                                                                                        403  \n",
       "num_words                                                                                          73  \n",
       "capitals                                                                                           38  \n",
       "#!_marks                                                                                            0  \n",
       "#?_marks                                                                                            0  \n",
       "num_punctuation                                                                                     8  \n",
       "num_stopwords                                                                                      42  \n",
       "num_symbols                                                                                         0  \n",
       "mean_word_len                                                                                4.452055  \n",
       "num_unique_words                                                                                   60  \n",
       "num_smilies                                                                                         0  \n",
       "ant_slash_n                                                                                         4  \n",
       "has_timestamp                                                                                       0  \n",
       "has_http                                                                                            0  \n",
       "nouns                                                                                              31  \n",
       "adjectives                                                                                          6  \n",
       "verbs                                                                                               9  \n",
       "adverbs                                                                                             1  \n",
       "nouns_vs_length                                                                              0.076923  \n",
       "adjectives_vs_length                                                                         0.014888  \n",
       "verbs_vs_length                                                                              0.022333  \n",
       "nouns_vs_words                                                                               0.424658  \n",
       "adjectives_vs_words                                                                          0.082192  \n",
       "verbs_vs_words                                                                               0.123288  "
      ]
     },
     "execution_count": 31,
     "metadata": {},
     "output_type": "execute_result"
    }
   ],
   "source": [
    "df.head(3).T"
   ]
  },
  {
   "cell_type": "code",
   "execution_count": 32,
   "metadata": {
    "scrolled": false
   },
   "outputs": [
    {
     "name": "stdout",
     "output_type": "stream",
     "text": [
      "count    1000.000000\n",
      "mean       55.731000\n",
      "std        55.880061\n",
      "min         1.000000\n",
      "25%        30.000000\n",
      "50%        44.000000\n",
      "75%        65.000000\n",
      "max       863.000000\n",
      "Name: reviews, dtype: float64\n"
     ]
    },
    {
     "data": {
      "text/plain": [
       "<matplotlib.axes._subplots.AxesSubplot at 0x7f8a8d587b20>"
      ]
     },
     "execution_count": 32,
     "metadata": {},
     "output_type": "execute_result"
    },
    {
     "data": {
      "image/png": "[encoded data removed]",
      "text/plain": [
       "<Figure size 432x288 with 1 Axes>"
      ]
     },
     "metadata": {
      "needs_background": "light"
     },
     "output_type": "display_data"
    }
   ],
   "source": [
    "# observing review lengths, counts\n",
    "lens = df.reviews.str.split().apply(lambda x: len(x))\n",
    "print(lens.describe())\n",
    "lens.hist(bins=20)"
   ]
  },
  {
   "cell_type": "markdown",
   "metadata": {},
   "source": [
    "#### <font> <font color=\"magenta\"> Some insights\n",
    "    observed nearly 4500+ reviews are of with length apprx= (0-50) words\n",
    "      \n",
    "    only few reviews are of length from 100 to 800 words (Long reviews)"
   ]
  },
  {
   "cell_type": "code",
   "execution_count": 33,
   "metadata": {},
   "outputs": [
    {
     "data": {
      "text/plain": [
       "<matplotlib.axes._subplots.AxesSubplot at 0x7f8a8d86af40>"
      ]
     },
     "execution_count": 33,
     "metadata": {},
     "output_type": "execute_result"
    },
    {
     "data": {
      "image/png": "[encoded data removed]",
      "text/plain": [
       "<Figure size 432x288 with 1 Axes>"
      ]
     },
     "metadata": {
      "needs_background": "light"
     },
     "output_type": "display_data"
    }
   ],
   "source": [
    "# avg word length in each review\n",
    "df['reviews'].str.split().\\\n",
    "   apply(lambda x : [len(i) for i in x]). \\\n",
    "   map(lambda x: np.mean(x)).hist(bins=14)\n"
   ]
  },
  {
   "cell_type": "markdown",
   "metadata": {},
   "source": [
    "### <font> <font color=\"magenta\" > Insight <font>\n",
    "    \n",
    "    observed that the most of the reviews are words of length 4 or 5 "
   ]
  },
  {
   "cell_type": "markdown",
   "metadata": {},
   "source": [
    "### <font> <font color=\"orange\"> Ngram exploration before removing stop words & lemmatization"
   ]
  },
  {
   "cell_type": "code",
   "execution_count": 34,
   "metadata": {},
   "outputs": [],
   "source": [
    "from nltk.util import ngrams\n",
    "from sklearn.feature_extraction.text import CountVectorizer"
   ]
  },
  {
   "cell_type": "code",
   "execution_count": 35,
   "metadata": {},
   "outputs": [],
   "source": [
    "# getting top n grams\n",
    "def get_top_ngram(corpus, n=None):\n",
    "    vec = CountVectorizer(ngram_range=(n, n)).fit(corpus)\n",
    "    bag_of_words = vec.transform(corpus)\n",
    "    sum_words = bag_of_words.sum(axis=0) \n",
    "    words_freq = [(word, sum_words[0, idx]) \n",
    "                  for word, idx in vec.vocabulary_.items()]\n",
    "    words_freq =sorted(words_freq, key = lambda x: x[1], reverse=True)\n",
    "    return words_freq[:10]"
   ]
  },
  {
   "cell_type": "code",
   "execution_count": 36,
   "metadata": {},
   "outputs": [
    {
     "data": {
      "text/plain": [
       "<matplotlib.axes._subplots.AxesSubplot at 0x7f8a8d721400>"
      ]
     },
     "execution_count": 36,
     "metadata": {},
     "output_type": "execute_result"
    },
    {
     "data": {
      "image/png": "[encoded data removed]",
      "text/plain": [
       "<Figure size 432x288 with 1 Axes>"
      ]
     },
     "metadata": {
      "needs_background": "light"
     },
     "output_type": "display_data"
    }
   ],
   "source": [
    "#Two words N_gram\n",
    "top_n_bigrams=get_top_ngram(df['reviews'],2)[:10]\n",
    "x,y=map(list,zip(*top_n_bigrams)) \n",
    "sns.barplot(x=y,y=x)"
   ]
  },
  {
   "cell_type": "code",
   "execution_count": 37,
   "metadata": {},
   "outputs": [
    {
     "data": {
      "text/plain": [
       "[[('this', 'DT'), ('mic', 'NN')],\n",
       " [('if', 'IN'), ('you', 'PRP')],\n",
       " [('it', 'PRP'), ('is', 'VBZ')],\n",
       " [('noise', 'NN'), ('cancellation', 'NN')],\n",
       " [('sound', 'JJ'), ('quality', 'NN')],\n",
       " [('quality', 'NN'), ('is', 'VBZ')],\n",
       " [('is', 'VBZ'), ('not', 'RB')],\n",
       " [('this', 'DT'), ('product', 'NN')],\n",
       " [('you', 'PRP'), ('can', 'MD')],\n",
       " [('is', 'VBZ'), ('very', 'RB')]]"
      ]
     },
     "execution_count": 37,
     "metadata": {},
     "output_type": "execute_result"
    }
   ],
   "source": [
    "pos_list=[]\n",
    "for i in x:\n",
    "    pos_list.append(pos_tag(i.split()))\n",
    "pos_list\n",
    "## observing 2_gram map and POS_tag, 2_grams didnt preserve that much of sentiments \n",
    "## through adjectives "
   ]
  },
  {
   "cell_type": "code",
   "execution_count": 38,
   "metadata": {},
   "outputs": [
    {
     "data": {
      "text/plain": [
       "<matplotlib.axes._subplots.AxesSubplot at 0x7f8a8d62f1c0>"
      ]
     },
     "execution_count": 38,
     "metadata": {},
     "output_type": "execute_result"
    },
    {
     "data": {
      "image/png": "[encoded data removed]",
      "text/plain": [
       "<Figure size 432x288 with 1 Axes>"
      ]
     },
     "metadata": {
      "needs_background": "light"
     },
     "output_type": "display_data"
    }
   ],
   "source": [
    "#Three words N_gram\n",
    "top_n_bigrams=get_top_ngram(df['reviews'],3)[:10]\n",
    "x,y=map(list,zip(*top_n_bigrams)) \n",
    "sns.barplot(x=y,y=x)"
   ]
  },
  {
   "cell_type": "code",
   "execution_count": 39,
   "metadata": {},
   "outputs": [
    {
     "data": {
      "text/plain": [
       "[[('sound', 'JJ'), ('quality', 'NN'), ('is', 'VBZ')],\n",
       " [('if', 'IN'), ('you', 'PRP'), ('are', 'VBP')],\n",
       " [('noise', 'NN'), ('cancellation', 'NN'), ('is', 'VBZ')],\n",
       " [('the', 'DT'), ('sound', 'NN'), ('quality', 'NN')],\n",
       " [('this', 'DT'), ('mic', 'NN'), ('is', 'VBZ')],\n",
       " [('you', 'PRP'), ('have', 'VBP'), ('to', 'TO')],\n",
       " [('go', 'VB'), ('for', 'IN'), ('it', 'PRP')],\n",
       " [('there', 'EX'), ('is', 'VBZ'), ('no', 'DT')],\n",
       " [('is', 'VBZ'), ('very', 'RB'), ('good', 'JJ')],\n",
       " [('it', 'PRP'), ('is', 'VBZ'), ('not', 'RB')]]"
      ]
     },
     "execution_count": 39,
     "metadata": {},
     "output_type": "execute_result"
    }
   ],
   "source": [
    "pos_list=[]\n",
    "for i in x:\n",
    "    pos_list.append(pos_tag(i.split()))\n",
    "pos_list"
   ]
  },
  {
   "cell_type": "code",
   "execution_count": 40,
   "metadata": {},
   "outputs": [
    {
     "data": {
      "text/plain": [
       "<matplotlib.axes._subplots.AxesSubplot at 0x7f8a8dbaa340>"
      ]
     },
     "execution_count": 40,
     "metadata": {},
     "output_type": "execute_result"
    },
    {
     "data": {
      "image/png": "[encoded data removed]",
      "text/plain": [
       "<Figure size 432x288 with 1 Axes>"
      ]
     },
     "metadata": {
      "needs_background": "light"
     },
     "output_type": "display_data"
    }
   ],
   "source": [
    "#four words N_gram\n",
    "top_n_bigrams=get_top_ngram(df['reviews'],4)[:10]\n",
    "x,y=map(list,zip(*top_n_bigrams)) \n",
    "sns.barplot(x=y,y=x)"
   ]
  },
  {
   "cell_type": "code",
   "execution_count": 41,
   "metadata": {},
   "outputs": [
    {
     "data": {
      "text/plain": [
       "[[('noise', 'NN'), ('cancellation', 'NN'), ('is', 'VBZ'), ('not', 'RB')],\n",
       " [('the', 'DT'), ('sound', 'NN'), ('quality', 'NN'), ('is', 'VBZ')],\n",
       " [('if', 'IN'), ('you', 'PRP'), ('want', 'VBP'), ('to', 'TO')],\n",
       " [('sound', 'JJ'), ('quality', 'NN'), ('is', 'VBZ'), ('good', 'JJ')],\n",
       " [('this', 'DT'), ('is', 'VBZ'), ('the', 'DT'), ('best', 'JJS')],\n",
       " [('your', 'PRP$'), ('browser', 'NN'), ('does', 'VBZ'), ('not', 'RB')],\n",
       " [('browser', 'NN'), ('does', 'VBZ'), ('not', 'RB'), ('support', 'VB')],\n",
       " [('does', 'VBZ'), ('not', 'RB'), ('support', 'VB'), ('html5', 'NN')],\n",
       " [('not', 'RB'), ('support', 'VB'), ('html5', 'NN'), ('video', 'NN')],\n",
       " [('sound', 'JJ'), ('quality', 'NN'), ('is', 'VBZ'), ('very', 'RB')]]"
      ]
     },
     "execution_count": 41,
     "metadata": {},
     "output_type": "execute_result"
    }
   ],
   "source": [
    "pos_list=[]\n",
    "for i in x:\n",
    "    pos_list.append(pos_tag(i.split()))\n",
    "pos_list"
   ]
  },
  {
   "cell_type": "markdown",
   "metadata": {},
   "source": [
    "### <font> <font color=\"magenta\"> Insight on 2,3,4_grams\n",
    "    \n",
    "   1.  we can observe that many people are worried of sound quality, noise cancellation, working of   \n",
    "       mic\n",
    "   2.  adjectives are somewhat in frequent in top 2,3,4_grams"
   ]
  },
  {
   "cell_type": "markdown",
   "metadata": {},
   "source": [
    "##  <font> <font color=\"red\"> Data Preprocesssing"
   ]
  },
  {
   "cell_type": "code",
   "execution_count": 42,
   "metadata": {},
   "outputs": [],
   "source": [
    "pd.set_option('display.max_colwidth', -1) # to display entire record text"
   ]
  },
  {
   "cell_type": "code",
   "execution_count": 43,
   "metadata": {},
   "outputs": [
    {
     "data": {
      "text/plain": [
       "0    \\n\\n  I would say this is the best available Mic in this price range. This mic can be connected to your DSLR, Smarthones, Laptops etc.Pros :1. Long Wire2. Sound Quality is really good and richCons :1. It will pick background noise, if you are in a noisy environment. But you can use RecForge 2 Audio Recorder App in your smartphone to Remove All The Noises.Apart from that, it's all gold. Go for it 😊\\n\\n                                                                                                                                                                                                                                                                                                                                                                                                                                                                                                                                                                                                                                                                                                                                                                                                                                                                                                                                                                                                                                                                                                                                            \n",
       "1    \\n\\n  Hi,So, after using this mic for about a month I am writing this review.I will give the most genuine review of this mic.So, let's begin. What does a beginner need?A budget-friendly mic yet gives the Best output. Right?BUILT QUALITY-Mic piece is very compact and handy to use. Given its compact size, it makes it convenient to carry anywhere you want-Cable/wire is extraordinarily long (6 meters). However, that's a great plus point. The long wire makes recording much easier and hassle-free-It has a Velcro for cable management. So, not a difficult task to keep the lengthy wire under control.-It weighs around 100gms-There are no batteries included-There's a switch ON/OFF button. While recording You need to switch to CAMERA MODE (Don't really know why its written camera)SOUND QUALITY-My recordings have improved considerably with this Mic and I am loving it.-Just one complaint I have. It captures a lot of airflow meaning I can hear a lot of air from my mouth in the final output. Even If I record anything while holding the mic from a considerable distance I can hear my breathing sounds.-Sound quality is loud enough and crisp.-It does capture my room's ceiling fan sound. So, I can hear that-- whoosh-- sound in the background when I am plugged into my earphones.-I record with the AC on and keep the fan switched off.Also, It comes with a handy pouch to keep your mic safe (yay).So, finally Best for production for a beginner like me because at this price it gives ample quality output.\\n\\n\n",
       "2    \\n\\n  WHEN RECORDING ON PHONE OR LApTOP THE quality was the same as you get from a regular headphone. i watched review about this product on y..tube even on the technical guruji channel. its a marketing strategy i guess. these are useless microphones with no noise cancellation. i dont know about if you r using it on dslr but on fon or pc it will give no special output. same fan noise and all.RETURNED\\n\\n                                                                                                                                                                                                                                                                                                                                                                                                                                                                                                                                                                                                                                                                                                                                                                                                                                                                                                                                                                                                                                                                                                                                         \n",
       "Name: reviews, dtype: object"
      ]
     },
     "execution_count": 43,
     "metadata": {},
     "output_type": "execute_result"
    }
   ],
   "source": [
    "df['reviews'][0:3]"
   ]
  },
  {
   "cell_type": "markdown",
   "metadata": {},
   "source": [
    "### <font><font color=\"Magenta\"> Insight \n",
    "\n",
    "clearly we can see that the reviews have special characters like: 😊,\\n,ASCII, some capitalzed words, \n",
    "\n",
    "some short forms like don't (called as contractions), will preprocess to remove all these types"
   ]
  },
  {
   "cell_type": "code",
   "execution_count": 44,
   "metadata": {
    "scrolled": true
   },
   "outputs": [
    {
     "data": {
      "text/plain": [
       "0    i would say this is the best available mic in this price range. this mic can be connected to your dslr, smarthones, laptops etc.pros :1. long wire2. sound quality is really good and richcons :1. it will pick background noise, if you are in a noisy environment. but you can use recforge 2 audio recorder app in your smartphone to remove all the noises.apart from that, it's all gold. go for it 😊                                                                                                                                                                                                                                                                                                                                                                                                                                                                                                                                                                                                                                                                                                                                                                                                                                                                                                                                                                                                                                                                                                                                                                                                                                                                                                                                                                                                                                                                                                       \n",
       "1    hi,so, after using this mic for about a month i am writing this review.i will give the most genuine review of this mic.so, let's begin. what does a beginner need?a budget-friendly mic yet gives the best output. right?built quality-mic piece is very compact and handy to use. given its compact size, it makes it convenient to carry anywhere you want-cable/wire is extraordinarily long (6 meters). however, that's a great plus point. the long wire makes recording much easier and hassle-free-it has a velcro for cable management. so, not a difficult task to keep the lengthy wire under control.-it weighs around 100gms-there are no batteries included-there's a switch on/off button. while recording you need to switch to camera mode (don't really know why its written camera)sound quality-my recordings have improved considerably with this mic and i am loving it.-just one complaint i have. it captures a lot of airflow meaning i can hear a lot of air from my mouth in the final output. even if i record anything while holding the mic from a considerable distance i can hear my breathing sounds.-sound quality is loud enough and crisp.-it does capture my room's ceiling fan sound. so, i can hear that-- whoosh-- sound in the background when i am plugged into my earphones.-i record with the ac on and keep the fan switched off.also, it comes with a handy pouch to keep your mic safe (yay).so, finally best for production for a beginner like me because at this price it gives ample quality output.                                                                                                                                                                                                                                                                                                                                                           \n",
       "2    when recording on phone or laptop the quality was the same as you get from a regular headphone. i watched review about this product on y..tube even on the technical guruji channel. its a marketing strategy i guess. these are useless microphones with no noise cancellation. i dont know about if you r using it on dslr but on fon or pc it will give no special output. same fan noise and all.returned                                                                                                                                                                                                                                                                                                                                                                                                                                                                                                                                                                                                                                                                                                                                                                                                                                                                                                                                                                                                                                                                                                                                                                                                                                                                                                                                                                                                                                                                                                    \n",
       "3    it stoped working within 2 months . while recording in starting it record for few seconds then after that records nothing . you will hear nothing recorded through this mic . worst mic .my whole amount got wasted . very dispointed .                                                                                                                                                                                                                                                                                                                                                                                                                                                                                                                                                                                                                                                                                                                                                                                                                                                                                                                                                                                                                                                                                                                                                                                                                                                                                                                                                                                                                                                                                                                                                                                                                                                                          \n",
       "4    i will give my honest review on boya m1. read this full and i may help you clear your dilemma. if you need in depth review i have a review video on youtube. go to youtube . com / mobiletechpoint or search for \"mobile tech point boya m1\" and you will find the review video. audio for the entire video has been recorded with boya m1.1. i bought boya m1 for 800 rupees. so this is a great pro mic for the price.2. first thing we notice is that the cable is 6 meters long which is super lengthy. so you have to be good in cable management. it is nice to see that battery unit is made of metal. if you use the mic with smartphones you don’t need a battery because the mic draws the power from the phone. but in case of dslr, you need to switch to camera mode. good part of this mic is that it can connect with smartphones, tablets, pc, dslr’s  and external audio recorders like zoom h1n. that’s pretty awesome right?3. for the price we pay, this mic gives you excellent quality audio. having a 6-meter cable can be an advantage or disadvantage, it depends on how you look at it. if you are using the mic with external recorder you don’t need a 6m cable, but if you are using the mic with a dslr camera and if you want to move around, it gives you all the freedom. the other only concern that you need to be aware of is, since there is no battery indicator you might want to carry an extra battery. if you are going to record something important which you don’t want to miss at all, put in a new battery and you will be fine.4. if you are into audio recording, then boya m1 lavalier mic is a must have. even if you have an external audio recorder or a condenser mic, get this mic as well. i am sure this will come in handy at some point of time.if you have any doubts, post a comment on my youtube video i will answer your query. thanks. buy this!\n",
       "Name: reviews, dtype: object"
      ]
     },
     "execution_count": 44,
     "metadata": {},
     "output_type": "execute_result"
    }
   ],
   "source": [
    "# Converting Strings to Lowercase\n",
    "df['reviews'] = [review.strip().lower() for review in df['reviews']]\n",
    "df['reviews'][:5]"
   ]
  },
  {
   "cell_type": "markdown",
   "metadata": {},
   "source": [
    "### <font> <font color=\"Green\"> Defining the functions to perform basic wranglings like \n",
    "\n",
    "- **expanding contractions......like don't as do not**\n",
    " \n",
    "- **remove accented characters... like e~, etc**\n",
    "\n",
    "- **scrub words.... to remove special characters like ?, * etc**"
   ]
  },
  {
   "cell_type": "code",
   "execution_count": 45,
   "metadata": {},
   "outputs": [
    {
     "data": {
      "text/plain": [
       "\"hi,so, after using this mic for about a month i am writing this review.i will give the most genuine review of this mic.so, let's begin. what does a beginner need?a budget-friendly mic yet gives the best output. right?built quality-mic piece is very compact and handy to use. given its compact size, it makes it convenient to carry anywhere you want-cable/wire is extraordinarily long (6 meters). however, that's a great plus point. the long wire makes recording much easier and hassle-free-it has a velcro for cable management. so, not a difficult task to keep the lengthy wire under control.-it weighs around 100gms-there are no batteries included-there's a switch on/off button. while recording you need to switch to camera mode (don't really know why its written camera)sound quality-my recordings have improved considerably with this mic and i am loving it.-just one complaint i have. it captures a lot of airflow meaning i can hear a lot of air from my mouth in the final output. even if i record anything while holding the mic from a considerable distance i can hear my breathing sounds.-sound quality is loud enough and crisp.-it does capture my room's ceiling fan sound. so, i can hear that-- whoosh-- sound in the background when i am plugged into my earphones.-i record with the ac on and keep the fan switched off.also, it comes with a handy pouch to keep your mic safe (yay).so, finally best for production for a beginner like me because at this price it gives ample quality output.\""
      ]
     },
     "execution_count": 45,
     "metadata": {},
     "output_type": "execute_result"
    }
   ],
   "source": [
    "df['reviews'][1]"
   ]
  },
  {
   "cell_type": "code",
   "execution_count": 46,
   "metadata": {},
   "outputs": [],
   "source": [
    "contractions = {\n",
    "\"ain't\": \"is not\",\n",
    "\"aren't\": \"are not\",\n",
    "\"can't\": \"cannot\",\n",
    "\"can't've\": \"cannot have\",\n",
    "\"'cause\": \"because\",\n",
    "\"could've\": \"could have\",\n",
    "\"couldn't\": \"could not\",\n",
    "\"couldn't've\": \"could not have\",\n",
    "\"didn't\": \"did not\",\n",
    "\"doesn't\": \"does not\",\n",
    "\"don't\": \"do not\",\n",
    "\"hadn't\": \"had not\",\n",
    "\"hadn't've\": \"had not have\",\n",
    "\"hasn't\": \"has not\",\n",
    "\"haven't\": \"have not\",\n",
    "\"he'd\": \"he would\",\n",
    "\"he'd've\": \"he would have\",\n",
    "\"he'll\": \"he will\",\n",
    "\"he'll've\": \"he he will have\",\n",
    "\"he's\": \"he is\",\n",
    "\"how'd\": \"how did\",\n",
    "\"how'd'y\": \"how do you\",\n",
    "\"how'll\": \"how will\",\n",
    "\"how's\": \"how is\",\n",
    "\"I'd\": \"I would\",\n",
    "\"I'd've\": \"I would have\",\n",
    "\"I'll\": \"I will\",\n",
    "\"I'll've\": \"I will have\",\n",
    "\"I'm\": \"I am\",\n",
    "\"I've\": \"I have\",\n",
    "\"i'd\": \"i would\",\n",
    "\"i'd've\": \"i would have\",\n",
    "\"i'll\": \"i will\",\n",
    "\"i'll've\": \"i will have\",\n",
    "\"i'm\": \"i am\",\n",
    "\"i've\": \"i have\",\n",
    "\"isn't\": \"is not\",\n",
    "\"it'd\": \"it would\",\n",
    "\"it'd've\": \"it would have\",\n",
    "\"it'll\": \"it will\",\n",
    "\"it'll've\": \"it will have\",\n",
    "\"it's\": \"it is\",\n",
    "\"let's\": \"let us\",\n",
    "\"ma'am\": \"madam\",\n",
    "\"mayn't\": \"may not\",\n",
    "\"might've\": \"might have\",\n",
    "\"mightn't\": \"might not\",\n",
    "\"mightn't've\": \"might not have\",\n",
    "\"must've\": \"must have\",\n",
    "\"mustn't\": \"must not\",\n",
    "\"mustn't've\": \"must not have\",\n",
    "\"needn't\": \"need not\",\n",
    "\"needn't've\": \"need not have\",\n",
    "\"o'clock\": \"of the clock\",\n",
    "\"oughtn't\": \"ought not\",\n",
    "\"oughtn't've\": \"ought not have\",\n",
    "\"shan't\": \"shall not\",\n",
    "\"sha'n't\": \"shall not\",\n",
    "\"shan't've\": \"shall not have\",\n",
    "\"she'd\": \"she would\",\n",
    "\"she'd've\": \"she would have\",\n",
    "\"she'll\": \"she will\",\n",
    "\"she'll've\": \"she will have\",\n",
    "\"she's\": \"she is\",\n",
    "\"should've\": \"should have\",\n",
    "\"shouldn't\": \"should not\",\n",
    "\"shouldn't've\": \"should not have\",\n",
    "\"so've\": \"so have\",\n",
    "\"so's\": \"so as\",\n",
    "\"that'd\": \"that would\",\n",
    "\"that'd've\": \"that would have\",\n",
    "\"that's\": \"that is\",\n",
    "\"there'd\": \"there would\",\n",
    "\"there'd've\": \"there would have\",\n",
    "\"there's\": \"there is\",\n",
    "\"they'd\": \"they would\",\n",
    "\"they'd've\": \"they would have\",\n",
    "\"they'll\": \"they will\",\n",
    "\"they'll've\": \"they will have\",\n",
    "\"they're\": \"they are\",\n",
    "\"they've\": \"they have\",\n",
    "\"to've\": \"to have\",\n",
    "\"wasn't\": \"was not\",\n",
    "\"we'd\": \"we would\",\n",
    "\"we'd've\": \"we would have\",\n",
    "\"we'll\": \"we will\",\n",
    "\"we'll've\": \"we will have\",\n",
    "\"we're\": \"we are\",\n",
    "\"we've\": \"we have\",\n",
    "\"weren't\": \"were not\",\n",
    "\"what'll\": \"what will\",\n",
    "\"what'll've\": \"what will have\",\n",
    "\"what're\": \"what are\",\n",
    "\"what's\": \"what is\",\n",
    "\"what've\": \"what have\",\n",
    "\"when's\": \"when is\",\n",
    "\"when've\": \"when have\",\n",
    "\"where'd\": \"where did\",\n",
    "\"where's\": \"where is\",\n",
    "\"where've\": \"where have\",\n",
    "\"who'll\": \"who will\",\n",
    "\"who'll've\": \"who will have\",\n",
    "\"who's\": \"who is\",\n",
    "\"who've\": \"who have\",\n",
    "\"why's\": \"why is\",\n",
    "\"why've\": \"why have\",\n",
    "\"will've\": \"will have\",\n",
    "\"won't\": \"will not\",\n",
    "\"won't've\": \"will not have\",\n",
    "\"would've\": \"would have\",\n",
    "\"wouldn't\": \"would not\",\n",
    "\"wouldn't've\": \"would not have\",\n",
    "\"y'all\": \"you all\",\n",
    "\"y'all'd\": \"you all would\",\n",
    "\"y'all'd've\": \"you all would have\",\n",
    "\"y'all're\": \"you all are\",\n",
    "\"y'all've\": \"you all have\",\n",
    "\"you'd\": \"you would\",\n",
    "\"you'd've\": \"you would have\",\n",
    "\"you'll\": \"you will\",\n",
    "\"you'll've\": \"you will have\",\n",
    "\"you're\": \"you are\",\n",
    "\"you've\": \"you have\"\n",
    "\n",
    "}"
   ]
  },
  {
   "cell_type": "code",
   "execution_count": 47,
   "metadata": {},
   "outputs": [],
   "source": [
    "def expand_contractions(text):\n",
    "    for word in text.split():\n",
    "        if word.lower() in contractions:\n",
    "            text = text.replace(word, contractions[word.lower()])\n",
    "    return text"
   ]
  },
  {
   "cell_type": "markdown",
   "metadata": {},
   "source": [
    "### <font> <font color=\"orange\"> Invoking the expand_contractions functions"
   ]
  },
  {
   "cell_type": "code",
   "execution_count": 48,
   "metadata": {},
   "outputs": [
    {
     "data": {
      "text/plain": [
       "'i will give my honest review on boya m1. read this full and i may help you clear your dilemma. if you need in depth review i have a review video on youtube. go to youtube . com / mobiletechpoint or search for \"mobile tech point boya m1\" and you will find the review video. audio for the entire video has been recorded with boya m1.1. i bought boya m1 for 800 rupees. so this is a great pro mic for the price.2. first thing we notice is that the cable is 6 meters long which is super lengthy. so you have to be good in cable management. it is nice to see that battery unit is made of metal. if you use the mic with smartphones you do not need a battery because the mic draws the power from the phone. but in case of dslr, you need to switch to camera mode. good part of this mic is that it can connect with smartphones, tablets, pc, dslr\\'s  and external audio recorders like zoom h1n. that is pretty awesome right?3. for the price we pay, this mic gives you excellent quality audio. having a 6-meter cable can be an advantage or disadvantage, it depends on how you look at it. if you are using the mic with external recorder you do not need a 6m cable, but if you are using the mic with a dslr camera and if you want to move around, it gives you all the freedom. the other only concern that you need to be aware of is, since there is no battery indicator you might want to carry an extra battery. if you are going to record something important which you do not want to miss at all, put in a new battery and you will be fine.4. if you are into audio recording, then boya m1 lavalier mic is a must have. even if you have an external audio recorder or a condenser mic, get this mic as well. i am sure this will come in handy at some point of time.if you have any doubts, post a comment on my youtube video i will answer your query. thanks. buy this!'"
      ]
     },
     "execution_count": 48,
     "metadata": {},
     "output_type": "execute_result"
    }
   ],
   "source": [
    "df['reviews'] = [expand_contractions(re.sub('’', \"'\", review)) for review in df['reviews']]\n",
    "df['reviews'][4]"
   ]
  },
  {
   "cell_type": "code",
   "execution_count": 49,
   "metadata": {},
   "outputs": [],
   "source": [
    "import unicodedata\n",
    "def remove_accented_chars(text):\n",
    "    text = unicodedata.normalize('NFKD', text).encode('ascii', 'ignore').decode('utf-8', 'ignore')\n",
    "    #https://docs.python.org/2/library/unicodedata.html\n",
    "    return text"
   ]
  },
  {
   "cell_type": "code",
   "execution_count": 50,
   "metadata": {},
   "outputs": [
    {
     "data": {
      "text/plain": [
       "'it stoped working within 2 months . while recording in starting it record for few seconds then after that records nothing . you will hear nothing recorded through this mic . worst mic .my whole amount got wasted . very dispointed .'"
      ]
     },
     "execution_count": 50,
     "metadata": {},
     "output_type": "execute_result"
    }
   ],
   "source": [
    "df['reviews'][3]"
   ]
  },
  {
   "cell_type": "markdown",
   "metadata": {},
   "source": [
    "### <font> <font color=\"blue\"> Invoking the remove_accented_chars functions"
   ]
  },
  {
   "cell_type": "code",
   "execution_count": 51,
   "metadata": {},
   "outputs": [
    {
     "data": {
      "text/plain": [
       "'it stoped working within 2 months . while recording in starting it record for few seconds then after that records nothing . you will hear nothing recorded through this mic . worst mic .my whole amount got wasted . very dispointed .'"
      ]
     },
     "execution_count": 51,
     "metadata": {},
     "output_type": "execute_result"
    }
   ],
   "source": [
    "df['reviews'] = [remove_accented_chars(review) for review in df['reviews']]\n",
    "df['reviews'][3]"
   ]
  },
  {
   "cell_type": "code",
   "execution_count": 52,
   "metadata": {},
   "outputs": [
    {
     "data": {
      "text/plain": [
       "'i would say this is the best available mic in this price range. this mic can be connected to your dslr, smarthones, laptops etc.pros :1. long wire2. sound quality is really good and richcons :1. it will pick background noise, if you are in a noisy environment. but you can use recforge 2 audio recorder app in your smartphone to remove all the noises.apart from that, it is all gold. go for it '"
      ]
     },
     "execution_count": 52,
     "metadata": {},
     "output_type": "execute_result"
    }
   ],
   "source": [
    "df['reviews'][0]"
   ]
  },
  {
   "cell_type": "code",
   "execution_count": 53,
   "metadata": {},
   "outputs": [],
   "source": [
    "# defining function to scrub special characters\n",
    "def scrub_words(text):\n",
    "    #Replace \\xao characters in text\n",
    "    text = re.sub('\\xa0', ' ', text)\n",
    "    \n",
    "    #Replace non ascii / not words and digits\n",
    "    text = re.sub(\"(\\\\W|\\\\d)\",' ',text)\n",
    "    \n",
    "    #Replace new line characters and following text untill space\n",
    "    text = re.sub('\\n(\\w*?)[\\s]', '', text)\n",
    "    \n",
    "    #Remove html markup\n",
    "    text = re.sub(\"<.*?>\", ' ', text)\n",
    "    \n",
    "    #Remove extra spaces from the text\n",
    "    text = re.sub(\"\\s+\", ' ', text)\n",
    "    return text"
   ]
  },
  {
   "cell_type": "markdown",
   "metadata": {},
   "source": [
    "### <font> <font color=\"blue\"> Invoking the scrub function"
   ]
  },
  {
   "cell_type": "code",
   "execution_count": 54,
   "metadata": {},
   "outputs": [],
   "source": [
    "pd.set_option('display.max_colwidth', -1)"
   ]
  },
  {
   "cell_type": "code",
   "execution_count": 55,
   "metadata": {},
   "outputs": [
    {
     "data": {
      "text/plain": [
       "'when recording on phone or laptop the quality was the same as you get from a regular headphone i watched review about this product on y tube even on the technical guruji channel its a marketing strategy i guess these are useless microphones with no noise cancellation i dont know about if you r using it on dslr but on fon or pc it will give no special output same fan noise and all returned'"
      ]
     },
     "execution_count": 55,
     "metadata": {},
     "output_type": "execute_result"
    }
   ],
   "source": [
    "df['reviews'] = [scrub_words(review) for review in df['reviews']]\n",
    "df['reviews'][2]"
   ]
  },
  {
   "cell_type": "code",
   "execution_count": 56,
   "metadata": {
    "scrolled": true
   },
   "outputs": [
    {
     "data": {
      "text/html": [
       "<div>\n",
       "<style scoped>\n",
       "    .dataframe tbody tr th:only-of-type {\n",
       "        vertical-align: middle;\n",
       "    }\n",
       "\n",
       "    .dataframe tbody tr th {\n",
       "        vertical-align: top;\n",
       "    }\n",
       "\n",
       "    .dataframe thead th {\n",
       "        text-align: right;\n",
       "    }\n",
       "</style>\n",
       "<table border=\"1\" class=\"dataframe\">\n",
       "  <thead>\n",
       "    <tr style=\"text-align: right;\">\n",
       "      <th></th>\n",
       "      <th>0</th>\n",
       "      <th>1</th>\n",
       "      <th>2</th>\n",
       "      <th>3</th>\n",
       "      <th>4</th>\n",
       "    </tr>\n",
       "  </thead>\n",
       "  <tbody>\n",
       "    <tr>\n",
       "      <th>reviews</th>\n",
       "      <td>i would say this is the best available mic in this price range this mic can be connected to your dslr smarthones laptops etc pros long wire sound quality is really good and richcons it will pick background noise if you are in a noisy environment but you can use recforge audio recorder app in your smartphone to remove all the noises apart from that it is all gold go for it</td>\n",
       "      <td>hi so after using this mic for about a month i am writing this review i will give the most genuine review of this mic so let us begin what does a beginner need a budget friendly mic yet gives the best output right built quality mic piece is very compact and handy to use given its compact size it makes it convenient to carry anywhere you want cable wire is extraordinarily long meters however that is a great plus point the long wire makes recording much easier and hassle free it has a velcro for cable management so not a difficult task to keep the lengthy wire under control it weighs around gms there are no batteries included there s a switch on off button while recording you need to switch to camera mode don t really know why its written camera sound quality my recordings have improved considerably with this mic and i am loving it just one complaint i have it captures a lot of airflow meaning i can hear a lot of air from my mouth in the final output even if i record anything while holding the mic from a considerable distance i can hear my breathing sounds sound quality is loud enough and crisp it does capture my room s ceiling fan sound so i can hear that whoosh sound in the background when i am plugged into my earphones i record with the ac on and keep the fan switched off also it comes with a handy pouch to keep your mic safe yay so finally best for production for a beginner like me because at this price it gives ample quality output</td>\n",
       "      <td>when recording on phone or laptop the quality was the same as you get from a regular headphone i watched review about this product on y tube even on the technical guruji channel its a marketing strategy i guess these are useless microphones with no noise cancellation i dont know about if you r using it on dslr but on fon or pc it will give no special output same fan noise and all returned</td>\n",
       "      <td>it stoped working within months while recording in starting it record for few seconds then after that records nothing you will hear nothing recorded through this mic worst mic my whole amount got wasted very dispointed</td>\n",
       "      <td>i will give my honest review on boya m read this full and i may help you clear your dilemma if you need in depth review i have a review video on youtube go to youtube com mobiletechpoint or search for mobile tech point boya m and you will find the review video audio for the entire video has been recorded with boya m i bought boya m for rupees so this is a great pro mic for the price first thing we notice is that the cable is meters long which is super lengthy so you have to be good in cable management it is nice to see that battery unit is made of metal if you use the mic with smartphones you do not need a battery because the mic draws the power from the phone but in case of dslr you need to switch to camera mode good part of this mic is that it can connect with smartphones tablets pc dslr s and external audio recorders like zoom h n that is pretty awesome right for the price we pay this mic gives you excellent quality audio having a meter cable can be an advantage or disadvantage it depends on how you look at it if you are using the mic with external recorder you do not need a m cable but if you are using the mic with a dslr camera and if you want to move around it gives you all the freedom the other only concern that you need to be aware of is since there is no battery indicator you might want to carry an extra battery if you are going to record something important which you do not want to miss at all put in a new battery and you will be fine if you are into audio recording then boya m lavalier mic is a must have even if you have an external audio recorder or a condenser mic get this mic as well i am sure this will come in handy at some point of time if you have any doubts post a comment on my youtube video i will answer your query thanks buy this</td>\n",
       "    </tr>\n",
       "    <tr>\n",
       "      <th>review_len</th>\n",
       "      <td>400</td>\n",
       "      <td>1500</td>\n",
       "      <td>403</td>\n",
       "      <td>237</td>\n",
       "      <td>1847</td>\n",
       "    </tr>\n",
       "    <tr>\n",
       "      <th>word_count</th>\n",
       "      <td>73</td>\n",
       "      <td>253</td>\n",
       "      <td>73</td>\n",
       "      <td>42</td>\n",
       "      <td>364</td>\n",
       "    </tr>\n",
       "    <tr>\n",
       "      <th>avg_word_len</th>\n",
       "      <td>4.410959</td>\n",
       "      <td>4.909091</td>\n",
       "      <td>4.452055</td>\n",
       "      <td>4.52381</td>\n",
       "      <td>4.057692</td>\n",
       "    </tr>\n",
       "    <tr>\n",
       "      <th>char_count</th>\n",
       "      <td>400</td>\n",
       "      <td>1500</td>\n",
       "      <td>403</td>\n",
       "      <td>237</td>\n",
       "      <td>1847</td>\n",
       "    </tr>\n",
       "    <tr>\n",
       "      <th>num_words</th>\n",
       "      <td>73</td>\n",
       "      <td>253</td>\n",
       "      <td>73</td>\n",
       "      <td>42</td>\n",
       "      <td>364</td>\n",
       "    </tr>\n",
       "    <tr>\n",
       "      <th>capitals</th>\n",
       "      <td>28</td>\n",
       "      <td>85</td>\n",
       "      <td>38</td>\n",
       "      <td>8</td>\n",
       "      <td>35</td>\n",
       "    </tr>\n",
       "    <tr>\n",
       "      <th>#!_marks</th>\n",
       "      <td>0</td>\n",
       "      <td>0</td>\n",
       "      <td>0</td>\n",
       "      <td>0</td>\n",
       "      <td>1</td>\n",
       "    </tr>\n",
       "    <tr>\n",
       "      <th>#?_marks</th>\n",
       "      <td>0</td>\n",
       "      <td>2</td>\n",
       "      <td>0</td>\n",
       "      <td>0</td>\n",
       "      <td>1</td>\n",
       "    </tr>\n",
       "    <tr>\n",
       "      <th>num_punctuation</th>\n",
       "      <td>15</td>\n",
       "      <td>61</td>\n",
       "      <td>8</td>\n",
       "      <td>6</td>\n",
       "      <td>47</td>\n",
       "    </tr>\n",
       "    <tr>\n",
       "      <th>num_stopwords</th>\n",
       "      <td>36</td>\n",
       "      <td>119</td>\n",
       "      <td>42</td>\n",
       "      <td>19</td>\n",
       "      <td>195</td>\n",
       "    </tr>\n",
       "    <tr>\n",
       "      <th>num_symbols</th>\n",
       "      <td>0</td>\n",
       "      <td>0</td>\n",
       "      <td>0</td>\n",
       "      <td>0</td>\n",
       "      <td>0</td>\n",
       "    </tr>\n",
       "    <tr>\n",
       "      <th>mean_word_len</th>\n",
       "      <td>4.410959</td>\n",
       "      <td>4.909091</td>\n",
       "      <td>4.452055</td>\n",
       "      <td>4.52381</td>\n",
       "      <td>4.057692</td>\n",
       "    </tr>\n",
       "    <tr>\n",
       "      <th>num_unique_words</th>\n",
       "      <td>64</td>\n",
       "      <td>169</td>\n",
       "      <td>60</td>\n",
       "      <td>37</td>\n",
       "      <td>199</td>\n",
       "    </tr>\n",
       "    <tr>\n",
       "      <th>num_smilies</th>\n",
       "      <td>0</td>\n",
       "      <td>0</td>\n",
       "      <td>0</td>\n",
       "      <td>0</td>\n",
       "      <td>0</td>\n",
       "    </tr>\n",
       "    <tr>\n",
       "      <th>ant_slash_n</th>\n",
       "      <td>4</td>\n",
       "      <td>4</td>\n",
       "      <td>4</td>\n",
       "      <td>4</td>\n",
       "      <td>4</td>\n",
       "    </tr>\n",
       "    <tr>\n",
       "      <th>has_timestamp</th>\n",
       "      <td>0</td>\n",
       "      <td>1</td>\n",
       "      <td>0</td>\n",
       "      <td>0</td>\n",
       "      <td>1</td>\n",
       "    </tr>\n",
       "    <tr>\n",
       "      <th>has_http</th>\n",
       "      <td>0</td>\n",
       "      <td>0</td>\n",
       "      <td>0</td>\n",
       "      <td>0</td>\n",
       "      <td>0</td>\n",
       "    </tr>\n",
       "    <tr>\n",
       "      <th>nouns</th>\n",
       "      <td>23</td>\n",
       "      <td>62</td>\n",
       "      <td>31</td>\n",
       "      <td>11</td>\n",
       "      <td>96</td>\n",
       "    </tr>\n",
       "    <tr>\n",
       "      <th>adjectives</th>\n",
       "      <td>3</td>\n",
       "      <td>25</td>\n",
       "      <td>6</td>\n",
       "      <td>5</td>\n",
       "      <td>31</td>\n",
       "    </tr>\n",
       "    <tr>\n",
       "      <th>verbs</th>\n",
       "      <td>11</td>\n",
       "      <td>52</td>\n",
       "      <td>9</td>\n",
       "      <td>8</td>\n",
       "      <td>72</td>\n",
       "    </tr>\n",
       "    <tr>\n",
       "      <th>adverbs</th>\n",
       "      <td>3</td>\n",
       "      <td>16</td>\n",
       "      <td>1</td>\n",
       "      <td>2</td>\n",
       "      <td>6</td>\n",
       "    </tr>\n",
       "    <tr>\n",
       "      <th>nouns_vs_length</th>\n",
       "      <td>0.0575</td>\n",
       "      <td>0.041333</td>\n",
       "      <td>0.076923</td>\n",
       "      <td>0.046414</td>\n",
       "      <td>0.051976</td>\n",
       "    </tr>\n",
       "    <tr>\n",
       "      <th>adjectives_vs_length</th>\n",
       "      <td>0.0075</td>\n",
       "      <td>0.016667</td>\n",
       "      <td>0.014888</td>\n",
       "      <td>0.021097</td>\n",
       "      <td>0.016784</td>\n",
       "    </tr>\n",
       "    <tr>\n",
       "      <th>verbs_vs_length</th>\n",
       "      <td>0.0275</td>\n",
       "      <td>0.034667</td>\n",
       "      <td>0.022333</td>\n",
       "      <td>0.033755</td>\n",
       "      <td>0.038982</td>\n",
       "    </tr>\n",
       "    <tr>\n",
       "      <th>nouns_vs_words</th>\n",
       "      <td>0.315068</td>\n",
       "      <td>0.245059</td>\n",
       "      <td>0.424658</td>\n",
       "      <td>0.261905</td>\n",
       "      <td>0.263736</td>\n",
       "    </tr>\n",
       "    <tr>\n",
       "      <th>adjectives_vs_words</th>\n",
       "      <td>0.041096</td>\n",
       "      <td>0.098814</td>\n",
       "      <td>0.082192</td>\n",
       "      <td>0.119048</td>\n",
       "      <td>0.085165</td>\n",
       "    </tr>\n",
       "    <tr>\n",
       "      <th>verbs_vs_words</th>\n",
       "      <td>0.150685</td>\n",
       "      <td>0.205534</td>\n",
       "      <td>0.123288</td>\n",
       "      <td>0.190476</td>\n",
       "      <td>0.197802</td>\n",
       "    </tr>\n",
       "  </tbody>\n",
       "</table>\n",
       "</div>"
      ],
      "text/plain": [
       "                                                                                                                                                                                                                                                                                                                                                                                                            0  \\\n",
       "reviews               i would say this is the best available mic in this price range this mic can be connected to your dslr smarthones laptops etc pros long wire sound quality is really good and richcons it will pick background noise if you are in a noisy environment but you can use recforge audio recorder app in your smartphone to remove all the noises apart from that it is all gold go for it    \n",
       "review_len            400                                                                                                                                                                                                                                                                                                                                                                                       \n",
       "word_count            73                                                                                                                                                                                                                                                                                                                                                                                        \n",
       "avg_word_len          4.410959                                                                                                                                                                                                                                                                                                                                                                                  \n",
       "char_count            400                                                                                                                                                                                                                                                                                                                                                                                       \n",
       "num_words             73                                                                                                                                                                                                                                                                                                                                                                                        \n",
       "capitals              28                                                                                                                                                                                                                                                                                                                                                                                        \n",
       "#!_marks              0                                                                                                                                                                                                                                                                                                                                                                                         \n",
       "#?_marks              0                                                                                                                                                                                                                                                                                                                                                                                         \n",
       "num_punctuation       15                                                                                                                                                                                                                                                                                                                                                                                        \n",
       "num_stopwords         36                                                                                                                                                                                                                                                                                                                                                                                        \n",
       "num_symbols           0                                                                                                                                                                                                                                                                                                                                                                                         \n",
       "mean_word_len         4.410959                                                                                                                                                                                                                                                                                                                                                                                  \n",
       "num_unique_words      64                                                                                                                                                                                                                                                                                                                                                                                        \n",
       "num_smilies           0                                                                                                                                                                                                                                                                                                                                                                                         \n",
       "ant_slash_n           4                                                                                                                                                                                                                                                                                                                                                                                         \n",
       "has_timestamp         0                                                                                                                                                                                                                                                                                                                                                                                         \n",
       "has_http              0                                                                                                                                                                                                                                                                                                                                                                                         \n",
       "nouns                 23                                                                                                                                                                                                                                                                                                                                                                                        \n",
       "adjectives            3                                                                                                                                                                                                                                                                                                                                                                                         \n",
       "verbs                 11                                                                                                                                                                                                                                                                                                                                                                                        \n",
       "adverbs               3                                                                                                                                                                                                                                                                                                                                                                                         \n",
       "nouns_vs_length       0.0575                                                                                                                                                                                                                                                                                                                                                                                    \n",
       "adjectives_vs_length  0.0075                                                                                                                                                                                                                                                                                                                                                                                    \n",
       "verbs_vs_length       0.0275                                                                                                                                                                                                                                                                                                                                                                                    \n",
       "nouns_vs_words        0.315068                                                                                                                                                                                                                                                                                                                                                                                  \n",
       "adjectives_vs_words   0.041096                                                                                                                                                                                                                                                                                                                                                                                  \n",
       "verbs_vs_words        0.150685                                                                                                                                                                                                                                                                                                                                                                                  \n",
       "\n",
       "                                                                                                                                                                                                                                                                                                                                                                                                                                                                                                                                                                                                                                                                                                                                                                                                                                                                                                                                                                                                                                                                                                                                                                                                                                                                                                                                                                                                                                                                                                                                        1  \\\n",
       "reviews               hi so after using this mic for about a month i am writing this review i will give the most genuine review of this mic so let us begin what does a beginner need a budget friendly mic yet gives the best output right built quality mic piece is very compact and handy to use given its compact size it makes it convenient to carry anywhere you want cable wire is extraordinarily long meters however that is a great plus point the long wire makes recording much easier and hassle free it has a velcro for cable management so not a difficult task to keep the lengthy wire under control it weighs around gms there are no batteries included there s a switch on off button while recording you need to switch to camera mode don t really know why its written camera sound quality my recordings have improved considerably with this mic and i am loving it just one complaint i have it captures a lot of airflow meaning i can hear a lot of air from my mouth in the final output even if i record anything while holding the mic from a considerable distance i can hear my breathing sounds sound quality is loud enough and crisp it does capture my room s ceiling fan sound so i can hear that whoosh sound in the background when i am plugged into my earphones i record with the ac on and keep the fan switched off also it comes with a handy pouch to keep your mic safe yay so finally best for production for a beginner like me because at this price it gives ample quality output    \n",
       "review_len            1500                                                                                                                                                                                                                                                                                                                                                                                                                                                                                                                                                                                                                                                                                                                                                                                                                                                                                                                                                                                                                                                                                                                                                                                                                                                                                                                                                                                                                                                                                                                  \n",
       "word_count            253                                                                                                                                                                                                                                                                                                                                                                                                                                                                                                                                                                                                                                                                                                                                                                                                                                                                                                                                                                                                                                                                                                                                                                                                                                                                                                                                                                                                                                                                                                                   \n",
       "avg_word_len          4.909091                                                                                                                                                                                                                                                                                                                                                                                                                                                                                                                                                                                                                                                                                                                                                                                                                                                                                                                                                                                                                                                                                                                                                                                                                                                                                                                                                                                                                                                                                                              \n",
       "char_count            1500                                                                                                                                                                                                                                                                                                                                                                                                                                                                                                                                                                                                                                                                                                                                                                                                                                                                                                                                                                                                                                                                                                                                                                                                                                                                                                                                                                                                                                                                                                                  \n",
       "num_words             253                                                                                                                                                                                                                                                                                                                                                                                                                                                                                                                                                                                                                                                                                                                                                                                                                                                                                                                                                                                                                                                                                                                                                                                                                                                                                                                                                                                                                                                                                                                   \n",
       "capitals              85                                                                                                                                                                                                                                                                                                                                                                                                                                                                                                                                                                                                                                                                                                                                                                                                                                                                                                                                                                                                                                                                                                                                                                                                                                                                                                                                                                                                                                                                                                                    \n",
       "#!_marks              0                                                                                                                                                                                                                                                                                                                                                                                                                                                                                                                                                                                                                                                                                                                                                                                                                                                                                                                                                                                                                                                                                                                                                                                                                                                                                                                                                                                                                                                                                                                     \n",
       "#?_marks              2                                                                                                                                                                                                                                                                                                                                                                                                                                                                                                                                                                                                                                                                                                                                                                                                                                                                                                                                                                                                                                                                                                                                                                                                                                                                                                                                                                                                                                                                                                                     \n",
       "num_punctuation       61                                                                                                                                                                                                                                                                                                                                                                                                                                                                                                                                                                                                                                                                                                                                                                                                                                                                                                                                                                                                                                                                                                                                                                                                                                                                                                                                                                                                                                                                                                                    \n",
       "num_stopwords         119                                                                                                                                                                                                                                                                                                                                                                                                                                                                                                                                                                                                                                                                                                                                                                                                                                                                                                                                                                                                                                                                                                                                                                                                                                                                                                                                                                                                                                                                                                                   \n",
       "num_symbols           0                                                                                                                                                                                                                                                                                                                                                                                                                                                                                                                                                                                                                                                                                                                                                                                                                                                                                                                                                                                                                                                                                                                                                                                                                                                                                                                                                                                                                                                                                                                     \n",
       "mean_word_len         4.909091                                                                                                                                                                                                                                                                                                                                                                                                                                                                                                                                                                                                                                                                                                                                                                                                                                                                                                                                                                                                                                                                                                                                                                                                                                                                                                                                                                                                                                                                                                              \n",
       "num_unique_words      169                                                                                                                                                                                                                                                                                                                                                                                                                                                                                                                                                                                                                                                                                                                                                                                                                                                                                                                                                                                                                                                                                                                                                                                                                                                                                                                                                                                                                                                                                                                   \n",
       "num_smilies           0                                                                                                                                                                                                                                                                                                                                                                                                                                                                                                                                                                                                                                                                                                                                                                                                                                                                                                                                                                                                                                                                                                                                                                                                                                                                                                                                                                                                                                                                                                                     \n",
       "ant_slash_n           4                                                                                                                                                                                                                                                                                                                                                                                                                                                                                                                                                                                                                                                                                                                                                                                                                                                                                                                                                                                                                                                                                                                                                                                                                                                                                                                                                                                                                                                                                                                     \n",
       "has_timestamp         1                                                                                                                                                                                                                                                                                                                                                                                                                                                                                                                                                                                                                                                                                                                                                                                                                                                                                                                                                                                                                                                                                                                                                                                                                                                                                                                                                                                                                                                                                                                     \n",
       "has_http              0                                                                                                                                                                                                                                                                                                                                                                                                                                                                                                                                                                                                                                                                                                                                                                                                                                                                                                                                                                                                                                                                                                                                                                                                                                                                                                                                                                                                                                                                                                                     \n",
       "nouns                 62                                                                                                                                                                                                                                                                                                                                                                                                                                                                                                                                                                                                                                                                                                                                                                                                                                                                                                                                                                                                                                                                                                                                                                                                                                                                                                                                                                                                                                                                                                                    \n",
       "adjectives            25                                                                                                                                                                                                                                                                                                                                                                                                                                                                                                                                                                                                                                                                                                                                                                                                                                                                                                                                                                                                                                                                                                                                                                                                                                                                                                                                                                                                                                                                                                                    \n",
       "verbs                 52                                                                                                                                                                                                                                                                                                                                                                                                                                                                                                                                                                                                                                                                                                                                                                                                                                                                                                                                                                                                                                                                                                                                                                                                                                                                                                                                                                                                                                                                                                                    \n",
       "adverbs               16                                                                                                                                                                                                                                                                                                                                                                                                                                                                                                                                                                                                                                                                                                                                                                                                                                                                                                                                                                                                                                                                                                                                                                                                                                                                                                                                                                                                                                                                                                                    \n",
       "nouns_vs_length       0.041333                                                                                                                                                                                                                                                                                                                                                                                                                                                                                                                                                                                                                                                                                                                                                                                                                                                                                                                                                                                                                                                                                                                                                                                                                                                                                                                                                                                                                                                                                                              \n",
       "adjectives_vs_length  0.016667                                                                                                                                                                                                                                                                                                                                                                                                                                                                                                                                                                                                                                                                                                                                                                                                                                                                                                                                                                                                                                                                                                                                                                                                                                                                                                                                                                                                                                                                                                              \n",
       "verbs_vs_length       0.034667                                                                                                                                                                                                                                                                                                                                                                                                                                                                                                                                                                                                                                                                                                                                                                                                                                                                                                                                                                                                                                                                                                                                                                                                                                                                                                                                                                                                                                                                                                              \n",
       "nouns_vs_words        0.245059                                                                                                                                                                                                                                                                                                                                                                                                                                                                                                                                                                                                                                                                                                                                                                                                                                                                                                                                                                                                                                                                                                                                                                                                                                                                                                                                                                                                                                                                                                              \n",
       "adjectives_vs_words   0.098814                                                                                                                                                                                                                                                                                                                                                                                                                                                                                                                                                                                                                                                                                                                                                                                                                                                                                                                                                                                                                                                                                                                                                                                                                                                                                                                                                                                                                                                                                                              \n",
       "verbs_vs_words        0.205534                                                                                                                                                                                                                                                                                                                                                                                                                                                                                                                                                                                                                                                                                                                                                                                                                                                                                                                                                                                                                                                                                                                                                                                                                                                                                                                                                                                                                                                                                                              \n",
       "\n",
       "                                                                                                                                                                                                                                                                                                                                                                                                                            2  \\\n",
       "reviews               when recording on phone or laptop the quality was the same as you get from a regular headphone i watched review about this product on y tube even on the technical guruji channel its a marketing strategy i guess these are useless microphones with no noise cancellation i dont know about if you r using it on dslr but on fon or pc it will give no special output same fan noise and all returned   \n",
       "review_len            403                                                                                                                                                                                                                                                                                                                                                                                                       \n",
       "word_count            73                                                                                                                                                                                                                                                                                                                                                                                                        \n",
       "avg_word_len          4.452055                                                                                                                                                                                                                                                                                                                                                                                                  \n",
       "char_count            403                                                                                                                                                                                                                                                                                                                                                                                                       \n",
       "num_words             73                                                                                                                                                                                                                                                                                                                                                                                                        \n",
       "capitals              38                                                                                                                                                                                                                                                                                                                                                                                                        \n",
       "#!_marks              0                                                                                                                                                                                                                                                                                                                                                                                                         \n",
       "#?_marks              0                                                                                                                                                                                                                                                                                                                                                                                                         \n",
       "num_punctuation       8                                                                                                                                                                                                                                                                                                                                                                                                         \n",
       "num_stopwords         42                                                                                                                                                                                                                                                                                                                                                                                                        \n",
       "num_symbols           0                                                                                                                                                                                                                                                                                                                                                                                                         \n",
       "mean_word_len         4.452055                                                                                                                                                                                                                                                                                                                                                                                                  \n",
       "num_unique_words      60                                                                                                                                                                                                                                                                                                                                                                                                        \n",
       "num_smilies           0                                                                                                                                                                                                                                                                                                                                                                                                         \n",
       "ant_slash_n           4                                                                                                                                                                                                                                                                                                                                                                                                         \n",
       "has_timestamp         0                                                                                                                                                                                                                                                                                                                                                                                                         \n",
       "has_http              0                                                                                                                                                                                                                                                                                                                                                                                                         \n",
       "nouns                 31                                                                                                                                                                                                                                                                                                                                                                                                        \n",
       "adjectives            6                                                                                                                                                                                                                                                                                                                                                                                                         \n",
       "verbs                 9                                                                                                                                                                                                                                                                                                                                                                                                         \n",
       "adverbs               1                                                                                                                                                                                                                                                                                                                                                                                                         \n",
       "nouns_vs_length       0.076923                                                                                                                                                                                                                                                                                                                                                                                                  \n",
       "adjectives_vs_length  0.014888                                                                                                                                                                                                                                                                                                                                                                                                  \n",
       "verbs_vs_length       0.022333                                                                                                                                                                                                                                                                                                                                                                                                  \n",
       "nouns_vs_words        0.424658                                                                                                                                                                                                                                                                                                                                                                                                  \n",
       "adjectives_vs_words   0.082192                                                                                                                                                                                                                                                                                                                                                                                                  \n",
       "verbs_vs_words        0.123288                                                                                                                                                                                                                                                                                                                                                                                                  \n",
       "\n",
       "                                                                                                                                                                                                                                                3  \\\n",
       "reviews               it stoped working within months while recording in starting it record for few seconds then after that records nothing you will hear nothing recorded through this mic worst mic my whole amount got wasted very dispointed    \n",
       "review_len            237                                                                                                                                                                                                                           \n",
       "word_count            42                                                                                                                                                                                                                            \n",
       "avg_word_len          4.52381                                                                                                                                                                                                                       \n",
       "char_count            237                                                                                                                                                                                                                           \n",
       "num_words             42                                                                                                                                                                                                                            \n",
       "capitals              8                                                                                                                                                                                                                             \n",
       "#!_marks              0                                                                                                                                                                                                                             \n",
       "#?_marks              0                                                                                                                                                                                                                             \n",
       "num_punctuation       6                                                                                                                                                                                                                             \n",
       "num_stopwords         19                                                                                                                                                                                                                            \n",
       "num_symbols           0                                                                                                                                                                                                                             \n",
       "mean_word_len         4.52381                                                                                                                                                                                                                       \n",
       "num_unique_words      37                                                                                                                                                                                                                            \n",
       "num_smilies           0                                                                                                                                                                                                                             \n",
       "ant_slash_n           4                                                                                                                                                                                                                             \n",
       "has_timestamp         0                                                                                                                                                                                                                             \n",
       "has_http              0                                                                                                                                                                                                                             \n",
       "nouns                 11                                                                                                                                                                                                                            \n",
       "adjectives            5                                                                                                                                                                                                                             \n",
       "verbs                 8                                                                                                                                                                                                                             \n",
       "adverbs               2                                                                                                                                                                                                                             \n",
       "nouns_vs_length       0.046414                                                                                                                                                                                                                      \n",
       "adjectives_vs_length  0.021097                                                                                                                                                                                                                      \n",
       "verbs_vs_length       0.033755                                                                                                                                                                                                                      \n",
       "nouns_vs_words        0.261905                                                                                                                                                                                                                      \n",
       "adjectives_vs_words   0.119048                                                                                                                                                                                                                      \n",
       "verbs_vs_words        0.190476                                                                                                                                                                                                                      \n",
       "\n",
       "                                                                                                                                                                                                                                                                                                                                                                                                                                                                                                                                                                                                                                                                                                                                                                                                                                                                                                                                                                                                                                                                                                                                                                                                                                                                                                                                                                                                                                                                                                                                                                                                                                                                                                                                                                                                                                                                         4  \n",
       "reviews               i will give my honest review on boya m read this full and i may help you clear your dilemma if you need in depth review i have a review video on youtube go to youtube com mobiletechpoint or search for mobile tech point boya m and you will find the review video audio for the entire video has been recorded with boya m i bought boya m for rupees so this is a great pro mic for the price first thing we notice is that the cable is meters long which is super lengthy so you have to be good in cable management it is nice to see that battery unit is made of metal if you use the mic with smartphones you do not need a battery because the mic draws the power from the phone but in case of dslr you need to switch to camera mode good part of this mic is that it can connect with smartphones tablets pc dslr s and external audio recorders like zoom h n that is pretty awesome right for the price we pay this mic gives you excellent quality audio having a meter cable can be an advantage or disadvantage it depends on how you look at it if you are using the mic with external recorder you do not need a m cable but if you are using the mic with a dslr camera and if you want to move around it gives you all the freedom the other only concern that you need to be aware of is since there is no battery indicator you might want to carry an extra battery if you are going to record something important which you do not want to miss at all put in a new battery and you will be fine if you are into audio recording then boya m lavalier mic is a must have even if you have an external audio recorder or a condenser mic get this mic as well i am sure this will come in handy at some point of time if you have any doubts post a comment on my youtube video i will answer your query thanks buy this   \n",
       "review_len            1847                                                                                                                                                                                                                                                                                                                                                                                                                                                                                                                                                                                                                                                                                                                                                                                                                                                                                                                                                                                                                                                                                                                                                                                                                                                                                                                                                                                                                                                                                                                                                                                                                                                                                                                                                                                                                                                  \n",
       "word_count            364                                                                                                                                                                                                                                                                                                                                                                                                                                                                                                                                                                                                                                                                                                                                                                                                                                                                                                                                                                                                                                                                                                                                                                                                                                                                                                                                                                                                                                                                                                                                                                                                                                                                                                                                                                                                                                                   \n",
       "avg_word_len          4.057692                                                                                                                                                                                                                                                                                                                                                                                                                                                                                                                                                                                                                                                                                                                                                                                                                                                                                                                                                                                                                                                                                                                                                                                                                                                                                                                                                                                                                                                                                                                                                                                                                                                                                                                                                                                                                                              \n",
       "char_count            1847                                                                                                                                                                                                                                                                                                                                                                                                                                                                                                                                                                                                                                                                                                                                                                                                                                                                                                                                                                                                                                                                                                                                                                                                                                                                                                                                                                                                                                                                                                                                                                                                                                                                                                                                                                                                                                                  \n",
       "num_words             364                                                                                                                                                                                                                                                                                                                                                                                                                                                                                                                                                                                                                                                                                                                                                                                                                                                                                                                                                                                                                                                                                                                                                                                                                                                                                                                                                                                                                                                                                                                                                                                                                                                                                                                                                                                                                                                   \n",
       "capitals              35                                                                                                                                                                                                                                                                                                                                                                                                                                                                                                                                                                                                                                                                                                                                                                                                                                                                                                                                                                                                                                                                                                                                                                                                                                                                                                                                                                                                                                                                                                                                                                                                                                                                                                                                                                                                                                                    \n",
       "#!_marks              1                                                                                                                                                                                                                                                                                                                                                                                                                                                                                                                                                                                                                                                                                                                                                                                                                                                                                                                                                                                                                                                                                                                                                                                                                                                                                                                                                                                                                                                                                                                                                                                                                                                                                                                                                                                                                                                     \n",
       "#?_marks              1                                                                                                                                                                                                                                                                                                                                                                                                                                                                                                                                                                                                                                                                                                                                                                                                                                                                                                                                                                                                                                                                                                                                                                                                                                                                                                                                                                                                                                                                                                                                                                                                                                                                                                                                                                                                                                                     \n",
       "num_punctuation       47                                                                                                                                                                                                                                                                                                                                                                                                                                                                                                                                                                                                                                                                                                                                                                                                                                                                                                                                                                                                                                                                                                                                                                                                                                                                                                                                                                                                                                                                                                                                                                                                                                                                                                                                                                                                                                                    \n",
       "num_stopwords         195                                                                                                                                                                                                                                                                                                                                                                                                                                                                                                                                                                                                                                                                                                                                                                                                                                                                                                                                                                                                                                                                                                                                                                                                                                                                                                                                                                                                                                                                                                                                                                                                                                                                                                                                                                                                                                                   \n",
       "num_symbols           0                                                                                                                                                                                                                                                                                                                                                                                                                                                                                                                                                                                                                                                                                                                                                                                                                                                                                                                                                                                                                                                                                                                                                                                                                                                                                                                                                                                                                                                                                                                                                                                                                                                                                                                                                                                                                                                     \n",
       "mean_word_len         4.057692                                                                                                                                                                                                                                                                                                                                                                                                                                                                                                                                                                                                                                                                                                                                                                                                                                                                                                                                                                                                                                                                                                                                                                                                                                                                                                                                                                                                                                                                                                                                                                                                                                                                                                                                                                                                                                              \n",
       "num_unique_words      199                                                                                                                                                                                                                                                                                                                                                                                                                                                                                                                                                                                                                                                                                                                                                                                                                                                                                                                                                                                                                                                                                                                                                                                                                                                                                                                                                                                                                                                                                                                                                                                                                                                                                                                                                                                                                                                   \n",
       "num_smilies           0                                                                                                                                                                                                                                                                                                                                                                                                                                                                                                                                                                                                                                                                                                                                                                                                                                                                                                                                                                                                                                                                                                                                                                                                                                                                                                                                                                                                                                                                                                                                                                                                                                                                                                                                                                                                                                                     \n",
       "ant_slash_n           4                                                                                                                                                                                                                                                                                                                                                                                                                                                                                                                                                                                                                                                                                                                                                                                                                                                                                                                                                                                                                                                                                                                                                                                                                                                                                                                                                                                                                                                                                                                                                                                                                                                                                                                                                                                                                                                     \n",
       "has_timestamp         1                                                                                                                                                                                                                                                                                                                                                                                                                                                                                                                                                                                                                                                                                                                                                                                                                                                                                                                                                                                                                                                                                                                                                                                                                                                                                                                                                                                                                                                                                                                                                                                                                                                                                                                                                                                                                                                     \n",
       "has_http              0                                                                                                                                                                                                                                                                                                                                                                                                                                                                                                                                                                                                                                                                                                                                                                                                                                                                                                                                                                                                                                                                                                                                                                                                                                                                                                                                                                                                                                                                                                                                                                                                                                                                                                                                                                                                                                                     \n",
       "nouns                 96                                                                                                                                                                                                                                                                                                                                                                                                                                                                                                                                                                                                                                                                                                                                                                                                                                                                                                                                                                                                                                                                                                                                                                                                                                                                                                                                                                                                                                                                                                                                                                                                                                                                                                                                                                                                                                                    \n",
       "adjectives            31                                                                                                                                                                                                                                                                                                                                                                                                                                                                                                                                                                                                                                                                                                                                                                                                                                                                                                                                                                                                                                                                                                                                                                                                                                                                                                                                                                                                                                                                                                                                                                                                                                                                                                                                                                                                                                                    \n",
       "verbs                 72                                                                                                                                                                                                                                                                                                                                                                                                                                                                                                                                                                                                                                                                                                                                                                                                                                                                                                                                                                                                                                                                                                                                                                                                                                                                                                                                                                                                                                                                                                                                                                                                                                                                                                                                                                                                                                                    \n",
       "adverbs               6                                                                                                                                                                                                                                                                                                                                                                                                                                                                                                                                                                                                                                                                                                                                                                                                                                                                                                                                                                                                                                                                                                                                                                                                                                                                                                                                                                                                                                                                                                                                                                                                                                                                                                                                                                                                                                                     \n",
       "nouns_vs_length       0.051976                                                                                                                                                                                                                                                                                                                                                                                                                                                                                                                                                                                                                                                                                                                                                                                                                                                                                                                                                                                                                                                                                                                                                                                                                                                                                                                                                                                                                                                                                                                                                                                                                                                                                                                                                                                                                                              \n",
       "adjectives_vs_length  0.016784                                                                                                                                                                                                                                                                                                                                                                                                                                                                                                                                                                                                                                                                                                                                                                                                                                                                                                                                                                                                                                                                                                                                                                                                                                                                                                                                                                                                                                                                                                                                                                                                                                                                                                                                                                                                                                              \n",
       "verbs_vs_length       0.038982                                                                                                                                                                                                                                                                                                                                                                                                                                                                                                                                                                                                                                                                                                                                                                                                                                                                                                                                                                                                                                                                                                                                                                                                                                                                                                                                                                                                                                                                                                                                                                                                                                                                                                                                                                                                                                              \n",
       "nouns_vs_words        0.263736                                                                                                                                                                                                                                                                                                                                                                                                                                                                                                                                                                                                                                                                                                                                                                                                                                                                                                                                                                                                                                                                                                                                                                                                                                                                                                                                                                                                                                                                                                                                                                                                                                                                                                                                                                                                                                              \n",
       "adjectives_vs_words   0.085165                                                                                                                                                                                                                                                                                                                                                                                                                                                                                                                                                                                                                                                                                                                                                                                                                                                                                                                                                                                                                                                                                                                                                                                                                                                                                                                                                                                                                                                                                                                                                                                                                                                                                                                                                                                                                                              \n",
       "verbs_vs_words        0.197802                                                                                                                                                                                                                                                                                                                                                                                                                                                                                                                                                                                                                                                                                                                                                                                                                                                                                                                                                                                                                                                                                                                                                                                                                                                                                                                                                                                                                                                                                                                                                                                                                                                                                                                                                                                                                                              "
      ]
     },
     "execution_count": 56,
     "metadata": {},
     "output_type": "execute_result"
    }
   ],
   "source": [
    "df.head().T"
   ]
  },
  {
   "cell_type": "markdown",
   "metadata": {},
   "source": [
    " ### <font> <font color=\"magenta\"> INSIGHT :we can clearly observe the above reviews are scrubbed to our requirement"
   ]
  },
  {
   "cell_type": "code",
   "execution_count": 57,
   "metadata": {},
   "outputs": [],
   "source": [
    "numerical_features(df)"
   ]
  },
  {
   "cell_type": "code",
   "execution_count": 58,
   "metadata": {},
   "outputs": [
    {
     "data": {
      "text/html": [
       "<div>\n",
       "<style scoped>\n",
       "    .dataframe tbody tr th:only-of-type {\n",
       "        vertical-align: middle;\n",
       "    }\n",
       "\n",
       "    .dataframe tbody tr th {\n",
       "        vertical-align: top;\n",
       "    }\n",
       "\n",
       "    .dataframe thead th {\n",
       "        text-align: right;\n",
       "    }\n",
       "</style>\n",
       "<table border=\"1\" class=\"dataframe\">\n",
       "  <thead>\n",
       "    <tr style=\"text-align: right;\">\n",
       "      <th></th>\n",
       "      <th>0</th>\n",
       "      <th>1</th>\n",
       "      <th>2</th>\n",
       "    </tr>\n",
       "  </thead>\n",
       "  <tbody>\n",
       "    <tr>\n",
       "      <th>reviews</th>\n",
       "      <td>i would say this is the best available mic in this price range this mic can be connected to your dslr smarthones laptops etc pros long wire sound quality is really good and richcons it will pick background noise if you are in a noisy environment but you can use recforge audio recorder app in your smartphone to remove all the noises apart from that it is all gold go for it</td>\n",
       "      <td>hi so after using this mic for about a month i am writing this review i will give the most genuine review of this mic so let us begin what does a beginner need a budget friendly mic yet gives the best output right built quality mic piece is very compact and handy to use given its compact size it makes it convenient to carry anywhere you want cable wire is extraordinarily long meters however that is a great plus point the long wire makes recording much easier and hassle free it has a velcro for cable management so not a difficult task to keep the lengthy wire under control it weighs around gms there are no batteries included there s a switch on off button while recording you need to switch to camera mode don t really know why its written camera sound quality my recordings have improved considerably with this mic and i am loving it just one complaint i have it captures a lot of airflow meaning i can hear a lot of air from my mouth in the final output even if i record anything while holding the mic from a considerable distance i can hear my breathing sounds sound quality is loud enough and crisp it does capture my room s ceiling fan sound so i can hear that whoosh sound in the background when i am plugged into my earphones i record with the ac on and keep the fan switched off also it comes with a handy pouch to keep your mic safe yay so finally best for production for a beginner like me because at this price it gives ample quality output</td>\n",
       "      <td>when recording on phone or laptop the quality was the same as you get from a regular headphone i watched review about this product on y tube even on the technical guruji channel its a marketing strategy i guess these are useless microphones with no noise cancellation i dont know about if you r using it on dslr but on fon or pc it will give no special output same fan noise and all returned</td>\n",
       "    </tr>\n",
       "    <tr>\n",
       "      <th>review_len</th>\n",
       "      <td>400</td>\n",
       "      <td>1500</td>\n",
       "      <td>403</td>\n",
       "    </tr>\n",
       "    <tr>\n",
       "      <th>word_count</th>\n",
       "      <td>73</td>\n",
       "      <td>253</td>\n",
       "      <td>73</td>\n",
       "    </tr>\n",
       "    <tr>\n",
       "      <th>avg_word_len</th>\n",
       "      <td>4.410959</td>\n",
       "      <td>4.909091</td>\n",
       "      <td>4.452055</td>\n",
       "    </tr>\n",
       "    <tr>\n",
       "      <th>char_count</th>\n",
       "      <td>375</td>\n",
       "      <td>1459</td>\n",
       "      <td>391</td>\n",
       "    </tr>\n",
       "    <tr>\n",
       "      <th>num_words</th>\n",
       "      <td>72</td>\n",
       "      <td>280</td>\n",
       "      <td>75</td>\n",
       "    </tr>\n",
       "    <tr>\n",
       "      <th>capitals</th>\n",
       "      <td>0</td>\n",
       "      <td>0</td>\n",
       "      <td>0</td>\n",
       "    </tr>\n",
       "    <tr>\n",
       "      <th>#!_marks</th>\n",
       "      <td>0</td>\n",
       "      <td>0</td>\n",
       "      <td>0</td>\n",
       "    </tr>\n",
       "    <tr>\n",
       "      <th>#?_marks</th>\n",
       "      <td>0</td>\n",
       "      <td>0</td>\n",
       "      <td>0</td>\n",
       "    </tr>\n",
       "    <tr>\n",
       "      <th>num_punctuation</th>\n",
       "      <td>0</td>\n",
       "      <td>0</td>\n",
       "      <td>0</td>\n",
       "    </tr>\n",
       "    <tr>\n",
       "      <th>num_stopwords</th>\n",
       "      <td>39</td>\n",
       "      <td>145</td>\n",
       "      <td>43</td>\n",
       "    </tr>\n",
       "    <tr>\n",
       "      <th>num_symbols</th>\n",
       "      <td>0</td>\n",
       "      <td>0</td>\n",
       "      <td>0</td>\n",
       "    </tr>\n",
       "    <tr>\n",
       "      <th>mean_word_len</th>\n",
       "      <td>4.208333</td>\n",
       "      <td>4.210714</td>\n",
       "      <td>4.226667</td>\n",
       "    </tr>\n",
       "    <tr>\n",
       "      <th>num_unique_words</th>\n",
       "      <td>57</td>\n",
       "      <td>161</td>\n",
       "      <td>59</td>\n",
       "    </tr>\n",
       "    <tr>\n",
       "      <th>num_smilies</th>\n",
       "      <td>0</td>\n",
       "      <td>0</td>\n",
       "      <td>0</td>\n",
       "    </tr>\n",
       "    <tr>\n",
       "      <th>ant_slash_n</th>\n",
       "      <td>0</td>\n",
       "      <td>0</td>\n",
       "      <td>0</td>\n",
       "    </tr>\n",
       "    <tr>\n",
       "      <th>has_timestamp</th>\n",
       "      <td>0</td>\n",
       "      <td>0</td>\n",
       "      <td>0</td>\n",
       "    </tr>\n",
       "    <tr>\n",
       "      <th>has_http</th>\n",
       "      <td>0</td>\n",
       "      <td>0</td>\n",
       "      <td>0</td>\n",
       "    </tr>\n",
       "    <tr>\n",
       "      <th>nouns</th>\n",
       "      <td>23</td>\n",
       "      <td>62</td>\n",
       "      <td>31</td>\n",
       "    </tr>\n",
       "    <tr>\n",
       "      <th>adjectives</th>\n",
       "      <td>3</td>\n",
       "      <td>25</td>\n",
       "      <td>6</td>\n",
       "    </tr>\n",
       "    <tr>\n",
       "      <th>verbs</th>\n",
       "      <td>11</td>\n",
       "      <td>52</td>\n",
       "      <td>9</td>\n",
       "    </tr>\n",
       "    <tr>\n",
       "      <th>adverbs</th>\n",
       "      <td>3</td>\n",
       "      <td>16</td>\n",
       "      <td>1</td>\n",
       "    </tr>\n",
       "    <tr>\n",
       "      <th>nouns_vs_length</th>\n",
       "      <td>0.0575</td>\n",
       "      <td>0.041333</td>\n",
       "      <td>0.076923</td>\n",
       "    </tr>\n",
       "    <tr>\n",
       "      <th>adjectives_vs_length</th>\n",
       "      <td>0.0075</td>\n",
       "      <td>0.016667</td>\n",
       "      <td>0.014888</td>\n",
       "    </tr>\n",
       "    <tr>\n",
       "      <th>verbs_vs_length</th>\n",
       "      <td>0.0275</td>\n",
       "      <td>0.034667</td>\n",
       "      <td>0.022333</td>\n",
       "    </tr>\n",
       "    <tr>\n",
       "      <th>nouns_vs_words</th>\n",
       "      <td>0.315068</td>\n",
       "      <td>0.245059</td>\n",
       "      <td>0.424658</td>\n",
       "    </tr>\n",
       "    <tr>\n",
       "      <th>adjectives_vs_words</th>\n",
       "      <td>0.041096</td>\n",
       "      <td>0.098814</td>\n",
       "      <td>0.082192</td>\n",
       "    </tr>\n",
       "    <tr>\n",
       "      <th>verbs_vs_words</th>\n",
       "      <td>0.150685</td>\n",
       "      <td>0.205534</td>\n",
       "      <td>0.123288</td>\n",
       "    </tr>\n",
       "  </tbody>\n",
       "</table>\n",
       "</div>"
      ],
      "text/plain": [
       "                                                                                                                                                                                                                                                                                                                                                                                                            0  \\\n",
       "reviews               i would say this is the best available mic in this price range this mic can be connected to your dslr smarthones laptops etc pros long wire sound quality is really good and richcons it will pick background noise if you are in a noisy environment but you can use recforge audio recorder app in your smartphone to remove all the noises apart from that it is all gold go for it    \n",
       "review_len            400                                                                                                                                                                                                                                                                                                                                                                                       \n",
       "word_count            73                                                                                                                                                                                                                                                                                                                                                                                        \n",
       "avg_word_len          4.410959                                                                                                                                                                                                                                                                                                                                                                                  \n",
       "char_count            375                                                                                                                                                                                                                                                                                                                                                                                       \n",
       "num_words             72                                                                                                                                                                                                                                                                                                                                                                                        \n",
       "capitals              0                                                                                                                                                                                                                                                                                                                                                                                         \n",
       "#!_marks              0                                                                                                                                                                                                                                                                                                                                                                                         \n",
       "#?_marks              0                                                                                                                                                                                                                                                                                                                                                                                         \n",
       "num_punctuation       0                                                                                                                                                                                                                                                                                                                                                                                         \n",
       "num_stopwords         39                                                                                                                                                                                                                                                                                                                                                                                        \n",
       "num_symbols           0                                                                                                                                                                                                                                                                                                                                                                                         \n",
       "mean_word_len         4.208333                                                                                                                                                                                                                                                                                                                                                                                  \n",
       "num_unique_words      57                                                                                                                                                                                                                                                                                                                                                                                        \n",
       "num_smilies           0                                                                                                                                                                                                                                                                                                                                                                                         \n",
       "ant_slash_n           0                                                                                                                                                                                                                                                                                                                                                                                         \n",
       "has_timestamp         0                                                                                                                                                                                                                                                                                                                                                                                         \n",
       "has_http              0                                                                                                                                                                                                                                                                                                                                                                                         \n",
       "nouns                 23                                                                                                                                                                                                                                                                                                                                                                                        \n",
       "adjectives            3                                                                                                                                                                                                                                                                                                                                                                                         \n",
       "verbs                 11                                                                                                                                                                                                                                                                                                                                                                                        \n",
       "adverbs               3                                                                                                                                                                                                                                                                                                                                                                                         \n",
       "nouns_vs_length       0.0575                                                                                                                                                                                                                                                                                                                                                                                    \n",
       "adjectives_vs_length  0.0075                                                                                                                                                                                                                                                                                                                                                                                    \n",
       "verbs_vs_length       0.0275                                                                                                                                                                                                                                                                                                                                                                                    \n",
       "nouns_vs_words        0.315068                                                                                                                                                                                                                                                                                                                                                                                  \n",
       "adjectives_vs_words   0.041096                                                                                                                                                                                                                                                                                                                                                                                  \n",
       "verbs_vs_words        0.150685                                                                                                                                                                                                                                                                                                                                                                                  \n",
       "\n",
       "                                                                                                                                                                                                                                                                                                                                                                                                                                                                                                                                                                                                                                                                                                                                                                                                                                                                                                                                                                                                                                                                                                                                                                                                                                                                                                                                                                                                                                                                                                                                        1  \\\n",
       "reviews               hi so after using this mic for about a month i am writing this review i will give the most genuine review of this mic so let us begin what does a beginner need a budget friendly mic yet gives the best output right built quality mic piece is very compact and handy to use given its compact size it makes it convenient to carry anywhere you want cable wire is extraordinarily long meters however that is a great plus point the long wire makes recording much easier and hassle free it has a velcro for cable management so not a difficult task to keep the lengthy wire under control it weighs around gms there are no batteries included there s a switch on off button while recording you need to switch to camera mode don t really know why its written camera sound quality my recordings have improved considerably with this mic and i am loving it just one complaint i have it captures a lot of airflow meaning i can hear a lot of air from my mouth in the final output even if i record anything while holding the mic from a considerable distance i can hear my breathing sounds sound quality is loud enough and crisp it does capture my room s ceiling fan sound so i can hear that whoosh sound in the background when i am plugged into my earphones i record with the ac on and keep the fan switched off also it comes with a handy pouch to keep your mic safe yay so finally best for production for a beginner like me because at this price it gives ample quality output    \n",
       "review_len            1500                                                                                                                                                                                                                                                                                                                                                                                                                                                                                                                                                                                                                                                                                                                                                                                                                                                                                                                                                                                                                                                                                                                                                                                                                                                                                                                                                                                                                                                                                                                  \n",
       "word_count            253                                                                                                                                                                                                                                                                                                                                                                                                                                                                                                                                                                                                                                                                                                                                                                                                                                                                                                                                                                                                                                                                                                                                                                                                                                                                                                                                                                                                                                                                                                                   \n",
       "avg_word_len          4.909091                                                                                                                                                                                                                                                                                                                                                                                                                                                                                                                                                                                                                                                                                                                                                                                                                                                                                                                                                                                                                                                                                                                                                                                                                                                                                                                                                                                                                                                                                                              \n",
       "char_count            1459                                                                                                                                                                                                                                                                                                                                                                                                                                                                                                                                                                                                                                                                                                                                                                                                                                                                                                                                                                                                                                                                                                                                                                                                                                                                                                                                                                                                                                                                                                                  \n",
       "num_words             280                                                                                                                                                                                                                                                                                                                                                                                                                                                                                                                                                                                                                                                                                                                                                                                                                                                                                                                                                                                                                                                                                                                                                                                                                                                                                                                                                                                                                                                                                                                   \n",
       "capitals              0                                                                                                                                                                                                                                                                                                                                                                                                                                                                                                                                                                                                                                                                                                                                                                                                                                                                                                                                                                                                                                                                                                                                                                                                                                                                                                                                                                                                                                                                                                                     \n",
       "#!_marks              0                                                                                                                                                                                                                                                                                                                                                                                                                                                                                                                                                                                                                                                                                                                                                                                                                                                                                                                                                                                                                                                                                                                                                                                                                                                                                                                                                                                                                                                                                                                     \n",
       "#?_marks              0                                                                                                                                                                                                                                                                                                                                                                                                                                                                                                                                                                                                                                                                                                                                                                                                                                                                                                                                                                                                                                                                                                                                                                                                                                                                                                                                                                                                                                                                                                                     \n",
       "num_punctuation       0                                                                                                                                                                                                                                                                                                                                                                                                                                                                                                                                                                                                                                                                                                                                                                                                                                                                                                                                                                                                                                                                                                                                                                                                                                                                                                                                                                                                                                                                                                                     \n",
       "num_stopwords         145                                                                                                                                                                                                                                                                                                                                                                                                                                                                                                                                                                                                                                                                                                                                                                                                                                                                                                                                                                                                                                                                                                                                                                                                                                                                                                                                                                                                                                                                                                                   \n",
       "num_symbols           0                                                                                                                                                                                                                                                                                                                                                                                                                                                                                                                                                                                                                                                                                                                                                                                                                                                                                                                                                                                                                                                                                                                                                                                                                                                                                                                                                                                                                                                                                                                     \n",
       "mean_word_len         4.210714                                                                                                                                                                                                                                                                                                                                                                                                                                                                                                                                                                                                                                                                                                                                                                                                                                                                                                                                                                                                                                                                                                                                                                                                                                                                                                                                                                                                                                                                                                              \n",
       "num_unique_words      161                                                                                                                                                                                                                                                                                                                                                                                                                                                                                                                                                                                                                                                                                                                                                                                                                                                                                                                                                                                                                                                                                                                                                                                                                                                                                                                                                                                                                                                                                                                   \n",
       "num_smilies           0                                                                                                                                                                                                                                                                                                                                                                                                                                                                                                                                                                                                                                                                                                                                                                                                                                                                                                                                                                                                                                                                                                                                                                                                                                                                                                                                                                                                                                                                                                                     \n",
       "ant_slash_n           0                                                                                                                                                                                                                                                                                                                                                                                                                                                                                                                                                                                                                                                                                                                                                                                                                                                                                                                                                                                                                                                                                                                                                                                                                                                                                                                                                                                                                                                                                                                     \n",
       "has_timestamp         0                                                                                                                                                                                                                                                                                                                                                                                                                                                                                                                                                                                                                                                                                                                                                                                                                                                                                                                                                                                                                                                                                                                                                                                                                                                                                                                                                                                                                                                                                                                     \n",
       "has_http              0                                                                                                                                                                                                                                                                                                                                                                                                                                                                                                                                                                                                                                                                                                                                                                                                                                                                                                                                                                                                                                                                                                                                                                                                                                                                                                                                                                                                                                                                                                                     \n",
       "nouns                 62                                                                                                                                                                                                                                                                                                                                                                                                                                                                                                                                                                                                                                                                                                                                                                                                                                                                                                                                                                                                                                                                                                                                                                                                                                                                                                                                                                                                                                                                                                                    \n",
       "adjectives            25                                                                                                                                                                                                                                                                                                                                                                                                                                                                                                                                                                                                                                                                                                                                                                                                                                                                                                                                                                                                                                                                                                                                                                                                                                                                                                                                                                                                                                                                                                                    \n",
       "verbs                 52                                                                                                                                                                                                                                                                                                                                                                                                                                                                                                                                                                                                                                                                                                                                                                                                                                                                                                                                                                                                                                                                                                                                                                                                                                                                                                                                                                                                                                                                                                                    \n",
       "adverbs               16                                                                                                                                                                                                                                                                                                                                                                                                                                                                                                                                                                                                                                                                                                                                                                                                                                                                                                                                                                                                                                                                                                                                                                                                                                                                                                                                                                                                                                                                                                                    \n",
       "nouns_vs_length       0.041333                                                                                                                                                                                                                                                                                                                                                                                                                                                                                                                                                                                                                                                                                                                                                                                                                                                                                                                                                                                                                                                                                                                                                                                                                                                                                                                                                                                                                                                                                                              \n",
       "adjectives_vs_length  0.016667                                                                                                                                                                                                                                                                                                                                                                                                                                                                                                                                                                                                                                                                                                                                                                                                                                                                                                                                                                                                                                                                                                                                                                                                                                                                                                                                                                                                                                                                                                              \n",
       "verbs_vs_length       0.034667                                                                                                                                                                                                                                                                                                                                                                                                                                                                                                                                                                                                                                                                                                                                                                                                                                                                                                                                                                                                                                                                                                                                                                                                                                                                                                                                                                                                                                                                                                              \n",
       "nouns_vs_words        0.245059                                                                                                                                                                                                                                                                                                                                                                                                                                                                                                                                                                                                                                                                                                                                                                                                                                                                                                                                                                                                                                                                                                                                                                                                                                                                                                                                                                                                                                                                                                              \n",
       "adjectives_vs_words   0.098814                                                                                                                                                                                                                                                                                                                                                                                                                                                                                                                                                                                                                                                                                                                                                                                                                                                                                                                                                                                                                                                                                                                                                                                                                                                                                                                                                                                                                                                                                                              \n",
       "verbs_vs_words        0.205534                                                                                                                                                                                                                                                                                                                                                                                                                                                                                                                                                                                                                                                                                                                                                                                                                                                                                                                                                                                                                                                                                                                                                                                                                                                                                                                                                                                                                                                                                                              \n",
       "\n",
       "                                                                                                                                                                                                                                                                                                                                                                                                                            2  \n",
       "reviews               when recording on phone or laptop the quality was the same as you get from a regular headphone i watched review about this product on y tube even on the technical guruji channel its a marketing strategy i guess these are useless microphones with no noise cancellation i dont know about if you r using it on dslr but on fon or pc it will give no special output same fan noise and all returned  \n",
       "review_len            403                                                                                                                                                                                                                                                                                                                                                                                                      \n",
       "word_count            73                                                                                                                                                                                                                                                                                                                                                                                                       \n",
       "avg_word_len          4.452055                                                                                                                                                                                                                                                                                                                                                                                                 \n",
       "char_count            391                                                                                                                                                                                                                                                                                                                                                                                                      \n",
       "num_words             75                                                                                                                                                                                                                                                                                                                                                                                                       \n",
       "capitals              0                                                                                                                                                                                                                                                                                                                                                                                                        \n",
       "#!_marks              0                                                                                                                                                                                                                                                                                                                                                                                                        \n",
       "#?_marks              0                                                                                                                                                                                                                                                                                                                                                                                                        \n",
       "num_punctuation       0                                                                                                                                                                                                                                                                                                                                                                                                        \n",
       "num_stopwords         43                                                                                                                                                                                                                                                                                                                                                                                                       \n",
       "num_symbols           0                                                                                                                                                                                                                                                                                                                                                                                                        \n",
       "mean_word_len         4.226667                                                                                                                                                                                                                                                                                                                                                                                                 \n",
       "num_unique_words      59                                                                                                                                                                                                                                                                                                                                                                                                       \n",
       "num_smilies           0                                                                                                                                                                                                                                                                                                                                                                                                        \n",
       "ant_slash_n           0                                                                                                                                                                                                                                                                                                                                                                                                        \n",
       "has_timestamp         0                                                                                                                                                                                                                                                                                                                                                                                                        \n",
       "has_http              0                                                                                                                                                                                                                                                                                                                                                                                                        \n",
       "nouns                 31                                                                                                                                                                                                                                                                                                                                                                                                       \n",
       "adjectives            6                                                                                                                                                                                                                                                                                                                                                                                                        \n",
       "verbs                 9                                                                                                                                                                                                                                                                                                                                                                                                        \n",
       "adverbs               1                                                                                                                                                                                                                                                                                                                                                                                                        \n",
       "nouns_vs_length       0.076923                                                                                                                                                                                                                                                                                                                                                                                                 \n",
       "adjectives_vs_length  0.014888                                                                                                                                                                                                                                                                                                                                                                                                 \n",
       "verbs_vs_length       0.022333                                                                                                                                                                                                                                                                                                                                                                                                 \n",
       "nouns_vs_words        0.424658                                                                                                                                                                                                                                                                                                                                                                                                 \n",
       "adjectives_vs_words   0.082192                                                                                                                                                                                                                                                                                                                                                                                                 \n",
       "verbs_vs_words        0.123288                                                                                                                                                                                                                                                                                                                                                                                                 "
      ]
     },
     "execution_count": 58,
     "metadata": {},
     "output_type": "execute_result"
    }
   ],
   "source": [
    "df.head(3).T"
   ]
  },
  {
   "cell_type": "markdown",
   "metadata": {},
   "source": [
    "### <font> <font color=\"red\"> NULL_VALUES"
   ]
  },
  {
   "cell_type": "code",
   "execution_count": 59,
   "metadata": {},
   "outputs": [
    {
     "data": {
      "text/plain": [
       "0"
      ]
     },
     "execution_count": 59,
     "metadata": {},
     "output_type": "execute_result"
    }
   ],
   "source": [
    "# Null values in reviews\n",
    "\n",
    "df['reviews'].isna().sum()\n",
    "\n",
    "# no null found"
   ]
  },
  {
   "cell_type": "markdown",
   "metadata": {},
   "source": [
    "### <font> <font color=\"red\"> Removing stop words from df "
   ]
  },
  {
   "cell_type": "code",
   "execution_count": 60,
   "metadata": {},
   "outputs": [
    {
     "data": {
      "text/html": [
       "<div>\n",
       "<style scoped>\n",
       "    .dataframe tbody tr th:only-of-type {\n",
       "        vertical-align: middle;\n",
       "    }\n",
       "\n",
       "    .dataframe tbody tr th {\n",
       "        vertical-align: top;\n",
       "    }\n",
       "\n",
       "    .dataframe thead th {\n",
       "        text-align: right;\n",
       "    }\n",
       "</style>\n",
       "<table border=\"1\" class=\"dataframe\">\n",
       "  <thead>\n",
       "    <tr style=\"text-align: right;\">\n",
       "      <th></th>\n",
       "      <th>reviews</th>\n",
       "      <th>review_len</th>\n",
       "      <th>word_count</th>\n",
       "      <th>avg_word_len</th>\n",
       "      <th>char_count</th>\n",
       "      <th>num_words</th>\n",
       "      <th>capitals</th>\n",
       "      <th>#!_marks</th>\n",
       "      <th>#?_marks</th>\n",
       "      <th>num_punctuation</th>\n",
       "      <th>...</th>\n",
       "      <th>nouns</th>\n",
       "      <th>adjectives</th>\n",
       "      <th>verbs</th>\n",
       "      <th>adverbs</th>\n",
       "      <th>nouns_vs_length</th>\n",
       "      <th>adjectives_vs_length</th>\n",
       "      <th>verbs_vs_length</th>\n",
       "      <th>nouns_vs_words</th>\n",
       "      <th>adjectives_vs_words</th>\n",
       "      <th>verbs_vs_words</th>\n",
       "    </tr>\n",
       "  </thead>\n",
       "  <tbody>\n",
       "    <tr>\n",
       "      <th>0</th>\n",
       "      <td>i would say this is the best available mic in this price range this mic can be connected to your dslr smarthones laptops etc pros long wire sound quality is really good and richcons it will pick background noise if you are in a noisy environment but you can use recforge audio recorder app in your smartphone to remove all the noises apart from that it is all gold go for it</td>\n",
       "      <td>400</td>\n",
       "      <td>73</td>\n",
       "      <td>4.410959</td>\n",
       "      <td>375</td>\n",
       "      <td>72</td>\n",
       "      <td>0</td>\n",
       "      <td>0</td>\n",
       "      <td>0</td>\n",
       "      <td>0</td>\n",
       "      <td>...</td>\n",
       "      <td>23</td>\n",
       "      <td>3</td>\n",
       "      <td>11</td>\n",
       "      <td>3</td>\n",
       "      <td>0.057500</td>\n",
       "      <td>0.007500</td>\n",
       "      <td>0.027500</td>\n",
       "      <td>0.315068</td>\n",
       "      <td>0.041096</td>\n",
       "      <td>0.150685</td>\n",
       "    </tr>\n",
       "    <tr>\n",
       "      <th>1</th>\n",
       "      <td>hi so after using this mic for about a month i am writing this review i will give the most genuine review of this mic so let us begin what does a beginner need a budget friendly mic yet gives the best output right built quality mic piece is very compact and handy to use given its compact size it makes it convenient to carry anywhere you want cable wire is extraordinarily long meters however that is a great plus point the long wire makes recording much easier and hassle free it has a velcro for cable management so not a difficult task to keep the lengthy wire under control it weighs around gms there are no batteries included there s a switch on off button while recording you need to switch to camera mode don t really know why its written camera sound quality my recordings have improved considerably with this mic and i am loving it just one complaint i have it captures a lot of airflow meaning i can hear a lot of air from my mouth in the final output even if i record anything while holding the mic from a considerable distance i can hear my breathing sounds sound quality is loud enough and crisp it does capture my room s ceiling fan sound so i can hear that whoosh sound in the background when i am plugged into my earphones i record with the ac on and keep the fan switched off also it comes with a handy pouch to keep your mic safe yay so finally best for production for a beginner like me because at this price it gives ample quality output</td>\n",
       "      <td>1500</td>\n",
       "      <td>253</td>\n",
       "      <td>4.909091</td>\n",
       "      <td>1459</td>\n",
       "      <td>280</td>\n",
       "      <td>0</td>\n",
       "      <td>0</td>\n",
       "      <td>0</td>\n",
       "      <td>0</td>\n",
       "      <td>...</td>\n",
       "      <td>62</td>\n",
       "      <td>25</td>\n",
       "      <td>52</td>\n",
       "      <td>16</td>\n",
       "      <td>0.041333</td>\n",
       "      <td>0.016667</td>\n",
       "      <td>0.034667</td>\n",
       "      <td>0.245059</td>\n",
       "      <td>0.098814</td>\n",
       "      <td>0.205534</td>\n",
       "    </tr>\n",
       "    <tr>\n",
       "      <th>2</th>\n",
       "      <td>when recording on phone or laptop the quality was the same as you get from a regular headphone i watched review about this product on y tube even on the technical guruji channel its a marketing strategy i guess these are useless microphones with no noise cancellation i dont know about if you r using it on dslr but on fon or pc it will give no special output same fan noise and all returned</td>\n",
       "      <td>403</td>\n",
       "      <td>73</td>\n",
       "      <td>4.452055</td>\n",
       "      <td>391</td>\n",
       "      <td>75</td>\n",
       "      <td>0</td>\n",
       "      <td>0</td>\n",
       "      <td>0</td>\n",
       "      <td>0</td>\n",
       "      <td>...</td>\n",
       "      <td>31</td>\n",
       "      <td>6</td>\n",
       "      <td>9</td>\n",
       "      <td>1</td>\n",
       "      <td>0.076923</td>\n",
       "      <td>0.014888</td>\n",
       "      <td>0.022333</td>\n",
       "      <td>0.424658</td>\n",
       "      <td>0.082192</td>\n",
       "      <td>0.123288</td>\n",
       "    </tr>\n",
       "    <tr>\n",
       "      <th>3</th>\n",
       "      <td>it stoped working within months while recording in starting it record for few seconds then after that records nothing you will hear nothing recorded through this mic worst mic my whole amount got wasted very dispointed</td>\n",
       "      <td>237</td>\n",
       "      <td>42</td>\n",
       "      <td>4.523810</td>\n",
       "      <td>219</td>\n",
       "      <td>36</td>\n",
       "      <td>0</td>\n",
       "      <td>0</td>\n",
       "      <td>0</td>\n",
       "      <td>0</td>\n",
       "      <td>...</td>\n",
       "      <td>11</td>\n",
       "      <td>5</td>\n",
       "      <td>8</td>\n",
       "      <td>2</td>\n",
       "      <td>0.046414</td>\n",
       "      <td>0.021097</td>\n",
       "      <td>0.033755</td>\n",
       "      <td>0.261905</td>\n",
       "      <td>0.119048</td>\n",
       "      <td>0.190476</td>\n",
       "    </tr>\n",
       "    <tr>\n",
       "      <th>4</th>\n",
       "      <td>i will give my honest review on boya m read this full and i may help you clear your dilemma if you need in depth review i have a review video on youtube go to youtube com mobiletechpoint or search for mobile tech point boya m and you will find the review video audio for the entire video has been recorded with boya m i bought boya m for rupees so this is a great pro mic for the price first thing we notice is that the cable is meters long which is super lengthy so you have to be good in cable management it is nice to see that battery unit is made of metal if you use the mic with smartphones you do not need a battery because the mic draws the power from the phone but in case of dslr you need to switch to camera mode good part of this mic is that it can connect with smartphones tablets pc dslr s and external audio recorders like zoom h n that is pretty awesome right for the price we pay this mic gives you excellent quality audio having a meter cable can be an advantage or disadvantage it depends on how you look at it if you are using the mic with external recorder you do not need a m cable but if you are using the mic with a dslr camera and if you want to move around it gives you all the freedom the other only concern that you need to be aware of is since there is no battery indicator you might want to carry an extra battery if you are going to record something important which you do not want to miss at all put in a new battery and you will be fine if you are into audio recording then boya m lavalier mic is a must have even if you have an external audio recorder or a condenser mic get this mic as well i am sure this will come in handy at some point of time if you have any doubts post a comment on my youtube video i will answer your query thanks buy this</td>\n",
       "      <td>1847</td>\n",
       "      <td>364</td>\n",
       "      <td>4.057692</td>\n",
       "      <td>1780</td>\n",
       "      <td>367</td>\n",
       "      <td>0</td>\n",
       "      <td>0</td>\n",
       "      <td>0</td>\n",
       "      <td>0</td>\n",
       "      <td>...</td>\n",
       "      <td>96</td>\n",
       "      <td>31</td>\n",
       "      <td>72</td>\n",
       "      <td>6</td>\n",
       "      <td>0.051976</td>\n",
       "      <td>0.016784</td>\n",
       "      <td>0.038982</td>\n",
       "      <td>0.263736</td>\n",
       "      <td>0.085165</td>\n",
       "      <td>0.197802</td>\n",
       "    </tr>\n",
       "    <tr>\n",
       "      <th>...</th>\n",
       "      <td>...</td>\n",
       "      <td>...</td>\n",
       "      <td>...</td>\n",
       "      <td>...</td>\n",
       "      <td>...</td>\n",
       "      <td>...</td>\n",
       "      <td>...</td>\n",
       "      <td>...</td>\n",
       "      <td>...</td>\n",
       "      <td>...</td>\n",
       "      <td>...</td>\n",
       "      <td>...</td>\n",
       "      <td>...</td>\n",
       "      <td>...</td>\n",
       "      <td>...</td>\n",
       "      <td>...</td>\n",
       "      <td>...</td>\n",
       "      <td>...</td>\n",
       "      <td>...</td>\n",
       "      <td>...</td>\n",
       "      <td>...</td>\n",
       "    </tr>\n",
       "    <tr>\n",
       "      <th>995</th>\n",
       "      <td>i bought it for small voice recording it works well</td>\n",
       "      <td>59</td>\n",
       "      <td>10</td>\n",
       "      <td>4.400000</td>\n",
       "      <td>52</td>\n",
       "      <td>10</td>\n",
       "      <td>0</td>\n",
       "      <td>0</td>\n",
       "      <td>0</td>\n",
       "      <td>0</td>\n",
       "      <td>...</td>\n",
       "      <td>3</td>\n",
       "      <td>1</td>\n",
       "      <td>3</td>\n",
       "      <td>0</td>\n",
       "      <td>0.050847</td>\n",
       "      <td>0.016949</td>\n",
       "      <td>0.050847</td>\n",
       "      <td>0.300000</td>\n",
       "      <td>0.100000</td>\n",
       "      <td>0.300000</td>\n",
       "    </tr>\n",
       "    <tr>\n",
       "      <th>996</th>\n",
       "      <td>i bought this mic but i opened the package after days the product i received is defective and the return policy also got closed it does not give ctach any noise despite trying the product on multiple devices if possible replace the product then i can change my review</td>\n",
       "      <td>277</td>\n",
       "      <td>49</td>\n",
       "      <td>4.551020</td>\n",
       "      <td>267</td>\n",
       "      <td>49</td>\n",
       "      <td>0</td>\n",
       "      <td>0</td>\n",
       "      <td>0</td>\n",
       "      <td>0</td>\n",
       "      <td>...</td>\n",
       "      <td>16</td>\n",
       "      <td>5</td>\n",
       "      <td>10</td>\n",
       "      <td>2</td>\n",
       "      <td>0.057762</td>\n",
       "      <td>0.018051</td>\n",
       "      <td>0.036101</td>\n",
       "      <td>0.326531</td>\n",
       "      <td>0.102041</td>\n",
       "      <td>0.204082</td>\n",
       "    </tr>\n",
       "    <tr>\n",
       "      <th>997</th>\n",
       "      <td>not working with desktop pc need trss to trs adapter and this is not available in market so my mic is not working without this adapter</td>\n",
       "      <td>143</td>\n",
       "      <td>26</td>\n",
       "      <td>4.307692</td>\n",
       "      <td>135</td>\n",
       "      <td>26</td>\n",
       "      <td>0</td>\n",
       "      <td>0</td>\n",
       "      <td>0</td>\n",
       "      <td>0</td>\n",
       "      <td>...</td>\n",
       "      <td>9</td>\n",
       "      <td>1</td>\n",
       "      <td>4</td>\n",
       "      <td>3</td>\n",
       "      <td>0.062937</td>\n",
       "      <td>0.006993</td>\n",
       "      <td>0.027972</td>\n",
       "      <td>0.346154</td>\n",
       "      <td>0.038462</td>\n",
       "      <td>0.153846</td>\n",
       "    </tr>\n",
       "    <tr>\n",
       "      <th>998</th>\n",
       "      <td>most of the reviews here are for marketing gimmick this is not for singers the audio quality is worst t compared to your phone the normal recording is much more better than connecting this to your phone and then recording</td>\n",
       "      <td>231</td>\n",
       "      <td>40</td>\n",
       "      <td>4.650000</td>\n",
       "      <td>222</td>\n",
       "      <td>40</td>\n",
       "      <td>0</td>\n",
       "      <td>0</td>\n",
       "      <td>0</td>\n",
       "      <td>0</td>\n",
       "      <td>...</td>\n",
       "      <td>8</td>\n",
       "      <td>5</td>\n",
       "      <td>8</td>\n",
       "      <td>6</td>\n",
       "      <td>0.034632</td>\n",
       "      <td>0.021645</td>\n",
       "      <td>0.034632</td>\n",
       "      <td>0.200000</td>\n",
       "      <td>0.125000</td>\n",
       "      <td>0.200000</td>\n",
       "    </tr>\n",
       "    <tr>\n",
       "      <th>999</th>\n",
       "      <td>i have received a fake product do not buy it</td>\n",
       "      <td>52</td>\n",
       "      <td>8</td>\n",
       "      <td>4.875000</td>\n",
       "      <td>45</td>\n",
       "      <td>10</td>\n",
       "      <td>0</td>\n",
       "      <td>0</td>\n",
       "      <td>0</td>\n",
       "      <td>0</td>\n",
       "      <td>...</td>\n",
       "      <td>6</td>\n",
       "      <td>1</td>\n",
       "      <td>1</td>\n",
       "      <td>0</td>\n",
       "      <td>0.115385</td>\n",
       "      <td>0.019231</td>\n",
       "      <td>0.019231</td>\n",
       "      <td>0.750000</td>\n",
       "      <td>0.125000</td>\n",
       "      <td>0.125000</td>\n",
       "    </tr>\n",
       "  </tbody>\n",
       "</table>\n",
       "<p>1000 rows × 28 columns</p>\n",
       "</div>"
      ],
      "text/plain": [
       "                                                                                                                                                                                                                                                                                                                                                                                                                                                                                                                                                                                                                                                                                                                                                                                                                                                                                                                                                                                                                                                                                                                                                                                                                                                                                                                                                                                                                                                                                                                                                                                                                                                                                                                                                                                                                                                  reviews  \\\n",
       "0    i would say this is the best available mic in this price range this mic can be connected to your dslr smarthones laptops etc pros long wire sound quality is really good and richcons it will pick background noise if you are in a noisy environment but you can use recforge audio recorder app in your smartphone to remove all the noises apart from that it is all gold go for it                                                                                                                                                                                                                                                                                                                                                                                                                                                                                                                                                                                                                                                                                                                                                                                                                                                                                                                                                                                                                                                                                                                                                                                                                                                                                                                                                                                                                                                                 \n",
       "1    hi so after using this mic for about a month i am writing this review i will give the most genuine review of this mic so let us begin what does a beginner need a budget friendly mic yet gives the best output right built quality mic piece is very compact and handy to use given its compact size it makes it convenient to carry anywhere you want cable wire is extraordinarily long meters however that is a great plus point the long wire makes recording much easier and hassle free it has a velcro for cable management so not a difficult task to keep the lengthy wire under control it weighs around gms there are no batteries included there s a switch on off button while recording you need to switch to camera mode don t really know why its written camera sound quality my recordings have improved considerably with this mic and i am loving it just one complaint i have it captures a lot of airflow meaning i can hear a lot of air from my mouth in the final output even if i record anything while holding the mic from a considerable distance i can hear my breathing sounds sound quality is loud enough and crisp it does capture my room s ceiling fan sound so i can hear that whoosh sound in the background when i am plugged into my earphones i record with the ac on and keep the fan switched off also it comes with a handy pouch to keep your mic safe yay so finally best for production for a beginner like me because at this price it gives ample quality output                                                                                                                                                                                                                                                                                                                                     \n",
       "2    when recording on phone or laptop the quality was the same as you get from a regular headphone i watched review about this product on y tube even on the technical guruji channel its a marketing strategy i guess these are useless microphones with no noise cancellation i dont know about if you r using it on dslr but on fon or pc it will give no special output same fan noise and all returned                                                                                                                                                                                                                                                                                                                                                                                                                                                                                                                                                                                                                                                                                                                                                                                                                                                                                                                                                                                                                                                                                                                                                                                                                                                                                                                                                                                                                                                \n",
       "3    it stoped working within months while recording in starting it record for few seconds then after that records nothing you will hear nothing recorded through this mic worst mic my whole amount got wasted very dispointed                                                                                                                                                                                                                                                                                                                                                                                                                                                                                                                                                                                                                                                                                                                                                                                                                                                                                                                                                                                                                                                                                                                                                                                                                                                                                                                                                                                                                                                                                                                                                                                                                             \n",
       "4    i will give my honest review on boya m read this full and i may help you clear your dilemma if you need in depth review i have a review video on youtube go to youtube com mobiletechpoint or search for mobile tech point boya m and you will find the review video audio for the entire video has been recorded with boya m i bought boya m for rupees so this is a great pro mic for the price first thing we notice is that the cable is meters long which is super lengthy so you have to be good in cable management it is nice to see that battery unit is made of metal if you use the mic with smartphones you do not need a battery because the mic draws the power from the phone but in case of dslr you need to switch to camera mode good part of this mic is that it can connect with smartphones tablets pc dslr s and external audio recorders like zoom h n that is pretty awesome right for the price we pay this mic gives you excellent quality audio having a meter cable can be an advantage or disadvantage it depends on how you look at it if you are using the mic with external recorder you do not need a m cable but if you are using the mic with a dslr camera and if you want to move around it gives you all the freedom the other only concern that you need to be aware of is since there is no battery indicator you might want to carry an extra battery if you are going to record something important which you do not want to miss at all put in a new battery and you will be fine if you are into audio recording then boya m lavalier mic is a must have even if you have an external audio recorder or a condenser mic get this mic as well i am sure this will come in handy at some point of time if you have any doubts post a comment on my youtube video i will answer your query thanks buy this    \n",
       "..                                                                                                                                                                                                                                                                                                                                                                                                                                                                                                                                                                                                                                                                                                                                                                                                                                                                                                                                                                                                                                                                                                                                                                                                                                                                                                                                                                                                                                                                                                                                                                                                                                                                                                                                                                                                                                                    ...   \n",
       "995  i bought it for small voice recording it works well                                                                                                                                                                                                                                                                                                                                                                                                                                                                                                                                                                                                                                                                                                                                                                                                                                                                                                                                                                                                                                                                                                                                                                                                                                                                                                                                                                                                                                                                                                                                                                                                                                                                                                                                                                                                    \n",
       "996  i bought this mic but i opened the package after days the product i received is defective and the return policy also got closed it does not give ctach any noise despite trying the product on multiple devices if possible replace the product then i can change my review                                                                                                                                                                                                                                                                                                                                                                                                                                                                                                                                                                                                                                                                                                                                                                                                                                                                                                                                                                                                                                                                                                                                                                                                                                                                                                                                                                                                                                                                                                                                                                            \n",
       "997  not working with desktop pc need trss to trs adapter and this is not available in market so my mic is not working without this adapter                                                                                                                                                                                                                                                                                                                                                                                                                                                                                                                                                                                                                                                                                                                                                                                                                                                                                                                                                                                                                                                                                                                                                                                                                                                                                                                                                                                                                                                                                                                                                                                                                                                                                                                 \n",
       "998  most of the reviews here are for marketing gimmick this is not for singers the audio quality is worst t compared to your phone the normal recording is much more better than connecting this to your phone and then recording                                                                                                                                                                                                                                                                                                                                                                                                                                                                                                                                                                                                                                                                                                                                                                                                                                                                                                                                                                                                                                                                                                                                                                                                                                                                                                                                                                                                                                                                                                                                                                                                                          \n",
       "999  i have received a fake product do not buy it                                                                                                                                                                                                                                                                                                                                                                                                                                                                                                                                                                                                                                                                                                                                                                                                                                                                                                                                                                                                                                                                                                                                                                                                                                                                                                                                                                                                                                                                                                                                                                                                                                                                                                                                                                                                           \n",
       "\n",
       "     review_len  word_count  avg_word_len  char_count  num_words  capitals  \\\n",
       "0    400         73          4.410959      375         72         0          \n",
       "1    1500        253         4.909091      1459        280        0          \n",
       "2    403         73          4.452055      391         75         0          \n",
       "3    237         42          4.523810      219         36         0          \n",
       "4    1847        364         4.057692      1780        367        0          \n",
       "..    ...        ...              ...       ...        ...       ..          \n",
       "995  59          10          4.400000      52          10         0          \n",
       "996  277         49          4.551020      267         49         0          \n",
       "997  143         26          4.307692      135         26         0          \n",
       "998  231         40          4.650000      222         40         0          \n",
       "999  52          8           4.875000      45          10         0          \n",
       "\n",
       "     #!_marks  #?_marks  num_punctuation  ...  nouns  adjectives  verbs  \\\n",
       "0    0         0         0                ...  23     3           11      \n",
       "1    0         0         0                ...  62     25          52      \n",
       "2    0         0         0                ...  31     6           9       \n",
       "3    0         0         0                ...  11     5           8       \n",
       "4    0         0         0                ...  96     31          72      \n",
       "..  ..        ..        ..                ...  ..     ..          ..      \n",
       "995  0         0         0                ...  3      1           3       \n",
       "996  0         0         0                ...  16     5           10      \n",
       "997  0         0         0                ...  9      1           4       \n",
       "998  0         0         0                ...  8      5           8       \n",
       "999  0         0         0                ...  6      1           1       \n",
       "\n",
       "     adverbs  nouns_vs_length  adjectives_vs_length  verbs_vs_length  \\\n",
       "0    3        0.057500         0.007500              0.027500          \n",
       "1    16       0.041333         0.016667              0.034667          \n",
       "2    1        0.076923         0.014888              0.022333          \n",
       "3    2        0.046414         0.021097              0.033755          \n",
       "4    6        0.051976         0.016784              0.038982          \n",
       "..  ..             ...              ...                   ...          \n",
       "995  0        0.050847         0.016949              0.050847          \n",
       "996  2        0.057762         0.018051              0.036101          \n",
       "997  3        0.062937         0.006993              0.027972          \n",
       "998  6        0.034632         0.021645              0.034632          \n",
       "999  0        0.115385         0.019231              0.019231          \n",
       "\n",
       "     nouns_vs_words  adjectives_vs_words  verbs_vs_words  \n",
       "0    0.315068        0.041096             0.150685        \n",
       "1    0.245059        0.098814             0.205534        \n",
       "2    0.424658        0.082192             0.123288        \n",
       "3    0.261905        0.119048             0.190476        \n",
       "4    0.263736        0.085165             0.197802        \n",
       "..        ...             ...                  ...        \n",
       "995  0.300000        0.100000             0.300000        \n",
       "996  0.326531        0.102041             0.204082        \n",
       "997  0.346154        0.038462             0.153846        \n",
       "998  0.200000        0.125000             0.200000        \n",
       "999  0.750000        0.125000             0.125000        \n",
       "\n",
       "[1000 rows x 28 columns]"
      ]
     },
     "execution_count": 60,
     "metadata": {},
     "output_type": "execute_result"
    }
   ],
   "source": [
    "df"
   ]
  },
  {
   "cell_type": "code",
   "execution_count": 61,
   "metadata": {
    "scrolled": true
   },
   "outputs": [
    {
     "name": "stdout",
     "output_type": "stream",
     "text": [
      "['i', 'me', 'my', 'myself', 'we', 'our', 'ours', 'ourselves', 'you', \"you're\", \"you've\", \"you'll\", \"you'd\", 'your', 'yours', 'yourself', 'yourselves', 'he', 'him', 'his', 'himself', 'she', \"she's\", 'her', 'hers', 'herself', 'it', \"it's\", 'its', 'itself', 'they', 'them', 'their', 'theirs', 'themselves', 'what', 'which', 'who', 'whom', 'this', 'that', \"that'll\", 'these', 'those', 'am', 'is', 'are', 'was', 'were', 'be', 'been', 'being', 'have', 'has', 'had', 'having', 'do', 'does', 'did', 'doing', 'a', 'an', 'the', 'and', 'but', 'if', 'or', 'because', 'as', 'until', 'while', 'of', 'at', 'by', 'for', 'with', 'about', 'against', 'between', 'into', 'through', 'during', 'before', 'after', 'above', 'below', 'to', 'from', 'up', 'down', 'in', 'out', 'on', 'off', 'over', 'under', 'again', 'further', 'then', 'once', 'here', 'there', 'when', 'where', 'why', 'how', 'all', 'any', 'both', 'each', 'few', 'more', 'most', 'other', 'some', 'such', 'no', 'nor', 'not', 'only', 'own', 'same', 'so', 'than', 'too', 'very', 's', 't', 'can', 'will', 'just', 'don', \"don't\", 'should', \"should've\", 'now', 'd', 'll', 'm', 'o', 're', 've', 'y', 'ain', 'aren', \"aren't\", 'couldn', \"couldn't\", 'didn', \"didn't\", 'doesn', \"doesn't\", 'hadn', \"hadn't\", 'hasn', \"hasn't\", 'haven', \"haven't\", 'isn', \"isn't\", 'ma', 'mightn', \"mightn't\", 'mustn', \"mustn't\", 'needn', \"needn't\", 'shan', \"shan't\", 'shouldn', \"shouldn't\", 'wasn', \"wasn't\", 'weren', \"weren't\", 'won', \"won't\", 'wouldn', \"wouldn't\"]\n",
      "179\n",
      "<class 'list'>\n"
     ]
    }
   ],
   "source": [
    "from nltk.corpus import stopwords\n",
    "stop_words= stopwords.words('english')\n",
    "print(stop_words)\n",
    "print(len(stop_words))\n",
    "print(type(stop_words))"
   ]
  },
  {
   "cell_type": "code",
   "execution_count": 62,
   "metadata": {},
   "outputs": [],
   "source": [
    "# function to remove stopwords\n",
    "def remove_stopwords(rev):\n",
    "    rev_new = \" \".join([i for i in rev if i not in stop_words])\n",
    "    return rev_new\n",
    "\n",
    "\n",
    "#remove stopwords from the text\n",
    "df['reviews'] = [remove_stopwords(r.split()) for r in df['reviews']]\n"
   ]
  },
  {
   "cell_type": "code",
   "execution_count": 63,
   "metadata": {
    "scrolled": false
   },
   "outputs": [
    {
     "data": {
      "text/plain": [
       "'hi using mic month writing review give genuine review mic let us begin beginner need budget friendly mic yet gives best output right built quality mic piece compact handy use given compact size makes convenient carry anywhere want cable wire extraordinarily long meters however great plus point long wire makes recording much easier hassle free velcro cable management difficult task keep lengthy wire control weighs around gms batteries included switch button recording need switch camera mode really know written camera sound quality recordings improved considerably mic loving one complaint captures lot airflow meaning hear lot air mouth final output even record anything holding mic considerable distance hear breathing sounds sound quality loud enough crisp capture room ceiling fan sound hear whoosh sound background plugged earphones record ac keep fan switched also comes handy pouch keep mic safe yay finally best production beginner like price gives ample quality output'"
      ]
     },
     "execution_count": 63,
     "metadata": {},
     "output_type": "execute_result"
    }
   ],
   "source": [
    "df['reviews'][1]"
   ]
  },
  {
   "cell_type": "code",
   "execution_count": 64,
   "metadata": {},
   "outputs": [
    {
     "data": {
      "text/plain": [
       "Index(['reviews', 'review_len', 'word_count', 'avg_word_len', 'char_count',\n",
       "       'num_words', 'capitals', '#!_marks', '#?_marks', 'num_punctuation',\n",
       "       'num_stopwords', 'num_symbols', 'mean_word_len', 'num_unique_words',\n",
       "       'num_smilies', 'ant_slash_n', 'has_timestamp', 'has_http', 'nouns',\n",
       "       'adjectives', 'verbs', 'adverbs', 'nouns_vs_length',\n",
       "       'adjectives_vs_length', 'verbs_vs_length', 'nouns_vs_words',\n",
       "       'adjectives_vs_words', 'verbs_vs_words'],\n",
       "      dtype='object')"
      ]
     },
     "execution_count": 64,
     "metadata": {},
     "output_type": "execute_result"
    }
   ],
   "source": [
    "df.columns"
   ]
  },
  {
   "cell_type": "code",
   "execution_count": 65,
   "metadata": {},
   "outputs": [],
   "source": [
    "df=df.drop(labels=['review_len', 'word_count','avg_word_len','char_count','capitals', 'num_words','#!_marks', '#?_marks', 'num_punctuation','num_stopwords', 'num_symbols', 'mean_word_len','num_unique_words','num_smilies', 'ant_slash_n', 'has_timestamp', 'has_http','nouns_vs_length','adjectives_vs_length', 'verbs_vs_length', 'nouns_vs_words','adjectives_vs_words', 'verbs_vs_words' ],axis=1)"
   ]
  },
  {
   "cell_type": "code",
   "execution_count": 66,
   "metadata": {},
   "outputs": [
    {
     "data": {
      "text/plain": [
       "Index(['reviews', 'nouns', 'adjectives', 'verbs', 'adverbs'], dtype='object')"
      ]
     },
     "execution_count": 66,
     "metadata": {},
     "output_type": "execute_result"
    }
   ],
   "source": [
    "df.columns"
   ]
  },
  {
   "cell_type": "code",
   "execution_count": 67,
   "metadata": {},
   "outputs": [],
   "source": [
    "df=df.drop(labels=['nouns', 'adjectives','verbs','adverbs'],axis=1)"
   ]
  },
  {
   "cell_type": "code",
   "execution_count": 68,
   "metadata": {},
   "outputs": [
    {
     "data": {
      "text/plain": [
       "Index(['reviews'], dtype='object')"
      ]
     },
     "execution_count": 68,
     "metadata": {},
     "output_type": "execute_result"
    }
   ],
   "source": [
    "df.columns"
   ]
  },
  {
   "cell_type": "markdown",
   "metadata": {},
   "source": [
    " ##  <font> <font color=\"red\"> using VADER Sentiment Analysis on reviews to assign labels"
   ]
  },
  {
   "cell_type": "markdown",
   "metadata": {},
   "source": [
    "## first observing how vader sentimentanalyzer works"
   ]
  },
  {
   "cell_type": "markdown",
   "metadata": {},
   "source": [
    "nltk.download('vader_lexicon')"
   ]
  },
  {
   "cell_type": "code",
   "execution_count": 69,
   "metadata": {},
   "outputs": [],
   "source": [
    "# Import SentimentIntensityAnalyzer and create an sid object\n",
    "from nltk.sentiment.vader import SentimentIntensityAnalyzer\n",
    "\n",
    "sid = SentimentIntensityAnalyzer()"
   ]
  },
  {
   "cell_type": "code",
   "execution_count": 70,
   "metadata": {},
   "outputs": [],
   "source": [
    "pd.set_option('max_colwidth',-1)"
   ]
  },
  {
   "cell_type": "markdown",
   "metadata": {},
   "source": [
    "https://blog.quantinsti.com/vader-sentiment/#:~:text=Compound%20VADER%20scores%20for%20analyzing,1%20(most%20extreme%20positive)."
   ]
  },
  {
   "cell_type": "markdown",
   "metadata": {},
   "source": [
    "## on vader compound score (Valence Aware Dictionary and sEntiment Reasoning)\n",
    "What is Valence Score?\n",
    "\n",
    "It is a score assigned to the word under consideration by means of observation \n",
    "and experiences rather than pure logic.\n",
    "Consider the words 'terrible' , 'hopeless', 'miserable'.\n",
    "Any self-aware Human would easily gauge the sentiment of these words as Negative.\n",
    "While on the other side, words like 'marvellous', 'worthy', 'adequate' \n",
    "are signifying positive sentiment.\n",
    "According to the academic paper on VADER,\n",
    "the Valence score is measured on a scale from -4 to +4, \n",
    "where -4 stands for the most ‘Negative’ sentiment \n",
    "and +4 for the most ‘Positive’ sentiment. \n",
    "Intuitively one can guess that midpoint 0 represents ‘Neutral’ Sentiment, \n",
    "\n",
    "How does VADER calculate the Valence score of an input text?\n",
    "\n",
    "Valence score of some context-free text are:-\n",
    "\n",
    "Positive Valence: \"okay\" is 0.9 \"good\" is 1.9, and \"great\" is 3.1,\n",
    "Negative Valence: \"horrible\" is –2.5, emoticon ' :( ' is –2.2, \n",
    "and \"sucks\" and it's slang derivative \"sux\" are both –1.5.\n",
    "\n",
    "VADER analyses sentiments primarily based on certain key points:\n",
    "    \n",
    "1. Punctuation: The use of an exclamation mark(!), increases the magnitude of the intensity \n",
    "without modifying the semantic orientation. For example, “The food here is good!” \n",
    "is more intense than “The food here is good.” \n",
    "and an increase in the number of (!), increases the magnitude accordingly.\n",
    "\n",
    "2.Capitalization: Using upper case letters to emphasize a sentiment-relevant word \n",
    "in the presence of other non-capitalized words, \n",
    "increases the magnitude of the sentiment intensity. \n",
    "For example, “The food here is GREAT!” conveys more intensity \n",
    "than “The food here is great!”\n",
    "\n",
    "3.Degree modifiers: Also called intensifiers, they impact the sentiment intensity \n",
    "by either increasing or decreasing the intensity. \n",
    "For example, “The service here is extremely good” is more intense than \n",
    "“The service here is good”, whereas “The service here is marginally good” reduces the intensity.\n",
    "\n",
    "4. Conjunctions: Use of conjunctions like “but” signals a shift in sentiment polarity,\n",
    "with the sentiment of the text following the conjunction being dominant.\n",
    "“The food here is great, but the service is horrible” has mixed sentiment, \n",
    "with the latter half dictating the overall rating.\n",
    "\n"
   ]
  },
  {
   "cell_type": "code",
   "execution_count": 71,
   "metadata": {},
   "outputs": [],
   "source": [
    "## few examples showing impact of above key points"
   ]
  },
  {
   "cell_type": "code",
   "execution_count": 72,
   "metadata": {},
   "outputs": [],
   "source": [
    "## define function to analyze score\n",
    "\n",
    "def sentiment_analyzer_scores(sentence):\n",
    "    score = sid.polarity_scores(sentence)\n",
    "    print(\"{:-<30} {}\".format(sentence, str(score)))"
   ]
  },
  {
   "cell_type": "code",
   "execution_count": 73,
   "metadata": {},
   "outputs": [
    {
     "name": "stdout",
     "output_type": "stream",
     "text": [
      "the weather is cool.---------- {'neg': 0.0, 'neu': 0.566, 'pos': 0.434, 'compound': 0.3182}\n",
      "the weather is super cool.---- {'neg': 0.0, 'neu': 0.326, 'pos': 0.674, 'compound': 0.7351}\n"
     ]
    }
   ],
   "source": [
    "sentiment_analyzer_scores(\"the weather is cool.\")\n",
    "sentiment_analyzer_scores(\"the weather is super cool.\")\n",
    "\n",
    "# sid_obj = SentimentIntensityAnalyzer() \n",
    "\n",
    "# sentiment_dict = sid_obj.polarity_scores('the weather is cool.') \n",
    "\n",
    "# print(\"Overall sentiment dictionary is : \", sentiment_dict) \n",
    "# print(\"sentence was rated as \", sentiment_dict['neg']*100, \"% Negative\") \n",
    "# print(\"sentence was rated as \", sentiment_dict['neu']*100, \"% Neutral\") \n",
    "# print(\"sentence was rated as \", sentiment_dict['pos']*100, \"% Positive\")"
   ]
  },
  {
   "cell_type": "code",
   "execution_count": 74,
   "metadata": {},
   "outputs": [
    {
     "data": {
      "text/plain": [
       "1.0"
      ]
     },
     "execution_count": 74,
     "metadata": {},
     "output_type": "execute_result"
    }
   ],
   "source": [
    "0.0+.566+.434 # sum of neg, neu,pos scores adds up to 1"
   ]
  },
  {
   "cell_type": "raw",
   "metadata": {},
   "source": [
    "how did we get compound score=0.7351\n",
    "The Compound score is a metric that calculates the sum of all \n",
    "the lexicon ratings which have been \n",
    "normalized between -1(most extreme negative) and +1 (most extreme positive). \n",
    "In the case above, lexicon ratings for super and cool are 2.9 and 1.3. \n",
    "The compound score turns out to be 0.73 (normalized score) , denoting a very high positive sentiment.\n"
   ]
  },
  {
   "cell_type": "code",
   "execution_count": 75,
   "metadata": {},
   "outputs": [
    {
     "name": "stdout",
     "output_type": "stream",
     "text": [
      "it was raining---------------- {'neg': 0.0, 'neu': 1.0, 'pos': 0.0, 'compound': 0.0}\n",
      "it was raining!--------------- {'neg': 0.0, 'neu': 1.0, 'pos': 0.0, 'compound': 0.0}\n",
      "it was raining!!-------------- {'neg': 0.0, 'neu': 1.0, 'pos': 0.0, 'compound': 0.0}\n",
      "it was damm raining ---------- {'neg': 0.0, 'neu': 1.0, 'pos': 0.0, 'compound': 0.0}\n"
     ]
    }
   ],
   "source": [
    "## analyzing on punctuated sentence\n",
    "\n",
    "## with verb alone\n",
    "sentiment_analyzer_scores(\"it was raining\")\n",
    "sentiment_analyzer_scores(\"it was raining!\")\n",
    "sentiment_analyzer_scores(\"it was raining!!\")\n",
    "sentiment_analyzer_scores(\"it was damm raining \")\n"
   ]
  },
  {
   "cell_type": "code",
   "execution_count": 76,
   "metadata": {},
   "outputs": [
    {
     "name": "stdout",
     "output_type": "stream",
     "text": [
      "it was raining --------------- {'neg': 0.0, 'neu': 1.0, 'pos': 0.0, 'compound': 0.0}\n",
      "it was good------------------- {'neg': 0.0, 'neu': 0.408, 'pos': 0.592, 'compound': 0.4404}\n",
      "it was raining good----------- {'neg': 0.0, 'neu': 0.508, 'pos': 0.492, 'compound': 0.4404}\n",
      "it was raining good !--------- {'neg': 0.0, 'neu': 0.484, 'pos': 0.516, 'compound': 0.4926}\n",
      "it was raining good !!-------- {'neg': 0.0, 'neu': 0.534, 'pos': 0.466, 'compound': 0.5399}\n",
      "it was damm raining good !---- {'neg': 0.0, 'neu': 0.556, 'pos': 0.444, 'compound': 0.4926}\n",
      "it was damm raining good !!--- {'neg': 0.0, 'neu': 0.589, 'pos': 0.411, 'compound': 0.5399}\n",
      "it was damm raining good !!!-- {'neg': 0.0, 'neu': 0.57, 'pos': 0.43, 'compound': 0.5826}\n",
      "it was damm raining good !!!!!!! {'neg': 0.0, 'neu': 0.551, 'pos': 0.449, 'compound': 0.6209}\n"
     ]
    }
   ],
   "source": [
    "# with verb and adjective and !\n",
    "sentiment_analyzer_scores(\"it was raining \")\n",
    "sentiment_analyzer_scores(\"it was good\")\n",
    "sentiment_analyzer_scores(\"it was raining good\")\n",
    "sentiment_analyzer_scores(\"it was raining good !\")\n",
    "sentiment_analyzer_scores(\"it was raining good !!\")\n",
    "\n",
    "sentiment_analyzer_scores(\"it was damm raining good !\")\n",
    "sentiment_analyzer_scores(\"it was damm raining good !!\")\n",
    "sentiment_analyzer_scores(\"it was damm raining good !!!\")\n",
    "sentiment_analyzer_scores(\"it was damm raining good !!!!!!!\")\n"
   ]
  },
  {
   "cell_type": "code",
   "execution_count": 77,
   "metadata": {},
   "outputs": [
    {
     "name": "stdout",
     "output_type": "stream",
     "text": [
      "was it raining --------------- {'neg': 0.0, 'neu': 1.0, 'pos': 0.0, 'compound': 0.0}\n",
      "was it raining ?-------------- {'neg': 0.0, 'neu': 1.0, 'pos': 0.0, 'compound': 0.0}\n",
      "was it raining ??------------- {'neg': 0.0, 'neu': 1.0, 'pos': 0.0, 'compound': 0.0}\n",
      "was it raining good ?--------- {'neg': 0.0, 'neu': 0.508, 'pos': 0.492, 'compound': 0.4404}\n",
      "was it raining good ??-------- {'neg': 0.0, 'neu': 0.551, 'pos': 0.449, 'compound': 0.504}\n",
      "it was raining good ???------- {'neg': 0.0, 'neu': 0.538, 'pos': 0.462, 'compound': 0.533}\n"
     ]
    }
   ],
   "source": [
    "## will negitive sentiment raises with ?\n",
    "\n",
    "sentiment_analyzer_scores(\"was it raining \")\n",
    "sentiment_analyzer_scores(\"was it raining ?\")\n",
    "sentiment_analyzer_scores(\"was it raining ??\")\n",
    "sentiment_analyzer_scores(\"was it raining good ?\")\n",
    "sentiment_analyzer_scores(\"was it raining good ??\")\n",
    "sentiment_analyzer_scores(\"it was raining good ???\")\n",
    "\n",
    "### observed ? is not impacting sentiment score"
   ]
  },
  {
   "cell_type": "code",
   "execution_count": 78,
   "metadata": {},
   "outputs": [
    {
     "name": "stdout",
     "output_type": "stream",
     "text": [
      "[('raining', 'VBG'), ('good', 'JJ'), ('rainy', 'NN'), ('damm', 'NN'), ('campus', 'NN')]\n"
     ]
    }
   ],
   "source": [
    "word=['raining','good','rainy','damm','campus']\n",
    "list1=nltk.pos_tag(word)\n",
    "print(list1)\n",
    "\n",
    "# check first statement only verb score is 0\n",
    "# observe 2 nd adding ajective raised compound score by reducing neu\n",
    "# observe 3 rd, verb with adjective score is same as alone adjective \n",
    "\n",
    "# observed that presence of adjectives increased compound score\n",
    "# presence of two ! increased the compound sentiment score"
   ]
  },
  {
   "cell_type": "code",
   "execution_count": 79,
   "metadata": {},
   "outputs": [
    {
     "name": "stdout",
     "output_type": "stream",
     "text": [
      "the campus is good------------ {'neg': 0.0, 'neu': 0.508, 'pos': 0.492, 'compound': 0.4404}\n",
      "the campus is GOOD------------ {'neg': 0.0, 'neu': 0.452, 'pos': 0.548, 'compound': 0.5622}\n",
      "the CAMPUS is GOOD------------ {'neg': 0.0, 'neu': 0.452, 'pos': 0.548, 'compound': 0.5622}\n",
      "the CAMPUS is GOOD !---------- {'neg': 0.0, 'neu': 0.433, 'pos': 0.567, 'compound': 0.6027}\n"
     ]
    }
   ],
   "source": [
    "# with capitilized words\n",
    "\n",
    "sentiment_analyzer_scores(\"the campus is good\")\n",
    "sentiment_analyzer_scores(\"the campus is GOOD\")\n",
    "sentiment_analyzer_scores(\"the CAMPUS is GOOD\")\n",
    "sentiment_analyzer_scores(\"the CAMPUS is GOOD !\")\n",
    "\n",
    "# capitilization of adjectves increased the score\n",
    "# an ! added the score further"
   ]
  },
  {
   "cell_type": "code",
   "execution_count": 80,
   "metadata": {},
   "outputs": [
    {
     "name": "stdout",
     "output_type": "stream",
     "text": [
      "the campus is good,the canteen is horrible {'neg': 0.368, 'neu': 0.632, 'pos': 0.0, 'compound': -0.5423}\n",
      "the campus is good,but the canteen is horrible {'neg': 0.333, 'neu': 0.667, 'pos': 0.0, 'compound': -0.5423}\n",
      "the campus is good,and the canteen is horrible {'neg': 0.333, 'neu': 0.667, 'pos': 0.0, 'compound': -0.5423}\n",
      "the campus is good,yet the canteen is horrible {'neg': 0.333, 'neu': 0.667, 'pos': 0.0, 'compound': -0.5423}\n",
      " the canteen is horrible, although the campus is good {'neg': 0.261, 'neu': 0.522, 'pos': 0.216, 'compound': -0.1531}\n"
     ]
    }
   ],
   "source": [
    "# with conjunctions\n",
    "\n",
    "sentiment_analyzer_scores(\"the campus is good,the canteen is horrible\")\n",
    "sentiment_analyzer_scores(\"the campus is good,but the canteen is horrible\")\n",
    "sentiment_analyzer_scores(\"the campus is good,and the canteen is horrible\")\n",
    "sentiment_analyzer_scores(\"the campus is good,yet the canteen is horrible\")\n",
    "sentiment_analyzer_scores(\" the canteen is horrible, although the campus is good\")\n",
    "\n",
    "\n",
    "# cunjuction raised compound score sentimentizing positive\n"
   ]
  },
  {
   "cell_type": "code",
   "execution_count": 81,
   "metadata": {},
   "outputs": [
    {
     "name": "stdout",
     "output_type": "stream",
     "text": [
      "the canteen is---------------- {'neg': 0.0, 'neu': 1.0, 'pos': 0.0, 'compound': 0.0}\n",
      "the canteen is :)------------- {'neg': 0.0, 'neu': 0.5, 'pos': 0.5, 'compound': 0.4588}\n",
      ":D---------------------------- {'neg': 0.0, 'neu': 0.0, 'pos': 1.0, 'compound': 0.5106}\n",
      "the canteen is :(------------- {'neg': 0.492, 'neu': 0.508, 'pos': 0.0, 'compound': -0.4404}\n",
      ":|---------------------------- {'neg': 1.0, 'neu': 0.0, 'pos': 0.0, 'compound': -0.1027}\n"
     ]
    }
   ],
   "source": [
    "# using emojis,Emoticons\n",
    "sentiment_analyzer_scores('the canteen is')\n",
    "sentiment_analyzer_scores('the canteen is :)') # though there is no adjective emoticons raised score\n",
    "sentiment_analyzer_scores(':D')\n",
    "sentiment_analyzer_scores('the canteen is :(')\n",
    "sentiment_analyzer_scores(':|')\n",
    "\n",
    "#print(sentiment_analyzer_scores('☹️'))\n",
    "\n",
    "\n",
    "# using emojis and emoticons raised score"
   ]
  },
  {
   "cell_type": "markdown",
   "metadata": {},
   "source": [
    "## we will now use vader to assign labels using \n"
   ]
  },
  {
   "cell_type": "code",
   "execution_count": 82,
   "metadata": {},
   "outputs": [
    {
     "data": {
      "text/html": [
       "<div>\n",
       "<style scoped>\n",
       "    .dataframe tbody tr th:only-of-type {\n",
       "        vertical-align: middle;\n",
       "    }\n",
       "\n",
       "    .dataframe tbody tr th {\n",
       "        vertical-align: top;\n",
       "    }\n",
       "\n",
       "    .dataframe thead th {\n",
       "        text-align: right;\n",
       "    }\n",
       "</style>\n",
       "<table border=\"1\" class=\"dataframe\">\n",
       "  <thead>\n",
       "    <tr style=\"text-align: right;\">\n",
       "      <th></th>\n",
       "      <th>0</th>\n",
       "      <th>1</th>\n",
       "      <th>2</th>\n",
       "    </tr>\n",
       "  </thead>\n",
       "  <tbody>\n",
       "    <tr>\n",
       "      <th>reviews</th>\n",
       "      <td>would say best available mic price range mic connected dslr smarthones laptops etc pros long wire sound quality really good richcons pick background noise noisy environment use recforge audio recorder app smartphone remove noises apart gold go</td>\n",
       "      <td>hi using mic month writing review give genuine review mic let us begin beginner need budget friendly mic yet gives best output right built quality mic piece compact handy use given compact size makes convenient carry anywhere want cable wire extraordinarily long meters however great plus point long wire makes recording much easier hassle free velcro cable management difficult task keep lengthy wire control weighs around gms batteries included switch button recording need switch camera mode really know written camera sound quality recordings improved considerably mic loving one complaint captures lot airflow meaning hear lot air mouth final output even record anything holding mic considerable distance hear breathing sounds sound quality loud enough crisp capture room ceiling fan sound hear whoosh sound background plugged earphones record ac keep fan switched also comes handy pouch keep mic safe yay finally best production beginner like price gives ample quality output</td>\n",
       "      <td>recording phone laptop quality get regular headphone watched review product tube even technical guruji channel marketing strategy guess useless microphones noise cancellation dont know r using dslr fon pc give special output fan noise returned</td>\n",
       "    </tr>\n",
       "  </tbody>\n",
       "</table>\n",
       "</div>"
      ],
      "text/plain": [
       "                                                                                                                                                                                                                                                           0  \\\n",
       "reviews  would say best available mic price range mic connected dslr smarthones laptops etc pros long wire sound quality really good richcons pick background noise noisy environment use recforge audio recorder app smartphone remove noises apart gold go   \n",
       "\n",
       "                                                                                                                                                                                                                                                                                                                                                                                                                                                                                                                                                                                                                                                                                                                                                                                                                                                                                                                                                                                                                             1  \\\n",
       "reviews  hi using mic month writing review give genuine review mic let us begin beginner need budget friendly mic yet gives best output right built quality mic piece compact handy use given compact size makes convenient carry anywhere want cable wire extraordinarily long meters however great plus point long wire makes recording much easier hassle free velcro cable management difficult task keep lengthy wire control weighs around gms batteries included switch button recording need switch camera mode really know written camera sound quality recordings improved considerably mic loving one complaint captures lot airflow meaning hear lot air mouth final output even record anything holding mic considerable distance hear breathing sounds sound quality loud enough crisp capture room ceiling fan sound hear whoosh sound background plugged earphones record ac keep fan switched also comes handy pouch keep mic safe yay finally best production beginner like price gives ample quality output   \n",
       "\n",
       "                                                                                                                                                                                                                                                           2  \n",
       "reviews  recording phone laptop quality get regular headphone watched review product tube even technical guruji channel marketing strategy guess useless microphones noise cancellation dont know r using dslr fon pc give special output fan noise returned  "
      ]
     },
     "execution_count": 82,
     "metadata": {},
     "output_type": "execute_result"
    }
   ],
   "source": [
    "df.head(3).T"
   ]
  },
  {
   "cell_type": "code",
   "execution_count": 83,
   "metadata": {},
   "outputs": [
    {
     "data": {
      "text/html": [
       "<div>\n",
       "<style scoped>\n",
       "    .dataframe tbody tr th:only-of-type {\n",
       "        vertical-align: middle;\n",
       "    }\n",
       "\n",
       "    .dataframe tbody tr th {\n",
       "        vertical-align: top;\n",
       "    }\n",
       "\n",
       "    .dataframe thead th {\n",
       "        text-align: right;\n",
       "    }\n",
       "</style>\n",
       "<table border=\"1\" class=\"dataframe\">\n",
       "  <thead>\n",
       "    <tr style=\"text-align: right;\">\n",
       "      <th></th>\n",
       "      <th>reviews</th>\n",
       "      <th>scores</th>\n",
       "    </tr>\n",
       "  </thead>\n",
       "  <tbody>\n",
       "    <tr>\n",
       "      <th>0</th>\n",
       "      <td>would say best available mic price range mic connected dslr smarthones laptops etc pros long wire sound quality really good richcons pick background noise noisy environment use recforge audio recorder app smartphone remove noises apart gold go</td>\n",
       "      <td>{'neg': 0.039, 'neu': 0.789, 'pos': 0.172, 'compound': 0.7713}</td>\n",
       "    </tr>\n",
       "    <tr>\n",
       "      <th>1</th>\n",
       "      <td>hi using mic month writing review give genuine review mic let us begin beginner need budget friendly mic yet gives best output right built quality mic piece compact handy use given compact size makes convenient carry anywhere want cable wire extraordinarily long meters however great plus point long wire makes recording much easier hassle free velcro cable management difficult task keep lengthy wire control weighs around gms batteries included switch button recording need switch camera mode really know written camera sound quality recordings improved considerably mic loving one complaint captures lot airflow meaning hear lot air mouth final output even record anything holding mic considerable distance hear breathing sounds sound quality loud enough crisp capture room ceiling fan sound hear whoosh sound background plugged earphones record ac keep fan switched also comes handy pouch keep mic safe yay finally best production beginner like price gives ample quality output</td>\n",
       "      <td>{'neg': 0.026, 'neu': 0.731, 'pos': 0.243, 'compound': 0.9899}</td>\n",
       "    </tr>\n",
       "  </tbody>\n",
       "</table>\n",
       "</div>"
      ],
      "text/plain": [
       "                                                                                                                                                                                                                                                                                                                                                                                                                                                                                                                                                                                                                                                                                                                                                                                                                                                                                                                                                                                                                 reviews  \\\n",
       "0  would say best available mic price range mic connected dslr smarthones laptops etc pros long wire sound quality really good richcons pick background noise noisy environment use recforge audio recorder app smartphone remove noises apart gold go                                                                                                                                                                                                                                                                                                                                                                                                                                                                                                                                                                                                                                                                                                                                                                     \n",
       "1  hi using mic month writing review give genuine review mic let us begin beginner need budget friendly mic yet gives best output right built quality mic piece compact handy use given compact size makes convenient carry anywhere want cable wire extraordinarily long meters however great plus point long wire makes recording much easier hassle free velcro cable management difficult task keep lengthy wire control weighs around gms batteries included switch button recording need switch camera mode really know written camera sound quality recordings improved considerably mic loving one complaint captures lot airflow meaning hear lot air mouth final output even record anything holding mic considerable distance hear breathing sounds sound quality loud enough crisp capture room ceiling fan sound hear whoosh sound background plugged earphones record ac keep fan switched also comes handy pouch keep mic safe yay finally best production beginner like price gives ample quality output   \n",
       "\n",
       "                                                           scores  \n",
       "0  {'neg': 0.039, 'neu': 0.789, 'pos': 0.172, 'compound': 0.7713}  \n",
       "1  {'neg': 0.026, 'neu': 0.731, 'pos': 0.243, 'compound': 0.9899}  "
      ]
     },
     "execution_count": 83,
     "metadata": {},
     "output_type": "execute_result"
    }
   ],
   "source": [
    "df['scores'] = df['reviews'].apply(lambda reviews:sid.polarity_scores(reviews))\n",
    "#df_pre['scores2'] = df_pre['review_lemm'].apply(lambda review_lemm:sid.polarity_scores(review_lemm))\n",
    "df.head(2)"
   ]
  },
  {
   "cell_type": "code",
   "execution_count": 84,
   "metadata": {},
   "outputs": [
    {
     "data": {
      "text/html": [
       "<div>\n",
       "<style scoped>\n",
       "    .dataframe tbody tr th:only-of-type {\n",
       "        vertical-align: middle;\n",
       "    }\n",
       "\n",
       "    .dataframe tbody tr th {\n",
       "        vertical-align: top;\n",
       "    }\n",
       "\n",
       "    .dataframe thead th {\n",
       "        text-align: right;\n",
       "    }\n",
       "</style>\n",
       "<table border=\"1\" class=\"dataframe\">\n",
       "  <thead>\n",
       "    <tr style=\"text-align: right;\">\n",
       "      <th></th>\n",
       "      <th>reviews</th>\n",
       "      <th>scores</th>\n",
       "      <th>compound</th>\n",
       "    </tr>\n",
       "  </thead>\n",
       "  <tbody>\n",
       "    <tr>\n",
       "      <th>0</th>\n",
       "      <td>would say best available mic price range mic connected dslr smarthones laptops etc pros long wire sound quality really good richcons pick background noise noisy environment use recforge audio recorder app smartphone remove noises apart gold go</td>\n",
       "      <td>{'neg': 0.039, 'neu': 0.789, 'pos': 0.172, 'compound': 0.7713}</td>\n",
       "      <td>0.7713</td>\n",
       "    </tr>\n",
       "    <tr>\n",
       "      <th>1</th>\n",
       "      <td>hi using mic month writing review give genuine review mic let us begin beginner need budget friendly mic yet gives best output right built quality mic piece compact handy use given compact size makes convenient carry anywhere want cable wire extraordinarily long meters however great plus point long wire makes recording much easier hassle free velcro cable management difficult task keep lengthy wire control weighs around gms batteries included switch button recording need switch camera mode really know written camera sound quality recordings improved considerably mic loving one complaint captures lot airflow meaning hear lot air mouth final output even record anything holding mic considerable distance hear breathing sounds sound quality loud enough crisp capture room ceiling fan sound hear whoosh sound background plugged earphones record ac keep fan switched also comes handy pouch keep mic safe yay finally best production beginner like price gives ample quality output</td>\n",
       "      <td>{'neg': 0.026, 'neu': 0.731, 'pos': 0.243, 'compound': 0.9899}</td>\n",
       "      <td>0.9899</td>\n",
       "    </tr>\n",
       "  </tbody>\n",
       "</table>\n",
       "</div>"
      ],
      "text/plain": [
       "                                                                                                                                                                                                                                                                                                                                                                                                                                                                                                                                                                                                                                                                                                                                                                                                                                                                                                                                                                                                                 reviews  \\\n",
       "0  would say best available mic price range mic connected dslr smarthones laptops etc pros long wire sound quality really good richcons pick background noise noisy environment use recforge audio recorder app smartphone remove noises apart gold go                                                                                                                                                                                                                                                                                                                                                                                                                                                                                                                                                                                                                                                                                                                                                                     \n",
       "1  hi using mic month writing review give genuine review mic let us begin beginner need budget friendly mic yet gives best output right built quality mic piece compact handy use given compact size makes convenient carry anywhere want cable wire extraordinarily long meters however great plus point long wire makes recording much easier hassle free velcro cable management difficult task keep lengthy wire control weighs around gms batteries included switch button recording need switch camera mode really know written camera sound quality recordings improved considerably mic loving one complaint captures lot airflow meaning hear lot air mouth final output even record anything holding mic considerable distance hear breathing sounds sound quality loud enough crisp capture room ceiling fan sound hear whoosh sound background plugged earphones record ac keep fan switched also comes handy pouch keep mic safe yay finally best production beginner like price gives ample quality output   \n",
       "\n",
       "                                                           scores  compound  \n",
       "0  {'neg': 0.039, 'neu': 0.789, 'pos': 0.172, 'compound': 0.7713}  0.7713    \n",
       "1  {'neg': 0.026, 'neu': 0.731, 'pos': 0.243, 'compound': 0.9899}  0.9899    "
      ]
     },
     "execution_count": 84,
     "metadata": {},
     "output_type": "execute_result"
    }
   ],
   "source": [
    "df['compound']  = df['scores'].apply(lambda score_dict: score_dict['compound'])\n",
    "#df_pre['compound2']  = df_pre['scores2'].apply(lambda score_dict: score_dict['compound'])\n",
    "df.head(2)"
   ]
  },
  {
   "cell_type": "code",
   "execution_count": 85,
   "metadata": {},
   "outputs": [
    {
     "data": {
      "text/html": [
       "<div>\n",
       "<style scoped>\n",
       "    .dataframe tbody tr th:only-of-type {\n",
       "        vertical-align: middle;\n",
       "    }\n",
       "\n",
       "    .dataframe tbody tr th {\n",
       "        vertical-align: top;\n",
       "    }\n",
       "\n",
       "    .dataframe thead th {\n",
       "        text-align: right;\n",
       "    }\n",
       "</style>\n",
       "<table border=\"1\" class=\"dataframe\">\n",
       "  <thead>\n",
       "    <tr style=\"text-align: right;\">\n",
       "      <th></th>\n",
       "      <th>reviews</th>\n",
       "      <th>scores</th>\n",
       "      <th>compound</th>\n",
       "      <th>label</th>\n",
       "    </tr>\n",
       "  </thead>\n",
       "  <tbody>\n",
       "    <tr>\n",
       "      <th>0</th>\n",
       "      <td>would say best available mic price range mic connected dslr smarthones laptops etc pros long wire sound quality really good richcons pick background noise noisy environment use recforge audio recorder app smartphone remove noises apart gold go</td>\n",
       "      <td>{'neg': 0.039, 'neu': 0.789, 'pos': 0.172, 'compound': 0.7713}</td>\n",
       "      <td>0.7713</td>\n",
       "      <td>pos</td>\n",
       "    </tr>\n",
       "    <tr>\n",
       "      <th>1</th>\n",
       "      <td>hi using mic month writing review give genuine review mic let us begin beginner need budget friendly mic yet gives best output right built quality mic piece compact handy use given compact size makes convenient carry anywhere want cable wire extraordinarily long meters however great plus point long wire makes recording much easier hassle free velcro cable management difficult task keep lengthy wire control weighs around gms batteries included switch button recording need switch camera mode really know written camera sound quality recordings improved considerably mic loving one complaint captures lot airflow meaning hear lot air mouth final output even record anything holding mic considerable distance hear breathing sounds sound quality loud enough crisp capture room ceiling fan sound hear whoosh sound background plugged earphones record ac keep fan switched also comes handy pouch keep mic safe yay finally best production beginner like price gives ample quality output</td>\n",
       "      <td>{'neg': 0.026, 'neu': 0.731, 'pos': 0.243, 'compound': 0.9899}</td>\n",
       "      <td>0.9899</td>\n",
       "      <td>pos</td>\n",
       "    </tr>\n",
       "  </tbody>\n",
       "</table>\n",
       "</div>"
      ],
      "text/plain": [
       "                                                                                                                                                                                                                                                                                                                                                                                                                                                                                                                                                                                                                                                                                                                                                                                                                                                                                                                                                                                                                 reviews  \\\n",
       "0  would say best available mic price range mic connected dslr smarthones laptops etc pros long wire sound quality really good richcons pick background noise noisy environment use recforge audio recorder app smartphone remove noises apart gold go                                                                                                                                                                                                                                                                                                                                                                                                                                                                                                                                                                                                                                                                                                                                                                     \n",
       "1  hi using mic month writing review give genuine review mic let us begin beginner need budget friendly mic yet gives best output right built quality mic piece compact handy use given compact size makes convenient carry anywhere want cable wire extraordinarily long meters however great plus point long wire makes recording much easier hassle free velcro cable management difficult task keep lengthy wire control weighs around gms batteries included switch button recording need switch camera mode really know written camera sound quality recordings improved considerably mic loving one complaint captures lot airflow meaning hear lot air mouth final output even record anything holding mic considerable distance hear breathing sounds sound quality loud enough crisp capture room ceiling fan sound hear whoosh sound background plugged earphones record ac keep fan switched also comes handy pouch keep mic safe yay finally best production beginner like price gives ample quality output   \n",
       "\n",
       "                                                           scores  compound  \\\n",
       "0  {'neg': 0.039, 'neu': 0.789, 'pos': 0.172, 'compound': 0.7713}  0.7713     \n",
       "1  {'neg': 0.026, 'neu': 0.731, 'pos': 0.243, 'compound': 0.9899}  0.9899     \n",
       "\n",
       "  label  \n",
       "0  pos   \n",
       "1  pos   "
      ]
     },
     "execution_count": 85,
     "metadata": {},
     "output_type": "execute_result"
    }
   ],
   "source": [
    "df['label'] = df['compound'].apply(lambda c: 'pos' if c >=0.05 else('neu'if  c<0.05 and c>-0.05 else 'neg'))\n",
    "#df_pre['label2'] = df_pre['compound2'].apply(lambda c: 'pos' if c >=0.05 else('neu'if  c<=0.05 and c>=-0.05 else 'neg'))\n",
    "\n",
    "df.head(2)\n"
   ]
  },
  {
   "cell_type": "code",
   "execution_count": 86,
   "metadata": {},
   "outputs": [
    {
     "data": {
      "text/html": [
       "<div>\n",
       "<style scoped>\n",
       "    .dataframe tbody tr th:only-of-type {\n",
       "        vertical-align: middle;\n",
       "    }\n",
       "\n",
       "    .dataframe tbody tr th {\n",
       "        vertical-align: top;\n",
       "    }\n",
       "\n",
       "    .dataframe thead th {\n",
       "        text-align: right;\n",
       "    }\n",
       "</style>\n",
       "<table border=\"1\" class=\"dataframe\">\n",
       "  <thead>\n",
       "    <tr style=\"text-align: right;\">\n",
       "      <th></th>\n",
       "      <th>reviews</th>\n",
       "      <th>scores</th>\n",
       "      <th>compound</th>\n",
       "      <th>label</th>\n",
       "    </tr>\n",
       "  </thead>\n",
       "  <tbody>\n",
       "    <tr>\n",
       "      <th>995</th>\n",
       "      <td>bought small voice recording works well</td>\n",
       "      <td>{'neg': 0.0, 'neu': 0.704, 'pos': 0.296, 'compound': 0.2732}</td>\n",
       "      <td>0.2732</td>\n",
       "      <td>pos</td>\n",
       "    </tr>\n",
       "    <tr>\n",
       "      <th>996</th>\n",
       "      <td>bought mic opened package days product received defective return policy also got closed give ctach noise despite trying product multiple devices possible replace product change review</td>\n",
       "      <td>{'neg': 0.104, 'neu': 0.896, 'pos': 0.0, 'compound': -0.4404}</td>\n",
       "      <td>-0.4404</td>\n",
       "      <td>neg</td>\n",
       "    </tr>\n",
       "    <tr>\n",
       "      <th>997</th>\n",
       "      <td>working desktop pc need trss trs adapter available market mic working without adapter</td>\n",
       "      <td>{'neg': 0.0, 'neu': 1.0, 'pos': 0.0, 'compound': 0.0}</td>\n",
       "      <td>0.0000</td>\n",
       "      <td>neu</td>\n",
       "    </tr>\n",
       "    <tr>\n",
       "      <th>998</th>\n",
       "      <td>reviews marketing gimmick singers audio quality worst compared phone normal recording much better connecting phone recording</td>\n",
       "      <td>{'neg': 0.195, 'neu': 0.667, 'pos': 0.138, 'compound': -0.296}</td>\n",
       "      <td>-0.2960</td>\n",
       "      <td>neg</td>\n",
       "    </tr>\n",
       "    <tr>\n",
       "      <th>999</th>\n",
       "      <td>received fake product buy</td>\n",
       "      <td>{'neg': 0.508, 'neu': 0.492, 'pos': 0.0, 'compound': -0.4767}</td>\n",
       "      <td>-0.4767</td>\n",
       "      <td>neg</td>\n",
       "    </tr>\n",
       "  </tbody>\n",
       "</table>\n",
       "</div>"
      ],
      "text/plain": [
       "                                                                                                                                                                                     reviews  \\\n",
       "995  bought small voice recording works well                                                                                                                                                   \n",
       "996  bought mic opened package days product received defective return policy also got closed give ctach noise despite trying product multiple devices possible replace product change review   \n",
       "997  working desktop pc need trss trs adapter available market mic working without adapter                                                                                                     \n",
       "998  reviews marketing gimmick singers audio quality worst compared phone normal recording much better connecting phone recording                                                              \n",
       "999  received fake product buy                                                                                                                                                                 \n",
       "\n",
       "                                                             scores  compound  \\\n",
       "995  {'neg': 0.0, 'neu': 0.704, 'pos': 0.296, 'compound': 0.2732}    0.2732     \n",
       "996  {'neg': 0.104, 'neu': 0.896, 'pos': 0.0, 'compound': -0.4404}  -0.4404     \n",
       "997  {'neg': 0.0, 'neu': 1.0, 'pos': 0.0, 'compound': 0.0}           0.0000     \n",
       "998  {'neg': 0.195, 'neu': 0.667, 'pos': 0.138, 'compound': -0.296} -0.2960     \n",
       "999  {'neg': 0.508, 'neu': 0.492, 'pos': 0.0, 'compound': -0.4767}  -0.4767     \n",
       "\n",
       "    label  \n",
       "995  pos   \n",
       "996  neg   \n",
       "997  neu   \n",
       "998  neg   \n",
       "999  neg   "
      ]
     },
     "execution_count": 86,
     "metadata": {},
     "output_type": "execute_result"
    }
   ],
   "source": [
    "df.tail()"
   ]
  },
  {
   "cell_type": "code",
   "execution_count": 87,
   "metadata": {},
   "outputs": [],
   "source": [
    "col_drop=[ 'scores', 'compound']\n",
    "df.drop(col_drop, axis =1, inplace=True)\n",
    "#df_pre.head(2)"
   ]
  },
  {
   "cell_type": "code",
   "execution_count": 88,
   "metadata": {},
   "outputs": [
    {
     "data": {
      "text/html": [
       "<div>\n",
       "<style scoped>\n",
       "    .dataframe tbody tr th:only-of-type {\n",
       "        vertical-align: middle;\n",
       "    }\n",
       "\n",
       "    .dataframe tbody tr th {\n",
       "        vertical-align: top;\n",
       "    }\n",
       "\n",
       "    .dataframe thead th {\n",
       "        text-align: right;\n",
       "    }\n",
       "</style>\n",
       "<table border=\"1\" class=\"dataframe\">\n",
       "  <thead>\n",
       "    <tr style=\"text-align: right;\">\n",
       "      <th></th>\n",
       "      <th>reviews</th>\n",
       "      <th>label</th>\n",
       "    </tr>\n",
       "  </thead>\n",
       "  <tbody>\n",
       "    <tr>\n",
       "      <th>0</th>\n",
       "      <td>would say best available mic price range mic connected dslr smarthones laptops etc pros long wire sound quality really good richcons pick background noise noisy environment use recforge audio recorder app smartphone remove noises apart gold go</td>\n",
       "      <td>pos</td>\n",
       "    </tr>\n",
       "    <tr>\n",
       "      <th>1</th>\n",
       "      <td>hi using mic month writing review give genuine review mic let us begin beginner need budget friendly mic yet gives best output right built quality mic piece compact handy use given compact size makes convenient carry anywhere want cable wire extraordinarily long meters however great plus point long wire makes recording much easier hassle free velcro cable management difficult task keep lengthy wire control weighs around gms batteries included switch button recording need switch camera mode really know written camera sound quality recordings improved considerably mic loving one complaint captures lot airflow meaning hear lot air mouth final output even record anything holding mic considerable distance hear breathing sounds sound quality loud enough crisp capture room ceiling fan sound hear whoosh sound background plugged earphones record ac keep fan switched also comes handy pouch keep mic safe yay finally best production beginner like price gives ample quality output</td>\n",
       "      <td>pos</td>\n",
       "    </tr>\n",
       "    <tr>\n",
       "      <th>2</th>\n",
       "      <td>recording phone laptop quality get regular headphone watched review product tube even technical guruji channel marketing strategy guess useless microphones noise cancellation dont know r using dslr fon pc give special output fan noise returned</td>\n",
       "      <td>pos</td>\n",
       "    </tr>\n",
       "    <tr>\n",
       "      <th>3</th>\n",
       "      <td>stoped working within months recording starting record seconds records nothing hear nothing recorded mic worst mic whole amount got wasted dispointed</td>\n",
       "      <td>neu</td>\n",
       "    </tr>\n",
       "    <tr>\n",
       "      <th>4</th>\n",
       "      <td>give honest review boya read full may help clear dilemma need depth review review video youtube go youtube com mobiletechpoint search mobile tech point boya find review video audio entire video recorded boya bought boya rupees great pro mic price first thing notice cable meters long super lengthy good cable management nice see battery unit made metal use mic smartphones need battery mic draws power phone case dslr need switch camera mode good part mic connect smartphones tablets pc dslr external audio recorders like zoom h n pretty awesome right price pay mic gives excellent quality audio meter cable advantage disadvantage depends look using mic external recorder need cable using mic dslr camera want move around gives freedom concern need aware since battery indicator might want carry extra battery going record something important want miss put new battery fine audio recording boya lavalier mic must even external audio recorder condenser mic get mic well sure come handy point time doubts post comment youtube video answer query thanks buy</td>\n",
       "      <td>pos</td>\n",
       "    </tr>\n",
       "    <tr>\n",
       "      <th>5</th>\n",
       "      <td>note ready go mic need sound card plugged used directly even smartphones mm jack connector built use connector needed long cable measures upto feet note absolutely noise isolation normal smartphone earphones better job noise reduction compared stock condition simple editing mic works fine check review detailed settings literally thousands review product none explained best possible settings used smartphone audacity software even general took risk ordering turned nightmare right box sound output worse smartphone earphones went search best settings amazon sources vain fortunately experiments found solution working fine first mentioning pros cons considering settings found listing settings pros built quality complete mic cable good price given length cable insane feet personally find useful use smartphone couple feet pockets users useful using rig setup camera universal mm jack handy easy use plug play device need sound card external device work support multiple device right smartphones dslrs computers comes carry pouch handy since mess long cables cons biggest con sound quality right box garbage quality even normal ears cannot bear background noise collection forget audiophiles normal smartphone earphones record much better sound quality compared length cable way much guess many users think multiple option length choose keeping feet cable wrapped hanging pocket recording comfortable comes button cell recording sound devices smartphone way know whether battery dead charging level way check plugging digital recorder computer test carrying recorder playback feature hurry case dead battery record sound way find efforts vain comfortably sit edit trust frustrating mentioning scenario happened hence cautious batteries use smartphones digital recorders think price couple hundred bucks less considering sound quality best setting using audacity software settings record smartphone device lots background noises use audacity software free open software open audio file recorded mic select entire audio clip open effects distortion start playback audio clip software listen change effects make select distortion type option top box select soft clipping select hard limiter settings sounds suitable take clipping level cursor extreme right end hear soft pleasant output adjust make gain cursor little bit needed keep select ever type feel suitable click apply noise reduction select short section audio voice background noises want open effects noise reduction click get noise profile select entire audio clip open effects noise reduction finally click ok good go soft slightly lesser noises pleasant sound output steps amplify sound software end user software verdict personally disappointed sound quality though audacity tweaking gets bearable level satisfactory enough plus price seems slightly would recommend someone looking good sound quality specially live noisy environment buy live silent conditions</td>\n",
       "      <td>pos</td>\n",
       "    </tr>\n",
       "    <tr>\n",
       "      <th>6</th>\n",
       "      <td>cannot record voice properly noise cancellation bad even small noise capturing background tried return product per policy cannot return seems like wasted money</td>\n",
       "      <td>neg</td>\n",
       "    </tr>\n",
       "    <tr>\n",
       "      <th>7</th>\n",
       "      <td>want good mic recording videos voice overs get youtube try search good microphone youtubers beginners end getting boya mic costs somewhere rupees rupees price may fluctuate lot know product useless used different microphones different companies sounded lot better crisper done microphone voice sounds enclosed box something christmas clarity go fooled ratings amazon choice something like good product rather suggest buy normal generic condenser microphone range guarantee chinese microphones sound much better boya microphone remember want crisper clear voice need condenser microphone condenser microphones ones creates crispy sound hand go dynamic microphone available mobile phones microphones give lot noise free experience hear kind noise background process connect microphones lot complicated connected laptop computer using phantom power supply completely different thing remember want get good quality sound id go condenser microphone generic microphone buy mic one another major problem microphone get along long wire believe guys going help cases going mess videos lot end messing wires normal metre metre wire enough even want increase length using normal wire cutting existing wire microphone try connect normal wire extending desired lenght repeating buy microphone costs lot quality sound one good thing battery part made metal</td>\n",
       "      <td>pos</td>\n",
       "    </tr>\n",
       "    <tr>\n",
       "      <th>8</th>\n",
       "      <td>average quality product many excellent reviews item still convinced excellent rating want report quality issue manufacturer item reported problem sales boya sale service claim one year warranty totally false buyers purchase item one risk without expectation sales support thinking boya mic use purchased splitter rs use microphone including boya without using switch et ease thoroughly misrepresented item simple lapel mic spliter far far better option expensive inconvenient boya</td>\n",
       "      <td>pos</td>\n",
       "    </tr>\n",
       "    <tr>\n",
       "      <th>9</th>\n",
       "      <td>earlier generic mic poor voice recording quality short cable bought boya mic increase quality recording says voice quality good build quality average mic used dslr cameras mic control panel attched cable powered lr series cell switch camera mobile button overall mic great terms value money voice recording quality cons cable extremely long tangles easily standard camera app may support external mic download third party app like open camera</td>\n",
       "      <td>pos</td>\n",
       "    </tr>\n",
       "    <tr>\n",
       "      <th>10</th>\n",
       "      <td>would say best available mic price range mic connected dslr smarthones laptops etc pros long wire sound quality really good richcons pick background noise noisy environment use recforge audio recorder app smartphone remove noises apart gold go</td>\n",
       "      <td>pos</td>\n",
       "    </tr>\n",
       "    <tr>\n",
       "      <th>11</th>\n",
       "      <td>hi using mic month writing review give genuine review mic let us begin beginner need budget friendly mic yet gives best output right built quality mic piece compact handy use given compact size makes convenient carry anywhere want cable wire extraordinarily long meters however great plus point long wire makes recording much easier hassle free velcro cable management difficult task keep lengthy wire control weighs around gms batteries included switch button recording need switch camera mode really know written camera sound quality recordings improved considerably mic loving one complaint captures lot airflow meaning hear lot air mouth final output even record anything holding mic considerable distance hear breathing sounds sound quality loud enough crisp capture room ceiling fan sound hear whoosh sound background plugged earphones record ac keep fan switched also comes handy pouch keep mic safe yay finally best production beginner like price gives ample quality output</td>\n",
       "      <td>pos</td>\n",
       "    </tr>\n",
       "    <tr>\n",
       "      <th>12</th>\n",
       "      <td>recording phone laptop quality get regular headphone watched review product tube even technical guruji channel marketing strategy guess useless microphones noise cancellation dont know r using dslr fon pc give special output fan noise returned</td>\n",
       "      <td>pos</td>\n",
       "    </tr>\n",
       "    <tr>\n",
       "      <th>13</th>\n",
       "      <td>stoped working within months recording starting record seconds records nothing hear nothing recorded mic worst mic whole amount got wasted dispointed</td>\n",
       "      <td>neu</td>\n",
       "    </tr>\n",
       "    <tr>\n",
       "      <th>14</th>\n",
       "      <td>give honest review boya read full may help clear dilemma need depth review review video youtube go youtube com mobiletechpoint search mobile tech point boya find review video audio entire video recorded boya bought boya rupees great pro mic price first thing notice cable meters long super lengthy good cable management nice see battery unit made metal use mic smartphones need battery mic draws power phone case dslr need switch camera mode good part mic connect smartphones tablets pc dslr external audio recorders like zoom h n pretty awesome right price pay mic gives excellent quality audio meter cable advantage disadvantage depends look using mic external recorder need cable using mic dslr camera want move around gives freedom concern need aware since battery indicator might want carry extra battery going record something important want miss put new battery fine audio recording boya lavalier mic must even external audio recorder condenser mic get mic well sure come handy point time doubts post comment youtube video answer query thanks buy</td>\n",
       "      <td>pos</td>\n",
       "    </tr>\n",
       "    <tr>\n",
       "      <th>15</th>\n",
       "      <td>note ready go mic need sound card plugged used directly even smartphones mm jack connector built use connector needed long cable measures upto feet note absolutely noise isolation normal smartphone earphones better job noise reduction compared stock condition simple editing mic works fine check review detailed settings literally thousands review product none explained best possible settings used smartphone audacity software even general took risk ordering turned nightmare right box sound output worse smartphone earphones went search best settings amazon sources vain fortunately experiments found solution working fine first mentioning pros cons considering settings found listing settings pros built quality complete mic cable good price given length cable insane feet personally find useful use smartphone couple feet pockets users useful using rig setup camera universal mm jack handy easy use plug play device need sound card external device work support multiple device right smartphones dslrs computers comes carry pouch handy since mess long cables cons biggest con sound quality right box garbage quality even normal ears cannot bear background noise collection forget audiophiles normal smartphone earphones record much better sound quality compared length cable way much guess many users think multiple option length choose keeping feet cable wrapped hanging pocket recording comfortable comes button cell recording sound devices smartphone way know whether battery dead charging level way check plugging digital recorder computer test carrying recorder playback feature hurry case dead battery record sound way find efforts vain comfortably sit edit trust frustrating mentioning scenario happened hence cautious batteries use smartphones digital recorders think price couple hundred bucks less considering sound quality best setting using audacity software settings record smartphone device lots background noises use audacity software free open software open audio file recorded mic select entire audio clip open effects distortion start playback audio clip software listen change effects make select distortion type option top box select soft clipping select hard limiter settings sounds suitable take clipping level cursor extreme right end hear soft pleasant output adjust make gain cursor little bit needed keep select ever type feel suitable click apply noise reduction select short section audio voice background noises want open effects noise reduction click get noise profile select entire audio clip open effects noise reduction finally click ok good go soft slightly lesser noises pleasant sound output steps amplify sound software end user software verdict personally disappointed sound quality though audacity tweaking gets bearable level satisfactory enough plus price seems slightly would recommend someone looking good sound quality specially live noisy environment buy live silent conditions</td>\n",
       "      <td>pos</td>\n",
       "    </tr>\n",
       "    <tr>\n",
       "      <th>16</th>\n",
       "      <td>cannot record voice properly noise cancellation bad even small noise capturing background tried return product per policy cannot return seems like wasted money</td>\n",
       "      <td>neg</td>\n",
       "    </tr>\n",
       "    <tr>\n",
       "      <th>17</th>\n",
       "      <td>want good mic recording videos voice overs get youtube try search good microphone youtubers beginners end getting boya mic costs somewhere rupees rupees price may fluctuate lot know product useless used different microphones different companies sounded lot better crisper done microphone voice sounds enclosed box something christmas clarity go fooled ratings amazon choice something like good product rather suggest buy normal generic condenser microphone range guarantee chinese microphones sound much better boya microphone remember want crisper clear voice need condenser microphone condenser microphones ones creates crispy sound hand go dynamic microphone available mobile phones microphones give lot noise free experience hear kind noise background process connect microphones lot complicated connected laptop computer using phantom power supply completely different thing remember want get good quality sound id go condenser microphone generic microphone buy mic one another major problem microphone get along long wire believe guys going help cases going mess videos lot end messing wires normal metre metre wire enough even want increase length using normal wire cutting existing wire microphone try connect normal wire extending desired lenght repeating buy microphone costs lot quality sound one good thing battery part made metal</td>\n",
       "      <td>pos</td>\n",
       "    </tr>\n",
       "    <tr>\n",
       "      <th>18</th>\n",
       "      <td>average quality product many excellent reviews item still convinced excellent rating want report quality issue manufacturer item reported problem sales boya sale service claim one year warranty totally false buyers purchase item one risk without expectation sales support thinking boya mic use purchased splitter rs use microphone including boya without using switch et ease thoroughly misrepresented item simple lapel mic spliter far far better option expensive inconvenient boya</td>\n",
       "      <td>pos</td>\n",
       "    </tr>\n",
       "    <tr>\n",
       "      <th>19</th>\n",
       "      <td>earlier generic mic poor voice recording quality short cable bought boya mic increase quality recording says voice quality good build quality average mic used dslr cameras mic control panel attched cable powered lr series cell switch camera mobile button overall mic great terms value money voice recording quality cons cable extremely long tangles easily standard camera app may support external mic download third party app like open camera</td>\n",
       "      <td>pos</td>\n",
       "    </tr>\n",
       "    <tr>\n",
       "      <th>20</th>\n",
       "      <td>checked boya web site shown product already sold means got fake product anyway product working well</td>\n",
       "      <td>neg</td>\n",
       "    </tr>\n",
       "    <tr>\n",
       "      <th>21</th>\n",
       "      <td>browser support html video hi read reviews mic amazon youtube mostly good decided buy first time already opened box delivered asked replacement amazon quickly replaced product received packed one time mic good price sound recorded bad low quality appears recorded cheap quality mic present earphones normal logitech usb headset mic working better noise cancellation yes cancelling noise harsh noise cancellation also reduces quality original voice thus get low quality voice unfortunately option turn noise cancellation recommendation want quality would suggest go good quality headset voice would clearer cons harsh noise cancellation reduces quality actual voice feel cable long pro con little heavier side voice quality good pros feet cable comes adapter plugin amplifier instruments build quality amazing comes clip cushion comes small pouch used camera noise cancellationi decided return product</td>\n",
       "      <td>pos</td>\n",
       "    </tr>\n",
       "    <tr>\n",
       "      <th>22</th>\n",
       "      <td>better record audio mid range mobiles rather wasting money voice quality oppo f pro even redmi better voice quality big ghost machine actually long use comfortably worthless due capability noise cancellation even support system inbuilt camera well download open camera case able use ai skills system cameras ai smartphone era final verdict extremely suggested avoid find alternative option</td>\n",
       "      <td>pos</td>\n",
       "    </tr>\n",
       "    <tr>\n",
       "      <th>23</th>\n",
       "      <td>nice produt boya best mic ever zero noise long wire nice packing thx amazon day delivery good packing</td>\n",
       "      <td>pos</td>\n",
       "    </tr>\n",
       "    <tr>\n",
       "      <th>24</th>\n",
       "      <td>terrible product works little bit ok iphone useless phones assuming product possibly defective asking replacement see fine phones edit replacement product came damaged packaging suspect perform shows kind company selling</td>\n",
       "      <td>neg</td>\n",
       "    </tr>\n",
       "    <tr>\n",
       "      <th>25</th>\n",
       "      <td>totally garbage months would stop working bought one may suddenly get stopdon waste money go one none youtubers using regularly</td>\n",
       "      <td>neg</td>\n",
       "    </tr>\n",
       "    <tr>\n",
       "      <th>26</th>\n",
       "      <td>bought boya mike th june got delivery th june writing review sincerely truthfully boya stopped working literally week use week barely used day two packed boya cover week got know return policy already got lapsed th july thought could power button problem replacing power button new one learned problem power button boya literally stopped working helpless cause missed return date per return policy would much thankful amazon look matter genuine concern plus used rough tough basis cared much boya mike kindly look matter review defaming product review expressing bad experience mike could best many suffering bad experience would great help look matter genuine interest</td>\n",
       "      <td>pos</td>\n",
       "    </tr>\n",
       "    <tr>\n",
       "      <th>27</th>\n",
       "      <td>nice noise cancellation</td>\n",
       "      <td>pos</td>\n",
       "    </tr>\n",
       "    <tr>\n",
       "      <th>28</th>\n",
       "      <td>bought product youtube video making seen many big youtuber reviews product st mic received th aug record video mic noise getting cancel record video atomshphere wound ear phone record much better mic thought may technical issue may damage something mic replaced st aug found nd mic issue happen told waste money product time returned</td>\n",
       "      <td>neg</td>\n",
       "    </tr>\n",
       "    <tr>\n",
       "      <th>29</th>\n",
       "      <td>edited got replacement working excellent open camera app sorry negative review working mobile phone default camera app working perfectly open camera app select audio input external audio open camera app settings works cons return policy replacement wasted money records low voice noise cancelling recording videos mobiles mobile without records much better loud low voice noisey audio worst product tried realme pro redmi note pro pro use loooooong cable serve purpose</td>\n",
       "      <td>neg</td>\n",
       "    </tr>\n",
       "    <tr>\n",
       "      <th>30</th>\n",
       "      <td>lavalier mic good based price less everything need know mic contents mic pouch battery clip foam mic foam pop filtersound quality indoor usage outdoor usagedoes work smartphone yes need remember use voice recorder plugging video recording smartphone phones may work many work android users suggestion mic work u recording video install open camera app playstore change mic setting external mic optionwire length much get little irritation gets wired within important note option select via knob smartphones camerawhen using mic smartphone dont need batteries placed well required put battery connect dslrenjoy good product go</td>\n",
       "      <td>pos</td>\n",
       "    </tr>\n",
       "    <tr>\n",
       "      <th>31</th>\n",
       "      <td>purchased mic recommendations lot review videos number youtubers note bought item amazon started delivery non essential products mic came along battery button cell stopped working within days thought problem replacing battery started working less months mic stopped working completely even changing battery work worst part customer service available india take mic repair replace claim warranty technically year warranty useless something happens mic really want buy mic go local shop buy better one test first buy accordingly believe amazon sent mic previously returned someone cause working somehow worked days anymore regret purchase lock period forced purchase things online shopping services least bother provide us quality product</td>\n",
       "      <td>neg</td>\n",
       "    </tr>\n",
       "    <tr>\n",
       "      <th>32</th>\n",
       "      <td>really disappointed product redmi note pro inbuilt dual mic performs way better one recording indoor go checked sample filtered sample audacity noise reduction twice sample redmi note pro inbuilt mic way bass clear little noise hand sample boya mic bass lots noise reviews saying mic performs equally true</td>\n",
       "      <td>pos</td>\n",
       "    </tr>\n",
       "    <tr>\n",
       "      <th>33</th>\n",
       "      <td>listen youtuber understand politics purchased cashback wich given amazon ignore real review cheaper normal quality works well audiobut video redmi phone howeverworking well samsung phones noice cancellation little bit orginal samsung best phone works length feet hand enough shooting checked camera option extra jack hope work see normal better one conclusion starting audio video production online buy worth ne</td>\n",
       "      <td>pos</td>\n",
       "    </tr>\n",
       "    <tr>\n",
       "      <th>34</th>\n",
       "      <td>buying reading comments like working blah blah wanna say using boya mic mobile download app open camera enable external mic option second purchased nikon dslr turn button camera option micalso put dslr manual settings enjoy sharp clear sound like professional youtubers got mic today fully satisfied</td>\n",
       "      <td>pos</td>\n",
       "    </tr>\n",
       "    <tr>\n",
       "      <th>35</th>\n",
       "      <td>work laptops integrated headset microphone port user manual says works switch position website suggests keeping camera position ways work laptops seller also accept returns</td>\n",
       "      <td>pos</td>\n",
       "    </tr>\n",
       "    <tr>\n",
       "      <th>36</th>\n",
       "      <td>browser support html video real mic may scan qr code take directly official website boya type digit code confirm whether mic real best price great noise cancellation reviews may tell duplicate depends luck got real one hope</td>\n",
       "      <td>pos</td>\n",
       "    </tr>\n",
       "    <tr>\n",
       "      <th>37</th>\n",
       "      <td>per image n description work mobile work phone camera tried find solution youtubers suggesting open camera app mob camera good open camera app reduces quality good camera felt suggested option buy trrs trs converter buy given boya writing work mobile bought two converter amazon work converter cost rs also additional cost given boya important thing boya mentioned need converter lost returning time due experiments buying converter etc provided boya buy kodak giving solution n especially mentioned required things description experience boya amazon revise description e catalogue</td>\n",
       "      <td>pos</td>\n",
       "    </tr>\n",
       "    <tr>\n",
       "      <th>38</th>\n",
       "      <td>good go youtuber videos shoot outdoors distance smartphone well dslr hands free operation phone mic input poor want use presentation useful voice videos closed atmosphere want wired mic note aug mic supported oneplus camera app shooting videos use third party camera app like open camera use microphone using open camera camera mx mic recent video channel themangocouple voice overed help mic</td>\n",
       "      <td>pos</td>\n",
       "    </tr>\n",
       "    <tr>\n",
       "      <th>39</th>\n",
       "      <td>previous buyers read lot reviews buy mic boya also watched unboxing comparison videos youtube forcing buy item care negative reviews seriously unfortunately realizie item searched purpose mic voice text voice recognition let tell frankly seriously disappointed cannot use item business echo delay transfer voice pc found way customize settings except windows default audio settings found problem short length cabled mics changed default settings actually know cause issue unusual length cable battery mic enough provide necessary electricity spent rs item packing finishing item delivery etc good waste able use item using bit windows professional pc ghz gb ram advice try see check mic buying</td>\n",
       "      <td>neg</td>\n",
       "    </tr>\n",
       "    <tr>\n",
       "      <th>40</th>\n",
       "      <td>worst product ever received fake one noise cancellation want check go official website get one code according product codes match original fake case matched fooling customers reading review decision giving feedback returned product refund policy get refund money till date tried every way result finally writing review tried contact amazon customer care number working lots struggle succeeded contact guy said initiated process still received money unreachable mode dropped many mails reply humble request planning long run product quality go also regret extremely unhappy want good one go original website try good alternatives give better result went months period contact mail calls output disappointing service</td>\n",
       "      <td>neg</td>\n",
       "    </tr>\n",
       "    <tr>\n",
       "      <th>41</th>\n",
       "      <td>expected great things thing bought especially lot youtube filmmakers follow recommended best cheap alternative sadly noise cancellation thing non existent catch everything wind random ambient noise want lav mic supposed capture actor voice sure controlled setup mic excellent job catching robustness voice even background noise clean kind utility want really pay get</td>\n",
       "      <td>pos</td>\n",
       "    </tr>\n",
       "    <tr>\n",
       "      <th>42</th>\n",
       "      <td>needed youtube videos bought first doubtful whether original product fake got rs watched lot youtube videos boya mic first work phone camera voice recorder got know usually happens download apps worked also lot videos original fake boya mic qr code mine anxious instead coat boya logo right water disappear disappear coated water however original boya website find water coating thing hopefully happy product worked even made sweet toasts asmr video youtube check noise hope helped thankyou</td>\n",
       "      <td>pos</td>\n",
       "    </tr>\n",
       "    <tr>\n",
       "      <th>43</th>\n",
       "      <td>duplicate boya mic original box registered trademark switch receiver get displaced also working switch flipped original receiver red green tintthe audio quality poor rs ear phone records better quality msdj retail selleri hope everyone go buying seller thank</td>\n",
       "      <td>pos</td>\n",
       "    </tr>\n",
       "    <tr>\n",
       "      <th>44</th>\n",
       "      <td>using multiple applications like youtube videos interviews client calls amazing voice recording quality versatile product used phone dslr laptop got product great price match mic quality omnidirectional mic catch voice angles means best suited indoor use also used terrace still catch wind noise ft long wire way enough fit finish amazing kudos boya amazing product</td>\n",
       "      <td>pos</td>\n",
       "    </tr>\n",
       "    <tr>\n",
       "      <th>45</th>\n",
       "      <td>high quality microphone powered unpowered switch usable almost form audio inputs power switch mode cameras devices require power input non power switch mode smartphones pcs laptops etc inbuilt preamplifiers powered input necessary accessories provided microphone reflect overall quality manufacturer wants provide users microphone high sensitive low gain microphone maintain good audio quality good preamplifier used microphone final audio amplification certainly would give good quality audio desirable recording similar purposes considering price factors would definitely recommend microphone others</td>\n",
       "      <td>pos</td>\n",
       "    </tr>\n",
       "    <tr>\n",
       "      <th>46</th>\n",
       "      <td>want better mic lower price nothing better must get wanted teach online record lectures went dedicated mic daily headphone mic laptop board performing must buy mic beginner one must invest costly microphone used week expectations usage pointers switch says camera smartphoneif connecting mic camera laptop switch option connecting mic smart phone switch option dont judge mic quickly purchasing see demonstrations youtube</td>\n",
       "      <td>pos</td>\n",
       "    </tr>\n",
       "    <tr>\n",
       "      <th>47</th>\n",
       "      <td>start speaking something mic catches voice surrounding vocies atmospheric sounds get dumped stop speaking anything catches sounds enviornment utensil cleaning noise kitchen could metre away room sitting barking sound stray dog noises low pitch level distract listener would prefer outside enviornment internal premise surrounding best product price category wise grab today getting price range inr</td>\n",
       "      <td>neu</td>\n",
       "    </tr>\n",
       "    <tr>\n",
       "      <th>48</th>\n",
       "      <td>captures every detail quality also good need splitter insert earphone mic get sound feedback listen karaoke track recording given description battery switch using mobile takes power mobile actually keep switch using mobile otherwise record anything recording output crisp clear loud enough need speak loudly mic captures voice fair distance also wire length also sufficient quality material also good overall nice product</td>\n",
       "      <td>pos</td>\n",
       "    </tr>\n",
       "    <tr>\n",
       "      <th>49</th>\n",
       "      <td>satisfied sound quality noise cancellation great rather catches sounds outside clearly cable long real good need shout speaking simple whisper catch properly singing recording video normally received carry pouch well another plug guess dslr using mobile need battery well one needed mic attached dslr device using mobile need use battery good one g</td>\n",
       "      <td>pos</td>\n",
       "    </tr>\n",
       "    <tr>\n",
       "      <th>50</th>\n",
       "      <td>per expectation described youtubers bit noise felt quality slightly average build quality good noise cancellation average price also average par quality didnt recommend professional youtubers</td>\n",
       "      <td>pos</td>\n",
       "    </tr>\n",
       "    <tr>\n",
       "      <th>51</th>\n",
       "      <td>item working item manufacturing defects try open battery cabin tight trial opened saw stickers misplaced try fix closed cabin try open time also feel tight opening cabin removed misplaced stickers smoothly open wires battery cabin open please ensure quality manufacturing process device</td>\n",
       "      <td>pos</td>\n",
       "    </tr>\n",
       "    <tr>\n",
       "      <th>52</th>\n",
       "      <td>browser support html video response absolutely amazing catching heavy sounds voice also omnidirectional means picks sounds around present mono audio type yes cannot get results stereo response around hz khz yes true right using regular recording works well phone cameras one thing must careful purchasing tht definitely provide kind noise cancellation r think buy vlog outside recording may disappoint treat voice editing overall completely satisfied product works well record voice perfectly</td>\n",
       "      <td>pos</td>\n",
       "    </tr>\n",
       "    <tr>\n",
       "      <th>53</th>\n",
       "      <td>bought computer better non battery mics still good voice recording tried desktop giving hmm sound however could motherboard problem tried usb sound card clarity better strengh weak swithed battery computers work without switching battery disappointed bought behringer u phoria umc audio interface rs connected though improvement sound throughput increase mic volume behringer computer get better throughput bigger waves audacity recording useless extreme noise connected android phone quality slightly lesser inbuilt mic however working alright laptop atleast better non battery mics hence giving stars</td>\n",
       "      <td>pos</td>\n",
       "    </tr>\n",
       "    <tr>\n",
       "      <th>54</th>\n",
       "      <td>listen friends online videos mic good performance best noise cancellation bought really happy working phone checked every phones available home compatible working phone even used open camera software worked please buy want use mobile phone wasted time money</td>\n",
       "      <td>pos</td>\n",
       "    </tr>\n",
       "    <tr>\n",
       "      <th>55</th>\n",
       "      <td>know sent purchased read good review unlucky product earphone records good audio piece tried oppo reno one non mobiles support mic need buying piece</td>\n",
       "      <td>pos</td>\n",
       "    </tr>\n",
       "    <tr>\n",
       "      <th>56</th>\n",
       "      <td>lav microphones recommended shooting video close enough mic microphones seen video placing lav microphone important brand model even expensive models useless know use inexpensive model available market generous cable supports well plugyou connect phone laptop desktop dslr without battery connecting amp devices insert lr battery included last years seen issues far value money</td>\n",
       "      <td>pos</td>\n",
       "    </tr>\n",
       "    <tr>\n",
       "      <th>57</th>\n",
       "      <td>poor quality guys believe others say buying phone laptop think againfor camera works fine otherwise speak lungs get good quality disgrace collar mic keep near mouth get clear voice</td>\n",
       "      <td>neu</td>\n",
       "    </tr>\n",
       "    <tr>\n",
       "      <th>58</th>\n",
       "      <td>writing views prolonged usage digital content creation became much awesome nifty little gadget came cheap cheaped performance sound quality videos improved alot thankful along students mic works well laptop cellphone without switch battery used dslr yet sure work well thing may bother people maybe lengthy wire becomes difficult manage sometimes others may prove useful extra reach also expect noise cancellation mic omnidirectional mic pick sound directions mic sometimes picked croaks monsoon toads frogs night time shoots make valid guess regarding vehicles passing overall happy purchase one cheap best option casual content creation need hifi sound recording need burn larger hole within pocket</td>\n",
       "      <td>pos</td>\n",
       "    </tr>\n",
       "    <tr>\n",
       "      <th>59</th>\n",
       "      <td>product received work canon dslr mark laptop went couple reviews youtube problems boya people reported chances one received might duplicate unfortunately seller provides replacement return suggestion would please second thoughts buying one higher review rate mean get good one highly recommend watching reviews online go purchase review item receive replacementthey replaced working one one works fine</td>\n",
       "      <td>pos</td>\n",
       "    </tr>\n",
       "  </tbody>\n",
       "</table>\n",
       "</div>"
      ],
      "text/plain": [
       "                                                                                                                                                                                                                                                                                                                                                                                                                                                                                                                                                                                                                                                                                                                                                                                                                                                                                                                                                                                                                                                                                                                                                                                                                                                                                                                                                                                                                                                                                                                                                                                                                                                                                                                                                                                                                                                                                                                                                                                                                                                                                                                                                                                                                                                                                                                                                                                                                                                                                                                                                                                                                                                                                                                                                                                                                                                                                                                                                                                                                                          reviews  \\\n",
       "0   would say best available mic price range mic connected dslr smarthones laptops etc pros long wire sound quality really good richcons pick background noise noisy environment use recforge audio recorder app smartphone remove noises apart gold go                                                                                                                                                                                                                                                                                                                                                                                                                                                                                                                                                                                                                                                                                                                                                                                                                                                                                                                                                                                                                                                                                                                                                                                                                                                                                                                                                                                                                                                                                                                                                                                                                                                                                                                                                                                                                                                                                                                                                                                                                                                                                                                                                                                                                                                                                                                                                                                                                                                                                                                                                                                                                                                                                                                                                                                             \n",
       "1   hi using mic month writing review give genuine review mic let us begin beginner need budget friendly mic yet gives best output right built quality mic piece compact handy use given compact size makes convenient carry anywhere want cable wire extraordinarily long meters however great plus point long wire makes recording much easier hassle free velcro cable management difficult task keep lengthy wire control weighs around gms batteries included switch button recording need switch camera mode really know written camera sound quality recordings improved considerably mic loving one complaint captures lot airflow meaning hear lot air mouth final output even record anything holding mic considerable distance hear breathing sounds sound quality loud enough crisp capture room ceiling fan sound hear whoosh sound background plugged earphones record ac keep fan switched also comes handy pouch keep mic safe yay finally best production beginner like price gives ample quality output                                                                                                                                                                                                                                                                                                                                                                                                                                                                                                                                                                                                                                                                                                                                                                                                                                                                                                                                                                                                                                                                                                                                                                                                                                                                                                                                                                                                                                                                                                                                                                                                                                                                                                                                                                                                                                                                                                                                                                                                                           \n",
       "2   recording phone laptop quality get regular headphone watched review product tube even technical guruji channel marketing strategy guess useless microphones noise cancellation dont know r using dslr fon pc give special output fan noise returned                                                                                                                                                                                                                                                                                                                                                                                                                                                                                                                                                                                                                                                                                                                                                                                                                                                                                                                                                                                                                                                                                                                                                                                                                                                                                                                                                                                                                                                                                                                                                                                                                                                                                                                                                                                                                                                                                                                                                                                                                                                                                                                                                                                                                                                                                                                                                                                                                                                                                                                                                                                                                                                                                                                                                                                             \n",
       "3   stoped working within months recording starting record seconds records nothing hear nothing recorded mic worst mic whole amount got wasted dispointed                                                                                                                                                                                                                                                                                                                                                                                                                                                                                                                                                                                                                                                                                                                                                                                                                                                                                                                                                                                                                                                                                                                                                                                                                                                                                                                                                                                                                                                                                                                                                                                                                                                                                                                                                                                                                                                                                                                                                                                                                                                                                                                                                                                                                                                                                                                                                                                                                                                                                                                                                                                                                                                                                                                                                                                                                                                                                           \n",
       "4   give honest review boya read full may help clear dilemma need depth review review video youtube go youtube com mobiletechpoint search mobile tech point boya find review video audio entire video recorded boya bought boya rupees great pro mic price first thing notice cable meters long super lengthy good cable management nice see battery unit made metal use mic smartphones need battery mic draws power phone case dslr need switch camera mode good part mic connect smartphones tablets pc dslr external audio recorders like zoom h n pretty awesome right price pay mic gives excellent quality audio meter cable advantage disadvantage depends look using mic external recorder need cable using mic dslr camera want move around gives freedom concern need aware since battery indicator might want carry extra battery going record something important want miss put new battery fine audio recording boya lavalier mic must even external audio recorder condenser mic get mic well sure come handy point time doubts post comment youtube video answer query thanks buy                                                                                                                                                                                                                                                                                                                                                                                                                                                                                                                                                                                                                                                                                                                                                                                                                                                                                                                                                                                                                                                                                                                                                                                                                                                                                                                                                                                                                                                                                                                                                                                                                                                                                                                                                                                                                                                                                                                                                   \n",
       "5   note ready go mic need sound card plugged used directly even smartphones mm jack connector built use connector needed long cable measures upto feet note absolutely noise isolation normal smartphone earphones better job noise reduction compared stock condition simple editing mic works fine check review detailed settings literally thousands review product none explained best possible settings used smartphone audacity software even general took risk ordering turned nightmare right box sound output worse smartphone earphones went search best settings amazon sources vain fortunately experiments found solution working fine first mentioning pros cons considering settings found listing settings pros built quality complete mic cable good price given length cable insane feet personally find useful use smartphone couple feet pockets users useful using rig setup camera universal mm jack handy easy use plug play device need sound card external device work support multiple device right smartphones dslrs computers comes carry pouch handy since mess long cables cons biggest con sound quality right box garbage quality even normal ears cannot bear background noise collection forget audiophiles normal smartphone earphones record much better sound quality compared length cable way much guess many users think multiple option length choose keeping feet cable wrapped hanging pocket recording comfortable comes button cell recording sound devices smartphone way know whether battery dead charging level way check plugging digital recorder computer test carrying recorder playback feature hurry case dead battery record sound way find efforts vain comfortably sit edit trust frustrating mentioning scenario happened hence cautious batteries use smartphones digital recorders think price couple hundred bucks less considering sound quality best setting using audacity software settings record smartphone device lots background noises use audacity software free open software open audio file recorded mic select entire audio clip open effects distortion start playback audio clip software listen change effects make select distortion type option top box select soft clipping select hard limiter settings sounds suitable take clipping level cursor extreme right end hear soft pleasant output adjust make gain cursor little bit needed keep select ever type feel suitable click apply noise reduction select short section audio voice background noises want open effects noise reduction click get noise profile select entire audio clip open effects noise reduction finally click ok good go soft slightly lesser noises pleasant sound output steps amplify sound software end user software verdict personally disappointed sound quality though audacity tweaking gets bearable level satisfactory enough plus price seems slightly would recommend someone looking good sound quality specially live noisy environment buy live silent conditions   \n",
       "6   cannot record voice properly noise cancellation bad even small noise capturing background tried return product per policy cannot return seems like wasted money                                                                                                                                                                                                                                                                                                                                                                                                                                                                                                                                                                                                                                                                                                                                                                                                                                                                                                                                                                                                                                                                                                                                                                                                                                                                                                                                                                                                                                                                                                                                                                                                                                                                                                                                                                                                                                                                                                                                                                                                                                                                                                                                                                                                                                                                                                                                                                                                                                                                                                                                                                                                                                                                                                                                                                                                                                                                                 \n",
       "7   want good mic recording videos voice overs get youtube try search good microphone youtubers beginners end getting boya mic costs somewhere rupees rupees price may fluctuate lot know product useless used different microphones different companies sounded lot better crisper done microphone voice sounds enclosed box something christmas clarity go fooled ratings amazon choice something like good product rather suggest buy normal generic condenser microphone range guarantee chinese microphones sound much better boya microphone remember want crisper clear voice need condenser microphone condenser microphones ones creates crispy sound hand go dynamic microphone available mobile phones microphones give lot noise free experience hear kind noise background process connect microphones lot complicated connected laptop computer using phantom power supply completely different thing remember want get good quality sound id go condenser microphone generic microphone buy mic one another major problem microphone get along long wire believe guys going help cases going mess videos lot end messing wires normal metre metre wire enough even want increase length using normal wire cutting existing wire microphone try connect normal wire extending desired lenght repeating buy microphone costs lot quality sound one good thing battery part made metal                                                                                                                                                                                                                                                                                                                                                                                                                                                                                                                                                                                                                                                                                                                                                                                                                                                                                                                                                                                                                                                                                                                                                                                                                                                                                                                                                                                                                                                                                                                                                                                                                                                  \n",
       "8   average quality product many excellent reviews item still convinced excellent rating want report quality issue manufacturer item reported problem sales boya sale service claim one year warranty totally false buyers purchase item one risk without expectation sales support thinking boya mic use purchased splitter rs use microphone including boya without using switch et ease thoroughly misrepresented item simple lapel mic spliter far far better option expensive inconvenient boya                                                                                                                                                                                                                                                                                                                                                                                                                                                                                                                                                                                                                                                                                                                                                                                                                                                                                                                                                                                                                                                                                                                                                                                                                                                                                                                                                                                                                                                                                                                                                                                                                                                                                                                                                                                                                                                                                                                                                                                                                                                                                                                                                                                                                                                                                                                                                                                                                                                                                                                                                \n",
       "9   earlier generic mic poor voice recording quality short cable bought boya mic increase quality recording says voice quality good build quality average mic used dslr cameras mic control panel attched cable powered lr series cell switch camera mobile button overall mic great terms value money voice recording quality cons cable extremely long tangles easily standard camera app may support external mic download third party app like open camera                                                                                                                                                                                                                                                                                                                                                                                                                                                                                                                                                                                                                                                                                                                                                                                                                                                                                                                                                                                                                                                                                                                                                                                                                                                                                                                                                                                                                                                                                                                                                                                                                                                                                                                                                                                                                                                                                                                                                                                                                                                                                                                                                                                                                                                                                                                                                                                                                                                                                                                                                                                      \n",
       "10  would say best available mic price range mic connected dslr smarthones laptops etc pros long wire sound quality really good richcons pick background noise noisy environment use recforge audio recorder app smartphone remove noises apart gold go                                                                                                                                                                                                                                                                                                                                                                                                                                                                                                                                                                                                                                                                                                                                                                                                                                                                                                                                                                                                                                                                                                                                                                                                                                                                                                                                                                                                                                                                                                                                                                                                                                                                                                                                                                                                                                                                                                                                                                                                                                                                                                                                                                                                                                                                                                                                                                                                                                                                                                                                                                                                                                                                                                                                                                                             \n",
       "11  hi using mic month writing review give genuine review mic let us begin beginner need budget friendly mic yet gives best output right built quality mic piece compact handy use given compact size makes convenient carry anywhere want cable wire extraordinarily long meters however great plus point long wire makes recording much easier hassle free velcro cable management difficult task keep lengthy wire control weighs around gms batteries included switch button recording need switch camera mode really know written camera sound quality recordings improved considerably mic loving one complaint captures lot airflow meaning hear lot air mouth final output even record anything holding mic considerable distance hear breathing sounds sound quality loud enough crisp capture room ceiling fan sound hear whoosh sound background plugged earphones record ac keep fan switched also comes handy pouch keep mic safe yay finally best production beginner like price gives ample quality output                                                                                                                                                                                                                                                                                                                                                                                                                                                                                                                                                                                                                                                                                                                                                                                                                                                                                                                                                                                                                                                                                                                                                                                                                                                                                                                                                                                                                                                                                                                                                                                                                                                                                                                                                                                                                                                                                                                                                                                                                           \n",
       "12  recording phone laptop quality get regular headphone watched review product tube even technical guruji channel marketing strategy guess useless microphones noise cancellation dont know r using dslr fon pc give special output fan noise returned                                                                                                                                                                                                                                                                                                                                                                                                                                                                                                                                                                                                                                                                                                                                                                                                                                                                                                                                                                                                                                                                                                                                                                                                                                                                                                                                                                                                                                                                                                                                                                                                                                                                                                                                                                                                                                                                                                                                                                                                                                                                                                                                                                                                                                                                                                                                                                                                                                                                                                                                                                                                                                                                                                                                                                                             \n",
       "13  stoped working within months recording starting record seconds records nothing hear nothing recorded mic worst mic whole amount got wasted dispointed                                                                                                                                                                                                                                                                                                                                                                                                                                                                                                                                                                                                                                                                                                                                                                                                                                                                                                                                                                                                                                                                                                                                                                                                                                                                                                                                                                                                                                                                                                                                                                                                                                                                                                                                                                                                                                                                                                                                                                                                                                                                                                                                                                                                                                                                                                                                                                                                                                                                                                                                                                                                                                                                                                                                                                                                                                                                                           \n",
       "14  give honest review boya read full may help clear dilemma need depth review review video youtube go youtube com mobiletechpoint search mobile tech point boya find review video audio entire video recorded boya bought boya rupees great pro mic price first thing notice cable meters long super lengthy good cable management nice see battery unit made metal use mic smartphones need battery mic draws power phone case dslr need switch camera mode good part mic connect smartphones tablets pc dslr external audio recorders like zoom h n pretty awesome right price pay mic gives excellent quality audio meter cable advantage disadvantage depends look using mic external recorder need cable using mic dslr camera want move around gives freedom concern need aware since battery indicator might want carry extra battery going record something important want miss put new battery fine audio recording boya lavalier mic must even external audio recorder condenser mic get mic well sure come handy point time doubts post comment youtube video answer query thanks buy                                                                                                                                                                                                                                                                                                                                                                                                                                                                                                                                                                                                                                                                                                                                                                                                                                                                                                                                                                                                                                                                                                                                                                                                                                                                                                                                                                                                                                                                                                                                                                                                                                                                                                                                                                                                                                                                                                                                                   \n",
       "15  note ready go mic need sound card plugged used directly even smartphones mm jack connector built use connector needed long cable measures upto feet note absolutely noise isolation normal smartphone earphones better job noise reduction compared stock condition simple editing mic works fine check review detailed settings literally thousands review product none explained best possible settings used smartphone audacity software even general took risk ordering turned nightmare right box sound output worse smartphone earphones went search best settings amazon sources vain fortunately experiments found solution working fine first mentioning pros cons considering settings found listing settings pros built quality complete mic cable good price given length cable insane feet personally find useful use smartphone couple feet pockets users useful using rig setup camera universal mm jack handy easy use plug play device need sound card external device work support multiple device right smartphones dslrs computers comes carry pouch handy since mess long cables cons biggest con sound quality right box garbage quality even normal ears cannot bear background noise collection forget audiophiles normal smartphone earphones record much better sound quality compared length cable way much guess many users think multiple option length choose keeping feet cable wrapped hanging pocket recording comfortable comes button cell recording sound devices smartphone way know whether battery dead charging level way check plugging digital recorder computer test carrying recorder playback feature hurry case dead battery record sound way find efforts vain comfortably sit edit trust frustrating mentioning scenario happened hence cautious batteries use smartphones digital recorders think price couple hundred bucks less considering sound quality best setting using audacity software settings record smartphone device lots background noises use audacity software free open software open audio file recorded mic select entire audio clip open effects distortion start playback audio clip software listen change effects make select distortion type option top box select soft clipping select hard limiter settings sounds suitable take clipping level cursor extreme right end hear soft pleasant output adjust make gain cursor little bit needed keep select ever type feel suitable click apply noise reduction select short section audio voice background noises want open effects noise reduction click get noise profile select entire audio clip open effects noise reduction finally click ok good go soft slightly lesser noises pleasant sound output steps amplify sound software end user software verdict personally disappointed sound quality though audacity tweaking gets bearable level satisfactory enough plus price seems slightly would recommend someone looking good sound quality specially live noisy environment buy live silent conditions   \n",
       "16  cannot record voice properly noise cancellation bad even small noise capturing background tried return product per policy cannot return seems like wasted money                                                                                                                                                                                                                                                                                                                                                                                                                                                                                                                                                                                                                                                                                                                                                                                                                                                                                                                                                                                                                                                                                                                                                                                                                                                                                                                                                                                                                                                                                                                                                                                                                                                                                                                                                                                                                                                                                                                                                                                                                                                                                                                                                                                                                                                                                                                                                                                                                                                                                                                                                                                                                                                                                                                                                                                                                                                                                 \n",
       "17  want good mic recording videos voice overs get youtube try search good microphone youtubers beginners end getting boya mic costs somewhere rupees rupees price may fluctuate lot know product useless used different microphones different companies sounded lot better crisper done microphone voice sounds enclosed box something christmas clarity go fooled ratings amazon choice something like good product rather suggest buy normal generic condenser microphone range guarantee chinese microphones sound much better boya microphone remember want crisper clear voice need condenser microphone condenser microphones ones creates crispy sound hand go dynamic microphone available mobile phones microphones give lot noise free experience hear kind noise background process connect microphones lot complicated connected laptop computer using phantom power supply completely different thing remember want get good quality sound id go condenser microphone generic microphone buy mic one another major problem microphone get along long wire believe guys going help cases going mess videos lot end messing wires normal metre metre wire enough even want increase length using normal wire cutting existing wire microphone try connect normal wire extending desired lenght repeating buy microphone costs lot quality sound one good thing battery part made metal                                                                                                                                                                                                                                                                                                                                                                                                                                                                                                                                                                                                                                                                                                                                                                                                                                                                                                                                                                                                                                                                                                                                                                                                                                                                                                                                                                                                                                                                                                                                                                                                                                                  \n",
       "18  average quality product many excellent reviews item still convinced excellent rating want report quality issue manufacturer item reported problem sales boya sale service claim one year warranty totally false buyers purchase item one risk without expectation sales support thinking boya mic use purchased splitter rs use microphone including boya without using switch et ease thoroughly misrepresented item simple lapel mic spliter far far better option expensive inconvenient boya                                                                                                                                                                                                                                                                                                                                                                                                                                                                                                                                                                                                                                                                                                                                                                                                                                                                                                                                                                                                                                                                                                                                                                                                                                                                                                                                                                                                                                                                                                                                                                                                                                                                                                                                                                                                                                                                                                                                                                                                                                                                                                                                                                                                                                                                                                                                                                                                                                                                                                                                                \n",
       "19  earlier generic mic poor voice recording quality short cable bought boya mic increase quality recording says voice quality good build quality average mic used dslr cameras mic control panel attched cable powered lr series cell switch camera mobile button overall mic great terms value money voice recording quality cons cable extremely long tangles easily standard camera app may support external mic download third party app like open camera                                                                                                                                                                                                                                                                                                                                                                                                                                                                                                                                                                                                                                                                                                                                                                                                                                                                                                                                                                                                                                                                                                                                                                                                                                                                                                                                                                                                                                                                                                                                                                                                                                                                                                                                                                                                                                                                                                                                                                                                                                                                                                                                                                                                                                                                                                                                                                                                                                                                                                                                                                                      \n",
       "20  checked boya web site shown product already sold means got fake product anyway product working well                                                                                                                                                                                                                                                                                                                                                                                                                                                                                                                                                                                                                                                                                                                                                                                                                                                                                                                                                                                                                                                                                                                                                                                                                                                                                                                                                                                                                                                                                                                                                                                                                                                                                                                                                                                                                                                                                                                                                                                                                                                                                                                                                                                                                                                                                                                                                                                                                                                                                                                                                                                                                                                                                                                                                                                                                                                                                                                                             \n",
       "21  browser support html video hi read reviews mic amazon youtube mostly good decided buy first time already opened box delivered asked replacement amazon quickly replaced product received packed one time mic good price sound recorded bad low quality appears recorded cheap quality mic present earphones normal logitech usb headset mic working better noise cancellation yes cancelling noise harsh noise cancellation also reduces quality original voice thus get low quality voice unfortunately option turn noise cancellation recommendation want quality would suggest go good quality headset voice would clearer cons harsh noise cancellation reduces quality actual voice feel cable long pro con little heavier side voice quality good pros feet cable comes adapter plugin amplifier instruments build quality amazing comes clip cushion comes small pouch used camera noise cancellationi decided return product                                                                                                                                                                                                                                                                                                                                                                                                                                                                                                                                                                                                                                                                                                                                                                                                                                                                                                                                                                                                                                                                                                                                                                                                                                                                                                                                                                                                                                                                                                                                                                                                                                                                                                                                                                                                                                                                                                                                                                                                                                                                                                            \n",
       "22  better record audio mid range mobiles rather wasting money voice quality oppo f pro even redmi better voice quality big ghost machine actually long use comfortably worthless due capability noise cancellation even support system inbuilt camera well download open camera case able use ai skills system cameras ai smartphone era final verdict extremely suggested avoid find alternative option                                                                                                                                                                                                                                                                                                                                                                                                                                                                                                                                                                                                                                                                                                                                                                                                                                                                                                                                                                                                                                                                                                                                                                                                                                                                                                                                                                                                                                                                                                                                                                                                                                                                                                                                                                                                                                                                                                                                                                                                                                                                                                                                                                                                                                                                                                                                                                                                                                                                                                                                                                                                                                           \n",
       "23  nice produt boya best mic ever zero noise long wire nice packing thx amazon day delivery good packing                                                                                                                                                                                                                                                                                                                                                                                                                                                                                                                                                                                                                                                                                                                                                                                                                                                                                                                                                                                                                                                                                                                                                                                                                                                                                                                                                                                                                                                                                                                                                                                                                                                                                                                                                                                                                                                                                                                                                                                                                                                                                                                                                                                                                                                                                                                                                                                                                                                                                                                                                                                                                                                                                                                                                                                                                                                                                                                                           \n",
       "24  terrible product works little bit ok iphone useless phones assuming product possibly defective asking replacement see fine phones edit replacement product came damaged packaging suspect perform shows kind company selling                                                                                                                                                                                                                                                                                                                                                                                                                                                                                                                                                                                                                                                                                                                                                                                                                                                                                                                                                                                                                                                                                                                                                                                                                                                                                                                                                                                                                                                                                                                                                                                                                                                                                                                                                                                                                                                                                                                                                                                                                                                                                                                                                                                                                                                                                                                                                                                                                                                                                                                                                                                                                                                                                                                                                                                                                    \n",
       "25  totally garbage months would stop working bought one may suddenly get stopdon waste money go one none youtubers using regularly                                                                                                                                                                                                                                                                                                                                                                                                                                                                                                                                                                                                                                                                                                                                                                                                                                                                                                                                                                                                                                                                                                                                                                                                                                                                                                                                                                                                                                                                                                                                                                                                                                                                                                                                                                                                                                                                                                                                                                                                                                                                                                                                                                                                                                                                                                                                                                                                                                                                                                                                                                                                                                                                                                                                                                                                                                                                                                                 \n",
       "26  bought boya mike th june got delivery th june writing review sincerely truthfully boya stopped working literally week use week barely used day two packed boya cover week got know return policy already got lapsed th july thought could power button problem replacing power button new one learned problem power button boya literally stopped working helpless cause missed return date per return policy would much thankful amazon look matter genuine concern plus used rough tough basis cared much boya mike kindly look matter review defaming product review expressing bad experience mike could best many suffering bad experience would great help look matter genuine interest                                                                                                                                                                                                                                                                                                                                                                                                                                                                                                                                                                                                                                                                                                                                                                                                                                                                                                                                                                                                                                                                                                                                                                                                                                                                                                                                                                                                                                                                                                                                                                                                                                                                                                                                                                                                                                                                                                                                                                                                                                                                                                                                                                                                                                                                                                                                                   \n",
       "27  nice noise cancellation                                                                                                                                                                                                                                                                                                                                                                                                                                                                                                                                                                                                                                                                                                                                                                                                                                                                                                                                                                                                                                                                                                                                                                                                                                                                                                                                                                                                                                                                                                                                                                                                                                                                                                                                                                                                                                                                                                                                                                                                                                                                                                                                                                                                                                                                                                                                                                                                                                                                                                                                                                                                                                                                                                                                                                                                                                                                                                                                                                                                                         \n",
       "28  bought product youtube video making seen many big youtuber reviews product st mic received th aug record video mic noise getting cancel record video atomshphere wound ear phone record much better mic thought may technical issue may damage something mic replaced st aug found nd mic issue happen told waste money product time returned                                                                                                                                                                                                                                                                                                                                                                                                                                                                                                                                                                                                                                                                                                                                                                                                                                                                                                                                                                                                                                                                                                                                                                                                                                                                                                                                                                                                                                                                                                                                                                                                                                                                                                                                                                                                                                                                                                                                                                                                                                                                                                                                                                                                                                                                                                                                                                                                                                                                                                                                                                                                                                                                                                   \n",
       "29  edited got replacement working excellent open camera app sorry negative review working mobile phone default camera app working perfectly open camera app select audio input external audio open camera app settings works cons return policy replacement wasted money records low voice noise cancelling recording videos mobiles mobile without records much better loud low voice noisey audio worst product tried realme pro redmi note pro pro use loooooong cable serve purpose                                                                                                                                                                                                                                                                                                                                                                                                                                                                                                                                                                                                                                                                                                                                                                                                                                                                                                                                                                                                                                                                                                                                                                                                                                                                                                                                                                                                                                                                                                                                                                                                                                                                                                                                                                                                                                                                                                                                                                                                                                                                                                                                                                                                                                                                                                                                                                                                                                                                                                                                                            \n",
       "30  lavalier mic good based price less everything need know mic contents mic pouch battery clip foam mic foam pop filtersound quality indoor usage outdoor usagedoes work smartphone yes need remember use voice recorder plugging video recording smartphone phones may work many work android users suggestion mic work u recording video install open camera app playstore change mic setting external mic optionwire length much get little irritation gets wired within important note option select via knob smartphones camerawhen using mic smartphone dont need batteries placed well required put battery connect dslrenjoy good product go                                                                                                                                                                                                                                                                                                                                                                                                                                                                                                                                                                                                                                                                                                                                                                                                                                                                                                                                                                                                                                                                                                                                                                                                                                                                                                                                                                                                                                                                                                                                                                                                                                                                                                                                                                                                                                                                                                                                                                                                                                                                                                                                                                                                                                                                                                                                                                                               \n",
       "31  purchased mic recommendations lot review videos number youtubers note bought item amazon started delivery non essential products mic came along battery button cell stopped working within days thought problem replacing battery started working less months mic stopped working completely even changing battery work worst part customer service available india take mic repair replace claim warranty technically year warranty useless something happens mic really want buy mic go local shop buy better one test first buy accordingly believe amazon sent mic previously returned someone cause working somehow worked days anymore regret purchase lock period forced purchase things online shopping services least bother provide us quality product                                                                                                                                                                                                                                                                                                                                                                                                                                                                                                                                                                                                                                                                                                                                                                                                                                                                                                                                                                                                                                                                                                                                                                                                                                                                                                                                                                                                                                                                                                                                                                                                                                                                                                                                                                                                                                                                                                                                                                                                                                                                                                                                                                                                                                                                                \n",
       "32  really disappointed product redmi note pro inbuilt dual mic performs way better one recording indoor go checked sample filtered sample audacity noise reduction twice sample redmi note pro inbuilt mic way bass clear little noise hand sample boya mic bass lots noise reviews saying mic performs equally true                                                                                                                                                                                                                                                                                                                                                                                                                                                                                                                                                                                                                                                                                                                                                                                                                                                                                                                                                                                                                                                                                                                                                                                                                                                                                                                                                                                                                                                                                                                                                                                                                                                                                                                                                                                                                                                                                                                                                                                                                                                                                                                                                                                                                                                                                                                                                                                                                                                                                                                                                                                                                                                                                                                               \n",
       "33  listen youtuber understand politics purchased cashback wich given amazon ignore real review cheaper normal quality works well audiobut video redmi phone howeverworking well samsung phones noice cancellation little bit orginal samsung best phone works length feet hand enough shooting checked camera option extra jack hope work see normal better one conclusion starting audio video production online buy worth ne                                                                                                                                                                                                                                                                                                                                                                                                                                                                                                                                                                                                                                                                                                                                                                                                                                                                                                                                                                                                                                                                                                                                                                                                                                                                                                                                                                                                                                                                                                                                                                                                                                                                                                                                                                                                                                                                                                                                                                                                                                                                                                                                                                                                                                                                                                                                                                                                                                                                                                                                                                                                                     \n",
       "34  buying reading comments like working blah blah wanna say using boya mic mobile download app open camera enable external mic option second purchased nikon dslr turn button camera option micalso put dslr manual settings enjoy sharp clear sound like professional youtubers got mic today fully satisfied                                                                                                                                                                                                                                                                                                                                                                                                                                                                                                                                                                                                                                                                                                                                                                                                                                                                                                                                                                                                                                                                                                                                                                                                                                                                                                                                                                                                                                                                                                                                                                                                                                                                                                                                                                                                                                                                                                                                                                                                                                                                                                                                                                                                                                                                                                                                                                                                                                                                                                                                                                                                                                                                                                                                     \n",
       "35  work laptops integrated headset microphone port user manual says works switch position website suggests keeping camera position ways work laptops seller also accept returns                                                                                                                                                                                                                                                                                                                                                                                                                                                                                                                                                                                                                                                                                                                                                                                                                                                                                                                                                                                                                                                                                                                                                                                                                                                                                                                                                                                                                                                                                                                                                                                                                                                                                                                                                                                                                                                                                                                                                                                                                                                                                                                                                                                                                                                                                                                                                                                                                                                                                                                                                                                                                                                                                                                                                                                                                                                                    \n",
       "36  browser support html video real mic may scan qr code take directly official website boya type digit code confirm whether mic real best price great noise cancellation reviews may tell duplicate depends luck got real one hope                                                                                                                                                                                                                                                                                                                                                                                                                                                                                                                                                                                                                                                                                                                                                                                                                                                                                                                                                                                                                                                                                                                                                                                                                                                                                                                                                                                                                                                                                                                                                                                                                                                                                                                                                                                                                                                                                                                                                                                                                                                                                                                                                                                                                                                                                                                                                                                                                                                                                                                                                                                                                                                                                                                                                                                                                 \n",
       "37  per image n description work mobile work phone camera tried find solution youtubers suggesting open camera app mob camera good open camera app reduces quality good camera felt suggested option buy trrs trs converter buy given boya writing work mobile bought two converter amazon work converter cost rs also additional cost given boya important thing boya mentioned need converter lost returning time due experiments buying converter etc provided boya buy kodak giving solution n especially mentioned required things description experience boya amazon revise description e catalogue                                                                                                                                                                                                                                                                                                                                                                                                                                                                                                                                                                                                                                                                                                                                                                                                                                                                                                                                                                                                                                                                                                                                                                                                                                                                                                                                                                                                                                                                                                                                                                                                                                                                                                                                                                                                                                                                                                                                                                                                                                                                                                                                                                                                                                                                                                                                                                                                                                           \n",
       "38  good go youtuber videos shoot outdoors distance smartphone well dslr hands free operation phone mic input poor want use presentation useful voice videos closed atmosphere want wired mic note aug mic supported oneplus camera app shooting videos use third party camera app like open camera use microphone using open camera camera mx mic recent video channel themangocouple voice overed help mic                                                                                                                                                                                                                                                                                                                                                                                                                                                                                                                                                                                                                                                                                                                                                                                                                                                                                                                                                                                                                                                                                                                                                                                                                                                                                                                                                                                                                                                                                                                                                                                                                                                                                                                                                                                                                                                                                                                                                                                                                                                                                                                                                                                                                                                                                                                                                                                                                                                                                                                                                                                                                                        \n",
       "39  previous buyers read lot reviews buy mic boya also watched unboxing comparison videos youtube forcing buy item care negative reviews seriously unfortunately realizie item searched purpose mic voice text voice recognition let tell frankly seriously disappointed cannot use item business echo delay transfer voice pc found way customize settings except windows default audio settings found problem short length cabled mics changed default settings actually know cause issue unusual length cable battery mic enough provide necessary electricity spent rs item packing finishing item delivery etc good waste able use item using bit windows professional pc ghz gb ram advice try see check mic buying                                                                                                                                                                                                                                                                                                                                                                                                                                                                                                                                                                                                                                                                                                                                                                                                                                                                                                                                                                                                                                                                                                                                                                                                                                                                                                                                                                                                                                                                                                                                                                                                                                                                                                                                                                                                                                                                                                                                                                                                                                                                                                                                                                                                                                                                                                                           \n",
       "40  worst product ever received fake one noise cancellation want check go official website get one code according product codes match original fake case matched fooling customers reading review decision giving feedback returned product refund policy get refund money till date tried every way result finally writing review tried contact amazon customer care number working lots struggle succeeded contact guy said initiated process still received money unreachable mode dropped many mails reply humble request planning long run product quality go also regret extremely unhappy want good one go original website try good alternatives give better result went months period contact mail calls output disappointing service                                                                                                                                                                                                                                                                                                                                                                                                                                                                                                                                                                                                                                                                                                                                                                                                                                                                                                                                                                                                                                                                                                                                                                                                                                                                                                                                                                                                                                                                                                                                                                                                                                                                                                                                                                                                                                                                                                                                                                                                                                                                                                                                                                                                                                                                                                      \n",
       "41  expected great things thing bought especially lot youtube filmmakers follow recommended best cheap alternative sadly noise cancellation thing non existent catch everything wind random ambient noise want lav mic supposed capture actor voice sure controlled setup mic excellent job catching robustness voice even background noise clean kind utility want really pay get                                                                                                                                                                                                                                                                                                                                                                                                                                                                                                                                                                                                                                                                                                                                                                                                                                                                                                                                                                                                                                                                                                                                                                                                                                                                                                                                                                                                                                                                                                                                                                                                                                                                                                                                                                                                                                                                                                                                                                                                                                                                                                                                                                                                                                                                                                                                                                                                                                                                                                                                                                                                                                                                  \n",
       "42  needed youtube videos bought first doubtful whether original product fake got rs watched lot youtube videos boya mic first work phone camera voice recorder got know usually happens download apps worked also lot videos original fake boya mic qr code mine anxious instead coat boya logo right water disappear disappear coated water however original boya website find water coating thing hopefully happy product worked even made sweet toasts asmr video youtube check noise hope helped thankyou                                                                                                                                                                                                                                                                                                                                                                                                                                                                                                                                                                                                                                                                                                                                                                                                                                                                                                                                                                                                                                                                                                                                                                                                                                                                                                                                                                                                                                                                                                                                                                                                                                                                                                                                                                                                                                                                                                                                                                                                                                                                                                                                                                                                                                                                                                                                                                                                                                                                                                                                      \n",
       "43  duplicate boya mic original box registered trademark switch receiver get displaced also working switch flipped original receiver red green tintthe audio quality poor rs ear phone records better quality msdj retail selleri hope everyone go buying seller thank                                                                                                                                                                                                                                                                                                                                                                                                                                                                                                                                                                                                                                                                                                                                                                                                                                                                                                                                                                                                                                                                                                                                                                                                                                                                                                                                                                                                                                                                                                                                                                                                                                                                                                                                                                                                                                                                                                                                                                                                                                                                                                                                                                                                                                                                                                                                                                                                                                                                                                                                                                                                                                                                                                                                                                              \n",
       "44  using multiple applications like youtube videos interviews client calls amazing voice recording quality versatile product used phone dslr laptop got product great price match mic quality omnidirectional mic catch voice angles means best suited indoor use also used terrace still catch wind noise ft long wire way enough fit finish amazing kudos boya amazing product                                                                                                                                                                                                                                                                                                                                                                                                                                                                                                                                                                                                                                                                                                                                                                                                                                                                                                                                                                                                                                                                                                                                                                                                                                                                                                                                                                                                                                                                                                                                                                                                                                                                                                                                                                                                                                                                                                                                                                                                                                                                                                                                                                                                                                                                                                                                                                                                                                                                                                                                                                                                                                                                   \n",
       "45  high quality microphone powered unpowered switch usable almost form audio inputs power switch mode cameras devices require power input non power switch mode smartphones pcs laptops etc inbuilt preamplifiers powered input necessary accessories provided microphone reflect overall quality manufacturer wants provide users microphone high sensitive low gain microphone maintain good audio quality good preamplifier used microphone final audio amplification certainly would give good quality audio desirable recording similar purposes considering price factors would definitely recommend microphone others                                                                                                                                                                                                                                                                                                                                                                                                                                                                                                                                                                                                                                                                                                                                                                                                                                                                                                                                                                                                                                                                                                                                                                                                                                                                                                                                                                                                                                                                                                                                                                                                                                                                                                                                                                                                                                                                                                                                                                                                                                                                                                                                                                                                                                                                                                                                                                                                                       \n",
       "46  want better mic lower price nothing better must get wanted teach online record lectures went dedicated mic daily headphone mic laptop board performing must buy mic beginner one must invest costly microphone used week expectations usage pointers switch says camera smartphoneif connecting mic camera laptop switch option connecting mic smart phone switch option dont judge mic quickly purchasing see demonstrations youtube                                                                                                                                                                                                                                                                                                                                                                                                                                                                                                                                                                                                                                                                                                                                                                                                                                                                                                                                                                                                                                                                                                                                                                                                                                                                                                                                                                                                                                                                                                                                                                                                                                                                                                                                                                                                                                                                                                                                                                                                                                                                                                                                                                                                                                                                                                                                                                                                                                                                                                                                                                                                           \n",
       "47  start speaking something mic catches voice surrounding vocies atmospheric sounds get dumped stop speaking anything catches sounds enviornment utensil cleaning noise kitchen could metre away room sitting barking sound stray dog noises low pitch level distract listener would prefer outside enviornment internal premise surrounding best product price category wise grab today getting price range inr                                                                                                                                                                                                                                                                                                                                                                                                                                                                                                                                                                                                                                                                                                                                                                                                                                                                                                                                                                                                                                                                                                                                                                                                                                                                                                                                                                                                                                                                                                                                                                                                                                                                                                                                                                                                                                                                                                                                                                                                                                                                                                                                                                                                                                                                                                                                                                                                                                                                                                                                                                                                                                   \n",
       "48  captures every detail quality also good need splitter insert earphone mic get sound feedback listen karaoke track recording given description battery switch using mobile takes power mobile actually keep switch using mobile otherwise record anything recording output crisp clear loud enough need speak loudly mic captures voice fair distance also wire length also sufficient quality material also good overall nice product                                                                                                                                                                                                                                                                                                                                                                                                                                                                                                                                                                                                                                                                                                                                                                                                                                                                                                                                                                                                                                                                                                                                                                                                                                                                                                                                                                                                                                                                                                                                                                                                                                                                                                                                                                                                                                                                                                                                                                                                                                                                                                                                                                                                                                                                                                                                                                                                                                                                                                                                                                                                           \n",
       "49  satisfied sound quality noise cancellation great rather catches sounds outside clearly cable long real good need shout speaking simple whisper catch properly singing recording video normally received carry pouch well another plug guess dslr using mobile need battery well one needed mic attached dslr device using mobile need use battery good one g                                                                                                                                                                                                                                                                                                                                                                                                                                                                                                                                                                                                                                                                                                                                                                                                                                                                                                                                                                                                                                                                                                                                                                                                                                                                                                                                                                                                                                                                                                                                                                                                                                                                                                                                                                                                                                                                                                                                                                                                                                                                                                                                                                                                                                                                                                                                                                                                                                                                                                                                                                                                                                                                                    \n",
       "50  per expectation described youtubers bit noise felt quality slightly average build quality good noise cancellation average price also average par quality didnt recommend professional youtubers                                                                                                                                                                                                                                                                                                                                                                                                                                                                                                                                                                                                                                                                                                                                                                                                                                                                                                                                                                                                                                                                                                                                                                                                                                                                                                                                                                                                                                                                                                                                                                                                                                                                                                                                                                                                                                                                                                                                                                                                                                                                                                                                                                                                                                                                                                                                                                                                                                                                                                                                                                                                                                                                                                                                                                                                                                                 \n",
       "51  item working item manufacturing defects try open battery cabin tight trial opened saw stickers misplaced try fix closed cabin try open time also feel tight opening cabin removed misplaced stickers smoothly open wires battery cabin open please ensure quality manufacturing process device                                                                                                                                                                                                                                                                                                                                                                                                                                                                                                                                                                                                                                                                                                                                                                                                                                                                                                                                                                                                                                                                                                                                                                                                                                                                                                                                                                                                                                                                                                                                                                                                                                                                                                                                                                                                                                                                                                                                                                                                                                                                                                                                                                                                                                                                                                                                                                                                                                                                                                                                                                                                                                                                                                                                                  \n",
       "52  browser support html video response absolutely amazing catching heavy sounds voice also omnidirectional means picks sounds around present mono audio type yes cannot get results stereo response around hz khz yes true right using regular recording works well phone cameras one thing must careful purchasing tht definitely provide kind noise cancellation r think buy vlog outside recording may disappoint treat voice editing overall completely satisfied product works well record voice perfectly                                                                                                                                                                                                                                                                                                                                                                                                                                                                                                                                                                                                                                                                                                                                                                                                                                                                                                                                                                                                                                                                                                                                                                                                                                                                                                                                                                                                                                                                                                                                                                                                                                                                                                                                                                                                                                                                                                                                                                                                                                                                                                                                                                                                                                                                                                                                                                                                                                                                                                                                    \n",
       "53  bought computer better non battery mics still good voice recording tried desktop giving hmm sound however could motherboard problem tried usb sound card clarity better strengh weak swithed battery computers work without switching battery disappointed bought behringer u phoria umc audio interface rs connected though improvement sound throughput increase mic volume behringer computer get better throughput bigger waves audacity recording useless extreme noise connected android phone quality slightly lesser inbuilt mic however working alright laptop atleast better non battery mics hence giving stars                                                                                                                                                                                                                                                                                                                                                                                                                                                                                                                                                                                                                                                                                                                                                                                                                                                                                                                                                                                                                                                                                                                                                                                                                                                                                                                                                                                                                                                                                                                                                                                                                                                                                                                                                                                                                                                                                                                                                                                                                                                                                                                                                                                                                                                                                                                                                                                                                      \n",
       "54  listen friends online videos mic good performance best noise cancellation bought really happy working phone checked every phones available home compatible working phone even used open camera software worked please buy want use mobile phone wasted time money                                                                                                                                                                                                                                                                                                                                                                                                                                                                                                                                                                                                                                                                                                                                                                                                                                                                                                                                                                                                                                                                                                                                                                                                                                                                                                                                                                                                                                                                                                                                                                                                                                                                                                                                                                                                                                                                                                                                                                                                                                                                                                                                                                                                                                                                                                                                                                                                                                                                                                                                                                                                                                                                                                                                                                               \n",
       "55  know sent purchased read good review unlucky product earphone records good audio piece tried oppo reno one non mobiles support mic need buying piece                                                                                                                                                                                                                                                                                                                                                                                                                                                                                                                                                                                                                                                                                                                                                                                                                                                                                                                                                                                                                                                                                                                                                                                                                                                                                                                                                                                                                                                                                                                                                                                                                                                                                                                                                                                                                                                                                                                                                                                                                                                                                                                                                                                                                                                                                                                                                                                                                                                                                                                                                                                                                                                                                                                                                                                                                                                                                            \n",
       "56  lav microphones recommended shooting video close enough mic microphones seen video placing lav microphone important brand model even expensive models useless know use inexpensive model available market generous cable supports well plugyou connect phone laptop desktop dslr without battery connecting amp devices insert lr battery included last years seen issues far value money                                                                                                                                                                                                                                                                                                                                                                                                                                                                                                                                                                                                                                                                                                                                                                                                                                                                                                                                                                                                                                                                                                                                                                                                                                                                                                                                                                                                                                                                                                                                                                                                                                                                                                                                                                                                                                                                                                                                                                                                                                                                                                                                                                                                                                                                                                                                                                                                                                                                                                                                                                                                                                                       \n",
       "57  poor quality guys believe others say buying phone laptop think againfor camera works fine otherwise speak lungs get good quality disgrace collar mic keep near mouth get clear voice                                                                                                                                                                                                                                                                                                                                                                                                                                                                                                                                                                                                                                                                                                                                                                                                                                                                                                                                                                                                                                                                                                                                                                                                                                                                                                                                                                                                                                                                                                                                                                                                                                                                                                                                                                                                                                                                                                                                                                                                                                                                                                                                                                                                                                                                                                                                                                                                                                                                                                                                                                                                                                                                                                                                                                                                                                                            \n",
       "58  writing views prolonged usage digital content creation became much awesome nifty little gadget came cheap cheaped performance sound quality videos improved alot thankful along students mic works well laptop cellphone without switch battery used dslr yet sure work well thing may bother people maybe lengthy wire becomes difficult manage sometimes others may prove useful extra reach also expect noise cancellation mic omnidirectional mic pick sound directions mic sometimes picked croaks monsoon toads frogs night time shoots make valid guess regarding vehicles passing overall happy purchase one cheap best option casual content creation need hifi sound recording need burn larger hole within pocket                                                                                                                                                                                                                                                                                                                                                                                                                                                                                                                                                                                                                                                                                                                                                                                                                                                                                                                                                                                                                                                                                                                                                                                                                                                                                                                                                                                                                                                                                                                                                                                                                                                                                                                                                                                                                                                                                                                                                                                                                                                                                                                                                                                                                                                                                                                    \n",
       "59  product received work canon dslr mark laptop went couple reviews youtube problems boya people reported chances one received might duplicate unfortunately seller provides replacement return suggestion would please second thoughts buying one higher review rate mean get good one highly recommend watching reviews online go purchase review item receive replacementthey replaced working one one works fine                                                                                                                                                                                                                                                                                                                                                                                                                                                                                                                                                                                                                                                                                                                                                                                                                                                                                                                                                                                                                                                                                                                                                                                                                                                                                                                                                                                                                                                                                                                                                                                                                                                                                                                                                                                                                                                                                                                                                                                                                                                                                                                                                                                                                                                                                                                                                                                                                                                                                                                                                                                                                               \n",
       "\n",
       "   label  \n",
       "0   pos   \n",
       "1   pos   \n",
       "2   pos   \n",
       "3   neu   \n",
       "4   pos   \n",
       "5   pos   \n",
       "6   neg   \n",
       "7   pos   \n",
       "8   pos   \n",
       "9   pos   \n",
       "10  pos   \n",
       "11  pos   \n",
       "12  pos   \n",
       "13  neu   \n",
       "14  pos   \n",
       "15  pos   \n",
       "16  neg   \n",
       "17  pos   \n",
       "18  pos   \n",
       "19  pos   \n",
       "20  neg   \n",
       "21  pos   \n",
       "22  pos   \n",
       "23  pos   \n",
       "24  neg   \n",
       "25  neg   \n",
       "26  pos   \n",
       "27  pos   \n",
       "28  neg   \n",
       "29  neg   \n",
       "30  pos   \n",
       "31  neg   \n",
       "32  pos   \n",
       "33  pos   \n",
       "34  pos   \n",
       "35  pos   \n",
       "36  pos   \n",
       "37  pos   \n",
       "38  pos   \n",
       "39  neg   \n",
       "40  neg   \n",
       "41  pos   \n",
       "42  pos   \n",
       "43  pos   \n",
       "44  pos   \n",
       "45  pos   \n",
       "46  pos   \n",
       "47  neu   \n",
       "48  pos   \n",
       "49  pos   \n",
       "50  pos   \n",
       "51  pos   \n",
       "52  pos   \n",
       "53  pos   \n",
       "54  pos   \n",
       "55  pos   \n",
       "56  pos   \n",
       "57  neu   \n",
       "58  pos   \n",
       "59  pos   "
      ]
     },
     "execution_count": 88,
     "metadata": {},
     "output_type": "execute_result"
    }
   ],
   "source": [
    "df.head(60)\n"
   ]
  },
  {
   "cell_type": "code",
   "execution_count": 89,
   "metadata": {},
   "outputs": [
    {
     "data": {
      "text/plain": [
       "pos    761\n",
       "neg    196\n",
       "neu    43 \n",
       "Name: label, dtype: int64"
      ]
     },
     "execution_count": 89,
     "metadata": {},
     "output_type": "execute_result"
    }
   ],
   "source": [
    "## label count after lemmatization\n",
    "df['label'].value_counts()"
   ]
  },
  {
   "cell_type": "code",
   "execution_count": 90,
   "metadata": {},
   "outputs": [],
   "source": [
    "df.to_excel('review_labels.xlsx', index=True)"
   ]
  },
  {
   "cell_type": "code",
   "execution_count": null,
   "metadata": {},
   "outputs": [],
   "source": [
    "                      #######################"
   ]
  }
 ],
 "metadata": {
  "kernelspec": {
   "display_name": "Python 3 (ipykernel)",
   "language": "python",
   "name": "python3"
  },
  "language_info": {
   "codemirror_mode": {
    "name": "ipython",
    "version": 3
   },
   "file_extension": ".py",
   "mimetype": "text/x-python",
   "name": "python",
   "nbconvert_exporter": "python",
   "pygments_lexer": "ipython3",
   "version": "3.9.13"
  }
 },
 "nbformat": 4,
 "nbformat_minor": 4
}
