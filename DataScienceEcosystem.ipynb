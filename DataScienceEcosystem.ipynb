{
 "cells": [
  {
   "cell_type": "markdown",
   "id": "b0604313",
   "metadata": {},
   "source": [
    "# Data Science Tools and Ecosystem"
   ]
  },
  {
   "cell_type": "markdown",
   "id": "89b9d7f5",
   "metadata": {},
   "source": [
    "## Introduction"
   ]
  },
  {
   "cell_type": "raw",
   "id": "9504c591",
   "metadata": {},
   "source": [
    "In this notebook, Data Science Tools and Ecosystem are summarized."
   ]
  },
  {
   "cell_type": "markdown",
   "id": "31c5c049",
   "metadata": {},
   "source": [
    "**Objectives**"
   ]
  },
  {
   "cell_type": "raw",
   "id": "7918ba5f",
   "metadata": {},
   "source": [
    "some of the key takeaways in the notebook:"
   ]
  },
  {
   "cell_type": "markdown",
   "id": "8d085deb",
   "metadata": {},
   "source": [
    "<ul>\n",
    "  <li>Data science languages</li>\n",
    "  <li>Data science tools </li>\n",
    "    \n",
    "</ul>\n"
   ]
  },
  {
   "cell_type": "markdown",
   "id": "f83fe837",
   "metadata": {},
   "source": [
    "## Data science languages"
   ]
  },
  {
   "cell_type": "raw",
   "id": "00baec97",
   "metadata": {},
   "source": [
    "some popular languages of Data science:"
   ]
  },
  {
   "cell_type": "markdown",
   "id": "61879d51",
   "metadata": {},
   "source": [
    "<ol>\n",
    "  \n",
    "  <li>R</li>\n",
    "  \n",
    "  <li>python</li>\n",
    "  <li>ruby</li>\n",
    "</ol>"
   ]
  },
  {
   "cell_type": "markdown",
   "id": "9d8c2c16",
   "metadata": {},
   "source": [
    "## Data science libraries:"
   ]
  },
  {
   "cell_type": "raw",
   "id": "2aa46121",
   "metadata": {},
   "source": [
    "Some of the commonly used libraries used by Data Scientists include:"
   ]
  },
  {
   "cell_type": "markdown",
   "id": "7a79a5ff",
   "metadata": {},
   "source": [
    "<ol>\n",
    "  \n",
    "  <li>numpy</li>\n",
    "  <li>pandas</li>\n",
    "  <li>sklearn</li>\n",
    "  <li>seaborn</li>\n",
    "  <li>keras</li>\n",
    "    \n",
    "</ol>"
   ]
  },
  {
   "cell_type": "markdown",
   "id": "6badca88",
   "metadata": {},
   "source": [
    "## Data Science tools"
   ]
  },
  {
   "cell_type": "raw",
   "id": "6221499b",
   "metadata": {},
   "source": [
    "Data science uses various tools:"
   ]
  },
  {
   "cell_type": "markdown",
   "id": "b9f7a715",
   "metadata": {},
   "source": [
    "<ol>\n",
    "  \n",
    "  <li>Jupyter</li>\n",
    "  <li>spyder</li>\n",
    "  <li>matlab</li>\n",
    "  <li>Tableau</li>\n",
    "  <li>keras</li>  \n",
    "  <li>PowerBI</li>\n",
    "  <li>SPSS</li>\n",
    "  <li>KNIME</li>\n",
    "    \n",
    "</ol>"
   ]
  },
  {
   "cell_type": "markdown",
   "id": "bc2fea87",
   "metadata": {},
   "source": [
    "## Introducing arithmetic expression examples"
   ]
  },
  {
   "cell_type": "markdown",
   "id": "c5a5b63e",
   "metadata": {},
   "source": [
    "### Below are a few examples of evaluating arithmetic expressions in Python"
   ]
  },
  {
   "cell_type": "code",
   "execution_count": 7,
   "id": "81f550b3",
   "metadata": {},
   "outputs": [
    {
     "data": {
      "text/plain": [
       "15"
      ]
     },
     "execution_count": 7,
     "metadata": {},
     "output_type": "execute_result"
    }
   ],
   "source": [
    "# to multiply\n",
    "3*5"
   ]
  },
  {
   "cell_type": "code",
   "execution_count": 6,
   "id": "74348337",
   "metadata": {},
   "outputs": [
    {
     "data": {
      "text/plain": [
       "6"
      ]
     },
     "execution_count": 6,
     "metadata": {},
     "output_type": "execute_result"
    }
   ],
   "source": [
    "# to add integers\n",
    "2+4"
   ]
  },
  {
   "cell_type": "code",
   "execution_count": 9,
   "id": "26806f6b",
   "metadata": {},
   "outputs": [
    {
     "name": "stdout",
     "output_type": "stream",
     "text": [
      "Enter time in minutes 200\n",
      "Hours= 3\n",
      "Minutes= 20\n"
     ]
    }
   ],
   "source": [
    "#code to convert minutes to hours\n",
    "#This will convert 200 minutes to hours by diving by 60\n",
    "min=int(input(\"Enter time in minutes \")) # enter 200\n",
    "h=min//60\n",
    "m=min%60\n",
    "print(\"Hours=\",h)\n",
    "print(\"Minutes=\",m)"
   ]
  },
  {
   "cell_type": "markdown",
   "id": "99146fcc",
   "metadata": {},
   "source": [
    "## Author"
   ]
  },
  {
   "cell_type": "markdown",
   "id": "5d943293",
   "metadata": {},
   "source": [
    "## DR K DHANA SREE DEVI\n"
   ]
  },
  {
   "cell_type": "code",
   "execution_count": null,
   "id": "d2881deb",
   "metadata": {},
   "outputs": [],
   "source": []
  },
  {
   "cell_type": "code",
   "execution_count": null,
   "id": "6107b185",
   "metadata": {},
   "outputs": [],
   "source": []
  }
 ],
 "metadata": {
  "kernelspec": {
   "display_name": "Python 3 (ipykernel)",
   "language": "python",
   "name": "python3"
  },
  "language_info": {
   "codemirror_mode": {
    "name": "ipython",
    "version": 3
   },
   "file_extension": ".py",
   "mimetype": "text/x-python",
   "name": "python",
   "nbconvert_exporter": "python",
   "pygments_lexer": "ipython3",
   "version": "3.9.13"
  }
 },
 "nbformat": 4,
 "nbformat_minor": 5
}
