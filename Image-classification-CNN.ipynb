{
 "cells": [
  {
   "cell_type": "code",
   "execution_count": 1,
   "id": "06992804",
   "metadata": {
    "executionInfo": {
     "elapsed": 1917,
     "status": "ok",
     "timestamp": 1694061845480,
     "user": {
      "displayName": "Dhana Sree Devi Kunada",
      "userId": "09352540217642126102"
     },
     "user_tz": -330
    },
    "id": "b6Rfedz4is1C"
   },
   "outputs": [],
   "source": [
    "# Load the needed libs"
   ]
  },
  {
   "cell_type": "code",
   "execution_count": 2,
   "id": "9d709e36",
   "metadata": {
    "executionInfo": {
     "elapsed": 11671,
     "status": "ok",
     "timestamp": 1694061858164,
     "user": {
      "displayName": "Dhana Sree Devi Kunada",
      "userId": "09352540217642126102"
     },
     "user_tz": -330
    },
    "id": "2448c1fa"
   },
   "outputs": [],
   "source": [
    "import numpy as np\n",
    "import pandas as pd\n",
    "import tensorflow as tf\n",
    "import matplotlib.pyplot as plt\n",
    "import seaborn as sns\n",
    "\n",
    "plt.rcParams['figure.figsize'] = (20,8)"
   ]
  },
  {
   "cell_type": "markdown",
   "id": "d4a29694",
   "metadata": {
    "id": "dbb73c88"
   },
   "source": [
    "## Image processing and data augmentation:"
   ]
  },
  {
   "cell_type": "code",
   "execution_count": 3,
   "id": "c74dae99",
   "metadata": {
    "executionInfo": {
     "elapsed": 14,
     "status": "ok",
     "timestamp": 1694061858165,
     "user": {
      "displayName": "Dhana Sree Devi Kunada",
      "userId": "09352540217642126102"
     },
     "user_tz": -330
    },
    "id": "e0e33041"
   },
   "outputs": [],
   "source": [
    "from tensorflow.keras.preprocessing.image import ImageDataGenerator, load_img, img_to_array"
   ]
  },
  {
   "cell_type": "code",
   "execution_count": 4,
   "id": "06ee6aa3",
   "metadata": {
    "colab": {
     "base_uri": "https://localhost:8080/"
    },
    "executionInfo": {
     "elapsed": 3393,
     "status": "ok",
     "timestamp": 1694061861545,
     "user": {
      "displayName": "Dhana Sree Devi Kunada",
      "userId": "09352540217642126102"
     },
     "user_tz": -330
    },
    "id": "12y7Zf0kfjin",
    "outputId": "c4734fac-2f1f-4f1c-9df0-36d58eb3411b"
   },
   "outputs": [
    {
     "name": "stdout",
     "output_type": "stream",
     "text": [
      "Drive already mounted at /content/drive; to attempt to forcibly remount, call drive.mount(\"/content/drive\", force_remount=True).\n"
     ]
    }
   ],
   "source": [
    "from google.colab import drive\n",
    "drive.mount('/content/drive')"
   ]
  },
  {
   "cell_type": "code",
   "execution_count": 5,
   "id": "70e59c86",
   "metadata": {
    "colab": {
     "base_uri": "https://localhost:8080/"
    },
    "executionInfo": {
     "elapsed": 2547,
     "status": "ok",
     "timestamp": 1694061864084,
     "user": {
      "displayName": "Dhana Sree Devi Kunada",
      "userId": "09352540217642126102"
     },
     "user_tz": -330
    },
    "id": "9f056fe1",
    "outputId": "3f048bb8-94df-4396-e656-947f22951d52"
   },
   "outputs": [
    {
     "name": "stdout",
     "output_type": "stream",
     "text": [
      "Found 6008 images belonging to 6 classes.\n",
      "Found 6008 images belonging to 6 classes.\n"
     ]
    }
   ],
   "source": [
    "img_size = 150\n",
    "batch_size = 2000\n",
    "\n",
    "train_datagen = ImageDataGenerator(rescale=1/255.,rotation_range=30,width_shift_range=0.2,height_shift_range=0.2,shear_range=0.2,zoom_range=0.2,horizontal_flip=True,fill_mode='nearest')\n",
    "test_datagen = ImageDataGenerator(rescale=1/255.)\n",
    "\n",
    "train_generator = train_datagen.flow_from_directory('/content/drive/MyDrive/Week-9- Image Classification-CNN-DL/seg_train/',target_size=(img_size, img_size),batch_size=batch_size,shuffle=True,class_mode='sparse')\n",
    "test_generator = test_datagen.flow_from_directory('/content/drive/MyDrive/Week-9- Image Classification-CNN-DL/seg_train/',target_size=(img_size, img_size),batch_size=batch_size,shuffle=False,class_mode='sparse')"
   ]
  },
  {
   "cell_type": "code",
   "execution_count": 6,
   "id": "30201ae2",
   "metadata": {
    "executionInfo": {
     "elapsed": 6,
     "status": "ok",
     "timestamp": 1694061864086,
     "user": {
      "displayName": "Dhana Sree Devi Kunada",
      "userId": "09352540217642126102"
     },
     "user_tz": -330
    },
    "id": "BYyxuz-UnwUS"
   },
   "outputs": [],
   "source": [
    "# read this to know abt keras generators,\n",
    "#https://vijayabhaskar96.medium.com/tutorial-image-classification-with-keras-flow-from-directory-and-generators-95f75ebe5720"
   ]
  },
  {
   "cell_type": "code",
   "execution_count": null,
   "id": "b0e02172",
   "metadata": {
    "colab": {
     "background_save": true,
     "output_embedded_package_id": "1vL-zcy_q1kwl3RNmqBJ3nfjrmSIf3rox"
    },
    "id": "23f81fe5",
    "outputId": "e432c08c-78c3-4463-b551-a20617cdc049"
   },
   "outputs": [],
   "source": [
    "labels = ['buildings', 'forest', 'glacier', 'mountain', 'sea', 'street']\n",
    "\n",
    "samples = train_generator.__next__()\n",
    "images = samples[0]\n",
    "target = samples[1]\n",
    "\n",
    "plt.figure(figsize = (20,20))\n",
    "for i in range(15):\n",
    "    plt.subplot(5,5,i+1)\n",
    "    plt.subplots_adjust(hspace=0.3,wspace=0.3)\n",
    "    plt.imshow(images[i])\n",
    "    plt.title(f\"Class: {labels[int(target[i])]}\")\n",
    "    plt.axis('off')\n"
   ]
  },
  {
   "cell_type": "markdown",
   "id": "77cfae9f",
   "metadata": {
    "id": "b8e4791f"
   },
   "source": [
    "## Building CNN model:"
   ]
  },
  {
   "cell_type": "code",
   "execution_count": null,
   "id": "de64368c",
   "metadata": {
    "colab": {
     "background_save": true
    },
    "id": "ccf8f231"
   },
   "outputs": [],
   "source": [
    "from tensorflow.keras import layers\n",
    "from tensorflow.keras.models import Sequential, Model\n",
    "from tensorflow.keras.layers import Conv2D, MaxPooling2D, Flatten, Dense, Input, Dropout, BatchNormalization\n"
   ]
  },
  {
   "cell_type": "code",
   "execution_count": null,
   "id": "8f38b48c",
   "metadata": {
    "colab": {
     "background_save": true
    },
    "id": "e4d8a50f"
   },
   "outputs": [
    {
     "name": "stdout",
     "output_type": "stream",
     "text": [
      "Model: \"sequential_4\"\n",
      "_________________________________________________________________\n",
      " Layer (type)                Output Shape              Param #   \n",
      "=================================================================\n",
      " conv2d_3 (Conv2D)           (None, 150, 150, 32)      896       \n",
      "                                                                 \n",
      " max_pooling2d_3 (MaxPooling  (None, 75, 75, 32)       0         \n",
      " 2D)                                                             \n",
      "                                                                 \n",
      " flatten_3 (Flatten)         (None, 180000)            0         \n",
      "                                                                 \n",
      " dense_6 (Dense)             (None, 32)                5760032   \n",
      "                                                                 \n",
      " dropout_3 (Dropout)         (None, 32)                0         \n",
      "                                                                 \n",
      " dense_7 (Dense)             (None, 2)                 66        \n",
      "                                                                 \n",
      "=================================================================\n",
      "Total params: 5,760,994\n",
      "Trainable params: 5,760,994\n",
      "Non-trainable params: 0\n",
      "_________________________________________________________________\n"
     ]
    }
   ],
   "source": [
    "#from tensorflow.keras.models import Sequential, Model\n",
    "#from tensorflow.keras.layers import Conv2D, MaxPooling2D, Flatten, Dense, Input, Dropout\n",
    "# read this for keras layers\n",
    "#https://keras.io/api/layers/convolution_layers/convolution2d/\n",
    "model = Sequential()\n",
    "\n",
    "model.add(Conv2D(32, (3,3), input_shape= (img_size,img_size,3), activation = 'relu', padding = 'same')) #padding = same size output\n",
    "model.add(MaxPooling2D())\n",
    "\n",
    "#model.add(Conv2D(64, (3,3), activation = 'relu', padding = 'same'))\n",
    "#model.add(MaxPooling2D())\n",
    "\n",
    "#model.add(Conv2D(128, (3,3), activation = 'relu', padding = 'same'))\n",
    "#model.add(MaxPooling2D())\n",
    "\n",
    "#model.add(Conv2D(256, (3,3), activation = 'relu', padding = 'same'))\n",
    "#model.add(MaxPooling2D())\n",
    "\n",
    "model.add(Flatten())\n",
    "\n",
    "model.add(Dense(32, activation='relu'))\n",
    "model.add(Dropout(0.3))\n",
    "model.add(Dense(6, activation = 'softmax'))\n",
    "\n",
    "model.compile(optimizer = 'adam', loss='sparse_categorical_crossentropy', metrics=['accuracy'])\n",
    "\n",
    "model.summary()"
   ]
  },
  {
   "cell_type": "markdown",
   "id": "33a070a5",
   "metadata": {
    "id": "d2521fa4"
   },
   "source": [
    "## Training the model:"
   ]
  },
  {
   "cell_type": "code",
   "execution_count": null,
   "id": "30d751f2",
   "metadata": {
    "colab": {
     "background_save": true
    },
    "id": "6c8328c7"
   },
   "outputs": [
    {
     "name": "stdout",
     "output_type": "stream",
     "text": [
      "2/2 [==============================] - 74s 33s/step - loss: 0.8797 - accuracy: 0.6065 - val_loss: 8.2352 - val_accuracy: 0.5203\n"
     ]
    }
   ],
   "source": [
    "history = model.fit(train_generator, validation_data=test_generator, epochs=1)"
   ]
  },
  {
   "cell_type": "markdown",
   "id": "7cd5ae5b",
   "metadata": {
    "id": "1d2c6527"
   },
   "source": [
    "## Visualising the training loss and accuracies:"
   ]
  },
  {
   "cell_type": "code",
   "execution_count": null,
   "id": "673eaa9b",
   "metadata": {
    "colab": {
     "background_save": true
    },
    "id": "9a8e860a"
   },
   "outputs": [
    {
     "data": {
      "image/png": "[encoded data removed]",
      "text/plain": [
       "<Figure size 1000x400 with 1 Axes>"
      ]
     },
     "metadata": {},
     "output_type": "display_data"
    }
   ],
   "source": [
    "plt.figure(figsize=(10,4))\n",
    "plt.plot(history.history['loss'])\n",
    "plt.plot(history.history['val_loss'])\n",
    "plt.title('Model Loss')\n",
    "plt.ylabel('loss')\n",
    "plt.xlabel('epochs')\n",
    "plt.legend(['Train','Val'], loc= 'upper left')\n",
    "plt.show()"
   ]
  },
  {
   "cell_type": "code",
   "execution_count": null,
   "id": "8a3ae91b",
   "metadata": {
    "colab": {
     "background_save": true
    },
    "id": "2897986b"
   },
   "outputs": [
    {
     "data": {
      "image/png": "[encoded data removed]",
      "text/plain": [
       "<Figure size 1000x300 with 1 Axes>"
      ]
     },
     "metadata": {},
     "output_type": "display_data"
    }
   ],
   "source": [
    "plt.figure(figsize=(10,3))\n",
    "plt.plot(history.history['accuracy'])\n",
    "plt.plot(history.history['val_accuracy'])\n",
    "plt.title('Model Accuracy')\n",
    "plt.ylabel('accuracy')\n",
    "plt.xlabel('epoch')\n",
    "plt.legend(['Train', 'Val'], loc='upper left')\n",
    "plt.show()"
   ]
  },
  {
   "cell_type": "markdown",
   "id": "ae908a54",
   "metadata": {
    "id": "eb152e30"
   },
   "source": [
    "## Making predictions on the test set:"
   ]
  },
  {
   "cell_type": "code",
   "execution_count": null,
   "id": "f820c4b6",
   "metadata": {
    "colab": {
     "background_save": true
    },
    "id": "e08620eb"
   },
   "outputs": [
    {
     "name": "stdout",
     "output_type": "stream",
     "text": [
      "1/1 [==============================] - 8s 8s/step\n",
      "Predicted classes: [1 1 1 1 1 1 1 1 1 1 1 1 1 1 1 1 1 1 1 1 1 1 1 1 1 1 1 1 1 1 1 1 1 1 1 1 1\n",
      " 1 1 1 1 1 1 1 1 1 1 1 1 1 1 1 1 1 1 1 1 1 1 1 1 1 1 1 1 1 1 1 1 1 1 1 1 1\n",
      " 1 1 1 1 1 1 1 1 1 1 1 1 1 1 1 1 1 1 1 1 1 1 1 1 1 1 1 1 1 1 1 1 1 1 1 1 1\n",
      " 1 1 1 1 1 1 1 1 1 1 1 1 1 1 1 1 1 1 1 1 1 1 1 1 1 1 1 1 1 1 1 1 1 1 1 1 1\n",
      " 1 1 1 1 1 1 1 1 1 1 1 1 1 1 1 1 1 1 1 1 1 1 1 1 1 1 1 1 1 1 1 1 1 1 1 1 1\n",
      " 1 1 1 1 1 1 1 1 1 1 1 1 1 1 1 1 1 1 1 1 1 1 1 1 1 1 1 1 1 1 1 1 1 1 1 1 1\n",
      " 1 1 1 1 1 1 1 1 1 1 1 1 1 1 1 1 1 1 1 1 1 1 1 1 1 1 1 1 1 1 1 1 1 1 1 1 1\n",
      " 1 1 1 1 1 1 1 1 1 1 1 1 1 1 1 1 1 1 1 1 1 1 1 1 1 1 1 1 1 1 1 1 1 1 1 1 1\n",
      " 1 1 1 1 1 1 1 1 1 1 1 1 1 1 1 1 1 1 1 1 1 1 1 1 1 1 1 1 1 1 1 1 1 1 1 1 1\n",
      " 1 1 1 1 1 1 1 1 1 1 1 1 1 1 1 1 1 1 1 1 1 1 1 1 1 1 1 1 1 1 1 1 1 1 1 1 1\n",
      " 1 1 1 1 1 1 1 1 1 1 1 1 1 1 1 1 1 1 1 1 1 1 1 1 1 1 1 1 1 1 1 1 1 1 1 1 1\n",
      " 1 1 1 1 1 1 1 1 1 1 1 1 1 1 1 1 1 1 1 1 1 1 1 1 1 1 1 1 1 1 1 1 1 1 1 1 1\n",
      " 1 1 1 1 1 1 1 1 1 1 1 1 1 1 1 1 1 1 1 1 1 1 1 1 1 1 1 1 1 1 1 1 1 1 1 1 1\n",
      " 1 1 1 1 1 1 1 1 1 1 1 1 1 1 1 1 1 1 1 1 1 1 1 1 1 1 1 1 1 1 1 1 1 1 1 1 1\n",
      " 1 1 1 1 1 1 1 1 1 1 1 1 1 1 1 1 1 1 1 1 1 1 1 1 1 1 1 1 1 1 1 1 1 1 1 1 1\n",
      " 1 1 1 1 1 1 1 1 1 1 1 1 1 1 1 1 1 1 1 1 1 1 1 1 1 1 1 1 1 1 1 1 1 1 1 1 1\n",
      " 1 1 1 1 1 1 1 1 1 1 1 1 1 1 1 1 1 1 1 1 1 1 1 1 1 1 1 1 1 1 1 1 1 1 1 1 1\n",
      " 1 1 1 1 1 1 1 1 1 1 1 1 1 1 1 1 1 1 1 1 1 1 1 1 1 1 1 1 1 1 1 1 1 1 1 1 1\n",
      " 1 1 1 1 1 1 1 1 1 1 1 1 1 1 1 1 1 1 1 1 1 1 1 1 1 1 1 1 1 1 1 1 1 1 1 1 1\n",
      " 1 1 1 1 1 1 1 1 1 1 1 1 1 1 1 1 1 1 1 1 1 1 1 1 1 1 1 1 1 1 1 1 1 1 1 1 1\n",
      " 1 1 1 1 1 1 1 1 1 1 1 1 1 1 1 1 1 1 1 1 1 1 1 1 1 1 1 1 1 1 1 1 1 1 1 1 1\n",
      " 1 1 1 1 1 1 1 1 1 1 1 1 1 1 1 1 1 1 1 1 1 1 1 1 1 1 1 1 1 1 1 1 1 1 1 1 1\n",
      " 1 1 1 1 1 1 1 1 1 1 1 1 1 1 1 1 1 1 1 1 1 1 1 1 1 1 1 1 1 1 1 1 1 1 1 1 1\n",
      " 1 1 1 1 1 1 1 1 1 1 1 1 1 1 1 1 1 1 1 1 1 1 1 1 1 1 1 1 1 1 1 1 1 1 1 1 1\n",
      " 1 1 1 1 1 1 1 1 1 1 1 1 1 1 1 1 1 1 1 1 1 1 1]\n",
      "True labels: [0 0 0 0 0 0 0 0 0 0 0 0 0 0 0 0 0 0 0 0 0 0 0 0 0 0 0 0 0 0 0 0 0 0 0 0 0\n",
      " 0 0 0 0 0 0 0 0 0 0 0 0 0 0 0 0 0 0 0 0 0 0 0 0 0 0 0 0 0 0 0 0 0 0 0 0 0\n",
      " 0 0 0 0 0 0 0 0 0 0 0 0 0 0 0 0 0 0 0 0 0 0 0 0 0 0 0 0 0 0 0 0 0 0 0 0 0\n",
      " 0 0 0 0 0 0 0 0 0 0 0 0 0 0 0 0 0 0 0 0 0 0 0 0 0 0 0 0 0 0 0 0 0 0 0 0 0\n",
      " 0 0 0 0 0 0 0 0 0 0 0 0 0 0 0 0 0 0 0 0 0 0 0 0 0 0 0 0 0 0 0 0 0 0 0 0 0\n",
      " 0 0 0 0 0 0 0 0 0 0 0 0 0 0 0 0 0 0 0 0 0 0 0 0 0 0 0 0 0 0 0 0 0 0 0 0 0\n",
      " 0 0 0 0 0 0 0 0 0 0 0 0 0 0 0 0 0 0 0 0 0 0 0 0 0 0 0 0 0 0 0 0 0 0 0 0 0\n",
      " 0 0 0 0 0 0 0 0 0 0 0 0 0 0 0 0 0 0 0 0 0 0 0 0 0 0 0 0 0 0 0 0 0 0 0 0 0\n",
      " 0 0 0 0 0 0 0 0 0 0 0 0 0 0 0 0 0 0 0 0 0 0 0 0 0 0 0 0 0 0 0 0 0 0 0 0 0\n",
      " 0 0 0 0 0 0 0 0 0 0 0 0 0 0 0 0 0 0 0 0 0 0 0 0 0 0 0 0 0 0 0 0 0 0 0 0 0\n",
      " 0 0 0 0 0 0 0 0 0 0 0 0 0 0 0 0 0 0 0 0 0 0 0 0 0 0 0 0 0 0 0 0 0 0 0 0 0\n",
      " 0 0 0 0 0 0 0 0 0 0 0 0 0 0 0 0 0 0 0 0 0 0 0 0 0 0 0 0 0 0 1 1 1 1 1 1 1\n",
      " 1 1 1 1 1 1 1 1 1 1 1 1 1 1 1 1 1 1 1 1 1 1 1 1 1 1 1 1 1 1 1 1 1 1 1 1 1\n",
      " 1 1 1 1 1 1 1 1 1 1 1 1 1 1 1 1 1 1 1 1 1 1 1 1 1 1 1 1 1 1 1 1 1 1 1 1 1\n",
      " 1 1 1 1 1 1 1 1 1 1 1 1 1 1 1 1 1 1 1 1 1 1 1 1 1 1 1 1 1 1 1 1 1 1 1 1 1\n",
      " 1 1 1 1 1 1 1 1 1 1 1 1 1 1 1 1 1 1 1 1 1 1 1 1 1 1 1 1 1 1 1 1 1 1 1 1 1\n",
      " 1 1 1 1 1 1 1 1 1 1 1 1 1 1 1 1 1 1 1 1 1 1 1 1 1 1 1 1 1 1 1 1 1 1 1 1 1\n",
      " 1 1 1 1 1 1 1 1 1 1 1 1 1 1 1 1 1 1 1 1 1 1 1 1 1 1 1 1 1 1 1 1 1 1 1 1 1\n",
      " 1 1 1 1 1 1 1 1 1 1 1 1 1 1 1 1 1 1 1 1 1 1 1 1 1 1 1 1 1 1 1 1 1 1 1 1 1\n",
      " 1 1 1 1 1 1 1 1 1 1 1 1 1 1 1 1 1 1 1 1 1 1 1 1 1 1 1 1 1 1 1 1 1 1 1 1 1\n",
      " 1 1 1 1 1 1 1 1 1 1 1 1 1 1 1 1 1 1 1 1 1 1 1 1 1 1 1 1 1 1 1 1 1 1 1 1 1\n",
      " 1 1 1 1 1 1 1 1 1 1 1 1 1 1 1 1 1 1 1 1 1 1 1 1 1 1 1 1 1 1 1 1 1 1 1 1 1\n",
      " 1 1 1 1 1 1 1 1 1 1 1 1 1 1 1 1 1 1 1 1 1 1 1 1 1 1 1 1 1 1 1 1 1 1 1 1 1\n",
      " 1 1 1 1 1 1 1 1 1 1 1 1 1 1 1 1 1 1 1 1 1 1 1 1 1 1 1 1 1 1 1 1 1 1 1 1 1\n",
      " 1 1 1 1 1 1 1 1 1 1 1 1 1 1 1 1 1 1 1 1 1 1 1]\n"
     ]
    }
   ],
   "source": [
    "predictions = model.predict(test_generator)\n",
    "\n",
    "# Get the predicted class for each image\n",
    "predicted_classes = np.argmax(predictions, axis=1)\n",
    "\n",
    "print('Predicted classes:', predicted_classes)\n",
    "print('True labels:', test_generator.classes)"
   ]
  },
  {
   "cell_type": "markdown",
   "id": "ec0e318b",
   "metadata": {
    "id": "d1fb4c7b"
   },
   "source": [
    "## Evaluating model performance:"
   ]
  },
  {
   "cell_type": "code",
   "execution_count": null,
   "id": "b87d9c71",
   "metadata": {
    "colab": {
     "background_save": true
    },
    "id": "e9f67a1a"
   },
   "outputs": [],
   "source": [
    "from sklearn.metrics import classification_report, confusion_matrix, accuracy_score"
   ]
  },
  {
   "cell_type": "code",
   "execution_count": null,
   "id": "a98ac8eb",
   "metadata": {
    "colab": {
     "background_save": true
    },
    "id": "e77fd870"
   },
   "outputs": [],
   "source": [
    "print('Accuracy:\\n', accuracy_score(test_generator.classes, predicted_classes))\n"
   ]
  },
  {
   "cell_type": "markdown",
   "id": "b99de13a",
   "metadata": {
    "id": "760cb225"
   },
   "source": [
    "##### Thus, the model can make correct classifications with 85% accuracy"
   ]
  },
  {
   "cell_type": "markdown",
   "id": "64a3c1a9",
   "metadata": {
    "id": "89d433ec"
   },
   "source": [
    "## Classification report:"
   ]
  },
  {
   "cell_type": "markdown",
   "id": "2b3246a7",
   "metadata": {
    "id": "ea663cb0"
   },
   "source": [
    "##### 1. Precision:\n",
    "\n",
    "Precision is a metric that measures the proportion of true positive predictions among all positive predictions. It is calculated as TP / (TP + FP). In other words, precision measures how accurate the positive predictions are. A high precision means that most of the predicted positives are actually positive, while a low precision means that many of the predicted positives are actually negative."
   ]
  },
  {
   "cell_type": "markdown",
   "id": "5826e847",
   "metadata": {
    "id": "f12b5ee0"
   },
   "source": [
    "##### 2. Recall:\n",
    "\n",
    "Recall is a metric that measures the proportion of true positive predictions among all actual positive examples. It is calculated as TP / (TP + FN). In other words, recall measures how well the positive examples are identified by the model. A high recall means that most of the actual positives are correctly identified, while a low recall means that many of the actual positives are missed by the model."
   ]
  },
  {
   "cell_type": "markdown",
   "id": "9b91f42d",
   "metadata": {
    "id": "179af696"
   },
   "source": [
    "##### 3. F1-score:\n",
    "\n",
    "The F1-score is the harmonic mean of precision and recall, which combines both metrics into a single value. It is calculated as 2 * (precision * recall) / (precision + recall). The F1-score provides a balanced measure of both precision and recall, and it is useful when the two metrics are of equal importance."
   ]
  },
  {
   "cell_type": "code",
   "execution_count": null,
   "id": "296d443a",
   "metadata": {
    "colab": {
     "background_save": true
    },
    "id": "8fd0788a"
   },
   "outputs": [],
   "source": [
    "print('Classification Report:\\n', classification_report(test_generator.classes, predicted_classes))\n"
   ]
  },
  {
   "cell_type": "markdown",
   "id": "5edde2dc",
   "metadata": {
    "id": "e1842c0f"
   },
   "source": [
    "## Visualising Misclassifications:"
   ]
  },
  {
   "cell_type": "markdown",
   "id": "38a175c3",
   "metadata": {
    "id": "e44d031e"
   },
   "source": [
    "### -> Confusion Matrix:\n",
    "\n",
    "A confusion matrix is a table that visualizes the performance of a classification algorithm by displaying the number of correct and incorrect predictions. The diagonal of the matrix shows the number of correctly classified examples, and the off-diagonal entries represent the misclassified examples."
   ]
  },
  {
   "cell_type": "code",
   "execution_count": null,
   "id": "6fbc293f",
   "metadata": {
    "colab": {
     "background_save": true
    },
    "id": "73eb738c"
   },
   "outputs": [],
   "source": [
    "print('Confusion Matrix:\\n', confusion_matrix(test_generator.classes, predicted_classes))"
   ]
  },
  {
   "cell_type": "code",
   "execution_count": null,
   "id": "e5b2eefc",
   "metadata": {
    "colab": {
     "background_save": true
    },
    "id": "d67d98d1"
   },
   "outputs": [],
   "source": [
    "plt.figure(figsize=(10,8))\n",
    "sns.heatmap(confusion_matrix(test_generator.classes, predicted_classes),annot=True,fmt='.3g',xticklabels = ['buildings', 'forest', 'glacier', 'mountain', 'sea', 'street'],\n",
    "            yticklabels = ['buildings', 'forest', 'glacier', 'mountain', 'sea', 'street'],cmap='Blues')\n",
    "plt.show()"
   ]
  },
  {
   "cell_type": "code",
   "execution_count": null,
   "id": "6958bbff",
   "metadata": {
    "colab": {
     "background_save": true
    },
    "id": "34ff3aad"
   },
   "outputs": [],
   "source": [
    "files = test_generator.filenames\n",
    "data = pd.DataFrame()\n",
    "data['file'] = files\n",
    "data['actual_class'] = test_generator.classes\n",
    "data['predicted_class'] = predicted_classes"
   ]
  },
  {
   "cell_type": "code",
   "execution_count": null,
   "id": "e9649327",
   "metadata": {
    "colab": {
     "background_save": true
    },
    "id": "1e0dc575"
   },
   "outputs": [],
   "source": [
    "misclassification = data[data['actual_class']!=data['predicted_class']]"
   ]
  },
  {
   "cell_type": "code",
   "execution_count": null,
   "id": "271fd332",
   "metadata": {
    "colab": {
     "background_save": true
    },
    "id": "94bf0b2c"
   },
   "outputs": [],
   "source": [
    "len(misclassification)"
   ]
  },
  {
   "cell_type": "code",
   "execution_count": null,
   "id": "94561277",
   "metadata": {
    "colab": {
     "background_save": true
    },
    "id": "f4e796ff"
   },
   "outputs": [],
   "source": [
    "misclassification"
   ]
  }
 ],
 "metadata": {
  "colab": {
   "name": "",
   "version": ""
  },
  "kernelspec": {
   "display_name": "Python 3 (ipykernel)",
   "language": "python",
   "name": "python3"
  },
  "language_info": {
   "codemirror_mode": {
    "name": "ipython",
    "version": 3
   },
   "file_extension": ".py",
   "mimetype": "text/x-python",
   "name": "python",
   "nbconvert_exporter": "python",
   "pygments_lexer": "ipython3",
   "version": "3.9.13"
  },
  "papermill": {
   "default_parameters": {},
   "duration": 1223.050602,
   "end_time": "2023-02-23T17:22:57.827888",
   "environment_variables": {},
   "exception": null,
   "input_path": "__notebook__.ipynb",
   "output_path": "__notebook__.ipynb",
   "parameters": {},
   "start_time": "2023-02-23T17:02:34.777286",
   "version": "2.3.4"
  }
 },
 "nbformat": 4,
 "nbformat_minor": 5
}
